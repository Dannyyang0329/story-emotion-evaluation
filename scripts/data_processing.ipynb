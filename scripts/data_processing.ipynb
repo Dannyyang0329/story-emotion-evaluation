{
 "cells": [
  {
   "cell_type": "markdown",
   "metadata": {},
   "source": [
    "# Data Preprocessing for HANNA dataset"
   ]
  },
  {
   "cell_type": "code",
   "execution_count": 1,
   "metadata": {},
   "outputs": [
    {
     "data": {
      "text/html": [
       "<style>\n",
       "    body{\n",
       " --vscode-font-family: \"ComicShannsMono Nerd Font\";\n",
       "    }\n",
       "</style>\n"
      ],
      "text/plain": [
       "<IPython.core.display.HTML object>"
      ]
     },
     "metadata": {},
     "output_type": "display_data"
    }
   ],
   "source": [
    "%%HTML\n",
    "<style>\n",
    "    body{\n",
    " --vscode-font-family: \"ComicShannsMono Nerd Font\";\n",
    "    }\n",
    "</style>"
   ]
  },
  {
   "cell_type": "markdown",
   "metadata": {},
   "source": [
    "## Import Libraries"
   ]
  },
  {
   "cell_type": "code",
   "execution_count": 2,
   "metadata": {},
   "outputs": [],
   "source": [
    "import re\n",
    "import os\n",
    "import nltk\n",
    "import torch\n",
    "import warnings\n",
    "import pandas as pd\n",
    "\n",
    "from tqdm import tqdm\n",
    "from dataclasses import dataclass, field\n",
    "from nltk.tokenize import sent_tokenize\n",
    "from transformers import AutoTokenizer, AutoModelForCausalLM\n",
    "\n",
    "\n",
    "warnings.filterwarnings(\"ignore\")"
   ]
  },
  {
   "cell_type": "code",
   "execution_count": 3,
   "metadata": {},
   "outputs": [
    {
     "name": "stdout",
     "output_type": "stream",
     "text": [
      "CUDA_VISIBLE_DEVICES: 0\n"
     ]
    }
   ],
   "source": [
    "os.environ['CUDA_VISIBLE_DEVICES'] = '0'\n",
    "print(f\"CUDA_VISIBLE_DEVICES: {os.environ['CUDA_VISIBLE_DEVICES']}\")"
   ]
  },
  {
   "cell_type": "markdown",
   "metadata": {},
   "source": [
    "## Story Preprocessing and Sentence Tokenization"
   ]
  },
  {
   "cell_type": "markdown",
   "metadata": {},
   "source": [
    "Read the data from the file and preprocess it.\n",
    "* Remove unrelated columns\n",
    "* Remove rows with missing values\n",
    "* Rename human annotated columns\n",
    "* NLTK Tokenization"
   ]
  },
  {
   "cell_type": "code",
   "execution_count": 4,
   "metadata": {},
   "outputs": [],
   "source": [
    "class DataProcessor:\n",
    "    def __init__(self, raw_csv_filepath: str, processed_csv_filepath: str):\n",
    "        # download nltk resources\n",
    "        nltk.download('punkt_tab')\n",
    "\n",
    "        self.raw_csv_filepath = raw_csv_filepath\n",
    "        self.processed_csv_filepath = processed_csv_filepath\n",
    "        self.raw_story_df = pd.read_csv(raw_csv_filepath)\n",
    "        self.preprocessed_story_df = None\n",
    "    \n",
    "    def preprocessed_story(self):\n",
    "        # remove unrelated columns\n",
    "        preprocessed_story_df = self.raw_story_df.copy()\n",
    "        unrelated_column_list = ['Human', 'Worker ID', 'Assignment ID', 'Work time in seconds', 'Name']\n",
    "        preprocessed_story_df.drop(columns=unrelated_column_list, inplace=True)\n",
    "        preprocessed_story_df.dropna(inplace=True)\n",
    "        preprocessed_story_df.reset_index(drop=True, inplace=True)\n",
    "        # rename human annotated columns\n",
    "        exist_target_column_list = ['Relevance', 'Coherence', 'Empathy', 'Surprise', 'Engagement', 'Complexity']\n",
    "        preprocessed_story_df.rename(columns={col: f'Human {col}' for col in exist_target_column_list}, inplace=True)\n",
    "        # NLTK sentence tokenization\n",
    "        preprocessed_story_df['Sentences'] = preprocessed_story_df['Story'].apply(lambda x: sent_tokenize(x))\n",
    "        preprocessed_story_df['Sentences Length'] = preprocessed_story_df['Sentences'].apply(lambda x: len(x))\n",
    "\n",
    "        self.preprocessed_story_df = preprocessed_story_df\n",
    "    \n",
    "    def save_preprocessed_story(self):\n",
    "        self.preprocessed_story_df.to_csv(self.processed_csv_filepath, index=False)\n"
   ]
  },
  {
   "cell_type": "markdown",
   "metadata": {},
   "source": [
    "Process the data and save it to a new file"
   ]
  },
  {
   "cell_type": "code",
   "execution_count": 5,
   "metadata": {},
   "outputs": [
    {
     "name": "stderr",
     "output_type": "stream",
     "text": [
      "[nltk_data] Downloading package punkt_tab to\n",
      "[nltk_data]     /home/master/13/r13922002/nltk_data...\n",
      "[nltk_data]   Package punkt_tab is already up-to-date!\n"
     ]
    }
   ],
   "source": [
    "processor = DataProcessor(\n",
    "    raw_csv_filepath='../hanna_data/hanna_stories_annotations.csv',\n",
    "    processed_csv_filepath='../hanna_data/preprocessed_hanna_data.csv'\n",
    ")\n",
    "\n",
    "processor.preprocessed_story()\n",
    "processor.save_preprocessed_story()"
   ]
  },
  {
   "cell_type": "code",
   "execution_count": 6,
   "metadata": {},
   "outputs": [
    {
     "data": {
      "text/html": [
       "<div>\n",
       "<style scoped>\n",
       "    .dataframe tbody tr th:only-of-type {\n",
       "        vertical-align: middle;\n",
       "    }\n",
       "\n",
       "    .dataframe tbody tr th {\n",
       "        vertical-align: top;\n",
       "    }\n",
       "\n",
       "    .dataframe thead th {\n",
       "        text-align: right;\n",
       "    }\n",
       "</style>\n",
       "<table border=\"1\" class=\"dataframe\">\n",
       "  <thead>\n",
       "    <tr style=\"text-align: right;\">\n",
       "      <th></th>\n",
       "      <th>Story ID</th>\n",
       "      <th>Prompt</th>\n",
       "      <th>Story</th>\n",
       "      <th>Model</th>\n",
       "      <th>Human Relevance</th>\n",
       "      <th>Human Coherence</th>\n",
       "      <th>Human Empathy</th>\n",
       "      <th>Human Surprise</th>\n",
       "      <th>Human Engagement</th>\n",
       "      <th>Human Complexity</th>\n",
       "      <th>Sentences</th>\n",
       "      <th>Sentences Length</th>\n",
       "    </tr>\n",
       "  </thead>\n",
       "  <tbody>\n",
       "    <tr>\n",
       "      <th>3165</th>\n",
       "      <td>1055</td>\n",
       "      <td>You discover a grand hall filled with legendar...</td>\n",
       "      <td>It is YOU. Your mother's greatest love.”...'Oh...</td>\n",
       "      <td>TD-VAE</td>\n",
       "      <td>3</td>\n",
       "      <td>4</td>\n",
       "      <td>2</td>\n",
       "      <td>2</td>\n",
       "      <td>3</td>\n",
       "      <td>3</td>\n",
       "      <td>[It is YOU., Your mother's greatest love.”...'...</td>\n",
       "      <td>32</td>\n",
       "    </tr>\n",
       "    <tr>\n",
       "      <th>3166</th>\n",
       "      <td>1055</td>\n",
       "      <td>You discover a grand hall filled with legendar...</td>\n",
       "      <td>It is YOU. Your mother's greatest love.”...'Oh...</td>\n",
       "      <td>TD-VAE</td>\n",
       "      <td>2</td>\n",
       "      <td>5</td>\n",
       "      <td>5</td>\n",
       "      <td>5</td>\n",
       "      <td>5</td>\n",
       "      <td>5</td>\n",
       "      <td>[It is YOU., Your mother's greatest love.”...'...</td>\n",
       "      <td>32</td>\n",
       "    </tr>\n",
       "    <tr>\n",
       "      <th>3167</th>\n",
       "      <td>1055</td>\n",
       "      <td>You discover a grand hall filled with legendar...</td>\n",
       "      <td>It is YOU. Your mother's greatest love.”...'Oh...</td>\n",
       "      <td>TD-VAE</td>\n",
       "      <td>2</td>\n",
       "      <td>1</td>\n",
       "      <td>1</td>\n",
       "      <td>1</td>\n",
       "      <td>1</td>\n",
       "      <td>1</td>\n",
       "      <td>[It is YOU., Your mother's greatest love.”...'...</td>\n",
       "      <td>32</td>\n",
       "    </tr>\n",
       "  </tbody>\n",
       "</table>\n",
       "</div>"
      ],
      "text/plain": [
       "      Story ID                                             Prompt  \\\n",
       "3165      1055  You discover a grand hall filled with legendar...   \n",
       "3166      1055  You discover a grand hall filled with legendar...   \n",
       "3167      1055  You discover a grand hall filled with legendar...   \n",
       "\n",
       "                                                  Story   Model  \\\n",
       "3165  It is YOU. Your mother's greatest love.”...'Oh...  TD-VAE   \n",
       "3166  It is YOU. Your mother's greatest love.”...'Oh...  TD-VAE   \n",
       "3167  It is YOU. Your mother's greatest love.”...'Oh...  TD-VAE   \n",
       "\n",
       "      Human Relevance  Human Coherence  Human Empathy  Human Surprise  \\\n",
       "3165                3                4              2               2   \n",
       "3166                2                5              5               5   \n",
       "3167                2                1              1               1   \n",
       "\n",
       "      Human Engagement  Human Complexity  \\\n",
       "3165                 3                 3   \n",
       "3166                 5                 5   \n",
       "3167                 1                 1   \n",
       "\n",
       "                                              Sentences  Sentences Length  \n",
       "3165  [It is YOU., Your mother's greatest love.”...'...                32  \n",
       "3166  [It is YOU., Your mother's greatest love.”...'...                32  \n",
       "3167  [It is YOU., Your mother's greatest love.”...'...                32  "
      ]
     },
     "execution_count": 6,
     "metadata": {},
     "output_type": "execute_result"
    }
   ],
   "source": [
    "processor.preprocessed_story_df.tail(3)"
   ]
  },
  {
   "cell_type": "code",
   "execution_count": 7,
   "metadata": {},
   "outputs": [
    {
     "name": "stdout",
     "output_type": "stream",
     "text": [
      "<class 'pandas.core.frame.DataFrame'>\n",
      "RangeIndex: 3168 entries, 0 to 3167\n",
      "Data columns (total 12 columns):\n",
      " #   Column            Non-Null Count  Dtype \n",
      "---  ------            --------------  ----- \n",
      " 0   Story ID          3168 non-null   int64 \n",
      " 1   Prompt            3168 non-null   object\n",
      " 2   Story             3168 non-null   object\n",
      " 3   Model             3168 non-null   object\n",
      " 4   Human Relevance   3168 non-null   int64 \n",
      " 5   Human Coherence   3168 non-null   int64 \n",
      " 6   Human Empathy     3168 non-null   int64 \n",
      " 7   Human Surprise    3168 non-null   int64 \n",
      " 8   Human Engagement  3168 non-null   int64 \n",
      " 9   Human Complexity  3168 non-null   int64 \n",
      " 10  Sentences         3168 non-null   object\n",
      " 11  Sentences Length  3168 non-null   int64 \n",
      "dtypes: int64(8), object(4)\n",
      "memory usage: 297.1+ KB\n"
     ]
    }
   ],
   "source": [
    "processor.preprocessed_story_df.info()"
   ]
  },
  {
   "cell_type": "markdown",
   "metadata": {},
   "source": [
    "## Emoion Intensity Regression using EmoLLMs"
   ]
  },
  {
   "cell_type": "markdown",
   "metadata": {},
   "source": [
    "### Set up model configuration"
   ]
  },
  {
   "cell_type": "code",
   "execution_count": 8,
   "metadata": {},
   "outputs": [],
   "source": [
    "@dataclass\n",
    "class ModelConfig:\n",
    "    model_name: str = 'lzw1008/Emollama-chat-7b'\n",
    "    max_new_tokens: int = 256\n",
    "    batch_size: int = 24\n",
    "    generation_config: dict = field(default_factory=lambda: {\n",
    "        \"temperature\": 0.9,\n",
    "        \"top_k\": 30,\n",
    "        \"top_p\": 0.6,\n",
    "        \"do_sample\": True,\n",
    "        \"num_beams\": 1,\n",
    "        \"repetition_penalty\": 1.2,\n",
    "        \"pad_token_id\": 0\n",
    "    })\n",
    "    \n",
    "\n",
    "model_config = ModelConfig() "
   ]
  },
  {
   "cell_type": "code",
   "execution_count": 9,
   "metadata": {},
   "outputs": [],
   "source": [
    "PLUTCHIK_EMOTION_LIST = [\n",
    "    \"anger\",\n",
    "    \"anticipation\",\n",
    "    \"joy\",\n",
    "    \"trust\",\n",
    "    \"fear\",\n",
    "    \"surprise\",\n",
    "    \"sadness\",\n",
    "    \"disgust\",\n",
    "]"
   ]
  },
  {
   "cell_type": "markdown",
   "metadata": {},
   "source": [
    "### Define the Emotion Intensity Regression Model"
   ]
  },
  {
   "cell_type": "code",
   "execution_count": 10,
   "metadata": {},
   "outputs": [],
   "source": [
    "class EIRer():\n",
    "    def __init__(self, model_config: ModelConfig, pluchik_emotion_list: list):\n",
    "        self.model_config = model_config\n",
    "        self.pluchik_emotion_list = pluchik_emotion_list\n",
    "\n",
    "        # load the tokenizer and model\n",
    "        self.tokenizer = AutoTokenizer.from_pretrained(\n",
    "            model_config.model_name,\n",
    "            device_map='auto',\n",
    "            cache_dir=\"cache\",\n",
    "            use_fast=False\n",
    "        ) \n",
    "        self.tokenizer.pad_token_id = 0\n",
    "        self.tokenizer.bos_token_id = 1\n",
    "        self.tokenizer.eos_token_id = 2\n",
    "        self.tokenizer.padding_side = 'left'\n",
    "        model_config.pad_token_id = self.tokenizer.pad_token_id\n",
    "\n",
    "        self.model = AutoModelForCausalLM.from_pretrained(\n",
    "            model_config.model_name,\n",
    "            device_map='auto',\n",
    "            cache_dir=\"cache\",\n",
    "        )\n",
    "\n",
    "    def extract_intensity_score(self, text) -> float:\n",
    "        pattern = r'Intensity\\s+Score:\\s*([\\d\\.]+)'\n",
    "        match = re.search(pattern, text)\n",
    "        if match:\n",
    "            return float(match.group(1))\n",
    "        else:\n",
    "            return -1\n",
    "\n",
    "    def get_prompt(self, sentence_list: list, emotion: str) -> list:\n",
    "        prompt_template=f\"\"\"\\\n",
    "Task: Assign a numerical value between 0 (least {emotion}) and 1 (most {emotion}) to represent the intensity of emotion {emotion} expressed in the part of story.\\n\\\n",
    "Text: <STORY>\\n\\\n",
    "Emotion: {emotion}\\n\\\n",
    "Intensity Score:\\\n",
    "        \"\"\"\n",
    "        prompt_list = []\n",
    "        for i in range(len(sentence_list)):\n",
    "            prompt = prompt_template\n",
    "            prompt = prompt.replace(\"<STORY>\", sentence_list[i])\n",
    "            prompt_list.append(prompt)\n",
    "        return prompt_list\n",
    "\n",
    "\n",
    "    def inference(self, sentence_list: list, emotion_list: list) -> dict:\n",
    "        self.model.eval()\n",
    "        output_dict = {}\n",
    "        for emotion in emotion_list:\n",
    "            prompt_list = self.get_prompt(sentence_list, emotion)\n",
    "            output_dict[emotion] = []\n",
    "            for i in range(0, len(prompt_list), self.model_config.batch_size):\n",
    "                batch = prompt_list[i : min(i+self.model_config.batch_size, len(prompt_list))]\n",
    "                inputs = self.tokenizer(batch, return_tensors='pt', padding=True)\n",
    "                input_ids = inputs.input_ids.to(self.model.device)\n",
    "                attention_mask = inputs.attention_mask.to(self.model.device)\n",
    "                # model generate output\n",
    "                output = self.model.generate(\n",
    "                    input_ids,\n",
    "                    attention_mask=attention_mask,\n",
    "                    **self.model_config.generation_config\n",
    "                )\n",
    "                responses = self.tokenizer.batch_decode(\n",
    "                    output,\n",
    "                    skip_special_tokens=True,\n",
    "                    space_between_special_tokens=False\n",
    "                )\n",
    "                # check if the output is valid\n",
    "                for j, response in enumerate(responses):\n",
    "                    intensity_score = self.extract_intensity_score(response)\n",
    "                    output_dict[emotion].append(intensity_score)\n",
    "                \n",
    "        return output_dict\n",
    "    "
   ]
  },
  {
   "cell_type": "markdown",
   "metadata": {},
   "source": [
    "### Infer the emotion intensity scores"
   ]
  },
  {
   "cell_type": "code",
   "execution_count": null,
   "metadata": {},
   "outputs": [
    {
     "data": {
      "application/vnd.jupyter.widget-view+json": {
       "model_id": "9ca010d37cda473abb3436eff5061234",
       "version_major": 2,
       "version_minor": 0
      },
      "text/plain": [
       "Loading checkpoint shards:   0%|          | 0/3 [00:00<?, ?it/s]"
      ]
     },
     "metadata": {},
     "output_type": "display_data"
    }
   ],
   "source": [
    "scorer = EIRer(model_config, PLUTCHIK_EMOTION_LIST)\n",
    "\n",
    "score_list = []\n",
    "# total_story_num = len(processor.preprocessed_story_df)\n",
    "total_story_num = 50\n",
    "for i in tqdm(range(total_story_num)):\n",
    "    sentence_list = processor.preprocessed_story_df.loc[i, 'Sentences']\n",
    "    emotion_score_dict = scorer.inference(sentence_list, PLUTCHIK_EMOTION_LIST)\n",
    "    score_list.append(emotion_score_dict)\n",
    "\n",
    "scored_story_df = processor.preprocessed_story_df.assign(**pd.DataFrame(score_list))"
   ]
  },
  {
   "cell_type": "markdown",
   "metadata": {},
   "source": [
    "### Save the emotion intensity scores"
   ]
  },
  {
   "cell_type": "code",
   "execution_count": null,
   "metadata": {},
   "outputs": [],
   "source": [
    "scored_story_df.to_csv('../hanna_data/scored_hanna_data.csv', index=False)"
   ]
  }
 ],
 "metadata": {
  "kernelspec": {
   "display_name": "ASE",
   "language": "python",
   "name": "python3"
  },
  "language_info": {
   "codemirror_mode": {
    "name": "ipython",
    "version": 3
   },
   "file_extension": ".py",
   "mimetype": "text/x-python",
   "name": "python",
   "nbconvert_exporter": "python",
   "pygments_lexer": "ipython3",
   "version": "3.10.12"
  }
 },
 "nbformat": 4,
 "nbformat_minor": 2
}
