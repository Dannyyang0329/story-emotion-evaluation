{
 "cells": [
  {
   "cell_type": "markdown",
   "metadata": {},
   "source": [
    "# Visualize Emotion Trajectories"
   ]
  },
  {
   "cell_type": "code",
   "execution_count": 182,
   "metadata": {},
   "outputs": [
    {
     "data": {
      "text/html": [
       "<style>\n",
       "    body{\n",
       " --vscode-font-family: \"ComicShannsMono Nerd Font\";\n",
       "    }\n",
       "</style>\n"
      ],
      "text/plain": [
       "<IPython.core.display.HTML object>"
      ]
     },
     "metadata": {},
     "output_type": "display_data"
    }
   ],
   "source": [
    "%%HTML\n",
    "<style>\n",
    "    body{\n",
    " --vscode-font-family: \"ComicShannsMono Nerd Font\";\n",
    "    }\n",
    "</style>"
   ]
  },
  {
   "cell_type": "markdown",
   "metadata": {},
   "source": [
    "## Import Libraries"
   ]
  },
  {
   "cell_type": "code",
   "execution_count": 183,
   "metadata": {},
   "outputs": [],
   "source": [
    "import ast\n",
    "import json\n",
    "import random\n",
    "import numpy as np\n",
    "import pandas as pd\n",
    "import plotly.graph_objects as go\n",
    "\n",
    "from scipy.stats import entropy, skew, pearsonr\n",
    "from scipy.interpolate import interp1d\n",
    "from plotly.subplots import make_subplots\n",
    "\n",
    "\n",
    "random.seed(2) # entropy high\n",
    "# random.seed(3) # entropy low\n",
    "# random.seed(4) # entropy low\n",
    "# random.seed(5)  # entropy medium\n",
    "# random.seed(6) # story to short\n",
    "# random.seed(7) # missing value\n",
    "# random.seed(8) \n",
    "# random.seed(9)\n",
    "# random.seed(12)"
   ]
  },
  {
   "cell_type": "markdown",
   "metadata": {},
   "source": [
    "## Load Data"
   ]
  },
  {
   "cell_type": "code",
   "execution_count": 184,
   "metadata": {},
   "outputs": [],
   "source": [
    "plutchik_emotions = [\n",
    "    \"anger\",\n",
    "    \"anticipation\",\n",
    "    \"disgust\",\n",
    "    \"fear\",\n",
    "    \"joy\",\n",
    "    \"sadness\",\n",
    "    \"surprise\",\n",
    "    \"trust\",\n",
    "]"
   ]
  },
  {
   "cell_type": "code",
   "execution_count": 185,
   "metadata": {},
   "outputs": [],
   "source": [
    "human_story_path = \"../data/human_story_emotion_scored.csv\"\n",
    "model_story_path = \"../data/model_story_emotion_scored.csv\"\n",
    "\n",
    "human_story_df = pd.read_csv(human_story_path)\n",
    "model_story_df = pd.read_csv(model_story_path)"
   ]
  },
  {
   "cell_type": "markdown",
   "metadata": {},
   "source": [
    "Convert the string back into list"
   ]
  },
  {
   "cell_type": "code",
   "execution_count": 186,
   "metadata": {},
   "outputs": [],
   "source": [
    "for emotion in plutchik_emotions:\n",
    "    human_story_df[emotion] = human_story_df[emotion].apply(ast.literal_eval)\n",
    "    model_story_df[emotion] = model_story_df[emotion].apply(ast.literal_eval)"
   ]
  },
  {
   "cell_type": "code",
   "execution_count": 187,
   "metadata": {},
   "outputs": [
    {
     "data": {
      "text/html": [
       "<div>\n",
       "<style scoped>\n",
       "    .dataframe tbody tr th:only-of-type {\n",
       "        vertical-align: middle;\n",
       "    }\n",
       "\n",
       "    .dataframe tbody tr th {\n",
       "        vertical-align: top;\n",
       "    }\n",
       "\n",
       "    .dataframe thead th {\n",
       "        text-align: right;\n",
       "    }\n",
       "</style>\n",
       "<table border=\"1\" class=\"dataframe\">\n",
       "  <thead>\n",
       "    <tr style=\"text-align: right;\">\n",
       "      <th></th>\n",
       "      <th>Unnamed: 0</th>\n",
       "      <th>Prompt</th>\n",
       "      <th>Story</th>\n",
       "      <th>Model</th>\n",
       "      <th>Length</th>\n",
       "      <th>Sentences</th>\n",
       "      <th>Sentences Length</th>\n",
       "      <th>anger</th>\n",
       "      <th>anticipation</th>\n",
       "      <th>joy</th>\n",
       "      <th>trust</th>\n",
       "      <th>fear</th>\n",
       "      <th>surprise</th>\n",
       "      <th>sadness</th>\n",
       "      <th>disgust</th>\n",
       "    </tr>\n",
       "  </thead>\n",
       "  <tbody>\n",
       "    <tr>\n",
       "      <th>0</th>\n",
       "      <td>0</td>\n",
       "      <td>When you die the afterlife is an arena where y...</td>\n",
       "      <td>3,000 years have I been fighting. Every mornin...</td>\n",
       "      <td>Human</td>\n",
       "      <td>1076</td>\n",
       "      <td>['3,000 years have I been fighting.', 'Every m...</td>\n",
       "      <td>21</td>\n",
       "      <td>[0.458, 0.438, 0.438, 0.29, 0.375, 0.23, 0.5, ...</td>\n",
       "      <td>[0.292, 0.354, 0.375, 0.29, 0.354, 0.32, 0.29,...</td>\n",
       "      <td>[0.2, 0.292, 0.2, 0.23, 0.29, 0.2, 0.2, 0.25, ...</td>\n",
       "      <td>[0.29, 0.29, 0.27, 0.27, 0.375, 0.34, 0.2, 0.2...</td>\n",
       "      <td>[0.4, 0.438, 0.438, 0.354, 0.438, 0.396, 0.5, ...</td>\n",
       "      <td>[0.458, 0.438, 0.438, 0.438, 0.396, 0.438, 0.3...</td>\n",
       "      <td>[0.457, 0.438, 0.438, 0.354, 0.438, 0.396, 0.4...</td>\n",
       "      <td>[0.4, 0.438, 0.438, 0.292, 0.354, 0.292, 0.438...</td>\n",
       "    </tr>\n",
       "    <tr>\n",
       "      <th>1</th>\n",
       "      <td>1</td>\n",
       "      <td>A new law is enacted that erases soldiers memo...</td>\n",
       "      <td>“Dad, you 're on TV again !” I heard Eric 's v...</td>\n",
       "      <td>Human</td>\n",
       "      <td>1315</td>\n",
       "      <td>[\"“Dad, you 're on TV again !” I heard Eric 's...</td>\n",
       "      <td>17</td>\n",
       "      <td>[0.375, 0.375, 0.396, 0.396, 0.375, 0.375, 0.2...</td>\n",
       "      <td>[0.396, 0.43, 0.479, 0.396, 0.352, 0.354, 0.35...</td>\n",
       "      <td>[0.48, 0.23, 0.396, 0.292, 0.23, 0.23, 0.34, 0...</td>\n",
       "      <td>[0.46, 0.354, 0.438, 0.396, 0.375, 0.392, 0.46...</td>\n",
       "      <td>[0.34, 0.479, 0.479, 0.396, 0.46, 0.438, 0.396...</td>\n",
       "      <td>[0.479, 0.375, 0.58, 0.396, 0.458, 0.438, 0.37...</td>\n",
       "      <td>[0.354, 0.438, 0.396, 0.354, 0.438, 0.396, 0.3...</td>\n",
       "      <td>[0.396, 0.4, 0.438, 0.333, 0.396, 0.396, 0.292...</td>\n",
       "    </tr>\n",
       "    <tr>\n",
       "      <th>2</th>\n",
       "      <td>2</td>\n",
       "      <td>A scientific study proves that all humans have...</td>\n",
       "      <td>When Tyler entered the ward, his daughter Vale...</td>\n",
       "      <td>Human</td>\n",
       "      <td>4420</td>\n",
       "      <td>['When Tyler entered the ward, his daughter Va...</td>\n",
       "      <td>44</td>\n",
       "      <td>[0.375, 0.292, 0.375, 0.375, 0.396, 0.438, 0.3...</td>\n",
       "      <td>[0.375, 0.34, 0.396, 0.438, 0.326, 0.375, 0.43...</td>\n",
       "      <td>[0.27, 0.375, 0.462, 0.292, 0.25, 0.2, 0.2, 0....</td>\n",
       "      <td>[0.396, 0.438, 0.438, 0.396, 0.354, 0.396, 0.3...</td>\n",
       "      <td>[0.479, 0.292, 0.396, 0.396, 0.395, 0.438, 0.4...</td>\n",
       "      <td>[0.438, 0.375, 0.458, 0.438, 0.396, 0.462, 0.3...</td>\n",
       "      <td>[0.479, 0.396, 0.396, 0.523, 0.438, 0.438, 0.4...</td>\n",
       "      <td>[0.396, 0.294, 0.396, 0.396, 0.396, 0.396, 0.3...</td>\n",
       "    </tr>\n",
       "    <tr>\n",
       "      <th>3</th>\n",
       "      <td>3</td>\n",
       "      <td>Write a story about an elderly wizard and his ...</td>\n",
       "      <td>His body was failing. He had taken care of it ...</td>\n",
       "      <td>Human</td>\n",
       "      <td>4575</td>\n",
       "      <td>['His body was failing.', 'He had taken care o...</td>\n",
       "      <td>58</td>\n",
       "      <td>[0.292, 0.375, 0.292, 0.292, 0.396, 0.292, 0.3...</td>\n",
       "      <td>[0.29, 0.396, 0.375, 0.354, 0.375, 0.396, 0.35...</td>\n",
       "      <td>[0.2, 0.34, 0.23, 0.29, 0.23, 0.23, 0.274, 0.2...</td>\n",
       "      <td>[0.29, 0.438, 0.396, 0.438, 0.396, 0.354, 0.37...</td>\n",
       "      <td>[0.396, 0.3, 0.292, 0.27, 0.46, 0.375, 0.375, ...</td>\n",
       "      <td>[0.396, 0.438, 0.396, 0.354, 0.375, 0.438, 0.3...</td>\n",
       "      <td>[0.438, 0.396, 0.438, 0.375, 0.438, 0.438, 0.4...</td>\n",
       "      <td>[0.354, 0.3, 0.354, 0.292, 0.396, 0.354, 0.354...</td>\n",
       "    </tr>\n",
       "    <tr>\n",
       "      <th>4</th>\n",
       "      <td>4</td>\n",
       "      <td>You have become death, destroyer of worlds.</td>\n",
       "      <td>I saw the button. It was simple, red, no words...</td>\n",
       "      <td>Human</td>\n",
       "      <td>842</td>\n",
       "      <td>['I saw the button.', 'It was simple, red, no ...</td>\n",
       "      <td>11</td>\n",
       "      <td>[0.292, 0.375, 0.375, 0.458, 0.375, 0.292, 0.2...</td>\n",
       "      <td>[0.292, 0.396, 0.396, 0.4, 0.39, 0.438, 0.396,...</td>\n",
       "      <td>[0.292, 0.354, 0.396, 0.2, 0.27, 0.34, 0.438, ...</td>\n",
       "      <td>[0.27, 0.46, 0.4, 0.29, 0.396, 0.438, 0.438, 0...</td>\n",
       "      <td>[0.292, 0.396, 0.396, 0.58, 0.479, 0.396, 0.37...</td>\n",
       "      <td>[0.396, 0.396, 0.438, 0.479, 0.46, 0.27, 0.375...</td>\n",
       "      <td>[0.292, 0.396, 0.396, 0.58, 0.438, 0.354, 0.39...</td>\n",
       "      <td>[0.292, 0.396, 0.354, 0.458, 0.396, 0.292, 0.2...</td>\n",
       "    </tr>\n",
       "  </tbody>\n",
       "</table>\n",
       "</div>"
      ],
      "text/plain": [
       "   Unnamed: 0                                             Prompt  \\\n",
       "0           0  When you die the afterlife is an arena where y...   \n",
       "1           1  A new law is enacted that erases soldiers memo...   \n",
       "2           2  A scientific study proves that all humans have...   \n",
       "3           3  Write a story about an elderly wizard and his ...   \n",
       "4           4        You have become death, destroyer of worlds.   \n",
       "\n",
       "                                               Story  Model  Length  \\\n",
       "0  3,000 years have I been fighting. Every mornin...  Human    1076   \n",
       "1  “Dad, you 're on TV again !” I heard Eric 's v...  Human    1315   \n",
       "2  When Tyler entered the ward, his daughter Vale...  Human    4420   \n",
       "3  His body was failing. He had taken care of it ...  Human    4575   \n",
       "4  I saw the button. It was simple, red, no words...  Human     842   \n",
       "\n",
       "                                           Sentences  Sentences Length  \\\n",
       "0  ['3,000 years have I been fighting.', 'Every m...                21   \n",
       "1  [\"“Dad, you 're on TV again !” I heard Eric 's...                17   \n",
       "2  ['When Tyler entered the ward, his daughter Va...                44   \n",
       "3  ['His body was failing.', 'He had taken care o...                58   \n",
       "4  ['I saw the button.', 'It was simple, red, no ...                11   \n",
       "\n",
       "                                               anger  \\\n",
       "0  [0.458, 0.438, 0.438, 0.29, 0.375, 0.23, 0.5, ...   \n",
       "1  [0.375, 0.375, 0.396, 0.396, 0.375, 0.375, 0.2...   \n",
       "2  [0.375, 0.292, 0.375, 0.375, 0.396, 0.438, 0.3...   \n",
       "3  [0.292, 0.375, 0.292, 0.292, 0.396, 0.292, 0.3...   \n",
       "4  [0.292, 0.375, 0.375, 0.458, 0.375, 0.292, 0.2...   \n",
       "\n",
       "                                        anticipation  \\\n",
       "0  [0.292, 0.354, 0.375, 0.29, 0.354, 0.32, 0.29,...   \n",
       "1  [0.396, 0.43, 0.479, 0.396, 0.352, 0.354, 0.35...   \n",
       "2  [0.375, 0.34, 0.396, 0.438, 0.326, 0.375, 0.43...   \n",
       "3  [0.29, 0.396, 0.375, 0.354, 0.375, 0.396, 0.35...   \n",
       "4  [0.292, 0.396, 0.396, 0.4, 0.39, 0.438, 0.396,...   \n",
       "\n",
       "                                                 joy  \\\n",
       "0  [0.2, 0.292, 0.2, 0.23, 0.29, 0.2, 0.2, 0.25, ...   \n",
       "1  [0.48, 0.23, 0.396, 0.292, 0.23, 0.23, 0.34, 0...   \n",
       "2  [0.27, 0.375, 0.462, 0.292, 0.25, 0.2, 0.2, 0....   \n",
       "3  [0.2, 0.34, 0.23, 0.29, 0.23, 0.23, 0.274, 0.2...   \n",
       "4  [0.292, 0.354, 0.396, 0.2, 0.27, 0.34, 0.438, ...   \n",
       "\n",
       "                                               trust  \\\n",
       "0  [0.29, 0.29, 0.27, 0.27, 0.375, 0.34, 0.2, 0.2...   \n",
       "1  [0.46, 0.354, 0.438, 0.396, 0.375, 0.392, 0.46...   \n",
       "2  [0.396, 0.438, 0.438, 0.396, 0.354, 0.396, 0.3...   \n",
       "3  [0.29, 0.438, 0.396, 0.438, 0.396, 0.354, 0.37...   \n",
       "4  [0.27, 0.46, 0.4, 0.29, 0.396, 0.438, 0.438, 0...   \n",
       "\n",
       "                                                fear  \\\n",
       "0  [0.4, 0.438, 0.438, 0.354, 0.438, 0.396, 0.5, ...   \n",
       "1  [0.34, 0.479, 0.479, 0.396, 0.46, 0.438, 0.396...   \n",
       "2  [0.479, 0.292, 0.396, 0.396, 0.395, 0.438, 0.4...   \n",
       "3  [0.396, 0.3, 0.292, 0.27, 0.46, 0.375, 0.375, ...   \n",
       "4  [0.292, 0.396, 0.396, 0.58, 0.479, 0.396, 0.37...   \n",
       "\n",
       "                                            surprise  \\\n",
       "0  [0.458, 0.438, 0.438, 0.438, 0.396, 0.438, 0.3...   \n",
       "1  [0.479, 0.375, 0.58, 0.396, 0.458, 0.438, 0.37...   \n",
       "2  [0.438, 0.375, 0.458, 0.438, 0.396, 0.462, 0.3...   \n",
       "3  [0.396, 0.438, 0.396, 0.354, 0.375, 0.438, 0.3...   \n",
       "4  [0.396, 0.396, 0.438, 0.479, 0.46, 0.27, 0.375...   \n",
       "\n",
       "                                             sadness  \\\n",
       "0  [0.457, 0.438, 0.438, 0.354, 0.438, 0.396, 0.4...   \n",
       "1  [0.354, 0.438, 0.396, 0.354, 0.438, 0.396, 0.3...   \n",
       "2  [0.479, 0.396, 0.396, 0.523, 0.438, 0.438, 0.4...   \n",
       "3  [0.438, 0.396, 0.438, 0.375, 0.438, 0.438, 0.4...   \n",
       "4  [0.292, 0.396, 0.396, 0.58, 0.438, 0.354, 0.39...   \n",
       "\n",
       "                                             disgust  \n",
       "0  [0.4, 0.438, 0.438, 0.292, 0.354, 0.292, 0.438...  \n",
       "1  [0.396, 0.4, 0.438, 0.333, 0.396, 0.396, 0.292...  \n",
       "2  [0.396, 0.294, 0.396, 0.396, 0.396, 0.396, 0.3...  \n",
       "3  [0.354, 0.3, 0.354, 0.292, 0.396, 0.354, 0.354...  \n",
       "4  [0.292, 0.396, 0.354, 0.458, 0.396, 0.292, 0.2...  "
      ]
     },
     "execution_count": 187,
     "metadata": {},
     "output_type": "execute_result"
    }
   ],
   "source": [
    "human_story_df.head()"
   ]
  },
  {
   "cell_type": "markdown",
   "metadata": {},
   "source": [
    "### Data Preprocessing"
   ]
  },
  {
   "cell_type": "markdown",
   "metadata": {},
   "source": [
    "Remove missing values"
   ]
  },
  {
   "cell_type": "code",
   "execution_count": 188,
   "metadata": {},
   "outputs": [],
   "source": [
    "def remove_missing_values(emotion_list):\n",
    "    return [emotion for emotion in emotion_list if emotion != -1]\n",
    "    \n",
    "for emotion in plutchik_emotions:\n",
    "    human_story_df[emotion] = human_story_df[emotion].apply(remove_missing_values)\n",
    "    model_story_df[emotion] = model_story_df[emotion].apply(remove_missing_values)"
   ]
  },
  {
   "cell_type": "markdown",
   "metadata": {},
   "source": [
    "Normalization across time steps"
   ]
  },
  {
   "cell_type": "code",
   "execution_count": 189,
   "metadata": {},
   "outputs": [
    {
     "name": "stderr",
     "output_type": "stream",
     "text": [
      "/home/master/13/r13922002/miniconda3/envs/ASE/lib/python3.10/site-packages/scipy/interpolate/_interpolate.py:479: RuntimeWarning:\n",
      "\n",
      "invalid value encountered in divide\n",
      "\n"
     ]
    }
   ],
   "source": [
    "NORMALIZE_STEP = 50\n",
    "def normalize_emotion_sequences(emotion_sequences, n_steps):\n",
    "    \"\"\" Normalize emotion score sequences to have the same length \"\"\"\n",
    "    if len(emotion_sequences) == 0:\n",
    "        assert Exception(\"Emotion sequences should not be empty\")\n",
    "    f = interp1d(np.linspace(0, 1, len(emotion_sequences)), emotion_sequences, kind=\"linear\", fill_value=\"extrapolate\")\n",
    "    return f(np.linspace(0, 1, n_steps)).tolist()\n",
    "\n",
    "# normalize each emotion sequence to have the same length\n",
    "for emotion in plutchik_emotions:\n",
    "    human_story_df[emotion] = human_story_df[emotion].apply(normalize_emotion_sequences, n_steps=NORMALIZE_STEP)\n",
    "    model_story_df[emotion] = model_story_df[emotion].apply(normalize_emotion_sequences, n_steps=NORMALIZE_STEP)"
   ]
  },
  {
   "cell_type": "markdown",
   "metadata": {},
   "source": [
    "### Emotion strength normalization"
   ]
  },
  {
   "cell_type": "code",
   "execution_count": 190,
   "metadata": {},
   "outputs": [],
   "source": [
    "# def normalized_emotion_strength_in_time_step(emotion_sequences):\n",
    "#     total_strength = sum(emotion_sequences)\n",
    "#     probabilities = [strength / total_strength for strength in emotion_sequences]\n",
    "#     return softmax(probabilities)\n",
    "\n",
    "# for i, row in human_story_df.iterrows():\n",
    "#     for time_step_idx in range(NORMALIZE_STEP):\n",
    "#         normalized_emotion_intensity = normalized_emotion_strength_in_time_step([row[emotion][time_step_idx] for emotion in plutchik_emotions])\n",
    "#         for emotion_idx, emotion in enumerate(plutchik_emotions):\n",
    "#             human_story_df.at[i, emotion][time_step_idx] = normalized_emotion_intensity[emotion_idx]\n",
    "\n",
    "# for i, row in model_story_df.iterrows():\n",
    "#     for time_step_idx in range(NORMALIZE_STEP):\n",
    "#         normalized_emotion_intensity = normalized_emotion_strength_in_time_step([row[emotion][time_step_idx] for emotion in plutchik_emotions])\n",
    "#         for emotion_idx, emotion in enumerate(plutchik_emotions):\n",
    "#             model_story_df.at[i, emotion][time_step_idx] = normalized_emotion_intensity[emotion_idx]"
   ]
  },
  {
   "cell_type": "code",
   "execution_count": 191,
   "metadata": {},
   "outputs": [
    {
     "data": {
      "text/html": [
       "<div>\n",
       "<style scoped>\n",
       "    .dataframe tbody tr th:only-of-type {\n",
       "        vertical-align: middle;\n",
       "    }\n",
       "\n",
       "    .dataframe tbody tr th {\n",
       "        vertical-align: top;\n",
       "    }\n",
       "\n",
       "    .dataframe thead th {\n",
       "        text-align: right;\n",
       "    }\n",
       "</style>\n",
       "<table border=\"1\" class=\"dataframe\">\n",
       "  <thead>\n",
       "    <tr style=\"text-align: right;\">\n",
       "      <th></th>\n",
       "      <th>Unnamed: 0</th>\n",
       "      <th>Prompt</th>\n",
       "      <th>Story</th>\n",
       "      <th>Model</th>\n",
       "      <th>Length</th>\n",
       "      <th>Sentences</th>\n",
       "      <th>Sentences Length</th>\n",
       "      <th>anger</th>\n",
       "      <th>anticipation</th>\n",
       "      <th>joy</th>\n",
       "      <th>trust</th>\n",
       "      <th>fear</th>\n",
       "      <th>surprise</th>\n",
       "      <th>sadness</th>\n",
       "      <th>disgust</th>\n",
       "    </tr>\n",
       "  </thead>\n",
       "  <tbody>\n",
       "    <tr>\n",
       "      <th>0</th>\n",
       "      <td>0</td>\n",
       "      <td>When you die the afterlife is an arena where y...</td>\n",
       "      <td>3,000 years have I been fighting. Every mornin...</td>\n",
       "      <td>Human</td>\n",
       "      <td>1076</td>\n",
       "      <td>['3,000 years have I been fighting.', 'Every m...</td>\n",
       "      <td>21</td>\n",
       "      <td>[0.458, 0.4498367346938776, 0.4416734693877551...</td>\n",
       "      <td>[0.292, 0.3173061224489796, 0.3426122448979591...</td>\n",
       "      <td>[0.2, 0.23379591836734692, 0.2675918367346939,...</td>\n",
       "      <td>[0.29, 0.29, 0.29, 0.28551020408163263, 0.2773...</td>\n",
       "      <td>[0.4, 0.41551020408163264, 0.4310204081632653,...</td>\n",
       "      <td>[0.458, 0.4498367346938776, 0.4416734693877551...</td>\n",
       "      <td>[0.457, 0.4492448979591837, 0.4414897959183673...</td>\n",
       "      <td>[0.4, 0.41551020408163264, 0.4310204081632653,...</td>\n",
       "    </tr>\n",
       "    <tr>\n",
       "      <th>1</th>\n",
       "      <td>1</td>\n",
       "      <td>A new law is enacted that erases soldiers memo...</td>\n",
       "      <td>“Dad, you 're on TV again !” I heard Eric 's v...</td>\n",
       "      <td>Human</td>\n",
       "      <td>1315</td>\n",
       "      <td>[\"“Dad, you 're on TV again !” I heard Eric 's...</td>\n",
       "      <td>17</td>\n",
       "      <td>[0.375, 0.375, 0.375, 0.375, 0.381428571428571...</td>\n",
       "      <td>[0.396, 0.40710204081632656, 0.418204081632653...</td>\n",
       "      <td>[0.48, 0.3983673469387755, 0.31673469387755104...</td>\n",
       "      <td>[0.46, 0.42538775510204085, 0.3907755102040816...</td>\n",
       "      <td>[0.34, 0.3853877551020408, 0.4307755102040816,...</td>\n",
       "      <td>[0.479, 0.4450408163265306, 0.4110816326530612...</td>\n",
       "      <td>[0.354, 0.3814285714285714, 0.4088571428571428...</td>\n",
       "      <td>[0.396, 0.3973061224489796, 0.3986122448979592...</td>\n",
       "    </tr>\n",
       "    <tr>\n",
       "      <th>2</th>\n",
       "      <td>2</td>\n",
       "      <td>A scientific study proves that all humans have...</td>\n",
       "      <td>When Tyler entered the ward, his daughter Vale...</td>\n",
       "      <td>Human</td>\n",
       "      <td>4420</td>\n",
       "      <td>['When Tyler entered the ward, his daughter Va...</td>\n",
       "      <td>44</td>\n",
       "      <td>[0.375, 0.3021632653061224, 0.3546734693877550...</td>\n",
       "      <td>[0.375, 0.3442857142857143, 0.3822857142857143...</td>\n",
       "      <td>[0.27, 0.36, 0.43714285714285717, 0.3648571428...</td>\n",
       "      <td>[0.396, 0.43285714285714283, 0.438, 0.41142857...</td>\n",
       "      <td>[0.479, 0.31489795918367347, 0.370530612244897...</td>\n",
       "      <td>[0.438, 0.38271428571428573, 0.437673469387755...</td>\n",
       "      <td>[0.479, 0.40616326530612246, 0.396, 0.47634693...</td>\n",
       "      <td>[0.396, 0.30648979591836734, 0.371020408163265...</td>\n",
       "    </tr>\n",
       "    <tr>\n",
       "      <th>3</th>\n",
       "      <td>3</td>\n",
       "      <td>Write a story about an elderly wizard and his ...</td>\n",
       "      <td>His body was failing. He had taken care of it ...</td>\n",
       "      <td>Human</td>\n",
       "      <td>4575</td>\n",
       "      <td>['His body was failing.', 'He had taken care o...</td>\n",
       "      <td>58</td>\n",
       "      <td>[0.292, 0.36144897959183675, 0.292, 0.34293877...</td>\n",
       "      <td>[0.29, 0.39257142857142857, 0.3681428571428571...</td>\n",
       "      <td>[0.2, 0.32204081632653064, 0.24959183673469387...</td>\n",
       "      <td>[0.29, 0.43114285714285716, 0.4097142857142857...</td>\n",
       "      <td>[0.396, 0.2986938775510204, 0.2848163265306122...</td>\n",
       "      <td>[0.396, 0.43114285714285716, 0.382285714285714...</td>\n",
       "      <td>[0.438, 0.40285714285714286, 0.417428571428571...</td>\n",
       "      <td>[0.354, 0.30881632653061225, 0.333755102040816...</td>\n",
       "    </tr>\n",
       "    <tr>\n",
       "      <th>4</th>\n",
       "      <td>4</td>\n",
       "      <td>You have become death, destroyer of worlds.</td>\n",
       "      <td>I saw the button. It was simple, red, no words...</td>\n",
       "      <td>Human</td>\n",
       "      <td>842</td>\n",
       "      <td>['I saw the button.', 'It was simple, red, no ...</td>\n",
       "      <td>11</td>\n",
       "      <td>[0.292, 0.30893877551020404, 0.325877551020408...</td>\n",
       "      <td>[0.292, 0.3132244897959183, 0.3344489795918367...</td>\n",
       "      <td>[0.292, 0.3033877551020408, 0.3147755102040816...</td>\n",
       "      <td>[0.27, 0.30877551020408167, 0.3475510204081632...</td>\n",
       "      <td>[0.292, 0.3132244897959183, 0.3344489795918367...</td>\n",
       "      <td>[0.396, 0.396, 0.396, 0.396, 0.396, 0.39685714...</td>\n",
       "      <td>[0.292, 0.3132244897959183, 0.3344489795918367...</td>\n",
       "      <td>[0.292, 0.3132244897959183, 0.3344489795918367...</td>\n",
       "    </tr>\n",
       "  </tbody>\n",
       "</table>\n",
       "</div>"
      ],
      "text/plain": [
       "   Unnamed: 0                                             Prompt  \\\n",
       "0           0  When you die the afterlife is an arena where y...   \n",
       "1           1  A new law is enacted that erases soldiers memo...   \n",
       "2           2  A scientific study proves that all humans have...   \n",
       "3           3  Write a story about an elderly wizard and his ...   \n",
       "4           4        You have become death, destroyer of worlds.   \n",
       "\n",
       "                                               Story  Model  Length  \\\n",
       "0  3,000 years have I been fighting. Every mornin...  Human    1076   \n",
       "1  “Dad, you 're on TV again !” I heard Eric 's v...  Human    1315   \n",
       "2  When Tyler entered the ward, his daughter Vale...  Human    4420   \n",
       "3  His body was failing. He had taken care of it ...  Human    4575   \n",
       "4  I saw the button. It was simple, red, no words...  Human     842   \n",
       "\n",
       "                                           Sentences  Sentences Length  \\\n",
       "0  ['3,000 years have I been fighting.', 'Every m...                21   \n",
       "1  [\"“Dad, you 're on TV again !” I heard Eric 's...                17   \n",
       "2  ['When Tyler entered the ward, his daughter Va...                44   \n",
       "3  ['His body was failing.', 'He had taken care o...                58   \n",
       "4  ['I saw the button.', 'It was simple, red, no ...                11   \n",
       "\n",
       "                                               anger  \\\n",
       "0  [0.458, 0.4498367346938776, 0.4416734693877551...   \n",
       "1  [0.375, 0.375, 0.375, 0.375, 0.381428571428571...   \n",
       "2  [0.375, 0.3021632653061224, 0.3546734693877550...   \n",
       "3  [0.292, 0.36144897959183675, 0.292, 0.34293877...   \n",
       "4  [0.292, 0.30893877551020404, 0.325877551020408...   \n",
       "\n",
       "                                        anticipation  \\\n",
       "0  [0.292, 0.3173061224489796, 0.3426122448979591...   \n",
       "1  [0.396, 0.40710204081632656, 0.418204081632653...   \n",
       "2  [0.375, 0.3442857142857143, 0.3822857142857143...   \n",
       "3  [0.29, 0.39257142857142857, 0.3681428571428571...   \n",
       "4  [0.292, 0.3132244897959183, 0.3344489795918367...   \n",
       "\n",
       "                                                 joy  \\\n",
       "0  [0.2, 0.23379591836734692, 0.2675918367346939,...   \n",
       "1  [0.48, 0.3983673469387755, 0.31673469387755104...   \n",
       "2  [0.27, 0.36, 0.43714285714285717, 0.3648571428...   \n",
       "3  [0.2, 0.32204081632653064, 0.24959183673469387...   \n",
       "4  [0.292, 0.3033877551020408, 0.3147755102040816...   \n",
       "\n",
       "                                               trust  \\\n",
       "0  [0.29, 0.29, 0.29, 0.28551020408163263, 0.2773...   \n",
       "1  [0.46, 0.42538775510204085, 0.3907755102040816...   \n",
       "2  [0.396, 0.43285714285714283, 0.438, 0.41142857...   \n",
       "3  [0.29, 0.43114285714285716, 0.4097142857142857...   \n",
       "4  [0.27, 0.30877551020408167, 0.3475510204081632...   \n",
       "\n",
       "                                                fear  \\\n",
       "0  [0.4, 0.41551020408163264, 0.4310204081632653,...   \n",
       "1  [0.34, 0.3853877551020408, 0.4307755102040816,...   \n",
       "2  [0.479, 0.31489795918367347, 0.370530612244897...   \n",
       "3  [0.396, 0.2986938775510204, 0.2848163265306122...   \n",
       "4  [0.292, 0.3132244897959183, 0.3344489795918367...   \n",
       "\n",
       "                                            surprise  \\\n",
       "0  [0.458, 0.4498367346938776, 0.4416734693877551...   \n",
       "1  [0.479, 0.4450408163265306, 0.4110816326530612...   \n",
       "2  [0.438, 0.38271428571428573, 0.437673469387755...   \n",
       "3  [0.396, 0.43114285714285716, 0.382285714285714...   \n",
       "4  [0.396, 0.396, 0.396, 0.396, 0.396, 0.39685714...   \n",
       "\n",
       "                                             sadness  \\\n",
       "0  [0.457, 0.4492448979591837, 0.4414897959183673...   \n",
       "1  [0.354, 0.3814285714285714, 0.4088571428571428...   \n",
       "2  [0.479, 0.40616326530612246, 0.396, 0.47634693...   \n",
       "3  [0.438, 0.40285714285714286, 0.417428571428571...   \n",
       "4  [0.292, 0.3132244897959183, 0.3344489795918367...   \n",
       "\n",
       "                                             disgust  \n",
       "0  [0.4, 0.41551020408163264, 0.4310204081632653,...  \n",
       "1  [0.396, 0.3973061224489796, 0.3986122448979592...  \n",
       "2  [0.396, 0.30648979591836734, 0.371020408163265...  \n",
       "3  [0.354, 0.30881632653061225, 0.333755102040816...  \n",
       "4  [0.292, 0.3132244897959183, 0.3344489795918367...  "
      ]
     },
     "execution_count": 191,
     "metadata": {},
     "output_type": "execute_result"
    }
   ],
   "source": [
    "human_story_df.head()"
   ]
  },
  {
   "cell_type": "markdown",
   "metadata": {},
   "source": [
    "## Visualization"
   ]
  },
  {
   "cell_type": "markdown",
   "metadata": {},
   "source": [
    "* Randomly select a prompt to compare human-written stories' emotion trajectories with the AI-generated stories' emotion trajectories."
   ]
  },
  {
   "cell_type": "code",
   "execution_count": 192,
   "metadata": {},
   "outputs": [],
   "source": [
    "def get_random_story_example():\n",
    "    random_prompt = random.choice(human_story_df[\"Prompt\"])\n",
    "    human_story_example = human_story_df[human_story_df[\"Prompt\"] == random_prompt]\n",
    "    model_story_examples = model_story_df[model_story_df[\"Prompt\"] == random_prompt]\n",
    "    return human_story_example, model_story_examples, random_prompt\n",
    "\n",
    "human_story_example, model_story_examples, prompt = get_random_story_example()\n",
    "concated_example_df = pd.concat([human_story_example, model_story_examples])"
   ]
  },
  {
   "cell_type": "markdown",
   "metadata": {},
   "source": [
    "### Emotion Trajectories Visualization (Single Story)"
   ]
  },
  {
   "cell_type": "code",
   "execution_count": 193,
   "metadata": {},
   "outputs": [
    {
     "data": {
      "application/vnd.plotly.v1+json": {
       "config": {
        "plotlyServerURL": "https://plot.ly"
       },
       "data": [
        {
         "legendgroup": "Human",
         "mode": "lines+markers",
         "name": "Human - anger",
         "type": "scatter",
         "visible": "legendonly",
         "x": [
          1,
          2,
          3,
          4,
          5,
          6,
          7,
          8,
          9,
          10,
          11,
          12,
          13,
          14,
          15,
          16,
          17,
          18,
          19,
          20,
          21,
          22,
          23,
          24,
          25,
          26,
          27,
          28,
          29,
          30,
          31,
          32,
          33,
          34,
          35,
          36,
          37,
          38,
          39,
          40,
          41,
          42,
          43,
          44,
          45,
          46,
          47,
          48,
          49,
          50
         ],
         "xaxis": "x",
         "y": [
          0.375,
          0.375,
          0.36483673469387756,
          0.30724489795918364,
          0.3546734693877551,
          0.292,
          0.3224897959183673,
          0.33857142857142863,
          0.29,
          0.2839387755102041,
          0.28695918367346934,
          0.2906530612244898,
          0.2753061224489796,
          0.2859183673469387,
          0.36285714285714266,
          0.375,
          0.375,
          0.3951428571428572,
          0.36653061224489825,
          0.3089795918367345,
          0.37265306122449016,
          0.3157142857142854,
          0.3246938775510211,
          0.2499999999999999,
          0.2851020408163265,
          0.2909387755102041,
          0.32787755102040766,
          0.31351020408163294,
          0.292,
          0.3563673469387755,
          0.35742857142857154,
          0.29832653061224534,
          0.3716122448979589,
          0.2919591836734694,
          0.30208163265306126,
          0.4320000000000003,
          0.39171428571428585,
          0.375,
          0.375,
          0.342816326530613,
          0.3292653061224484,
          0.375,
          0.3630000000000001,
          0.3805714285714284,
          0.3814285714285716,
          0.375,
          0.30561224489795985,
          0.36459183673469353,
          0.2970816326530616,
          0.354
         ],
         "yaxis": "y"
        },
        {
         "legendgroup": "Human",
         "mode": "lines+markers",
         "name": "Human - anticipation",
         "type": "scatter",
         "visible": "legendonly",
         "x": [
          1,
          2,
          3,
          4,
          5,
          6,
          7,
          8,
          9,
          10,
          11,
          12,
          13,
          14,
          15,
          16,
          17,
          18,
          19,
          20,
          21,
          22,
          23,
          24,
          25,
          26,
          27,
          28,
          29,
          30,
          31,
          32,
          33,
          34,
          35,
          36,
          37,
          38,
          39,
          40,
          41,
          42,
          43,
          44,
          45,
          46,
          47,
          48,
          49,
          50
         ],
         "xaxis": "x",
         "y": [
          0.354,
          0.396,
          0.39648979591836736,
          0.399265306122449,
          0.396,
          0.36355102040816334,
          0.328938775510204,
          0.41057142857142853,
          0.403061224489796,
          0.375,
          0.34132653061224505,
          0.3711836734693876,
          0.396,
          0.396,
          0.37800000000000006,
          0.39428571428571424,
          0.4773061224489794,
          0.3942857142857143,
          0.354,
          0.354,
          0.354,
          0.37799999999999967,
          0.40885714285714325,
          0.3625714285714285,
          0.3351020408163266,
          0.3462448979591836,
          0.396,
          0.396,
          0.4259999999999998,
          0.438,
          0.3852857142857147,
          0.4315714285714281,
          0.40155102040816343,
          0.39383673469387803,
          0.2986530612244898,
          0.3851428571428577,
          0.3355102040816322,
          0.384857142857143,
          0.36771428571428555,
          0.4122857142857139,
          0.42093877551020437,
          0.4295918367346934,
          0.42257142857142893,
          0.3966326530612245,
          0.41295918367346923,
          0.40263265306122464,
          0.39618367346938776,
          0.4258367346938774,
          0.3980816326530614,
          0.34
         ],
         "yaxis": "y"
        },
        {
         "legendgroup": "Human",
         "mode": "lines+markers",
         "name": "Human - disgust",
         "type": "scatter",
         "visible": "legendonly",
         "x": [
          1,
          2,
          3,
          4,
          5,
          6,
          7,
          8,
          9,
          10,
          11,
          12,
          13,
          14,
          15,
          16,
          17,
          18,
          19,
          20,
          21,
          22,
          23,
          24,
          25,
          26,
          27,
          28,
          29,
          30,
          31,
          32,
          33,
          34,
          35,
          36,
          37,
          38,
          39,
          40,
          41,
          42,
          43,
          44,
          45,
          46,
          47,
          48,
          49,
          50
         ],
         "xaxis": "x",
         "y": [
          0.396,
          0.396,
          0.383265306122449,
          0.3111020408163265,
          0.370530612244898,
          0.292,
          0.31477551020408157,
          0.3274285714285715,
          0.292,
          0.34930612244897946,
          0.3702857142857144,
          0.354,
          0.30844897959183676,
          0.292,
          0.3811428571428569,
          0.396,
          0.3548571428571429,
          0.396,
          0.396,
          0.396,
          0.38657142857142873,
          0.354,
          0.33248979591836764,
          0.292,
          0.32110204081632643,
          0.32110204081632654,
          0.3535510204081625,
          0.3280816326530617,
          0.3662857142857139,
          0.36342857142857143,
          0.3891428571428569,
          0.396,
          0.396,
          0.2919591836734694,
          0.2986530612244898,
          0.396,
          0.396,
          0.396,
          0.396,
          0.38785714285714307,
          0.3844285714285713,
          0.396,
          0.3720000000000002,
          0.3805714285714284,
          0.36685714285714316,
          0.38571428571428545,
          0.3445714285714291,
          0.38828571428571407,
          0.396,
          0.354
         ],
         "yaxis": "y"
        },
        {
         "legendgroup": "Human",
         "mode": "lines+markers",
         "name": "Human - fear",
         "type": "scatter",
         "visible": "legendonly",
         "x": [
          1,
          2,
          3,
          4,
          5,
          6,
          7,
          8,
          9,
          10,
          11,
          12,
          13,
          14,
          15,
          16,
          17,
          18,
          19,
          20,
          21,
          22,
          23,
          24,
          25,
          26,
          27,
          28,
          29,
          30,
          31,
          32,
          33,
          34,
          35,
          36,
          37,
          38,
          39,
          40,
          41,
          42,
          43,
          44,
          45,
          46,
          47,
          48,
          49,
          50
         ],
         "xaxis": "x",
         "y": [
          0.375,
          0.396,
          0.40616326530612246,
          0.47146938775510205,
          0.438,
          0.4251428571428572,
          0.4114285714285714,
          0.46457142857142847,
          0.449061224489796,
          0.38442857142857145,
          0.32295918367346954,
          0.33310204081632633,
          0.30844897959183676,
          0.292,
          0.45228571428571385,
          0.3642040816326535,
          0.6733469387755098,
          0.3951428571428572,
          0.3704081632653063,
          0.3476326530612243,
          0.40522448979591885,
          0.3157142857142854,
          0.375,
          0.3835714285714285,
          0.396,
          0.41828571428571426,
          0.438,
          0.3308979591836743,
          0.28685714285714276,
          0.3563673469387755,
          0.39257142857142846,
          0.47053061224489734,
          0.43967346938775526,
          0.39383673469387803,
          0.30902040816326537,
          0.5018571428571439,
          0.37928571428571417,
          0.396,
          0.396,
          0.3471428571428583,
          0.3638367346938761,
          0.48971428571428555,
          0.41657142857142937,
          0.40714285714285675,
          0.37971428571428634,
          0.44838775510203993,
          0.3941020408163274,
          0.4846938775510199,
          0.4417959183673472,
          0.396
         ],
         "yaxis": "y"
        },
        {
         "legendgroup": "Human",
         "mode": "lines+markers",
         "name": "Human - joy",
         "type": "scatter",
         "visible": "legendonly",
         "x": [
          1,
          2,
          3,
          4,
          5,
          6,
          7,
          8,
          9,
          10,
          11,
          12,
          13,
          14,
          15,
          16,
          17,
          18,
          19,
          20,
          21,
          22,
          23,
          24,
          25,
          26,
          27,
          28,
          29,
          30,
          31,
          32,
          33,
          34,
          35,
          36,
          37,
          38,
          39,
          40,
          41,
          42,
          43,
          44,
          45,
          46,
          47,
          48,
          49,
          50
         ],
         "xaxis": "x",
         "y": [
          0.292,
          0.37885714285714284,
          0.4088571428571429,
          0.21689795918367344,
          0.29151020408163264,
          0.2731632653061225,
          0.22214285714285717,
          0.2,
          0.3126530612244896,
          0.4344081632653061,
          0.3994285714285716,
          0.3891428571428571,
          0.5164897959183673,
          0.46289795918367393,
          0.2940000000000005,
          0.4242857142857137,
          0.25383673469387785,
          0.20714285714285718,
          0.375,
          0.35214285714285737,
          0.2711428571428566,
          0.39000000000000007,
          0.375,
          0.375,
          0.3351020408163266,
          0.3462448979591836,
          0.29775510204081757,
          0.24306122448979584,
          0.47285714285714164,
          0.4006938775510206,
          0.30212244897959223,
          0.38538775510204004,
          0.32310204081632676,
          0.3955714285714287,
          0.3767142857142857,
          0.3680000000000013,
          0.20612244897959164,
          0.2628979591836731,
          0.36085714285714277,
          0.4079591836734686,
          0.3567346938775526,
          0.21469387755102065,
          0.2514285714285709,
          0.330489795918367,
          0.38314285714285684,
          0.24800000000000136,
          0.3257142857142845,
          0.24518367346938827,
          0.34640816326530555,
          0.396
         ],
         "yaxis": "y"
        },
        {
         "legendgroup": "Human",
         "mode": "lines+markers",
         "name": "Human - sadness",
         "type": "scatter",
         "visible": "legendonly",
         "x": [
          1,
          2,
          3,
          4,
          5,
          6,
          7,
          8,
          9,
          10,
          11,
          12,
          13,
          14,
          15,
          16,
          17,
          18,
          19,
          20,
          21,
          22,
          23,
          24,
          25,
          26,
          27,
          28,
          29,
          30,
          31,
          32,
          33,
          34,
          35,
          36,
          37,
          38,
          39,
          40,
          41,
          42,
          43,
          44,
          45,
          46,
          47,
          48,
          49,
          50
         ],
         "xaxis": "x",
         "y": [
          0.375,
          0.396,
          0.40114285714285713,
          0.438,
          0.438,
          0.438,
          0.4607755102040816,
          0.491,
          0.428061224489796,
          0.375,
          0.3241836734693879,
          0.3620408163265304,
          0.31959183673469393,
          0.3580612244897956,
          0.35700000000000004,
          0.39257142857142846,
          0.396,
          0.3942857142857143,
          0.354,
          0.36771428571428555,
          0.41914285714285743,
          0.3659999999999998,
          0.396,
          0.3874285714285715,
          0.36514285714285716,
          0.3762857142857143,
          0.42085714285714254,
          0.3426530612244905,
          0.292,
          0.3563673469387755,
          0.375,
          0.375,
          0.3951428571428571,
          0.2932653061224487,
          0.3608571428571429,
          0.438,
          0.4294285714285717,
          0.3904285714285715,
          0.3818571428571428,
          0.38785714285714307,
          0.3844285714285713,
          0.3745714285714289,
          0.3659999999999999,
          0.4148571428571426,
          0.37971428571428634,
          0.38646938775510176,
          0.43046938775510174,
          0.438,
          0.35914285714285754,
          0.396
         ],
         "yaxis": "y"
        },
        {
         "legendgroup": "Human",
         "mode": "lines+markers",
         "name": "Human - surprise",
         "type": "scatter",
         "visible": "legendonly",
         "x": [
          1,
          2,
          3,
          4,
          5,
          6,
          7,
          8,
          9,
          10,
          11,
          12,
          13,
          14,
          15,
          16,
          17,
          18,
          19,
          20,
          21,
          22,
          23,
          24,
          25,
          26,
          27,
          28,
          29,
          30,
          31,
          32,
          33,
          34,
          35,
          36,
          37,
          38,
          39,
          40,
          41,
          42,
          43,
          44,
          45,
          46,
          47,
          48,
          49,
          50
         ],
         "xaxis": "x",
         "y": [
          0.396,
          0.43689795918367347,
          0.4144897959183673,
          0.38657142857142857,
          0.42771428571428577,
          0.396,
          0.3882857142857143,
          0.4019999999999999,
          0.438,
          0.44902040816326527,
          0.44575510204081636,
          0.438,
          0.4071428571428572,
          0.3625714285714287,
          0.4611428571428568,
          0.4027755102040819,
          0.5762448979591833,
          0.479,
          0.4705306122448982,
          0.4028571428571428,
          0.41914285714285743,
          0.37799999999999967,
          0.45222448979591817,
          0.47124489795918373,
          0.44967346938775515,
          0.438,
          0.4131428571428575,
          0.396,
          0.4259999999999998,
          0.4697959183673469,
          0.46310204081632667,
          0.49591836734693845,
          0.4798571428571429,
          0.37457142857142867,
          0.3608571428571429,
          0.4320000000000003,
          0.4045714285714283,
          0.438,
          0.45138775510204066,
          0.4631020408163269,
          0.45640816326530587,
          0.45808163265306157,
          0.438,
          0.41142857142857164,
          0.4251428571428568,
          0.4689591836734691,
          0.41124489795918434,
          0.4688367346938772,
          0.44051020408163283,
          0.396
         ],
         "yaxis": "y"
        },
        {
         "legendgroup": "Human",
         "mode": "lines+markers",
         "name": "Human - trust",
         "type": "scatter",
         "visible": "legendonly",
         "x": [
          1,
          2,
          3,
          4,
          5,
          6,
          7,
          8,
          9,
          10,
          11,
          12,
          13,
          14,
          15,
          16,
          17,
          18,
          19,
          20,
          21,
          22,
          23,
          24,
          25,
          26,
          27,
          28,
          29,
          30,
          31,
          32,
          33,
          34,
          35,
          36,
          37,
          38,
          39,
          40,
          41,
          42,
          43,
          44,
          45,
          46,
          47,
          48,
          49,
          50
         ],
         "xaxis": "x",
         "y": [
          0.396,
          0.3985714285714286,
          0.4328571428571429,
          0.396,
          0.40628571428571425,
          0.39269387755102053,
          0.29,
          0.3354285714285713,
          0.396,
          0.396,
          0.3831428571428572,
          0.41742857142857126,
          0.4835510204081632,
          0.41722448979591875,
          0.3600000000000001,
          0.39257142857142846,
          0.2921632653061226,
          0.396,
          0.40028571428571413,
          0.42428571428571443,
          0.37734693877550984,
          0.45228571428571435,
          0.42342857142857165,
          0.396,
          0.3462448979591838,
          0.3239591836734693,
          0.37885714285714256,
          0.36857142857142877,
          0.4782857142857136,
          0.45200000000000007,
          0.36640816326530656,
          0.42942857142857077,
          0.438,
          0.43714285714285733,
          0.39942857142857147,
          0.4171428571428581,
          0.30893877551020354,
          0.3694285714285715,
          0.36771428571428555,
          0.4122857142857139,
          0.40971428571428614,
          0.36428571428571443,
          0.3779999999999998,
          0.4225714285714284,
          0.4088571428571432,
          0.396,
          0.43028571428571394,
          0.316897959183674,
          0.3704081632653058,
          0.396
         ],
         "yaxis": "y"
        },
        {
         "legendgroup": "Llama-7b",
         "mode": "lines+markers",
         "name": "Llama-7b - anger",
         "type": "scatter",
         "visible": "legendonly",
         "x": [
          1,
          2,
          3,
          4,
          5,
          6,
          7,
          8,
          9,
          10,
          11,
          12,
          13,
          14,
          15,
          16,
          17,
          18,
          19,
          20,
          21,
          22,
          23,
          24,
          25,
          26,
          27,
          28,
          29,
          30,
          31,
          32,
          33,
          34,
          35,
          36,
          37,
          38,
          39,
          40,
          41,
          42,
          43,
          44,
          45,
          46,
          47,
          48,
          49,
          50
         ],
         "xaxis": "x2",
         "y": [
          0.292,
          0.38326530612244897,
          0.396,
          0.3302040816326531,
          0.29097959183673466,
          0.29,
          0.31255102040816324,
          0.36314285714285716,
          0.2915510204081633,
          0.2722448979591837,
          0.3514285714285714,
          0.29336734693877564,
          0.327469387755102,
          0.396,
          0.39,
          0.3852857142857142,
          0.4362857142857144,
          0.39942857142857147,
          0.396,
          0.42428571428571427,
          0.40328571428571436,
          0.30000000000000004,
          0.22816326530612221,
          0.292,
          0.292,
          0.292,
          0.24138775510204094,
          0.2730204081632652,
          0.3514285714285712,
          0.37714285714285717,
          0.31351020408163305,
          0.23836734693877537,
          0.2794897959183669,
          0.3707551020408163,
          0.42771428571428566,
          0.3180000000000005,
          0.33214285714285696,
          0.3848571428571428,
          0.396,
          0.396,
          0.39385714285714296,
          0.37542857142857144,
          0.375,
          0.4212857142857142,
          0.3486122448979597,
          0.33265306122448957,
          0.375,
          0.375,
          0.375,
          0.375
         ],
         "yaxis": "y2"
        },
        {
         "legendgroup": "Llama-7b",
         "mode": "lines+markers",
         "name": "Llama-7b - anticipation",
         "type": "scatter",
         "visible": "legendonly",
         "x": [
          1,
          2,
          3,
          4,
          5,
          6,
          7,
          8,
          9,
          10,
          11,
          12,
          13,
          14,
          15,
          16,
          17,
          18,
          19,
          20,
          21,
          22,
          23,
          24,
          25,
          26,
          27,
          28,
          29,
          30,
          31,
          32,
          33,
          34,
          35,
          36,
          37,
          38,
          39,
          40,
          41,
          42,
          43,
          44,
          45,
          46,
          47,
          48,
          49,
          50
         ],
         "xaxis": "x2",
         "y": [
          0.32,
          0.45953061224489794,
          0.4163265306122449,
          0.396,
          0.3419183673469388,
          0.3148163265306122,
          0.36514285714285716,
          0.3951428571428572,
          0.38926530612244903,
          0.3576734693877551,
          0.35244897959183674,
          0.2984489795918368,
          0.3368571428571428,
          0.396,
          0.39,
          0.3784285714285714,
          0.396,
          0.396,
          0.3625714285714286,
          0.3822857142857143,
          0.414734693877551,
          0.3708571428571429,
          0.33669387755102004,
          0.4200000000000001,
          0.34600000000000003,
          0.43199999999999994,
          0.47146938775510194,
          0.4241836734693879,
          0.3782857142857144,
          0.3961224489795918,
          0.39946938775510243,
          0.33551020408163235,
          0.39608163265306123,
          0.3969591836734694,
          0.4313061224489796,
          0.3930000000000002,
          0.41228571428571414,
          0.438,
          0.4522244897959183,
          0.4509387755102045,
          0.3582857142857141,
          0.39514285714285713,
          0.39942857142857147,
          0.47346938775510194,
          0.4369387755102045,
          0.41708163265306114,
          0.438,
          0.4277142857142858,
          0.4011428571428572,
          0.438
         ],
         "yaxis": "y2"
        },
        {
         "legendgroup": "Llama-7b",
         "mode": "lines+markers",
         "name": "Llama-7b - disgust",
         "type": "scatter",
         "visible": "legendonly",
         "x": [
          1,
          2,
          3,
          4,
          5,
          6,
          7,
          8,
          9,
          10,
          11,
          12,
          13,
          14,
          15,
          16,
          17,
          18,
          19,
          20,
          21,
          22,
          23,
          24,
          25,
          26,
          27,
          28,
          29,
          30,
          31,
          32,
          33,
          34,
          35,
          36,
          37,
          38,
          39,
          40,
          41,
          42,
          43,
          44,
          45,
          46,
          47,
          48,
          49,
          50
         ],
         "xaxis": "x2",
         "y": [
          0.292,
          0.38326530612244897,
          0.36428571428571427,
          0.3147755102040816,
          0.2603673469387755,
          0.2540408163265306,
          0.330734693877551,
          0.42600000000000005,
          0.35228571428571437,
          0.27857142857142864,
          0.36771428571428566,
          0.287591836734694,
          0.31808163265306116,
          0.396,
          0.396,
          0.4028571428571428,
          0.438,
          0.438,
          0.3711428571428572,
          0.4105714285714286,
          0.4148571428571429,
          0.3265714285714286,
          0.2603265306122447,
          0.3148571428571429,
          0.29212244897959183,
          0.29387755102040813,
          0.24175510204081643,
          0.2730204081632652,
          0.3274285714285713,
          0.37285714285714283,
          0.3483265306122454,
          0.23979591836734712,
          0.21942857142857047,
          0.42828571428571416,
          0.4028571428571429,
          0.321714285714286,
          0.292,
          0.340816326530612,
          0.396,
          0.396,
          0.396,
          0.396,
          0.396,
          0.396,
          0.33355102040816365,
          0.3439591836734691,
          0.396,
          0.396,
          0.3835102040816326,
          0.294
         ],
         "yaxis": "y2"
        },
        {
         "legendgroup": "Llama-7b",
         "mode": "lines+markers",
         "name": "Llama-7b - fear",
         "type": "scatter",
         "visible": "legendonly",
         "x": [
          1,
          2,
          3,
          4,
          5,
          6,
          7,
          8,
          9,
          10,
          11,
          12,
          13,
          14,
          15,
          16,
          17,
          18,
          19,
          20,
          21,
          22,
          23,
          24,
          25,
          26,
          27,
          28,
          29,
          30,
          31,
          32,
          33,
          34,
          35,
          36,
          37,
          38,
          39,
          40,
          41,
          42,
          43,
          44,
          45,
          46,
          47,
          48,
          49,
          50
         ],
         "xaxis": "x2",
         "y": [
          0.292,
          0.42012244897959183,
          0.4070408163265306,
          0.3963673469387755,
          0.3419183673469388,
          0.3311020408163265,
          0.4180204081632653,
          0.4662857142857143,
          0.3879591836734695,
          0.3002040816326531,
          0.372204081632653,
          0.3006530612244899,
          0.37151020408163254,
          0.44512244897959197,
          0.408,
          0.4311428571428572,
          0.396,
          0.396,
          0.37928571428571434,
          0.45918367346938777,
          0.5330612244897959,
          0.4451428571428573,
          0.3174081632653059,
          0.3597551020408164,
          0.29836734693877554,
          0.38963265306122447,
          0.30946938775510224,
          0.3635510204081631,
          0.3720000000000001,
          0.354,
          0.32657142857142885,
          0.27448979591836725,
          0.30391836734693817,
          0.4320408163265306,
          0.4723061224489795,
          0.3440000000000005,
          0.41428571428571387,
          0.5586734693877548,
          0.5816326530612247,
          0.45959183673469456,
          0.3169387755102042,
          0.29061224489795917,
          0.3817142857142857,
          0.5314489795918365,
          0.4208163265306132,
          0.3978775510204078,
          0.479,
          0.46895918367346945,
          0.42771428571428566,
          0.354
         ],
         "yaxis": "y2"
        },
        {
         "legendgroup": "Llama-7b",
         "mode": "lines+markers",
         "name": "Llama-7b - joy",
         "type": "scatter",
         "visible": "legendonly",
         "x": [
          1,
          2,
          3,
          4,
          5,
          6,
          7,
          8,
          9,
          10,
          11,
          12,
          13,
          14,
          15,
          16,
          17,
          18,
          19,
          20,
          21,
          22,
          23,
          24,
          25,
          26,
          27,
          28,
          29,
          30,
          31,
          32,
          33,
          34,
          35,
          36,
          37,
          38,
          39,
          40,
          41,
          42,
          43,
          44,
          45,
          46,
          47,
          48,
          49,
          50
         ],
         "xaxis": "x2",
         "y": [
          0.438,
          0.402,
          0.426,
          0.41400000000000003,
          0.387,
          0.32500000000000007,
          0.21285714285714288,
          0.29,
          0.5385714285714285,
          0.4485714285714286,
          0.5982857142857141,
          0.5142857142857147,
          0.22000000000000006,
          0.26,
          0.2,
          0.2771428571428569,
          0.22571428571428576,
          0.2171428571428572,
          0.21714285714285717,
          0.2,
          0.2128571428571427,
          0.29,
          0.43571428571428567,
          0.4142857142857143,
          0.4325714285714286,
          0.4505714285714285,
          0.426,
          0.396,
          0.396,
          0.4508571428571429,
          0.4885714285714284,
          0.6028571428571425,
          0.5128571428571429,
          0.27285714285714285,
          0.25971428571428584,
          0.438,
          0.384,
          0.27142857142857146,
          0.2642857142857143,
          0.3114285714285712,
          0.3559999999999998,
          0.3808571428571429,
          0.29,
          0.21285714285714286,
          0.33999999999999975,
          0.3354285714285714,
          0.29,
          0.3202857142857143,
          0.402,
          0.438
         ],
         "yaxis": "y2"
        },
        {
         "legendgroup": "Llama-7b",
         "mode": "lines+markers",
         "name": "Llama-7b - sadness",
         "type": "scatter",
         "visible": "legendonly",
         "x": [
          1,
          2,
          3,
          4,
          5,
          6,
          7,
          8,
          9,
          10,
          11,
          12,
          13,
          14,
          15,
          16,
          17,
          18,
          19,
          20,
          21,
          22,
          23,
          24,
          25,
          26,
          27,
          28,
          29,
          30,
          31,
          32,
          33,
          34,
          35,
          36,
          37,
          38,
          39,
          40,
          41,
          42,
          43,
          44,
          45,
          46,
          47,
          48,
          49,
          50
         ],
         "xaxis": "x2",
         "y": [
          0.292,
          0.38326530612244897,
          0.396,
          0.38271428571428573,
          0.3316326530612245,
          0.34738775510204073,
          0.4268571428571429,
          0.396,
          0.3938775510204083,
          0.30261224489795924,
          0.3563673469387755,
          0.29336734693877564,
          0.3497551020408163,
          0.438,
          0.438,
          0.4311428571428572,
          0.39771428571428563,
          0.43457142857142855,
          0.438,
          0.5201632653061226,
          0.5269387755102042,
          0.44642857142857145,
          0.3581632653061226,
          0.33395918367346933,
          0.396,
          0.396,
          0.3111020408163267,
          0.3641632653061223,
          0.396,
          0.396,
          0.36204081632653096,
          0.2977142857142856,
          0.329632653061224,
          0.4331836734693877,
          0.4723061224489795,
          0.41971428571428593,
          0.396,
          0.444816326530612,
          0.4927142857142857,
          0.437020408163266,
          0.3026122448979588,
          0.39387755102040817,
          0.432,
          0.48355102040816317,
          0.37265306122449054,
          0.3429387755102038,
          0.38828571428571435,
          0.375,
          0.3775714285714286,
          0.396
         ],
         "yaxis": "y2"
        },
        {
         "legendgroup": "Llama-7b",
         "mode": "lines+markers",
         "name": "Llama-7b - surprise",
         "type": "scatter",
         "visible": "legendonly",
         "x": [
          1,
          2,
          3,
          4,
          5,
          6,
          7,
          8,
          9,
          10,
          11,
          12,
          13,
          14,
          15,
          16,
          17,
          18,
          19,
          20,
          21,
          22,
          23,
          24,
          25,
          26,
          27,
          28,
          29,
          30,
          31,
          32,
          33,
          34,
          35,
          36,
          37,
          38,
          39,
          40,
          41,
          42,
          43,
          44,
          45,
          46,
          47,
          48,
          49,
          50
         ],
         "xaxis": "x2",
         "y": [
          0.396,
          0.46883673469387754,
          0.4163265306122449,
          0.396,
          0.34293877551020413,
          0.3241836734693877,
          0.3970204081632653,
          0.4491428571428572,
          0.39685714285714285,
          0.43371428571428566,
          0.4697959183673469,
          0.42479591836734704,
          0.4511836734693877,
          0.4836734693877552,
          0.4654285714285714,
          0.4723061224489796,
          0.438,
          0.438,
          0.438,
          0.438,
          0.438,
          0.37542857142857144,
          0.3238367346938773,
          0.396,
          0.3985714285714286,
          0.43542857142857144,
          0.34167346938775534,
          0.401877551020408,
          0.4140000000000001,
          0.41485714285714287,
          0.3896734693877556,
          0.29,
          0.3020816326530606,
          0.4319591836734693,
          0.438,
          0.3930000000000002,
          0.3874285714285714,
          0.4157142857142856,
          0.438,
          0.4285714285714287,
          0.39640816326530615,
          0.3999183673469388,
          0.43257142857142855,
          0.3917142857142858,
          0.3903061224489795,
          0.43869387755102024,
          0.479,
          0.479,
          0.47397959183673466,
          0.438
         ],
         "yaxis": "y2"
        },
        {
         "legendgroup": "Llama-7b",
         "mode": "lines+markers",
         "name": "Llama-7b - trust",
         "type": "scatter",
         "visible": "legendonly",
         "x": [
          1,
          2,
          3,
          4,
          5,
          6,
          7,
          8,
          9,
          10,
          11,
          12,
          13,
          14,
          15,
          16,
          17,
          18,
          19,
          20,
          21,
          22,
          23,
          24,
          25,
          26,
          27,
          28,
          29,
          30,
          31,
          32,
          33,
          34,
          35,
          36,
          37,
          38,
          39,
          40,
          41,
          42,
          43,
          44,
          45,
          46,
          47,
          48,
          49,
          50
         ],
         "xaxis": "x2",
         "y": [
          0.438,
          0.438,
          0.48481632653061224,
          0.43420408163265306,
          0.396,
          0.3548979591836735,
          0.3181224489795918,
          0.396,
          0.39853061224489783,
          0.5073469387755102,
          0.4238367346938776,
          0.4639183673469387,
          0.3885714285714287,
          0.32469387755102025,
          0.375,
          0.3715714285714286,
          0.35138775510204096,
          0.29522448979591837,
          0.34093877551020396,
          0.31089795918367347,
          0.3252653061224489,
          0.34800000000000003,
          0.3889795918367343,
          0.48089795918367356,
          0.40236734693877557,
          0.49363265306122445,
          0.5,
          0.4569795918367348,
          0.438,
          0.46583673469387754,
          0.5408163265306118,
          0.6443877551020405,
          0.6935510204081645,
          0.4092244897959185,
          0.396,
          0.5559999999999994,
          0.6318367346938775,
          0.5057551020408171,
          0.39077551020408147,
          0.44563265306122474,
          0.40661224489795883,
          0.49787755102040815,
          0.4108571428571429,
          0.3805714285714286,
          0.41357142857142837,
          0.41742857142857154,
          0.396,
          0.396,
          0.4011428571428572,
          0.438
         ],
         "yaxis": "y2"
        },
        {
         "legendgroup": "Mistral-7b",
         "mode": "lines+markers",
         "name": "Mistral-7b - anger",
         "type": "scatter",
         "visible": "legendonly",
         "x": [
          1,
          2,
          3,
          4,
          5,
          6,
          7,
          8,
          9,
          10,
          11,
          12,
          13,
          14,
          15,
          16,
          17,
          18,
          19,
          20,
          21,
          22,
          23,
          24,
          25,
          26,
          27,
          28,
          29,
          30,
          31,
          32,
          33,
          34,
          35,
          36,
          37,
          38,
          39,
          40,
          41,
          42,
          43,
          44,
          45,
          46,
          47,
          48,
          49,
          50
         ],
         "xaxis": "x2",
         "y": [
          0.29,
          0.33683673469387754,
          0.36020408163265305,
          0.28030612244897957,
          0.2595918367346939,
          0.3394897959183673,
          0.375,
          0.375,
          0.375,
          0.375,
          0.3326530612244898,
          0.29708163265306115,
          0.3428163265306122,
          0.3614489795918368,
          0.3157142857142857,
          0.3140204081632652,
          0.3597551020408163,
          0.375,
          0.375,
          0.3360408163265306,
          0.292,
          0.292,
          0.28440816326530616,
          0.2502448979591837,
          0.24346938775510207,
          0.276530612244898,
          0.31089795918367336,
          0.3461632653061223,
          0.363,
          0.37457142857142856,
          0.3638571428571429,
          0.348938775510204,
          0.3147755102040816,
          0.2916326530612245,
          0.29053061224489796,
          0.29057142857142854,
          0.29167346938775507,
          0.292,
          0.292,
          0.2640816326530613,
          0.23642857142857138,
          0.25571428571428567,
          0.27314285714285713,
          0.285265306122449,
          0.26946938775510215,
          0.21877551020408162,
          0.22463265306122454,
          0.26375510204081637,
          0.27953061224489795,
          0.29
         ],
         "yaxis": "y2"
        },
        {
         "legendgroup": "Mistral-7b",
         "mode": "lines+markers",
         "name": "Mistral-7b - anticipation",
         "type": "scatter",
         "visible": "legendonly",
         "x": [
          1,
          2,
          3,
          4,
          5,
          6,
          7,
          8,
          9,
          10,
          11,
          12,
          13,
          14,
          15,
          16,
          17,
          18,
          19,
          20,
          21,
          22,
          23,
          24,
          25,
          26,
          27,
          28,
          29,
          30,
          31,
          32,
          33,
          34,
          35,
          36,
          37,
          38,
          39,
          40,
          41,
          42,
          43,
          44,
          45,
          46,
          47,
          48,
          49,
          50
         ],
         "xaxis": "x2",
         "y": [
          0.292,
          0.3493061224489796,
          0.3902857142857143,
          0.35942857142857143,
          0.34714285714285714,
          0.36642857142857144,
          0.38265306122448983,
          0.39642857142857146,
          0.3983673469387755,
          0.39616326530612245,
          0.396,
          0.396,
          0.396,
          0.396,
          0.396,
          0.39042857142857146,
          0.3788571428571429,
          0.3981428571428572,
          0.43285714285714283,
          0.41828571428571426,
          0.3948571428571429,
          0.364,
          0.3375510204081633,
          0.326530612244898,
          0.337061224489796,
          0.37893877551020416,
          0.4231020408163264,
          0.4688367346938774,
          0.44514285714285723,
          0.40161224489795916,
          0.4201632653061224,
          0.43457142857142855,
          0.4114285714285714,
          0.3921428571428572,
          0.38057142857142856,
          0.39299999999999985,
          0.42771428571428566,
          0.4217142857142857,
          0.3985714285714285,
          0.31469387755102063,
          0.23497959183673453,
          0.3022040816326529,
          0.3431428571428572,
          0.3089795918367347,
          0.29734693877551016,
          0.31387755102040815,
          0.32,
          0.32,
          0.3541224489795919,
          0.396
         ],
         "yaxis": "y2"
        },
        {
         "legendgroup": "Mistral-7b",
         "mode": "lines+markers",
         "name": "Mistral-7b - disgust",
         "type": "scatter",
         "visible": "legendonly",
         "x": [
          1,
          2,
          3,
          4,
          5,
          6,
          7,
          8,
          9,
          10,
          11,
          12,
          13,
          14,
          15,
          16,
          17,
          18,
          19,
          20,
          21,
          22,
          23,
          24,
          25,
          26,
          27,
          28,
          29,
          30,
          31,
          32,
          33,
          34,
          35,
          36,
          37,
          38,
          39,
          40,
          41,
          42,
          43,
          44,
          45,
          46,
          47,
          48,
          49,
          50
         ],
         "xaxis": "x2",
         "y": [
          0.29,
          0.3484081632653061,
          0.376,
          0.268,
          0.23142857142857143,
          0.3162857142857143,
          0.392265306122449,
          0.46114285714285713,
          0.44512244897959186,
          0.39938775510204083,
          0.3419183673469388,
          0.29648979591836727,
          0.3548979591836735,
          0.396,
          0.396,
          0.396,
          0.396,
          0.396,
          0.396,
          0.3471836734693877,
          0.292,
          0.292,
          0.292,
          0.292,
          0.2915510204081632,
          0.2904489795918367,
          0.324612244897959,
          0.3830204081632651,
          0.396,
          0.396,
          0.396,
          0.3875102040816326,
          0.330204081632653,
          0.29714285714285715,
          0.31257142857142856,
          0.3357142857142856,
          0.36602040816326525,
          0.3428163265306122,
          0.29708163265306103,
          0.2645714285714286,
          0.234530612244898,
          0.21469387755102046,
          0.21285714285714274,
          0.2624489795918367,
          0.2679591836734695,
          0.21836734693877552,
          0.21734693877551023,
          0.2448979591836735,
          0.22755102040816327,
          0.2
         ],
         "yaxis": "y2"
        },
        {
         "legendgroup": "Mistral-7b",
         "mode": "lines+markers",
         "name": "Mistral-7b - fear",
         "type": "scatter",
         "visible": "legendonly",
         "x": [
          1,
          2,
          3,
          4,
          5,
          6,
          7,
          8,
          9,
          10,
          11,
          12,
          13,
          14,
          15,
          16,
          17,
          18,
          19,
          20,
          21,
          22,
          23,
          24,
          25,
          26,
          27,
          28,
          29,
          30,
          31,
          32,
          33,
          34,
          35,
          36,
          37,
          38,
          39,
          40,
          41,
          42,
          43,
          44,
          45,
          46,
          47,
          48,
          49,
          50
         ],
         "xaxis": "x2",
         "y": [
          0.396,
          0.396,
          0.38518367346938776,
          0.32677551020408163,
          0.320204081632653,
          0.4017551020408163,
          0.47534693877551026,
          0.5425714285714286,
          0.5355102040816327,
          0.5024489795918368,
          0.4683673469387755,
          0.438,
          0.438,
          0.43114285714285716,
          0.40800000000000003,
          0.40714285714285714,
          0.43028571428571427,
          0.4530612244897959,
          0.47565306122448975,
          0.40436734693877546,
          0.3206938775510204,
          0.3394285714285714,
          0.34616326530612246,
          0.31089795918367347,
          0.29,
          0.29,
          0.35171428571428537,
          0.45585714285714246,
          0.46142857142857147,
          0.4388367346938775,
          0.4708979591836734,
          0.4853061224489795,
          0.3861224489795918,
          0.33010204081632655,
          0.3604081632653061,
          0.4047142857142854,
          0.4620204081632652,
          0.4173469387755101,
          0.3297346938775507,
          0.2857142857142858,
          0.2528571428571428,
          0.2914285714285713,
          0.31285714285714294,
          0.28530612244897957,
          0.26510204081632655,
          0.2540816326530612,
          0.2572857142857143,
          0.2688571428571429,
          0.27953061224489795,
          0.29
         ],
         "yaxis": "y2"
        },
        {
         "legendgroup": "Mistral-7b",
         "mode": "lines+markers",
         "name": "Mistral-7b - joy",
         "type": "scatter",
         "visible": "legendonly",
         "x": [
          1,
          2,
          3,
          4,
          5,
          6,
          7,
          8,
          9,
          10,
          11,
          12,
          13,
          14,
          15,
          16,
          17,
          18,
          19,
          20,
          21,
          22,
          23,
          24,
          25,
          26,
          27,
          28,
          29,
          30,
          31,
          32,
          33,
          34,
          35,
          36,
          37,
          38,
          39,
          40,
          41,
          42,
          43,
          44,
          45,
          46,
          47,
          48,
          49,
          50
         ],
         "xaxis": "x2",
         "y": [
          0.29,
          0.32526530612244897,
          0.35787755102040814,
          0.37881632653061226,
          0.37118367346938774,
          0.3149795918367347,
          0.29,
          0.29,
          0.25326530612244896,
          0.20367346938775513,
          0.2,
          0.20734693877551016,
          0.2734693877551021,
          0.34938775510204073,
          0.4485714285714286,
          0.44428571428571445,
          0.3285714285714286,
          0.29,
          0.29,
          0.3885714285714286,
          0.49571428571428583,
          0.38,
          0.3081224489795917,
          0.38967346938775504,
          0.4519183673469388,
          0.4860816326530613,
          0.4660408163265308,
          0.40873469387755124,
          0.35057142857142864,
          0.29216326530612236,
          0.24224489795918375,
          0.22122448979591847,
          0.3644897959183674,
          0.4482448979591837,
          0.4129795918367347,
          0.396,
          0.396,
          0.44795918367346943,
          0.5217959183673472,
          0.5446938775510204,
          0.5587755102040817,
          0.5422448979591837,
          0.5257142857142858,
          0.5091836734693878,
          0.5,
          0.5,
          0.4784897959183673,
          0.44432653061224486,
          0.47930612244897963,
          0.53
         ],
         "yaxis": "y2"
        },
        {
         "legendgroup": "Mistral-7b",
         "mode": "lines+markers",
         "name": "Mistral-7b - sadness",
         "type": "scatter",
         "visible": "legendonly",
         "x": [
          1,
          2,
          3,
          4,
          5,
          6,
          7,
          8,
          9,
          10,
          11,
          12,
          13,
          14,
          15,
          16,
          17,
          18,
          19,
          20,
          21,
          22,
          23,
          24,
          25,
          26,
          27,
          28,
          29,
          30,
          31,
          32,
          33,
          34,
          35,
          36,
          37,
          38,
          39,
          40,
          41,
          42,
          43,
          44,
          45,
          46,
          47,
          48,
          49,
          50
         ],
         "xaxis": "x2",
         "y": [
          0.29,
          0.37155102040816324,
          0.42289795918367346,
          0.3413469387755102,
          0.3030612244897959,
          0.3383265306122449,
          0.3797142857142857,
          0.426,
          0.438,
          0.438,
          0.438,
          0.43542857142857144,
          0.4122857142857143,
          0.38359183673469394,
          0.34171428571428575,
          0.3401632653061224,
          0.38204081632653064,
          0.39746938775510204,
          0.3996734693877551,
          0.3493061224489796,
          0.2941224489795918,
          0.3514285714285714,
          0.3832653061224491,
          0.32595918367346943,
          0.3106326530612245,
          0.3563673469387756,
          0.39557142857142846,
          0.43028571428571416,
          0.42171428571428576,
          0.40077551020408164,
          0.39787755102040817,
          0.38979591836734695,
          0.34791836734693876,
          0.33010204081632655,
          0.3604081632653061,
          0.38099999999999995,
          0.39257142857142857,
          0.35567346938775507,
          0.2983673469387753,
          0.2640816326530613,
          0.23732653061224482,
          0.2687346938775509,
          0.292,
          0.292,
          0.29151020408163264,
          0.2904081632653061,
          0.2906938775510204,
          0.2917959183673469,
          0.2911020408163265,
          0.29
         ],
         "yaxis": "y2"
        },
        {
         "legendgroup": "Mistral-7b",
         "mode": "lines+markers",
         "name": "Mistral-7b - surprise",
         "type": "scatter",
         "visible": "legendonly",
         "x": [
          1,
          2,
          3,
          4,
          5,
          6,
          7,
          8,
          9,
          10,
          11,
          12,
          13,
          14,
          15,
          16,
          17,
          18,
          19,
          20,
          21,
          22,
          23,
          24,
          25,
          26,
          27,
          28,
          29,
          30,
          31,
          32,
          33,
          34,
          35,
          36,
          37,
          38,
          39,
          40,
          41,
          42,
          43,
          44,
          45,
          46,
          47,
          48,
          49,
          50
         ],
         "xaxis": "x2",
         "y": [
          0.396,
          0.396,
          0.396,
          0.396,
          0.4045714285714286,
          0.4277142857142857,
          0.46310204081632655,
          0.5082857142857143,
          0.48653061224489796,
          0.44134693877551023,
          0.40585714285714286,
          0.3762857142857143,
          0.3878571428571429,
          0.4095510204081632,
          0.4552857142857143,
          0.479,
          0.479,
          0.46393877551020407,
          0.44134693877551023,
          0.46710204081632656,
          0.5,
          0.5,
          0.4951020408163266,
          0.47306122448979593,
          0.44091836734693873,
          0.3940816326530611,
          0.39557142857142846,
          0.43028571428571416,
          0.4474285714285714,
          0.4595510204081633,
          0.42816326530612253,
          0.4064489795918368,
          0.4499795918367347,
          0.47514285714285714,
          0.4635714285714286,
          0.44028571428571445,
          0.40612244897959193,
          0.4208163265306123,
          0.45608163265306134,
          0.3767346938775512,
          0.29432653061224473,
          0.35273469387755085,
          0.38514285714285723,
          0.343265306122449,
          0.333469387755102,
          0.3637755102040816,
          0.375,
          0.375,
          0.36557142857142855,
          0.354
         ],
         "yaxis": "y2"
        },
        {
         "legendgroup": "Mistral-7b",
         "mode": "lines+markers",
         "name": "Mistral-7b - trust",
         "type": "scatter",
         "visible": "legendonly",
         "x": [
          1,
          2,
          3,
          4,
          5,
          6,
          7,
          8,
          9,
          10,
          11,
          12,
          13,
          14,
          15,
          16,
          17,
          18,
          19,
          20,
          21,
          22,
          23,
          24,
          25,
          26,
          27,
          28,
          29,
          30,
          31,
          32,
          33,
          34,
          35,
          36,
          37,
          38,
          39,
          40,
          41,
          42,
          43,
          44,
          45,
          46,
          47,
          48,
          49,
          50
         ],
         "xaxis": "x2",
         "y": [
          0.396,
          0.41914285714285715,
          0.438,
          0.438,
          0.42942857142857144,
          0.4062857142857143,
          0.40885714285714286,
          0.432,
          0.3775918367346939,
          0.2960408163265306,
          0.3440816326530612,
          0.39471428571428574,
          0.3831428571428571,
          0.38528571428571423,
          0.42,
          0.41571428571428576,
          0.36942857142857144,
          0.37089795918367346,
          0.39624489795918366,
          0.4469387755102041,
          0.4978775510204082,
          0.44057142857142856,
          0.40114285714285713,
          0.42428571428571427,
          0.4519183673469388,
          0.4860816326530613,
          0.5,
          0.5,
          0.4734285714285715,
          0.43926530612244896,
          0.41571428571428576,
          0.4012244897959184,
          0.4364897959183674,
          0.4559591836734694,
          0.4438367346938776,
          0.45571428571428557,
          0.4898775510204081,
          0.523265306122449,
          0.556326530612245,
          0.5306122448979593,
          0.50734693877551,
          0.6065306122448977,
          0.6542857142857146,
          0.5551020408163265,
          0.5,
          0.5,
          0.4784897959183673,
          0.44432653061224486,
          0.46583673469387754,
          0.5
         ],
         "yaxis": "y2"
        },
        {
         "legendgroup": "Beluga-13b",
         "mode": "lines+markers",
         "name": "Beluga-13b - anger",
         "type": "scatter",
         "visible": "legendonly",
         "x": [
          1,
          2,
          3,
          4,
          5,
          6,
          7,
          8,
          9,
          10,
          11,
          12,
          13,
          14,
          15,
          16,
          17,
          18,
          19,
          20,
          21,
          22,
          23,
          24,
          25,
          26,
          27,
          28,
          29,
          30,
          31,
          32,
          33,
          34,
          35,
          36,
          37,
          38,
          39,
          40,
          41,
          42,
          43,
          44,
          45,
          46,
          47,
          48,
          49,
          50
         ],
         "xaxis": "x2",
         "y": [
          0.29,
          0.2909387755102041,
          0.29187755102040813,
          0.292,
          0.292,
          0.2843673469387755,
          0.2740408163265306,
          0.3,
          0.34928571428571425,
          0.375,
          0.375,
          0.375,
          0.375,
          0.35714285714285726,
          0.2750000000000001,
          0.2037551020408162,
          0.24693877551020402,
          0.29012244897959183,
          0.3198367346938775,
          0.3489387755102041,
          0.3702857142857143,
          0.39,
          0.396,
          0.396,
          0.39042857142857146,
          0.38057142857142856,
          0.375,
          0.375,
          0.375,
          0.375,
          0.375,
          0.375,
          0.375,
          0.375,
          0.375,
          0.3300000000000002,
          0.2807142857142858,
          0.2703673469387755,
          0.2708367346938776,
          0.3028367346938774,
          0.3516530612244896,
          0.35467346938775524,
          0.3157142857142858,
          0.28061224489795916,
          0.25151020408163277,
          0.23734693877551014,
          0.26551020408163256,
          0.286326530612245,
          0.2581632653061225,
          0.23
         ],
         "yaxis": "y2"
        },
        {
         "legendgroup": "Beluga-13b",
         "mode": "lines+markers",
         "name": "Beluga-13b - anticipation",
         "type": "scatter",
         "visible": "legendonly",
         "x": [
          1,
          2,
          3,
          4,
          5,
          6,
          7,
          8,
          9,
          10,
          11,
          12,
          13,
          14,
          15,
          16,
          17,
          18,
          19,
          20,
          21,
          22,
          23,
          24,
          25,
          26,
          27,
          28,
          29,
          30,
          31,
          32,
          33,
          34,
          35,
          36,
          37,
          38,
          39,
          40,
          41,
          42,
          43,
          44,
          45,
          46,
          47,
          48,
          49,
          50
         ],
         "xaxis": "x2",
         "y": [
          0.36,
          0.3787755102040816,
          0.39755102040816326,
          0.3812244897959184,
          0.3596326530612245,
          0.36857142857142855,
          0.3882857142857143,
          0.396,
          0.396,
          0.396,
          0.396,
          0.40285714285714286,
          0.4225714285714286,
          0.42289795918367357,
          0.3534285714285715,
          0.2912244897959183,
          0.3053061224489796,
          0.3193877551020408,
          0.35412244897959183,
          0.389795918367347,
          0.396,
          0.396,
          0.396,
          0.396,
          0.40714285714285714,
          0.4268571428571429,
          0.4294285714285715,
          0.40971428571428575,
          0.396,
          0.396,
          0.3994285714285713,
          0.41914285714285704,
          0.4384081632653061,
          0.44779591836734695,
          0.45718367346938776,
          0.43142857142857155,
          0.40232653061224494,
          0.396,
          0.396,
          0.396,
          0.396,
          0.3908571428571429,
          0.381,
          0.36489795918367346,
          0.3390816326530613,
          0.3293061224489795,
          0.3649795918367346,
          0.39134693877551036,
          0.3556734693877552,
          0.32
         ],
         "yaxis": "y2"
        },
        {
         "legendgroup": "Beluga-13b",
         "mode": "lines+markers",
         "name": "Beluga-13b - disgust",
         "type": "scatter",
         "visible": "legendonly",
         "x": [
          1,
          2,
          3,
          4,
          5,
          6,
          7,
          8,
          9,
          10,
          11,
          12,
          13,
          14,
          15,
          16,
          17,
          18,
          19,
          20,
          21,
          22,
          23,
          24,
          25,
          26,
          27,
          28,
          29,
          30,
          31,
          32,
          33,
          34,
          35,
          36,
          37,
          38,
          39,
          40,
          41,
          42,
          43,
          44,
          45,
          46,
          47,
          48,
          49,
          50
         ],
         "xaxis": "x2",
         "y": [
          0.375,
          0.3360408163265306,
          0.2970816326530612,
          0.3344489795918367,
          0.38326530612244897,
          0.35991836734693883,
          0.31110204081632653,
          0.3337142857142857,
          0.4022448979591836,
          0.438,
          0.438,
          0.4141632653061225,
          0.3456326530612245,
          0.2826122448979592,
          0.2394285714285715,
          0.2037551020408162,
          0.24693877551020402,
          0.29012244897959183,
          0.3386938775510204,
          0.3875102040816327,
          0.396,
          0.396,
          0.396,
          0.396,
          0.35195918367346946,
          0.27404081632653055,
          0.26387755102040794,
          0.3417959183673469,
          0.396,
          0.396,
          0.38979591836734717,
          0.354122448979592,
          0.32069387755102036,
          0.3366530612244898,
          0.35261224489795917,
          0.3274285714285715,
          0.2983265306122449,
          0.292,
          0.292,
          0.3238367346938774,
          0.3726530612244896,
          0.37053061224489814,
          0.3217142857142858,
          0.28061224489795916,
          0.25151020408163277,
          0.25032653061224475,
          0.32824489795918343,
          0.38583673469387786,
          0.30791836734693895,
          0.23
         ],
         "yaxis": "y2"
        },
        {
         "legendgroup": "Beluga-13b",
         "mode": "lines+markers",
         "name": "Beluga-13b - fear",
         "type": "scatter",
         "visible": "legendonly",
         "x": [
          1,
          2,
          3,
          4,
          5,
          6,
          7,
          8,
          9,
          10,
          11,
          12,
          13,
          14,
          15,
          16,
          17,
          18,
          19,
          20,
          21,
          22,
          23,
          24,
          25,
          26,
          27,
          28,
          29,
          30,
          31,
          32,
          33,
          34,
          35,
          36,
          37,
          38,
          39,
          40,
          41,
          42,
          43,
          44,
          45,
          46,
          47,
          48,
          49,
          50
         ],
         "xaxis": "x2",
         "y": [
          0.438,
          0.4084285714285714,
          0.37885714285714284,
          0.38357142857142856,
          0.39342857142857146,
          0.38871428571428573,
          0.37885714285714284,
          0.4047142857142857,
          0.45353061224489793,
          0.4697959183673469,
          0.45055102040816325,
          0.4481224489795918,
          0.47722448979591836,
          0.4787755102040818,
          0.3811428571428572,
          0.292,
          0.292,
          0.292,
          0.3292653061224489,
          0.3682244897959184,
          0.3994285714285714,
          0.429,
          0.438,
          0.438,
          0.4544489795918367,
          0.4835510204081633,
          0.5367346938775508,
          0.6212244897959183,
          0.6394285714285715,
          0.5061224489795919,
          0.396,
          0.396,
          0.3976938775510203,
          0.43665306122448977,
          0.47561224489795917,
          0.38942857142857173,
          0.29132653061224506,
          0.2773469387755102,
          0.286734693877551,
          0.32244897959183655,
          0.3722040816326529,
          0.3700408163265308,
          0.32028571428571434,
          0.29,
          0.29,
          0.3081224489795917,
          0.37759183673469365,
          0.4289387755102043,
          0.3594693877551022,
          0.29
         ],
         "yaxis": "y2"
        },
        {
         "legendgroup": "Beluga-13b",
         "mode": "lines+markers",
         "name": "Beluga-13b - joy",
         "type": "scatter",
         "visible": "legendonly",
         "x": [
          1,
          2,
          3,
          4,
          5,
          6,
          7,
          8,
          9,
          10,
          11,
          12,
          13,
          14,
          15,
          16,
          17,
          18,
          19,
          20,
          21,
          22,
          23,
          24,
          25,
          26,
          27,
          28,
          29,
          30,
          31,
          32,
          33,
          34,
          35,
          36,
          37,
          38,
          39,
          40,
          41,
          42,
          43,
          44,
          45,
          46,
          47,
          48,
          49,
          50
         ],
         "xaxis": "x2",
         "y": [
          0.29,
          0.28061224489795916,
          0.2712244897959184,
          0.32142857142857145,
          0.38057142857142856,
          0.4105714285714286,
          0.43028571428571427,
          0.39571428571428574,
          0.3262448979591837,
          0.27653061224489794,
          0.24836734693877555,
          0.23979591836734693,
          0.2679591836734694,
          0.3195918367346936,
          0.4557142857142855,
          0.5881632653061221,
          0.6820408163265305,
          0.7759183673469389,
          0.5600000000000002,
          0.32999999999999974,
          0.26673469387755105,
          0.2385714285714286,
          0.2704897959183672,
          0.3286938775510203,
          0.3370204081632653,
          0.3069795918367346,
          0.2716326530612246,
          0.22938775510204085,
          0.228,
          0.31999999999999995,
          0.3994285714285713,
          0.41914285714285704,
          0.4349795918367349,
          0.3655102040816327,
          0.29604081632653056,
          0.3628571428571426,
          0.4426530612244897,
          0.47469387755102044,
          0.4934693877551021,
          0.4810204081632654,
          0.4519183673469389,
          0.467877551020408,
          0.5251428571428571,
          0.5489795918367347,
          0.5208163265306124,
          0.4924081632653062,
          0.4633061224489797,
          0.438,
          0.438,
          0.438
         ],
         "yaxis": "y2"
        },
        {
         "legendgroup": "Beluga-13b",
         "mode": "lines+markers",
         "name": "Beluga-13b - sadness",
         "type": "scatter",
         "visible": "legendonly",
         "x": [
          1,
          2,
          3,
          4,
          5,
          6,
          7,
          8,
          9,
          10,
          11,
          12,
          13,
          14,
          15,
          16,
          17,
          18,
          19,
          20,
          21,
          22,
          23,
          24,
          25,
          26,
          27,
          28,
          29,
          30,
          31,
          32,
          33,
          34,
          35,
          36,
          37,
          38,
          39,
          40,
          41,
          42,
          43,
          44,
          45,
          46,
          47,
          48,
          49,
          50
         ],
         "xaxis": "x2",
         "y": [
          0.396,
          0.396,
          0.396,
          0.37885714285714284,
          0.35914285714285715,
          0.354,
          0.354,
          0.366,
          0.38571428571428573,
          0.3865714285714286,
          0.3668571428571429,
          0.36771428571428566,
          0.40714285714285714,
          0.4137142857142859,
          0.30200000000000016,
          0.20367346938775496,
          0.2459183673469387,
          0.28816326530612246,
          0.33759183673469384,
          0.3873469387755103,
          0.396,
          0.396,
          0.396,
          0.396,
          0.40714285714285714,
          0.4268571428571429,
          0.4506530612244897,
          0.4797551020408163,
          0.49114285714285716,
          0.46204081632653066,
          0.43285714285714305,
          0.4032857142857144,
          0.3754285714285714,
          0.3852857142857143,
          0.3951428571428572,
          0.3514285714285716,
          0.30261224489795924,
          0.3059591836734694,
          0.323795918367347,
          0.350204081632653,
          0.38118367346938764,
          0.37053061224489814,
          0.3217142857142858,
          0.29714285714285715,
          0.3102857142857142,
          0.3344489795918366,
          0.38983673469387736,
          0.4354285714285715,
          0.41571428571428576,
          0.396
         ],
         "yaxis": "y2"
        },
        {
         "legendgroup": "Beluga-13b",
         "mode": "lines+markers",
         "name": "Beluga-13b - surprise",
         "type": "scatter",
         "visible": "legendonly",
         "x": [
          1,
          2,
          3,
          4,
          5,
          6,
          7,
          8,
          9,
          10,
          11,
          12,
          13,
          14,
          15,
          16,
          17,
          18,
          19,
          20,
          21,
          22,
          23,
          24,
          25,
          26,
          27,
          28,
          29,
          30,
          31,
          32,
          33,
          34,
          35,
          36,
          37,
          38,
          39,
          40,
          41,
          42,
          43,
          44,
          45,
          46,
          47,
          48,
          49,
          50
         ],
         "xaxis": "x2",
         "y": [
          0.396,
          0.4157142857142857,
          0.43542857142857144,
          0.44616326530612244,
          0.45555102040816325,
          0.4586938775510204,
          0.4596326530612245,
          0.4714285714285714,
          0.49020408163265305,
          0.48608163265306126,
          0.4569795918367347,
          0.438,
          0.438,
          0.4315714285714286,
          0.402,
          0.375,
          0.375,
          0.375,
          0.40328571428571425,
          0.4328571428571429,
          0.438,
          0.438,
          0.45138775510204077,
          0.4706326530612244,
          0.4569795918367347,
          0.4180204081632653,
          0.4045714285714285,
          0.42428571428571427,
          0.438,
          0.438,
          0.44306122448979574,
          0.4721632653061223,
          0.4987346938775511,
          0.46963265306122454,
          0.4405306122448979,
          0.438,
          0.438,
          0.4225714285714286,
          0.4028571428571428,
          0.4088571428571428,
          0.4285714285714285,
          0.4580816326530611,
          0.49657142857142855,
          0.483265306122449,
          0.38938775510204116,
          0.3394693877551019,
          0.4141020408163263,
          0.4692653061224492,
          0.39463265306122464,
          0.32
         ],
         "yaxis": "y2"
        },
        {
         "legendgroup": "Beluga-13b",
         "mode": "lines+markers",
         "name": "Beluga-13b - trust",
         "type": "scatter",
         "visible": "legendonly",
         "x": [
          1,
          2,
          3,
          4,
          5,
          6,
          7,
          8,
          9,
          10,
          11,
          12,
          13,
          14,
          15,
          16,
          17,
          18,
          19,
          20,
          21,
          22,
          23,
          24,
          25,
          26,
          27,
          28,
          29,
          30,
          31,
          32,
          33,
          34,
          35,
          36,
          37,
          38,
          39,
          40,
          41,
          42,
          43,
          44,
          45,
          46,
          47,
          48,
          49,
          50
         ],
         "xaxis": "x2",
         "y": [
          0.375,
          0.38673469387755105,
          0.39846938775510204,
          0.41551020408163264,
          0.4333469387755102,
          0.438,
          0.438,
          0.414,
          0.37457142857142856,
          0.3587142857142857,
          0.36857142857142855,
          0.38528571428571423,
          0.41485714285714287,
          0.44432653061224486,
          0.4734285714285714,
          0.5015510204081632,
          0.5193877551020408,
          0.5372244897959184,
          0.5209387755102041,
          0.5031020408163265,
          0.451530612244898,
          0.3928571428571429,
          0.38185714285714284,
          0.3917142857142857,
          0.40714285714285714,
          0.4268571428571429,
          0.4251428571428572,
          0.3955714285714286,
          0.384,
          0.41357142857142853,
          0.4455102040816324,
          0.48869387755102023,
          0.528122448979592,
          0.48493877551020415,
          0.4417551020408163,
          0.46457142857142847,
          0.4936734693877551,
          0.5,
          0.5,
          0.4681632653061226,
          0.41934693877551044,
          0.411673469387755,
          0.44171428571428567,
          0.47432653061224495,
          0.510938775510204,
          0.5257551020408164,
          0.4788163265306124,
          0.4393469387755102,
          0.4496734693877551,
          0.46
         ],
         "yaxis": "y2"
        },
        {
         "legendgroup": "OrcaPlatypus-13b",
         "mode": "lines+markers",
         "name": "OrcaPlatypus-13b - anger",
         "type": "scatter",
         "visible": "legendonly",
         "x": [
          1,
          2,
          3,
          4,
          5,
          6,
          7,
          8,
          9,
          10,
          11,
          12,
          13,
          14,
          15,
          16,
          17,
          18,
          19,
          20,
          21,
          22,
          23,
          24,
          25,
          26,
          27,
          28,
          29,
          30,
          31,
          32,
          33,
          34,
          35,
          36,
          37,
          38,
          39,
          40,
          41,
          42,
          43,
          44,
          45,
          46,
          47,
          48,
          49,
          50
         ],
         "xaxis": "x2",
         "y": [
          0.29,
          0.2777551020408163,
          0.2935714285714286,
          0.3578571428571429,
          0.33683673469387754,
          0.295204081632653,
          0.3472448979591837,
          0.3507142857142857,
          0.2986734693877551,
          0.29,
          0.300408163265306,
          0.35244897959183663,
          0.375,
          0.375,
          0.32642857142857146,
          0.3056122448979591,
          0.35765306122448975,
          0.375,
          0.3733061224489796,
          0.32248979591836735,
          0.292,
          0.292,
          0.30983673469387746,
          0.3267346938775511,
          0.3022448979591837,
          0.3160204081632653,
          0.3680612244897957,
          0.3861428571428571,
          0.39,
          0.36428571428571427,
          0.3312244897959185,
          0.29326530612244905,
          0.292,
          0.3089387755102041,
          0.3597551020408164,
          0.3540000000000001,
          0.3246122448979592,
          0.30379591836734693,
          0.3524897959183674,
          0.4920816326530602,
          0.4489795918367353,
          0.375,
          0.375,
          0.33418367346938793,
          0.2576530612244903,
          0.273142857142857,
          0.29167346938775507,
          0.29044897959183674,
          0.28224489795918367,
          0.27
         ],
         "yaxis": "y2"
        },
        {
         "legendgroup": "OrcaPlatypus-13b",
         "mode": "lines+markers",
         "name": "OrcaPlatypus-13b - anticipation",
         "type": "scatter",
         "visible": "legendonly",
         "x": [
          1,
          2,
          3,
          4,
          5,
          6,
          7,
          8,
          9,
          10,
          11,
          12,
          13,
          14,
          15,
          16,
          17,
          18,
          19,
          20,
          21,
          22,
          23,
          24,
          25,
          26,
          27,
          28,
          29,
          30,
          31,
          32,
          33,
          34,
          35,
          36,
          37,
          38,
          39,
          40,
          41,
          42,
          43,
          44,
          45,
          46,
          47,
          48,
          49,
          50
         ],
         "xaxis": "x2",
         "y": [
          0.292,
          0.30914285714285716,
          0.3370612244897959,
          0.3835918367346939,
          0.37714285714285717,
          0.354,
          0.354,
          0.366,
          0.39171428571428574,
          0.3745714285714286,
          0.3591428571428571,
          0.38485714285714284,
          0.396,
          0.396,
          0.36400000000000005,
          0.35028571428571426,
          0.38457142857142856,
          0.3731428571428571,
          0.34114285714285714,
          0.37542857142857144,
          0.396,
          0.396,
          0.396,
          0.3925714285714286,
          0.3668571428571429,
          0.3797142857142857,
          0.43114285714285694,
          0.41571428571428576,
          0.402,
          0.4277142857142857,
          0.42257142857142865,
          0.3968571428571429,
          0.396,
          0.396,
          0.396,
          0.396,
          0.3977142857142857,
          0.42342857142857143,
          0.4157142857142857,
          0.36428571428571466,
          0.3471428571428572,
          0.3499999999999997,
          0.4099999999999998,
          0.36028571428571465,
          0.21457142857142955,
          0.2661224489795915,
          0.32,
          0.32,
          0.27346938775510216,
          0.2
         ],
         "yaxis": "y2"
        },
        {
         "legendgroup": "OrcaPlatypus-13b",
         "mode": "lines+markers",
         "name": "OrcaPlatypus-13b - disgust",
         "type": "scatter",
         "visible": "legendonly",
         "x": [
          1,
          2,
          3,
          4,
          5,
          6,
          7,
          8,
          9,
          10,
          11,
          12,
          13,
          14,
          15,
          16,
          17,
          18,
          19,
          20,
          21,
          22,
          23,
          24,
          25,
          26,
          27,
          28,
          29,
          30,
          31,
          32,
          33,
          34,
          35,
          36,
          37,
          38,
          39,
          40,
          41,
          42,
          43,
          44,
          45,
          46,
          47,
          48,
          49,
          50
         ],
         "xaxis": "x2",
         "y": [
          0.292,
          0.2356734693877551,
          0.2206530612244898,
          0.2769795918367347,
          0.292,
          0.292,
          0.292,
          0.292,
          0.292,
          0.32363265306122446,
          0.3591428571428571,
          0.38485714285714284,
          0.3696326530612245,
          0.32310204081632665,
          0.304,
          0.292,
          0.292,
          0.3344489795918368,
          0.3938775510204082,
          0.33020408163265313,
          0.292,
          0.292,
          0.34081632653061206,
          0.3875102040816328,
          0.3238367346938776,
          0.3238367346938776,
          0.38751020408163245,
          0.396,
          0.39,
          0.36428571428571427,
          0.33048979591836747,
          0.2913061224489797,
          0.29,
          0.3116326530612245,
          0.3765306122448981,
          0.396,
          0.3917551020408164,
          0.32808163265306123,
          0.330734693877551,
          0.42012244897959117,
          0.3968571428571432,
          0.35614285714285704,
          0.36899999999999994,
          0.3178571428571431,
          0.21071428571428644,
          0.25069387755102013,
          0.29167346938775507,
          0.29044897959183674,
          0.2551020408163266,
          0.2
         ],
         "yaxis": "y2"
        },
        {
         "legendgroup": "OrcaPlatypus-13b",
         "mode": "lines+markers",
         "name": "OrcaPlatypus-13b - fear",
         "type": "scatter",
         "visible": "legendonly",
         "x": [
          1,
          2,
          3,
          4,
          5,
          6,
          7,
          8,
          9,
          10,
          11,
          12,
          13,
          14,
          15,
          16,
          17,
          18,
          19,
          20,
          21,
          22,
          23,
          24,
          25,
          26,
          27,
          28,
          29,
          30,
          31,
          32,
          33,
          34,
          35,
          36,
          37,
          38,
          39,
          40,
          41,
          42,
          43,
          44,
          45,
          46,
          47,
          48,
          49,
          50
         ],
         "xaxis": "x2",
         "y": [
          0.29,
          0.25326530612244896,
          0.26255102040816325,
          0.3513265306122449,
          0.33683673469387754,
          0.2939183673469387,
          0.3331020408163265,
          0.366,
          0.39171428571428574,
          0.3852857142857143,
          0.3827142857142857,
          0.4212857142857142,
          0.40885714285714286,
          0.3574285714285715,
          0.31742857142857145,
          0.29,
          0.29,
          0.3246938775510204,
          0.375,
          0.375,
          0.3801428571428571,
          0.393,
          0.41571428571428565,
          0.43285714285714294,
          0.3942857142857143,
          0.3942857142857143,
          0.4328571428571427,
          0.41571428571428576,
          0.396,
          0.396,
          0.38828571428571435,
          0.37542857142857144,
          0.38742857142857146,
          0.38742857142857146,
          0.36171428571428565,
          0.37199999999999994,
          0.39167346938775516,
          0.3267755102040816,
          0.31255102040816324,
          0.36459183673469353,
          0.38528571428571423,
          0.39385714285714296,
          0.38100000000000006,
          0.3178571428571431,
          0.21071428571428644,
          0.2495918367346936,
          0.29,
          0.29,
          0.2551020408163266,
          0.2
         ],
         "yaxis": "y2"
        },
        {
         "legendgroup": "OrcaPlatypus-13b",
         "mode": "lines+markers",
         "name": "OrcaPlatypus-13b - joy",
         "type": "scatter",
         "visible": "legendonly",
         "x": [
          1,
          2,
          3,
          4,
          5,
          6,
          7,
          8,
          9,
          10,
          11,
          12,
          13,
          14,
          15,
          16,
          17,
          18,
          19,
          20,
          21,
          22,
          23,
          24,
          25,
          26,
          27,
          28,
          29,
          30,
          31,
          32,
          33,
          34,
          35,
          36,
          37,
          38,
          39,
          40,
          41,
          42,
          43,
          44,
          45,
          46,
          47,
          48,
          49,
          50
         ],
         "xaxis": "x2",
         "y": [
          0.34,
          0.4524489795918367,
          0.4748979591836735,
          0.2973469387755102,
          0.29097959183673466,
          0.38922448979591834,
          0.3072857142857143,
          0.25499999999999995,
          0.33785714285714274,
          0.3407142857142858,
          0.27857142857142864,
          0.31285714285714283,
          0.347469387755102,
          0.3095918367346939,
          0.367142857142857,
          0.5269387755102037,
          0.5027346938775512,
          0.43285714285714294,
          0.38314285714285723,
          0.37457142857142856,
          0.42428571428571416,
          0.42000000000000004,
          0.39383673469387775,
          0.33110204081632655,
          0.3451020408163266,
          0.5048979591836734,
          0.5126938775510208,
          0.4404897959183675,
          0.402,
          0.3888775510204082,
          0.4391836734693875,
          0.42322448979591865,
          0.36048979591836744,
          0.3762857142857142,
          0.3830204081632655,
          0.3202857142857146,
          0.37265306122448927,
          0.5324489795918367,
          0.3836734693877554,
          0.2024489795918366,
          0.22020408163265298,
          0.2851836734693875,
          0.40828571428571425,
          0.5466530612244898,
          0.6759183673469392,
          0.6167346938775512,
          0.5755102040816327,
          0.5636734693877551,
          0.6293877551020409,
          0.73
         ],
         "yaxis": "y2"
        },
        {
         "legendgroup": "OrcaPlatypus-13b",
         "mode": "lines+markers",
         "name": "OrcaPlatypus-13b - sadness",
         "type": "scatter",
         "visible": "legendonly",
         "x": [
          1,
          2,
          3,
          4,
          5,
          6,
          7,
          8,
          9,
          10,
          11,
          12,
          13,
          14,
          15,
          16,
          17,
          18,
          19,
          20,
          21,
          22,
          23,
          24,
          25,
          26,
          27,
          28,
          29,
          30,
          31,
          32,
          33,
          34,
          35,
          36,
          37,
          38,
          39,
          40,
          41,
          42,
          43,
          44,
          45,
          46,
          47,
          48,
          49,
          50
         ],
         "xaxis": "x2",
         "y": [
          0.29,
          0.29122448979591836,
          0.32477551020408163,
          0.41416326530612246,
          0.40971428571428575,
          0.37885714285714284,
          0.4174285714285714,
          0.3962857142857143,
          0.30689795918367346,
          0.32363265306122446,
          0.3591428571428571,
          0.38485714285714284,
          0.3696326530612245,
          0.32310204081632665,
          0.304,
          0.30338775510204075,
          0.34134693877551014,
          0.36257142857142854,
          0.37542857142857144,
          0.3882857142857143,
          0.3705306122448982,
          0.30685714285714294,
          0.34081632653061206,
          0.3925714285714286,
          0.3668571428571429,
          0.3668571428571429,
          0.3925714285714285,
          0.396,
          0.39,
          0.36428571428571427,
          0.36171428571428565,
          0.37457142857142856,
          0.38742857142857146,
          0.38048979591836735,
          0.33395918367346933,
          0.32,
          0.3187755102040817,
          0.3004081632653061,
          0.3069795918367347,
          0.3461632653061222,
          0.3745714285714284,
          0.39385714285714296,
          0.38100000000000006,
          0.3178571428571431,
          0.21071428571428644,
          0.2,
          0.2146938775510202,
          0.2697959183673468,
          0.2551020408163266,
          0.2
         ],
         "yaxis": "y2"
        },
        {
         "legendgroup": "OrcaPlatypus-13b",
         "mode": "lines+markers",
         "name": "OrcaPlatypus-13b - surprise",
         "type": "scatter",
         "visible": "legendonly",
         "x": [
          1,
          2,
          3,
          4,
          5,
          6,
          7,
          8,
          9,
          10,
          11,
          12,
          13,
          14,
          15,
          16,
          17,
          18,
          19,
          20,
          21,
          22,
          23,
          24,
          25,
          26,
          27,
          28,
          29,
          30,
          31,
          32,
          33,
          34,
          35,
          36,
          37,
          38,
          39,
          40,
          41,
          42,
          43,
          44,
          45,
          46,
          47,
          48,
          49,
          50
         ],
         "xaxis": "x2",
         "y": [
          0.29,
          0.3083673469387755,
          0.34648979591836737,
          0.418734693877551,
          0.40971428571428575,
          0.375,
          0.375,
          0.393,
          0.43157142857142855,
          0.438,
          0.438,
          0.438,
          0.438,
          0.438,
          0.402,
          0.3942857142857142,
          0.4585714285714285,
          0.4457142857142857,
          0.3944489795918368,
          0.3479183673469388,
          0.33861224489795905,
          0.38514285714285706,
          0.41571428571428565,
          0.42836734693877565,
          0.3561224489795919,
          0.383061224489796,
          0.5091836734693873,
          0.5122040816326531,
          0.49114285714285716,
          0.45318367346938776,
          0.438,
          0.438,
          0.4131428571428572,
          0.40865306122448986,
          0.44661224489795925,
          0.44942857142857146,
          0.43628571428571433,
          0.4105714285714286,
          0.4235918367346939,
          0.48726530612244856,
          0.46963265306122476,
          0.4400408163265305,
          0.45228571428571424,
          0.4129387755102043,
          0.3284489795918373,
          0.3503061224489794,
          0.3725510204081633,
          0.36336734693877554,
          0.3328571428571429,
          0.29
         ],
         "yaxis": "y2"
        },
        {
         "legendgroup": "OrcaPlatypus-13b",
         "mode": "lines+markers",
         "name": "OrcaPlatypus-13b - trust",
         "type": "scatter",
         "visible": "legendonly",
         "x": [
          1,
          2,
          3,
          4,
          5,
          6,
          7,
          8,
          9,
          10,
          11,
          12,
          13,
          14,
          15,
          16,
          17,
          18,
          19,
          20,
          21,
          22,
          23,
          24,
          25,
          26,
          27,
          28,
          29,
          30,
          31,
          32,
          33,
          34,
          35,
          36,
          37,
          38,
          39,
          40,
          41,
          42,
          43,
          44,
          45,
          46,
          47,
          48,
          49,
          50
         ],
         "xaxis": "x2",
         "y": [
          0.396,
          0.5698775510204082,
          0.611530612244898,
          0.4247959183673469,
          0.38442857142857145,
          0.39379591836734695,
          0.3717551020408163,
          0.36428571428571427,
          0.373469387755102,
          0.36428571428571427,
          0.354,
          0.354,
          0.36857142857142855,
          0.39428571428571424,
          0.4554285714285714,
          0.48089795918367356,
          0.4172244897959184,
          0.396,
          0.3981224489795918,
          0.4617959183673469,
          0.48481632653061235,
          0.44685714285714295,
          0.41828571428571437,
          0.41918367346938745,
          0.5930612244897958,
          0.6059183673469387,
          0.4577551020408168,
          0.40457142857142864,
          0.37857142857142856,
          0.39387755102040817,
          0.4477551020408161,
          0.5273469387755101,
          0.4755510204081633,
          0.42942857142857144,
          0.4037142857142857,
          0.396,
          0.396,
          0.396,
          0.36257142857142854,
          0.28542857142857203,
          0.321428571428571,
          0.38142857142857123,
          0.4199999999999998,
          0.45824489795918355,
          0.4962040816326528,
          0.5165306122448978,
          0.5251020408163266,
          0.5067346938775511,
          0.5,
          0.5
         ],
         "yaxis": "y2"
        },
        {
         "legendgroup": "LlamaInstruct-30b",
         "mode": "lines+markers",
         "name": "LlamaInstruct-30b - anger",
         "type": "scatter",
         "visible": "legendonly",
         "x": [
          1,
          2,
          3,
          4,
          5,
          6,
          7,
          8,
          9,
          10,
          11,
          12,
          13,
          14,
          15,
          16,
          17,
          18,
          19,
          20,
          21,
          22,
          23,
          24,
          25,
          26,
          27,
          28,
          29,
          30,
          31,
          32,
          33,
          34,
          35,
          36,
          37,
          38,
          39,
          40,
          41,
          42,
          43,
          44,
          45,
          46,
          47,
          48,
          49,
          50
         ],
         "xaxis": "x2",
         "y": [
          0.2,
          0.24224489795918366,
          0.2844897959183673,
          0.3246938775510204,
          0.36459183673469386,
          0.375,
          0.375,
          0.375,
          0.375,
          0.3559183673469388,
          0.3160204081632653,
          0.3038775510204081,
          0.34377551020408165,
          0.36632653061224496,
          0.32642857142857146,
          0.2934693877551019,
          0.33336734693877546,
          0.373265306122449,
          0.33773469387755106,
          0.29877551020408155,
          0.3241836734693877,
          0.3631428571428571,
          0.32895918367346955,
          0.2627755102040818,
          0.2493877551020408,
          0.2766122448979592,
          0.29159183673469385,
          0.29065306122448975,
          0.29,
          0.29,
          0.2969387755102038,
          0.33683673469387737,
          0.3732653061224491,
          0.33336734693877557,
          0.293469387755102,
          0.3264285714285713,
          0.36632653061224485,
          0.34451020408163263,
          0.3055510204081632,
          0.31740816326530596,
          0.35636734693877536,
          0.35467346938775524,
          0.3157142857142858,
          0.2879591836734694,
          0.27763265306122453,
          0.2724489795918367,
          0.2818367346938775,
          0.28657142857142864,
          0.26028571428571434,
          0.234
         ],
         "yaxis": "y2"
        },
        {
         "legendgroup": "LlamaInstruct-30b",
         "mode": "lines+markers",
         "name": "LlamaInstruct-30b - anticipation",
         "type": "scatter",
         "visible": "legendonly",
         "x": [
          1,
          2,
          3,
          4,
          5,
          6,
          7,
          8,
          9,
          10,
          11,
          12,
          13,
          14,
          15,
          16,
          17,
          18,
          19,
          20,
          21,
          22,
          23,
          24,
          25,
          26,
          27,
          28,
          29,
          30,
          31,
          32,
          33,
          34,
          35,
          36,
          37,
          38,
          39,
          40,
          41,
          42,
          43,
          44,
          45,
          46,
          47,
          48,
          49,
          50
         ],
         "xaxis": "x2",
         "y": [
          0.29,
          0.3298979591836735,
          0.36979591836734693,
          0.375,
          0.375,
          0.3822857142857143,
          0.3921428571428572,
          0.38342857142857145,
          0.3627755102040816,
          0.3524489795918367,
          0.3533877551020408,
          0.354,
          0.354,
          0.3561428571428571,
          0.366,
          0.37585714285714283,
          0.38571428571428573,
          0.3955714285714286,
          0.396,
          0.396,
          0.396,
          0.396,
          0.36138775510204096,
          0.31163265306122456,
          0.26612244897959186,
          0.22387755102040813,
          0.2244897959183672,
          0.28081632653061217,
          0.33085714285714285,
          0.3665306122448979,
          0.39632653061224493,
          0.3982040816326531,
          0.4007755102040816,
          0.4186122448979592,
          0.43644897959183676,
          0.4200000000000001,
          0.40028571428571436,
          0.38057142857142856,
          0.3608571428571428,
          0.36685714285714277,
          0.3865714285714285,
          0.396,
          0.396,
          0.38204081632653064,
          0.34636734693877563,
          0.32416326530612244,
          0.34012244897959176,
          0.3464081632653063,
          0.28820408163265315,
          0.23
         ],
         "yaxis": "y2"
        },
        {
         "legendgroup": "LlamaInstruct-30b",
         "mode": "lines+markers",
         "name": "LlamaInstruct-30b - disgust",
         "type": "scatter",
         "visible": "legendonly",
         "x": [
          1,
          2,
          3,
          4,
          5,
          6,
          7,
          8,
          9,
          10,
          11,
          12,
          13,
          14,
          15,
          16,
          17,
          18,
          19,
          20,
          21,
          22,
          23,
          24,
          25,
          26,
          27,
          28,
          29,
          30,
          31,
          32,
          33,
          34,
          35,
          36,
          37,
          38,
          39,
          40,
          41,
          42,
          43,
          44,
          45,
          46,
          47,
          48,
          49,
          50
         ],
         "xaxis": "x2",
         "y": [
          0.2,
          0.2,
          0.2,
          0.27142857142857146,
          0.35357142857142854,
          0.3462040816326531,
          0.30724489795918364,
          0.3217142857142857,
          0.3705306122448979,
          0.3811836734693878,
          0.3502040816326531,
          0.3407755102040816,
          0.37175510204081635,
          0.38538775510204093,
          0.33657142857142863,
          0.2962448979591835,
          0.34506122448979587,
          0.3938775510204082,
          0.34930612244897963,
          0.3004897959183673,
          0.3323265306122449,
          0.3811428571428571,
          0.33200000000000024,
          0.2400000000000002,
          0.2,
          0.2,
          0.2183673469387754,
          0.26061224489795914,
          0.29,
          0.29,
          0.2986530612244894,
          0.3484081632653059,
          0.39387755102040833,
          0.345061224489796,
          0.29624489795918363,
          0.3365714285714284,
          0.38538775510204076,
          0.3577959183673469,
          0.30897959183673457,
          0.3238367346938774,
          0.3726530612244896,
          0.37053061224489814,
          0.3217142857142858,
          0.2751020408163265,
          0.23191836734693894,
          0.21102040816326523,
          0.25326530612244885,
          0.28663265306122454,
          0.26081632653061226,
          0.235
         ],
         "yaxis": "y2"
        },
        {
         "legendgroup": "LlamaInstruct-30b",
         "mode": "lines+markers",
         "name": "LlamaInstruct-30b - fear",
         "type": "scatter",
         "visible": "legendonly",
         "x": [
          1,
          2,
          3,
          4,
          5,
          6,
          7,
          8,
          9,
          10,
          11,
          12,
          13,
          14,
          15,
          16,
          17,
          18,
          19,
          20,
          21,
          22,
          23,
          24,
          25,
          26,
          27,
          28,
          29,
          30,
          31,
          32,
          33,
          34,
          35,
          36,
          37,
          38,
          39,
          40,
          41,
          42,
          43,
          44,
          45,
          46,
          47,
          48,
          49,
          50
         ],
         "xaxis": "x2",
         "y": [
          0.29,
          0.28061224489795916,
          0.2712244897959184,
          0.3128571428571429,
          0.3621428571428571,
          0.375,
          0.375,
          0.4107142857142857,
          0.4693877551020408,
          0.4672244897959184,
          0.3986938775510205,
          0.36771428571428566,
          0.40714285714285714,
          0.42289795918367357,
          0.3534285714285715,
          0.29604081632653034,
          0.36551020408163254,
          0.43497959183673474,
          0.3715510204081633,
          0.3020816326530611,
          0.3632857142857142,
          0.45199999999999996,
          0.40422448979591863,
          0.29673469387755125,
          0.26061224489795914,
          0.27938775510204084,
          0.2904081632653061,
          0.2913469387755102,
          0.292,
          0.292,
          0.30391836734693833,
          0.3724489795918364,
          0.4371428571428572,
          0.4174285714285715,
          0.39771428571428574,
          0.4139999999999999,
          0.4337142857142857,
          0.41485714285714287,
          0.38528571428571423,
          0.3814285714285714,
          0.39128571428571424,
          0.3857142857142858,
          0.36600000000000005,
          0.3257142857142857,
          0.25342857142857167,
          0.21102040816326523,
          0.25326530612244885,
          0.2875510204081633,
          0.26877551020408164,
          0.25
         ],
         "yaxis": "y2"
        },
        {
         "legendgroup": "LlamaInstruct-30b",
         "mode": "lines+markers",
         "name": "LlamaInstruct-30b - joy",
         "type": "scatter",
         "visible": "legendonly",
         "x": [
          1,
          2,
          3,
          4,
          5,
          6,
          7,
          8,
          9,
          10,
          11,
          12,
          13,
          14,
          15,
          16,
          17,
          18,
          19,
          20,
          21,
          22,
          23,
          24,
          25,
          26,
          27,
          28,
          29,
          30,
          31,
          32,
          33,
          34,
          35,
          36,
          37,
          38,
          39,
          40,
          41,
          42,
          43,
          44,
          45,
          46,
          47,
          48,
          49,
          50
         ],
         "xaxis": "x2",
         "y": [
          0.34,
          0.4995918367346939,
          0.6591836734693878,
          0.48408163265306126,
          0.2587755102040817,
          0.23122448979591836,
          0.27346938775510204,
          0.3082857142857143,
          0.3383265306122449,
          0.33514285714285713,
          0.29571428571428576,
          0.2585714285714286,
          0.22571428571428573,
          0.23061224489795895,
          0.3714285714285713,
          0.49142857142857177,
          0.392857142857143,
          0.29428571428571426,
          0.2810204081632653,
          0.27163265306122447,
          0.2777551020408163,
          0.28714285714285714,
          0.3683673469387752,
          0.4810204081632651,
          0.5883673469387755,
          0.6916326530612246,
          0.7357142857142858,
          0.702857142857143,
          0.68,
          0.68,
          0.6432653061224504,
          0.43204081632653163,
          0.23122448979591828,
          0.25938775510204076,
          0.28755102040816327,
          0.31657142857142845,
          0.34567346938775506,
          0.3835918367346939,
          0.42395918367346946,
          0.4251428571428572,
          0.4054285714285715,
          0.4214693877551019,
          0.4702857142857142,
          0.5069795918367347,
          0.5248163265306122,
          0.5257551020408164,
          0.4788163265306124,
          0.4528163265306118,
          0.566408163265306,
          0.68
         ],
         "yaxis": "y2"
        },
        {
         "legendgroup": "LlamaInstruct-30b",
         "mode": "lines+markers",
         "name": "LlamaInstruct-30b - sadness",
         "type": "scatter",
         "visible": "legendonly",
         "x": [
          1,
          2,
          3,
          4,
          5,
          6,
          7,
          8,
          9,
          10,
          11,
          12,
          13,
          14,
          15,
          16,
          17,
          18,
          19,
          20,
          21,
          22,
          23,
          24,
          25,
          26,
          27,
          28,
          29,
          30,
          31,
          32,
          33,
          34,
          35,
          36,
          37,
          38,
          39,
          40,
          41,
          42,
          43,
          44,
          45,
          46,
          47,
          48,
          49,
          50
         ],
         "xaxis": "x2",
         "y": [
          0.29,
          0.2909387755102041,
          0.29187755102040813,
          0.3344489795918367,
          0.38326530612244897,
          0.38871428571428573,
          0.37885714285714284,
          0.369,
          0.35914285714285715,
          0.34861224489795917,
          0.3373469387755102,
          0.3407755102040816,
          0.37175510204081635,
          0.38538775510204093,
          0.33657142857142863,
          0.2962448979591835,
          0.34506122448979587,
          0.3938775510204082,
          0.396,
          0.396,
          0.396,
          0.396,
          0.33200000000000024,
          0.2400000000000002,
          0.2,
          0.2,
          0.2183673469387754,
          0.26061224489795914,
          0.29,
          0.29,
          0.2986530612244894,
          0.3484081632653059,
          0.3976938775510203,
          0.43665306122448977,
          0.47561224489795917,
          0.44342857142857156,
          0.4044693877551021,
          0.3680816326530612,
          0.3324081632653061,
          0.3368367346938775,
          0.3626530612244897,
          0.35467346938775524,
          0.3157142857142858,
          0.2751020408163265,
          0.23191836734693894,
          0.2112653061224489,
          0.2544489795918366,
          0.28636734693877564,
          0.24318367346938782,
          0.2
         ],
         "yaxis": "y2"
        },
        {
         "legendgroup": "LlamaInstruct-30b",
         "mode": "lines+markers",
         "name": "LlamaInstruct-30b - surprise",
         "type": "scatter",
         "visible": "legendonly",
         "x": [
          1,
          2,
          3,
          4,
          5,
          6,
          7,
          8,
          9,
          10,
          11,
          12,
          13,
          14,
          15,
          16,
          17,
          18,
          19,
          20,
          21,
          22,
          23,
          24,
          25,
          26,
          27,
          28,
          29,
          30,
          31,
          32,
          33,
          34,
          35,
          36,
          37,
          38,
          39,
          40,
          41,
          42,
          43,
          44,
          45,
          46,
          47,
          48,
          49,
          50
         ],
         "xaxis": "x2",
         "y": [
          0.29,
          0.313469387755102,
          0.3369387755102041,
          0.38,
          0.426,
          0.4449387755102041,
          0.4543265306122449,
          0.464,
          0.47385714285714287,
          0.4603673469387755,
          0.42140816326530617,
          0.40285714285714286,
          0.4225714285714286,
          0.438,
          0.438,
          0.43967346938775503,
          0.45891836734693875,
          0.4781632653061224,
          0.44173469387755104,
          0.4027755102040816,
          0.41228571428571426,
          0.432,
          0.38967346938775527,
          0.3202040816326532,
          0.29,
          0.29,
          0.31163265306122434,
          0.3613877551020408,
          0.40485714285714286,
          0.43395918367346936,
          0.4532653061224492,
          0.4260408163265308,
          0.3994897959183674,
          0.38775510204081637,
          0.3760204081632653,
          0.4019999999999999,
          0.43157142857142855,
          0.41485714285714287,
          0.38528571428571423,
          0.4010204081632652,
          0.4409183673469386,
          0.4391836734693879,
          0.39928571428571435,
          0.36489795918367346,
          0.3390816326530613,
          0.32,
          0.32,
          0.31693877551020416,
          0.2934693877551021,
          0.27
         ],
         "yaxis": "y2"
        },
        {
         "legendgroup": "LlamaInstruct-30b",
         "mode": "lines+markers",
         "name": "LlamaInstruct-30b - trust",
         "type": "scatter",
         "visible": "legendonly",
         "x": [
          1,
          2,
          3,
          4,
          5,
          6,
          7,
          8,
          9,
          10,
          11,
          12,
          13,
          14,
          15,
          16,
          17,
          18,
          19,
          20,
          21,
          22,
          23,
          24,
          25,
          26,
          27,
          28,
          29,
          30,
          31,
          32,
          33,
          34,
          35,
          36,
          37,
          38,
          39,
          40,
          41,
          42,
          43,
          44,
          45,
          46,
          47,
          48,
          49,
          50
         ],
         "xaxis": "x2",
         "y": [
          0.396,
          0.5293061224489797,
          0.6626122448979592,
          0.5555102040816327,
          0.4123469387755102,
          0.3822857142857143,
          0.3921428571428572,
          0.396,
          0.396,
          0.396,
          0.396,
          0.39257142857142857,
          0.38271428571428573,
          0.3814285714285714,
          0.411,
          0.4345714285714287,
          0.3951428571428572,
          0.3557142857142857,
          0.3917142857142857,
          0.43114285714285716,
          0.438,
          0.438,
          0.4582448979591836,
          0.48734693877551016,
          0.5477551020408162,
          0.6322448979591838,
          0.6432653061224493,
          0.5587755102040817,
          0.5,
          0.5,
          0.491510204081633,
          0.44269387755102063,
          0.3973061224489795,
          0.42734693877551017,
          0.4573877551020409,
          0.4505714285714286,
          0.4402448979591837,
          0.4460816326530612,
          0.45640816326530614,
          0.43397959183673485,
          0.3940816326530614,
          0.405612244897959,
          0.4642857142857142,
          0.5146938775510204,
          0.5522448979591835,
          0.5626122448979594,
          0.4959591836734696,
          0.44546938775510186,
          0.502734693877551,
          0.56
         ],
         "yaxis": "y2"
        },
        {
         "legendgroup": "Platypus2-70b",
         "mode": "lines+markers",
         "name": "Platypus2-70b - anger",
         "type": "scatter",
         "visible": "legendonly",
         "x": [
          1,
          2,
          3,
          4,
          5,
          6,
          7,
          8,
          9,
          10,
          11,
          12,
          13,
          14,
          15,
          16,
          17,
          18,
          19,
          20,
          21,
          22,
          23,
          24,
          25,
          26,
          27,
          28,
          29,
          30,
          31,
          32,
          33,
          34,
          35,
          36,
          37,
          38,
          39,
          40,
          41,
          42,
          43,
          44,
          45,
          46,
          47,
          48,
          49,
          50
         ],
         "xaxis": "x2",
         "y": [
          0.29,
          0.29,
          0.29,
          0.29,
          0.29,
          0.30387755102040814,
          0.3576530612244898,
          0.375,
          0.375,
          0.375,
          0.34724489795918373,
          0.29346938775510206,
          0.29,
          0.2904489795918367,
          0.2917142857142857,
          0.33265306122448973,
          0.3648367346938776,
          0.3123265306122449,
          0.32418367346938765,
          0.37142857142857144,
          0.2607142857142858,
          0.22142857142857147,
          0.2688775510204081,
          0.2744489795918368,
          0.2925510204081632,
          0.3564489795918368,
          0.375,
          0.3682244897959184,
          0.3157142857142856,
          0.320795918367347,
          0.3733061224489793,
          0.4135714285714284,
          0.438,
          0.438,
          0.40585714285714286,
          0.3631428571428575,
          0.3106326530612247,
          0.2911836734693877,
          0.2900816326530612,
          0.29134693877551016,
          0.2913877551020408,
          0.29012244897959183,
          0.25857142857142856,
          0.24622448979591832,
          0.2810204081632651,
          0.2806122448979592,
          0.2720408163265306,
          0.2846938775510204,
          0.29,
          0.29
         ],
         "yaxis": "y2"
        },
        {
         "legendgroup": "Platypus2-70b",
         "mode": "lines+markers",
         "name": "Platypus2-70b - anticipation",
         "type": "scatter",
         "visible": "legendonly",
         "x": [
          1,
          2,
          3,
          4,
          5,
          6,
          7,
          8,
          9,
          10,
          11,
          12,
          13,
          14,
          15,
          16,
          17,
          18,
          19,
          20,
          21,
          22,
          23,
          24,
          25,
          26,
          27,
          28,
          29,
          30,
          31,
          32,
          33,
          34,
          35,
          36,
          37,
          38,
          39,
          40,
          41,
          42,
          43,
          44,
          45,
          46,
          47,
          48,
          49,
          50
         ],
         "xaxis": "x2",
         "y": [
          0.23,
          0.32173469387755105,
          0.3707551020408163,
          0.3606326530612245,
          0.3563469387755102,
          0.3608571428571428,
          0.38742857142857146,
          0.37200000000000005,
          0.34085714285714286,
          0.3497142857142857,
          0.354,
          0.354,
          0.354,
          0.354,
          0.354,
          0.37457142857142856,
          0.396,
          0.396,
          0.396,
          0.3944489795918368,
          0.3463673469387756,
          0.3057142857142857,
          0.2740816326530613,
          0.2975510204081632,
          0.33414285714285713,
          0.3828571428571429,
          0.3983469387755102,
          0.3962448979591837,
          0.3671428571428571,
          0.3685714285714286,
          0.395142857142857,
          0.3984489795918367,
          0.38873469387755105,
          0.35963265306122444,
          0.354,
          0.354,
          0.354,
          0.354,
          0.3557142857142857,
          0.3822857142857142,
          0.4088571428571428,
          0.43542857142857144,
          0.39,
          0.35828571428571426,
          0.3715714285714285,
          0.34918367346938783,
          0.32775510204081626,
          0.37583673469387746,
          0.3680816326530613,
          0.32
         ],
         "yaxis": "y2"
        },
        {
         "legendgroup": "Platypus2-70b",
         "mode": "lines+markers",
         "name": "Platypus2-70b - disgust",
         "type": "scatter",
         "visible": "legendonly",
         "x": [
          1,
          2,
          3,
          4,
          5,
          6,
          7,
          8,
          9,
          10,
          11,
          12,
          13,
          14,
          15,
          16,
          17,
          18,
          19,
          20,
          21,
          22,
          23,
          24,
          25,
          26,
          27,
          28,
          29,
          30,
          31,
          32,
          33,
          34,
          35,
          36,
          37,
          38,
          39,
          40,
          41,
          42,
          43,
          44,
          45,
          46,
          47,
          48,
          49,
          50
         ],
         "xaxis": "x2",
         "y": [
          0.29,
          0.29,
          0.29,
          0.29,
          0.3239591836734694,
          0.36771428571428566,
          0.4208571428571428,
          0.37542857142857144,
          0.2983673469387755,
          0.3641632653061224,
          0.3620408163265307,
          0.29624489795918374,
          0.292,
          0.3059183673469387,
          0.34514285714285714,
          0.3951428571428571,
          0.41987755102040825,
          0.32624489795918377,
          0.30163265306122444,
          0.31857142857142856,
          0.27428571428571435,
          0.262,
          0.2885714285714285,
          0.2413061224489797,
          0.23599999999999988,
          0.36000000000000015,
          0.34930612244897974,
          0.292,
          0.292,
          0.32808163265306134,
          0.39387755102040783,
          0.4596734693877549,
          0.47453061224489806,
          0.408734693877551,
          0.396,
          0.38114285714285756,
          0.31534693877551045,
          0.292,
          0.292,
          0.292,
          0.292,
          0.292,
          0.24400000000000002,
          0.22514285714285706,
          0.278285714285714,
          0.2488163265306124,
          0.2091836734693877,
          0.2661224489795917,
          0.26795918367346944,
          0.23
         ],
         "yaxis": "y2"
        },
        {
         "legendgroup": "Platypus2-70b",
         "mode": "lines+markers",
         "name": "Platypus2-70b - fear",
         "type": "scatter",
         "visible": "legendonly",
         "x": [
          1,
          2,
          3,
          4,
          5,
          6,
          7,
          8,
          9,
          10,
          11,
          12,
          13,
          14,
          15,
          16,
          17,
          18,
          19,
          20,
          21,
          22,
          23,
          24,
          25,
          26,
          27,
          28,
          29,
          30,
          31,
          32,
          33,
          34,
          35,
          36,
          37,
          38,
          39,
          40,
          41,
          42,
          43,
          44,
          45,
          46,
          47,
          48,
          49,
          50
         ],
         "xaxis": "x2",
         "y": [
          0.29,
          0.3836326530612245,
          0.438,
          0.438,
          0.4157142857142857,
          0.40285714285714286,
          0.42942857142857144,
          0.438,
          0.43542857142857144,
          0.40885714285714286,
          0.38228571428571434,
          0.3557142857142857,
          0.354,
          0.3634285714285714,
          0.39,
          0.4366530612244897,
          0.46932653061224494,
          0.41934693877551027,
          0.3821632653061225,
          0.3526938775510204,
          0.31220408163265306,
          0.29057142857142854,
          0.29183673469387755,
          0.2798775510204082,
          0.30085714285714277,
          0.40714285714285725,
          0.438,
          0.4345714285714286,
          0.408,
          0.396,
          0.396,
          0.4468163265306121,
          0.45867346938775516,
          0.40616326530612246,
          0.4490612244897959,
          0.48514285714285754,
          0.4193469387755105,
          0.3527346938775512,
          0.29,
          0.29,
          0.29918367346938773,
          0.31816326530612243,
          0.2685714285714286,
          0.23816326530612242,
          0.2634693877551019,
          0.27,
          0.2720408163265306,
          0.2846938775510204,
          0.29,
          0.29
         ],
         "yaxis": "y2"
        },
        {
         "legendgroup": "Platypus2-70b",
         "mode": "lines+markers",
         "name": "Platypus2-70b - joy",
         "type": "scatter",
         "visible": "legendonly",
         "x": [
          1,
          2,
          3,
          4,
          5,
          6,
          7,
          8,
          9,
          10,
          11,
          12,
          13,
          14,
          15,
          16,
          17,
          18,
          19,
          20,
          21,
          22,
          23,
          24,
          25,
          26,
          27,
          28,
          29,
          30,
          31,
          32,
          33,
          34,
          35,
          36,
          37,
          38,
          39,
          40,
          41,
          42,
          43,
          44,
          45,
          46,
          47,
          48,
          49,
          50
         ],
         "xaxis": "x2",
         "y": [
          0.29,
          0.23306122448979594,
          0.2,
          0.2,
          0.2477551020408163,
          0.29,
          0.29,
          0.25142857142857145,
          0.2036734693877551,
          0.24163265306122447,
          0.24040816326530617,
          0.20244897959183678,
          0.29114285714285715,
          0.33963265306122453,
          0.2991428571428571,
          0.29,
          0.29,
          0.29,
          0.2667346938775511,
          0.23714285714285713,
          0.4585714285714284,
          0.62,
          0.7085714285714284,
          0.72,
          0.6410204081632656,
          0.3689795918367344,
          0.30346938775510196,
          0.3314285714285714,
          0.42000000000000015,
          0.4305102040816326,
          0.3767346938775513,
          0.26785714285714324,
          0.2,
          0.2,
          0.2,
          0.2171428571428567,
          0.2930612244897956,
          0.39346938775510176,
          0.4974693877551021,
          0.45824489795918383,
          0.46616326530612234,
          0.5243673469387755,
          0.5128571428571429,
          0.5255102040816325,
          0.6045918367346935,
          0.6836734693877549,
          0.7306122448979593,
          0.6104081632653064,
          0.5232653061224491,
          0.46
         ],
         "yaxis": "y2"
        },
        {
         "legendgroup": "Platypus2-70b",
         "mode": "lines+markers",
         "name": "Platypus2-70b - sadness",
         "type": "scatter",
         "visible": "legendonly",
         "x": [
          1,
          2,
          3,
          4,
          5,
          6,
          7,
          8,
          9,
          10,
          11,
          12,
          13,
          14,
          15,
          16,
          17,
          18,
          19,
          20,
          21,
          22,
          23,
          24,
          25,
          26,
          27,
          28,
          29,
          30,
          31,
          32,
          33,
          34,
          35,
          36,
          37,
          38,
          39,
          40,
          41,
          42,
          43,
          44,
          45,
          46,
          47,
          48,
          49,
          50
         ],
         "xaxis": "x2",
         "y": [
          0.29,
          0.4228571428571428,
          0.4835510204081633,
          0.4443265306122449,
          0.4045714285714286,
          0.37842857142857145,
          0.39171428571428574,
          0.414,
          0.43542857142857144,
          0.40885714285714286,
          0.3891428571428572,
          0.3758571428571429,
          0.36257142857142854,
          0.34008163265306124,
          0.3008571428571428,
          0.342938775510204,
          0.396,
          0.396,
          0.3797142857142858,
          0.35085714285714287,
          0.2534285714285715,
          0.2142857142857143,
          0.2459183673469387,
          0.2731428571428571,
          0.31881632653061215,
          0.41118367346938783,
          0.438,
          0.4345714285714286,
          0.408,
          0.396,
          0.396,
          0.4468163265306121,
          0.4841428571428571,
          0.49742857142857144,
          0.5,
          0.48214285714285765,
          0.40306122448979625,
          0.34030612244897973,
          0.2900816326530612,
          0.29134693877551016,
          0.30057142857142854,
          0.3182857142857143,
          0.27142857142857146,
          0.24663265306122445,
          0.2826938775510202,
          0.2488163265306124,
          0.2091836734693877,
          0.2661224489795917,
          0.290734693877551,
          0.292
         ],
         "yaxis": "y2"
        },
        {
         "legendgroup": "Platypus2-70b",
         "mode": "lines+markers",
         "name": "Platypus2-70b - surprise",
         "type": "scatter",
         "visible": "legendonly",
         "x": [
          1,
          2,
          3,
          4,
          5,
          6,
          7,
          8,
          9,
          10,
          11,
          12,
          13,
          14,
          15,
          16,
          17,
          18,
          19,
          20,
          21,
          22,
          23,
          24,
          25,
          26,
          27,
          28,
          29,
          30,
          31,
          32,
          33,
          34,
          35,
          36,
          37,
          38,
          39,
          40,
          41,
          42,
          43,
          44,
          45,
          46,
          47,
          48,
          49,
          50
         ],
         "xaxis": "x2",
         "y": [
          0.29,
          0.3437755102040816,
          0.38057142857142856,
          0.39385714285714285,
          0.41828571428571426,
          0.44126530612244896,
          0.4539183673469388,
          0.4134285714285714,
          0.35657142857142854,
          0.3831428571428571,
          0.3891428571428572,
          0.3758571428571429,
          0.4122857142857143,
          0.438,
          0.438,
          0.46836734693877546,
          0.48726530612244906,
          0.4214693877551021,
          0.41228571428571426,
          0.4367142857142857,
          0.3968571428571429,
          0.35128571428571426,
          0.2987755102040817,
          0.3074285714285714,
          0.34167346938775506,
          0.416326530612245,
          0.45640816326530603,
          0.47744897959183674,
          0.4654285714285714,
          0.4523673469387755,
          0.4384489795918368,
          0.46310204081632644,
          0.45867346938775516,
          0.40616326530612246,
          0.396,
          0.40199999999999986,
          0.4285714285714285,
          0.41228571428571437,
          0.3783877551020408,
          0.4308979591836733,
          0.4586122448979592,
          0.45987755102040817,
          0.4114285714285715,
          0.36377551020408166,
          0.32897959183673486,
          0.30591836734693884,
          0.298673469387755,
          0.3524489795918366,
          0.34377551020408176,
          0.29
         ],
         "yaxis": "y2"
        },
        {
         "legendgroup": "Platypus2-70b",
         "mode": "lines+markers",
         "name": "Platypus2-70b - trust",
         "type": "scatter",
         "visible": "legendonly",
         "x": [
          1,
          2,
          3,
          4,
          5,
          6,
          7,
          8,
          9,
          10,
          11,
          12,
          13,
          14,
          15,
          16,
          17,
          18,
          19,
          20,
          21,
          22,
          23,
          24,
          25,
          26,
          27,
          28,
          29,
          30,
          31,
          32,
          33,
          34,
          35,
          36,
          37,
          38,
          39,
          40,
          41,
          42,
          43,
          44,
          45,
          46,
          47,
          48,
          49,
          50
         ],
         "xaxis": "x2",
         "y": [
          0.396,
          0.396,
          0.38485714285714284,
          0.35828571428571426,
          0.3762857142857143,
          0.3803265306122449,
          0.3195918367346939,
          0.31714285714285717,
          0.3434285714285714,
          0.37885714285714284,
          0.3891428571428572,
          0.3758571428571429,
          0.38742857142857146,
          0.3912857142857143,
          0.378,
          0.3852857142857143,
          0.396,
          0.396,
          0.396,
          0.39812244897959187,
          0.4639183673469387,
          0.5171428571428571,
          0.5551020408163265,
          0.5269387755102042,
          0.48089795918367356,
          0.41510204081632646,
          0.44269387755102024,
          0.5,
          0.5,
          0.5,
          0.5,
          0.4106122448979595,
          0.354,
          0.354,
          0.3647142857142857,
          0.375,
          0.375,
          0.42602040816326514,
          0.5,
          0.5,
          0.5,
          0.5,
          0.4771428571428572,
          0.4926530612244897,
          0.5938775510204077,
          0.6481632653061223,
          0.6697959183673471,
          0.6065306122448981,
          0.5359183673469389,
          0.46
         ],
         "yaxis": "y2"
        }
       ],
       "layout": {
        "annotations": [
         {
          "font": {
           "size": 16
          },
          "showarrow": false,
          "text": "Human-written story",
          "x": 0.225,
          "xanchor": "center",
          "xref": "paper",
          "y": 1,
          "yanchor": "bottom",
          "yref": "paper"
         },
         {
          "font": {
           "size": 16
          },
          "showarrow": false,
          "text": "Model-generated story",
          "x": 0.775,
          "xanchor": "center",
          "xref": "paper",
          "y": 1,
          "yanchor": "bottom",
          "yref": "paper"
         }
        ],
        "height": 600,
        "legend": {
         "groupclick": "toggleitem"
        },
        "template": {
         "data": {
          "bar": [
           {
            "error_x": {
             "color": "#f2f5fa"
            },
            "error_y": {
             "color": "#f2f5fa"
            },
            "marker": {
             "line": {
              "color": "rgb(17,17,17)",
              "width": 0.5
             },
             "pattern": {
              "fillmode": "overlay",
              "size": 10,
              "solidity": 0.2
             }
            },
            "type": "bar"
           }
          ],
          "barpolar": [
           {
            "marker": {
             "line": {
              "color": "rgb(17,17,17)",
              "width": 0.5
             },
             "pattern": {
              "fillmode": "overlay",
              "size": 10,
              "solidity": 0.2
             }
            },
            "type": "barpolar"
           }
          ],
          "carpet": [
           {
            "aaxis": {
             "endlinecolor": "#A2B1C6",
             "gridcolor": "#506784",
             "linecolor": "#506784",
             "minorgridcolor": "#506784",
             "startlinecolor": "#A2B1C6"
            },
            "baxis": {
             "endlinecolor": "#A2B1C6",
             "gridcolor": "#506784",
             "linecolor": "#506784",
             "minorgridcolor": "#506784",
             "startlinecolor": "#A2B1C6"
            },
            "type": "carpet"
           }
          ],
          "choropleth": [
           {
            "colorbar": {
             "outlinewidth": 0,
             "ticks": ""
            },
            "type": "choropleth"
           }
          ],
          "contour": [
           {
            "colorbar": {
             "outlinewidth": 0,
             "ticks": ""
            },
            "colorscale": [
             [
              0,
              "#0d0887"
             ],
             [
              0.1111111111111111,
              "#46039f"
             ],
             [
              0.2222222222222222,
              "#7201a8"
             ],
             [
              0.3333333333333333,
              "#9c179e"
             ],
             [
              0.4444444444444444,
              "#bd3786"
             ],
             [
              0.5555555555555556,
              "#d8576b"
             ],
             [
              0.6666666666666666,
              "#ed7953"
             ],
             [
              0.7777777777777778,
              "#fb9f3a"
             ],
             [
              0.8888888888888888,
              "#fdca26"
             ],
             [
              1,
              "#f0f921"
             ]
            ],
            "type": "contour"
           }
          ],
          "contourcarpet": [
           {
            "colorbar": {
             "outlinewidth": 0,
             "ticks": ""
            },
            "type": "contourcarpet"
           }
          ],
          "heatmap": [
           {
            "colorbar": {
             "outlinewidth": 0,
             "ticks": ""
            },
            "colorscale": [
             [
              0,
              "#0d0887"
             ],
             [
              0.1111111111111111,
              "#46039f"
             ],
             [
              0.2222222222222222,
              "#7201a8"
             ],
             [
              0.3333333333333333,
              "#9c179e"
             ],
             [
              0.4444444444444444,
              "#bd3786"
             ],
             [
              0.5555555555555556,
              "#d8576b"
             ],
             [
              0.6666666666666666,
              "#ed7953"
             ],
             [
              0.7777777777777778,
              "#fb9f3a"
             ],
             [
              0.8888888888888888,
              "#fdca26"
             ],
             [
              1,
              "#f0f921"
             ]
            ],
            "type": "heatmap"
           }
          ],
          "heatmapgl": [
           {
            "colorbar": {
             "outlinewidth": 0,
             "ticks": ""
            },
            "colorscale": [
             [
              0,
              "#0d0887"
             ],
             [
              0.1111111111111111,
              "#46039f"
             ],
             [
              0.2222222222222222,
              "#7201a8"
             ],
             [
              0.3333333333333333,
              "#9c179e"
             ],
             [
              0.4444444444444444,
              "#bd3786"
             ],
             [
              0.5555555555555556,
              "#d8576b"
             ],
             [
              0.6666666666666666,
              "#ed7953"
             ],
             [
              0.7777777777777778,
              "#fb9f3a"
             ],
             [
              0.8888888888888888,
              "#fdca26"
             ],
             [
              1,
              "#f0f921"
             ]
            ],
            "type": "heatmapgl"
           }
          ],
          "histogram": [
           {
            "marker": {
             "pattern": {
              "fillmode": "overlay",
              "size": 10,
              "solidity": 0.2
             }
            },
            "type": "histogram"
           }
          ],
          "histogram2d": [
           {
            "colorbar": {
             "outlinewidth": 0,
             "ticks": ""
            },
            "colorscale": [
             [
              0,
              "#0d0887"
             ],
             [
              0.1111111111111111,
              "#46039f"
             ],
             [
              0.2222222222222222,
              "#7201a8"
             ],
             [
              0.3333333333333333,
              "#9c179e"
             ],
             [
              0.4444444444444444,
              "#bd3786"
             ],
             [
              0.5555555555555556,
              "#d8576b"
             ],
             [
              0.6666666666666666,
              "#ed7953"
             ],
             [
              0.7777777777777778,
              "#fb9f3a"
             ],
             [
              0.8888888888888888,
              "#fdca26"
             ],
             [
              1,
              "#f0f921"
             ]
            ],
            "type": "histogram2d"
           }
          ],
          "histogram2dcontour": [
           {
            "colorbar": {
             "outlinewidth": 0,
             "ticks": ""
            },
            "colorscale": [
             [
              0,
              "#0d0887"
             ],
             [
              0.1111111111111111,
              "#46039f"
             ],
             [
              0.2222222222222222,
              "#7201a8"
             ],
             [
              0.3333333333333333,
              "#9c179e"
             ],
             [
              0.4444444444444444,
              "#bd3786"
             ],
             [
              0.5555555555555556,
              "#d8576b"
             ],
             [
              0.6666666666666666,
              "#ed7953"
             ],
             [
              0.7777777777777778,
              "#fb9f3a"
             ],
             [
              0.8888888888888888,
              "#fdca26"
             ],
             [
              1,
              "#f0f921"
             ]
            ],
            "type": "histogram2dcontour"
           }
          ],
          "mesh3d": [
           {
            "colorbar": {
             "outlinewidth": 0,
             "ticks": ""
            },
            "type": "mesh3d"
           }
          ],
          "parcoords": [
           {
            "line": {
             "colorbar": {
              "outlinewidth": 0,
              "ticks": ""
             }
            },
            "type": "parcoords"
           }
          ],
          "pie": [
           {
            "automargin": true,
            "type": "pie"
           }
          ],
          "scatter": [
           {
            "marker": {
             "line": {
              "color": "#283442"
             }
            },
            "type": "scatter"
           }
          ],
          "scatter3d": [
           {
            "line": {
             "colorbar": {
              "outlinewidth": 0,
              "ticks": ""
             }
            },
            "marker": {
             "colorbar": {
              "outlinewidth": 0,
              "ticks": ""
             }
            },
            "type": "scatter3d"
           }
          ],
          "scattercarpet": [
           {
            "marker": {
             "colorbar": {
              "outlinewidth": 0,
              "ticks": ""
             }
            },
            "type": "scattercarpet"
           }
          ],
          "scattergeo": [
           {
            "marker": {
             "colorbar": {
              "outlinewidth": 0,
              "ticks": ""
             }
            },
            "type": "scattergeo"
           }
          ],
          "scattergl": [
           {
            "marker": {
             "line": {
              "color": "#283442"
             }
            },
            "type": "scattergl"
           }
          ],
          "scattermapbox": [
           {
            "marker": {
             "colorbar": {
              "outlinewidth": 0,
              "ticks": ""
             }
            },
            "type": "scattermapbox"
           }
          ],
          "scatterpolar": [
           {
            "marker": {
             "colorbar": {
              "outlinewidth": 0,
              "ticks": ""
             }
            },
            "type": "scatterpolar"
           }
          ],
          "scatterpolargl": [
           {
            "marker": {
             "colorbar": {
              "outlinewidth": 0,
              "ticks": ""
             }
            },
            "type": "scatterpolargl"
           }
          ],
          "scatterternary": [
           {
            "marker": {
             "colorbar": {
              "outlinewidth": 0,
              "ticks": ""
             }
            },
            "type": "scatterternary"
           }
          ],
          "surface": [
           {
            "colorbar": {
             "outlinewidth": 0,
             "ticks": ""
            },
            "colorscale": [
             [
              0,
              "#0d0887"
             ],
             [
              0.1111111111111111,
              "#46039f"
             ],
             [
              0.2222222222222222,
              "#7201a8"
             ],
             [
              0.3333333333333333,
              "#9c179e"
             ],
             [
              0.4444444444444444,
              "#bd3786"
             ],
             [
              0.5555555555555556,
              "#d8576b"
             ],
             [
              0.6666666666666666,
              "#ed7953"
             ],
             [
              0.7777777777777778,
              "#fb9f3a"
             ],
             [
              0.8888888888888888,
              "#fdca26"
             ],
             [
              1,
              "#f0f921"
             ]
            ],
            "type": "surface"
           }
          ],
          "table": [
           {
            "cells": {
             "fill": {
              "color": "#506784"
             },
             "line": {
              "color": "rgb(17,17,17)"
             }
            },
            "header": {
             "fill": {
              "color": "#2a3f5f"
             },
             "line": {
              "color": "rgb(17,17,17)"
             }
            },
            "type": "table"
           }
          ]
         },
         "layout": {
          "annotationdefaults": {
           "arrowcolor": "#f2f5fa",
           "arrowhead": 0,
           "arrowwidth": 1
          },
          "autotypenumbers": "strict",
          "coloraxis": {
           "colorbar": {
            "outlinewidth": 0,
            "ticks": ""
           }
          },
          "colorscale": {
           "diverging": [
            [
             0,
             "#8e0152"
            ],
            [
             0.1,
             "#c51b7d"
            ],
            [
             0.2,
             "#de77ae"
            ],
            [
             0.3,
             "#f1b6da"
            ],
            [
             0.4,
             "#fde0ef"
            ],
            [
             0.5,
             "#f7f7f7"
            ],
            [
             0.6,
             "#e6f5d0"
            ],
            [
             0.7,
             "#b8e186"
            ],
            [
             0.8,
             "#7fbc41"
            ],
            [
             0.9,
             "#4d9221"
            ],
            [
             1,
             "#276419"
            ]
           ],
           "sequential": [
            [
             0,
             "#0d0887"
            ],
            [
             0.1111111111111111,
             "#46039f"
            ],
            [
             0.2222222222222222,
             "#7201a8"
            ],
            [
             0.3333333333333333,
             "#9c179e"
            ],
            [
             0.4444444444444444,
             "#bd3786"
            ],
            [
             0.5555555555555556,
             "#d8576b"
            ],
            [
             0.6666666666666666,
             "#ed7953"
            ],
            [
             0.7777777777777778,
             "#fb9f3a"
            ],
            [
             0.8888888888888888,
             "#fdca26"
            ],
            [
             1,
             "#f0f921"
            ]
           ],
           "sequentialminus": [
            [
             0,
             "#0d0887"
            ],
            [
             0.1111111111111111,
             "#46039f"
            ],
            [
             0.2222222222222222,
             "#7201a8"
            ],
            [
             0.3333333333333333,
             "#9c179e"
            ],
            [
             0.4444444444444444,
             "#bd3786"
            ],
            [
             0.5555555555555556,
             "#d8576b"
            ],
            [
             0.6666666666666666,
             "#ed7953"
            ],
            [
             0.7777777777777778,
             "#fb9f3a"
            ],
            [
             0.8888888888888888,
             "#fdca26"
            ],
            [
             1,
             "#f0f921"
            ]
           ]
          },
          "colorway": [
           "#636efa",
           "#EF553B",
           "#00cc96",
           "#ab63fa",
           "#FFA15A",
           "#19d3f3",
           "#FF6692",
           "#B6E880",
           "#FF97FF",
           "#FECB52"
          ],
          "font": {
           "color": "#f2f5fa"
          },
          "geo": {
           "bgcolor": "rgb(17,17,17)",
           "lakecolor": "rgb(17,17,17)",
           "landcolor": "rgb(17,17,17)",
           "showlakes": true,
           "showland": true,
           "subunitcolor": "#506784"
          },
          "hoverlabel": {
           "align": "left"
          },
          "hovermode": "closest",
          "mapbox": {
           "style": "dark"
          },
          "paper_bgcolor": "rgb(17,17,17)",
          "plot_bgcolor": "rgb(17,17,17)",
          "polar": {
           "angularaxis": {
            "gridcolor": "#506784",
            "linecolor": "#506784",
            "ticks": ""
           },
           "bgcolor": "rgb(17,17,17)",
           "radialaxis": {
            "gridcolor": "#506784",
            "linecolor": "#506784",
            "ticks": ""
           }
          },
          "scene": {
           "xaxis": {
            "backgroundcolor": "rgb(17,17,17)",
            "gridcolor": "#506784",
            "gridwidth": 2,
            "linecolor": "#506784",
            "showbackground": true,
            "ticks": "",
            "zerolinecolor": "#C8D4E3"
           },
           "yaxis": {
            "backgroundcolor": "rgb(17,17,17)",
            "gridcolor": "#506784",
            "gridwidth": 2,
            "linecolor": "#506784",
            "showbackground": true,
            "ticks": "",
            "zerolinecolor": "#C8D4E3"
           },
           "zaxis": {
            "backgroundcolor": "rgb(17,17,17)",
            "gridcolor": "#506784",
            "gridwidth": 2,
            "linecolor": "#506784",
            "showbackground": true,
            "ticks": "",
            "zerolinecolor": "#C8D4E3"
           }
          },
          "shapedefaults": {
           "line": {
            "color": "#f2f5fa"
           }
          },
          "sliderdefaults": {
           "bgcolor": "#C8D4E3",
           "bordercolor": "rgb(17,17,17)",
           "borderwidth": 1,
           "tickwidth": 0
          },
          "ternary": {
           "aaxis": {
            "gridcolor": "#506784",
            "linecolor": "#506784",
            "ticks": ""
           },
           "baxis": {
            "gridcolor": "#506784",
            "linecolor": "#506784",
            "ticks": ""
           },
           "bgcolor": "rgb(17,17,17)",
           "caxis": {
            "gridcolor": "#506784",
            "linecolor": "#506784",
            "ticks": ""
           }
          },
          "title": {
           "x": 0.05
          },
          "updatemenudefaults": {
           "bgcolor": "#506784",
           "borderwidth": 0
          },
          "xaxis": {
           "automargin": true,
           "gridcolor": "#283442",
           "linecolor": "#506784",
           "ticks": "",
           "title": {
            "standoff": 15
           },
           "zerolinecolor": "#283442",
           "zerolinewidth": 2
          },
          "yaxis": {
           "automargin": true,
           "gridcolor": "#283442",
           "linecolor": "#506784",
           "ticks": "",
           "title": {
            "standoff": 15
           },
           "zerolinecolor": "#283442",
           "zerolinewidth": 2
          }
         }
        },
        "title": {
         "text": "Human vs Model emotion trajectories - Two people promise their first born child to two different witches in return for a favour. These two people end up getting married and have a child together."
        },
        "xaxis": {
         "anchor": "y",
         "domain": [
          0,
          0.45
         ]
        },
        "xaxis2": {
         "anchor": "y2",
         "domain": [
          0.55,
          1
         ]
        },
        "yaxis": {
         "anchor": "x",
         "domain": [
          0,
          1
         ],
         "range": [
          0,
          1
         ]
        },
        "yaxis2": {
         "anchor": "x2",
         "domain": [
          0,
          1
         ],
         "range": [
          0,
          1
         ]
        }
       }
      },
      "text/html": [
       "<div>                            <div id=\"fb971879-0a00-47ef-9dbc-2eef27862b86\" class=\"plotly-graph-div\" style=\"height:600px; width:100%;\"></div>            <script type=\"text/javascript\">                require([\"plotly\"], function(Plotly) {                    window.PLOTLYENV=window.PLOTLYENV || {};                                    if (document.getElementById(\"fb971879-0a00-47ef-9dbc-2eef27862b86\")) {                    Plotly.newPlot(                        \"fb971879-0a00-47ef-9dbc-2eef27862b86\",                        [{\"legendgroup\":\"Human\",\"mode\":\"lines+markers\",\"name\":\"Human - anger\",\"visible\":\"legendonly\",\"x\":[1,2,3,4,5,6,7,8,9,10,11,12,13,14,15,16,17,18,19,20,21,22,23,24,25,26,27,28,29,30,31,32,33,34,35,36,37,38,39,40,41,42,43,44,45,46,47,48,49,50],\"y\":[0.375,0.375,0.36483673469387756,0.30724489795918364,0.3546734693877551,0.292,0.3224897959183673,0.33857142857142863,0.29,0.2839387755102041,0.28695918367346934,0.2906530612244898,0.2753061224489796,0.2859183673469387,0.36285714285714266,0.375,0.375,0.3951428571428572,0.36653061224489825,0.3089795918367345,0.37265306122449016,0.3157142857142854,0.3246938775510211,0.2499999999999999,0.2851020408163265,0.2909387755102041,0.32787755102040766,0.31351020408163294,0.292,0.3563673469387755,0.35742857142857154,0.29832653061224534,0.3716122448979589,0.2919591836734694,0.30208163265306126,0.4320000000000003,0.39171428571428585,0.375,0.375,0.342816326530613,0.3292653061224484,0.375,0.3630000000000001,0.3805714285714284,0.3814285714285716,0.375,0.30561224489795985,0.36459183673469353,0.2970816326530616,0.354],\"type\":\"scatter\",\"xaxis\":\"x\",\"yaxis\":\"y\"},{\"legendgroup\":\"Human\",\"mode\":\"lines+markers\",\"name\":\"Human - anticipation\",\"visible\":\"legendonly\",\"x\":[1,2,3,4,5,6,7,8,9,10,11,12,13,14,15,16,17,18,19,20,21,22,23,24,25,26,27,28,29,30,31,32,33,34,35,36,37,38,39,40,41,42,43,44,45,46,47,48,49,50],\"y\":[0.354,0.396,0.39648979591836736,0.399265306122449,0.396,0.36355102040816334,0.328938775510204,0.41057142857142853,0.403061224489796,0.375,0.34132653061224505,0.3711836734693876,0.396,0.396,0.37800000000000006,0.39428571428571424,0.4773061224489794,0.3942857142857143,0.354,0.354,0.354,0.37799999999999967,0.40885714285714325,0.3625714285714285,0.3351020408163266,0.3462448979591836,0.396,0.396,0.4259999999999998,0.438,0.3852857142857147,0.4315714285714281,0.40155102040816343,0.39383673469387803,0.2986530612244898,0.3851428571428577,0.3355102040816322,0.384857142857143,0.36771428571428555,0.4122857142857139,0.42093877551020437,0.4295918367346934,0.42257142857142893,0.3966326530612245,0.41295918367346923,0.40263265306122464,0.39618367346938776,0.4258367346938774,0.3980816326530614,0.34],\"type\":\"scatter\",\"xaxis\":\"x\",\"yaxis\":\"y\"},{\"legendgroup\":\"Human\",\"mode\":\"lines+markers\",\"name\":\"Human - disgust\",\"visible\":\"legendonly\",\"x\":[1,2,3,4,5,6,7,8,9,10,11,12,13,14,15,16,17,18,19,20,21,22,23,24,25,26,27,28,29,30,31,32,33,34,35,36,37,38,39,40,41,42,43,44,45,46,47,48,49,50],\"y\":[0.396,0.396,0.383265306122449,0.3111020408163265,0.370530612244898,0.292,0.31477551020408157,0.3274285714285715,0.292,0.34930612244897946,0.3702857142857144,0.354,0.30844897959183676,0.292,0.3811428571428569,0.396,0.3548571428571429,0.396,0.396,0.396,0.38657142857142873,0.354,0.33248979591836764,0.292,0.32110204081632643,0.32110204081632654,0.3535510204081625,0.3280816326530617,0.3662857142857139,0.36342857142857143,0.3891428571428569,0.396,0.396,0.2919591836734694,0.2986530612244898,0.396,0.396,0.396,0.396,0.38785714285714307,0.3844285714285713,0.396,0.3720000000000002,0.3805714285714284,0.36685714285714316,0.38571428571428545,0.3445714285714291,0.38828571428571407,0.396,0.354],\"type\":\"scatter\",\"xaxis\":\"x\",\"yaxis\":\"y\"},{\"legendgroup\":\"Human\",\"mode\":\"lines+markers\",\"name\":\"Human - fear\",\"visible\":\"legendonly\",\"x\":[1,2,3,4,5,6,7,8,9,10,11,12,13,14,15,16,17,18,19,20,21,22,23,24,25,26,27,28,29,30,31,32,33,34,35,36,37,38,39,40,41,42,43,44,45,46,47,48,49,50],\"y\":[0.375,0.396,0.40616326530612246,0.47146938775510205,0.438,0.4251428571428572,0.4114285714285714,0.46457142857142847,0.449061224489796,0.38442857142857145,0.32295918367346954,0.33310204081632633,0.30844897959183676,0.292,0.45228571428571385,0.3642040816326535,0.6733469387755098,0.3951428571428572,0.3704081632653063,0.3476326530612243,0.40522448979591885,0.3157142857142854,0.375,0.3835714285714285,0.396,0.41828571428571426,0.438,0.3308979591836743,0.28685714285714276,0.3563673469387755,0.39257142857142846,0.47053061224489734,0.43967346938775526,0.39383673469387803,0.30902040816326537,0.5018571428571439,0.37928571428571417,0.396,0.396,0.3471428571428583,0.3638367346938761,0.48971428571428555,0.41657142857142937,0.40714285714285675,0.37971428571428634,0.44838775510203993,0.3941020408163274,0.4846938775510199,0.4417959183673472,0.396],\"type\":\"scatter\",\"xaxis\":\"x\",\"yaxis\":\"y\"},{\"legendgroup\":\"Human\",\"mode\":\"lines+markers\",\"name\":\"Human - joy\",\"visible\":\"legendonly\",\"x\":[1,2,3,4,5,6,7,8,9,10,11,12,13,14,15,16,17,18,19,20,21,22,23,24,25,26,27,28,29,30,31,32,33,34,35,36,37,38,39,40,41,42,43,44,45,46,47,48,49,50],\"y\":[0.292,0.37885714285714284,0.4088571428571429,0.21689795918367344,0.29151020408163264,0.2731632653061225,0.22214285714285717,0.2,0.3126530612244896,0.4344081632653061,0.3994285714285716,0.3891428571428571,0.5164897959183673,0.46289795918367393,0.2940000000000005,0.4242857142857137,0.25383673469387785,0.20714285714285718,0.375,0.35214285714285737,0.2711428571428566,0.39000000000000007,0.375,0.375,0.3351020408163266,0.3462448979591836,0.29775510204081757,0.24306122448979584,0.47285714285714164,0.4006938775510206,0.30212244897959223,0.38538775510204004,0.32310204081632676,0.3955714285714287,0.3767142857142857,0.3680000000000013,0.20612244897959164,0.2628979591836731,0.36085714285714277,0.4079591836734686,0.3567346938775526,0.21469387755102065,0.2514285714285709,0.330489795918367,0.38314285714285684,0.24800000000000136,0.3257142857142845,0.24518367346938827,0.34640816326530555,0.396],\"type\":\"scatter\",\"xaxis\":\"x\",\"yaxis\":\"y\"},{\"legendgroup\":\"Human\",\"mode\":\"lines+markers\",\"name\":\"Human - sadness\",\"visible\":\"legendonly\",\"x\":[1,2,3,4,5,6,7,8,9,10,11,12,13,14,15,16,17,18,19,20,21,22,23,24,25,26,27,28,29,30,31,32,33,34,35,36,37,38,39,40,41,42,43,44,45,46,47,48,49,50],\"y\":[0.375,0.396,0.40114285714285713,0.438,0.438,0.438,0.4607755102040816,0.491,0.428061224489796,0.375,0.3241836734693879,0.3620408163265304,0.31959183673469393,0.3580612244897956,0.35700000000000004,0.39257142857142846,0.396,0.3942857142857143,0.354,0.36771428571428555,0.41914285714285743,0.3659999999999998,0.396,0.3874285714285715,0.36514285714285716,0.3762857142857143,0.42085714285714254,0.3426530612244905,0.292,0.3563673469387755,0.375,0.375,0.3951428571428571,0.2932653061224487,0.3608571428571429,0.438,0.4294285714285717,0.3904285714285715,0.3818571428571428,0.38785714285714307,0.3844285714285713,0.3745714285714289,0.3659999999999999,0.4148571428571426,0.37971428571428634,0.38646938775510176,0.43046938775510174,0.438,0.35914285714285754,0.396],\"type\":\"scatter\",\"xaxis\":\"x\",\"yaxis\":\"y\"},{\"legendgroup\":\"Human\",\"mode\":\"lines+markers\",\"name\":\"Human - surprise\",\"visible\":\"legendonly\",\"x\":[1,2,3,4,5,6,7,8,9,10,11,12,13,14,15,16,17,18,19,20,21,22,23,24,25,26,27,28,29,30,31,32,33,34,35,36,37,38,39,40,41,42,43,44,45,46,47,48,49,50],\"y\":[0.396,0.43689795918367347,0.4144897959183673,0.38657142857142857,0.42771428571428577,0.396,0.3882857142857143,0.4019999999999999,0.438,0.44902040816326527,0.44575510204081636,0.438,0.4071428571428572,0.3625714285714287,0.4611428571428568,0.4027755102040819,0.5762448979591833,0.479,0.4705306122448982,0.4028571428571428,0.41914285714285743,0.37799999999999967,0.45222448979591817,0.47124489795918373,0.44967346938775515,0.438,0.4131428571428575,0.396,0.4259999999999998,0.4697959183673469,0.46310204081632667,0.49591836734693845,0.4798571428571429,0.37457142857142867,0.3608571428571429,0.4320000000000003,0.4045714285714283,0.438,0.45138775510204066,0.4631020408163269,0.45640816326530587,0.45808163265306157,0.438,0.41142857142857164,0.4251428571428568,0.4689591836734691,0.41124489795918434,0.4688367346938772,0.44051020408163283,0.396],\"type\":\"scatter\",\"xaxis\":\"x\",\"yaxis\":\"y\"},{\"legendgroup\":\"Human\",\"mode\":\"lines+markers\",\"name\":\"Human - trust\",\"visible\":\"legendonly\",\"x\":[1,2,3,4,5,6,7,8,9,10,11,12,13,14,15,16,17,18,19,20,21,22,23,24,25,26,27,28,29,30,31,32,33,34,35,36,37,38,39,40,41,42,43,44,45,46,47,48,49,50],\"y\":[0.396,0.3985714285714286,0.4328571428571429,0.396,0.40628571428571425,0.39269387755102053,0.29,0.3354285714285713,0.396,0.396,0.3831428571428572,0.41742857142857126,0.4835510204081632,0.41722448979591875,0.3600000000000001,0.39257142857142846,0.2921632653061226,0.396,0.40028571428571413,0.42428571428571443,0.37734693877550984,0.45228571428571435,0.42342857142857165,0.396,0.3462448979591838,0.3239591836734693,0.37885714285714256,0.36857142857142877,0.4782857142857136,0.45200000000000007,0.36640816326530656,0.42942857142857077,0.438,0.43714285714285733,0.39942857142857147,0.4171428571428581,0.30893877551020354,0.3694285714285715,0.36771428571428555,0.4122857142857139,0.40971428571428614,0.36428571428571443,0.3779999999999998,0.4225714285714284,0.4088571428571432,0.396,0.43028571428571394,0.316897959183674,0.3704081632653058,0.396],\"type\":\"scatter\",\"xaxis\":\"x\",\"yaxis\":\"y\"},{\"legendgroup\":\"Llama-7b\",\"mode\":\"lines+markers\",\"name\":\"Llama-7b - anger\",\"visible\":\"legendonly\",\"x\":[1,2,3,4,5,6,7,8,9,10,11,12,13,14,15,16,17,18,19,20,21,22,23,24,25,26,27,28,29,30,31,32,33,34,35,36,37,38,39,40,41,42,43,44,45,46,47,48,49,50],\"y\":[0.292,0.38326530612244897,0.396,0.3302040816326531,0.29097959183673466,0.29,0.31255102040816324,0.36314285714285716,0.2915510204081633,0.2722448979591837,0.3514285714285714,0.29336734693877564,0.327469387755102,0.396,0.39,0.3852857142857142,0.4362857142857144,0.39942857142857147,0.396,0.42428571428571427,0.40328571428571436,0.30000000000000004,0.22816326530612221,0.292,0.292,0.292,0.24138775510204094,0.2730204081632652,0.3514285714285712,0.37714285714285717,0.31351020408163305,0.23836734693877537,0.2794897959183669,0.3707551020408163,0.42771428571428566,0.3180000000000005,0.33214285714285696,0.3848571428571428,0.396,0.396,0.39385714285714296,0.37542857142857144,0.375,0.4212857142857142,0.3486122448979597,0.33265306122448957,0.375,0.375,0.375,0.375],\"type\":\"scatter\",\"xaxis\":\"x2\",\"yaxis\":\"y2\"},{\"legendgroup\":\"Llama-7b\",\"mode\":\"lines+markers\",\"name\":\"Llama-7b - anticipation\",\"visible\":\"legendonly\",\"x\":[1,2,3,4,5,6,7,8,9,10,11,12,13,14,15,16,17,18,19,20,21,22,23,24,25,26,27,28,29,30,31,32,33,34,35,36,37,38,39,40,41,42,43,44,45,46,47,48,49,50],\"y\":[0.32,0.45953061224489794,0.4163265306122449,0.396,0.3419183673469388,0.3148163265306122,0.36514285714285716,0.3951428571428572,0.38926530612244903,0.3576734693877551,0.35244897959183674,0.2984489795918368,0.3368571428571428,0.396,0.39,0.3784285714285714,0.396,0.396,0.3625714285714286,0.3822857142857143,0.414734693877551,0.3708571428571429,0.33669387755102004,0.4200000000000001,0.34600000000000003,0.43199999999999994,0.47146938775510194,0.4241836734693879,0.3782857142857144,0.3961224489795918,0.39946938775510243,0.33551020408163235,0.39608163265306123,0.3969591836734694,0.4313061224489796,0.3930000000000002,0.41228571428571414,0.438,0.4522244897959183,0.4509387755102045,0.3582857142857141,0.39514285714285713,0.39942857142857147,0.47346938775510194,0.4369387755102045,0.41708163265306114,0.438,0.4277142857142858,0.4011428571428572,0.438],\"type\":\"scatter\",\"xaxis\":\"x2\",\"yaxis\":\"y2\"},{\"legendgroup\":\"Llama-7b\",\"mode\":\"lines+markers\",\"name\":\"Llama-7b - disgust\",\"visible\":\"legendonly\",\"x\":[1,2,3,4,5,6,7,8,9,10,11,12,13,14,15,16,17,18,19,20,21,22,23,24,25,26,27,28,29,30,31,32,33,34,35,36,37,38,39,40,41,42,43,44,45,46,47,48,49,50],\"y\":[0.292,0.38326530612244897,0.36428571428571427,0.3147755102040816,0.2603673469387755,0.2540408163265306,0.330734693877551,0.42600000000000005,0.35228571428571437,0.27857142857142864,0.36771428571428566,0.287591836734694,0.31808163265306116,0.396,0.396,0.4028571428571428,0.438,0.438,0.3711428571428572,0.4105714285714286,0.4148571428571429,0.3265714285714286,0.2603265306122447,0.3148571428571429,0.29212244897959183,0.29387755102040813,0.24175510204081643,0.2730204081632652,0.3274285714285713,0.37285714285714283,0.3483265306122454,0.23979591836734712,0.21942857142857047,0.42828571428571416,0.4028571428571429,0.321714285714286,0.292,0.340816326530612,0.396,0.396,0.396,0.396,0.396,0.396,0.33355102040816365,0.3439591836734691,0.396,0.396,0.3835102040816326,0.294],\"type\":\"scatter\",\"xaxis\":\"x2\",\"yaxis\":\"y2\"},{\"legendgroup\":\"Llama-7b\",\"mode\":\"lines+markers\",\"name\":\"Llama-7b - fear\",\"visible\":\"legendonly\",\"x\":[1,2,3,4,5,6,7,8,9,10,11,12,13,14,15,16,17,18,19,20,21,22,23,24,25,26,27,28,29,30,31,32,33,34,35,36,37,38,39,40,41,42,43,44,45,46,47,48,49,50],\"y\":[0.292,0.42012244897959183,0.4070408163265306,0.3963673469387755,0.3419183673469388,0.3311020408163265,0.4180204081632653,0.4662857142857143,0.3879591836734695,0.3002040816326531,0.372204081632653,0.3006530612244899,0.37151020408163254,0.44512244897959197,0.408,0.4311428571428572,0.396,0.396,0.37928571428571434,0.45918367346938777,0.5330612244897959,0.4451428571428573,0.3174081632653059,0.3597551020408164,0.29836734693877554,0.38963265306122447,0.30946938775510224,0.3635510204081631,0.3720000000000001,0.354,0.32657142857142885,0.27448979591836725,0.30391836734693817,0.4320408163265306,0.4723061224489795,0.3440000000000005,0.41428571428571387,0.5586734693877548,0.5816326530612247,0.45959183673469456,0.3169387755102042,0.29061224489795917,0.3817142857142857,0.5314489795918365,0.4208163265306132,0.3978775510204078,0.479,0.46895918367346945,0.42771428571428566,0.354],\"type\":\"scatter\",\"xaxis\":\"x2\",\"yaxis\":\"y2\"},{\"legendgroup\":\"Llama-7b\",\"mode\":\"lines+markers\",\"name\":\"Llama-7b - joy\",\"visible\":\"legendonly\",\"x\":[1,2,3,4,5,6,7,8,9,10,11,12,13,14,15,16,17,18,19,20,21,22,23,24,25,26,27,28,29,30,31,32,33,34,35,36,37,38,39,40,41,42,43,44,45,46,47,48,49,50],\"y\":[0.438,0.402,0.426,0.41400000000000003,0.387,0.32500000000000007,0.21285714285714288,0.29,0.5385714285714285,0.4485714285714286,0.5982857142857141,0.5142857142857147,0.22000000000000006,0.26,0.2,0.2771428571428569,0.22571428571428576,0.2171428571428572,0.21714285714285717,0.2,0.2128571428571427,0.29,0.43571428571428567,0.4142857142857143,0.4325714285714286,0.4505714285714285,0.426,0.396,0.396,0.4508571428571429,0.4885714285714284,0.6028571428571425,0.5128571428571429,0.27285714285714285,0.25971428571428584,0.438,0.384,0.27142857142857146,0.2642857142857143,0.3114285714285712,0.3559999999999998,0.3808571428571429,0.29,0.21285714285714286,0.33999999999999975,0.3354285714285714,0.29,0.3202857142857143,0.402,0.438],\"type\":\"scatter\",\"xaxis\":\"x2\",\"yaxis\":\"y2\"},{\"legendgroup\":\"Llama-7b\",\"mode\":\"lines+markers\",\"name\":\"Llama-7b - sadness\",\"visible\":\"legendonly\",\"x\":[1,2,3,4,5,6,7,8,9,10,11,12,13,14,15,16,17,18,19,20,21,22,23,24,25,26,27,28,29,30,31,32,33,34,35,36,37,38,39,40,41,42,43,44,45,46,47,48,49,50],\"y\":[0.292,0.38326530612244897,0.396,0.38271428571428573,0.3316326530612245,0.34738775510204073,0.4268571428571429,0.396,0.3938775510204083,0.30261224489795924,0.3563673469387755,0.29336734693877564,0.3497551020408163,0.438,0.438,0.4311428571428572,0.39771428571428563,0.43457142857142855,0.438,0.5201632653061226,0.5269387755102042,0.44642857142857145,0.3581632653061226,0.33395918367346933,0.396,0.396,0.3111020408163267,0.3641632653061223,0.396,0.396,0.36204081632653096,0.2977142857142856,0.329632653061224,0.4331836734693877,0.4723061224489795,0.41971428571428593,0.396,0.444816326530612,0.4927142857142857,0.437020408163266,0.3026122448979588,0.39387755102040817,0.432,0.48355102040816317,0.37265306122449054,0.3429387755102038,0.38828571428571435,0.375,0.3775714285714286,0.396],\"type\":\"scatter\",\"xaxis\":\"x2\",\"yaxis\":\"y2\"},{\"legendgroup\":\"Llama-7b\",\"mode\":\"lines+markers\",\"name\":\"Llama-7b - surprise\",\"visible\":\"legendonly\",\"x\":[1,2,3,4,5,6,7,8,9,10,11,12,13,14,15,16,17,18,19,20,21,22,23,24,25,26,27,28,29,30,31,32,33,34,35,36,37,38,39,40,41,42,43,44,45,46,47,48,49,50],\"y\":[0.396,0.46883673469387754,0.4163265306122449,0.396,0.34293877551020413,0.3241836734693877,0.3970204081632653,0.4491428571428572,0.39685714285714285,0.43371428571428566,0.4697959183673469,0.42479591836734704,0.4511836734693877,0.4836734693877552,0.4654285714285714,0.4723061224489796,0.438,0.438,0.438,0.438,0.438,0.37542857142857144,0.3238367346938773,0.396,0.3985714285714286,0.43542857142857144,0.34167346938775534,0.401877551020408,0.4140000000000001,0.41485714285714287,0.3896734693877556,0.29,0.3020816326530606,0.4319591836734693,0.438,0.3930000000000002,0.3874285714285714,0.4157142857142856,0.438,0.4285714285714287,0.39640816326530615,0.3999183673469388,0.43257142857142855,0.3917142857142858,0.3903061224489795,0.43869387755102024,0.479,0.479,0.47397959183673466,0.438],\"type\":\"scatter\",\"xaxis\":\"x2\",\"yaxis\":\"y2\"},{\"legendgroup\":\"Llama-7b\",\"mode\":\"lines+markers\",\"name\":\"Llama-7b - trust\",\"visible\":\"legendonly\",\"x\":[1,2,3,4,5,6,7,8,9,10,11,12,13,14,15,16,17,18,19,20,21,22,23,24,25,26,27,28,29,30,31,32,33,34,35,36,37,38,39,40,41,42,43,44,45,46,47,48,49,50],\"y\":[0.438,0.438,0.48481632653061224,0.43420408163265306,0.396,0.3548979591836735,0.3181224489795918,0.396,0.39853061224489783,0.5073469387755102,0.4238367346938776,0.4639183673469387,0.3885714285714287,0.32469387755102025,0.375,0.3715714285714286,0.35138775510204096,0.29522448979591837,0.34093877551020396,0.31089795918367347,0.3252653061224489,0.34800000000000003,0.3889795918367343,0.48089795918367356,0.40236734693877557,0.49363265306122445,0.5,0.4569795918367348,0.438,0.46583673469387754,0.5408163265306118,0.6443877551020405,0.6935510204081645,0.4092244897959185,0.396,0.5559999999999994,0.6318367346938775,0.5057551020408171,0.39077551020408147,0.44563265306122474,0.40661224489795883,0.49787755102040815,0.4108571428571429,0.3805714285714286,0.41357142857142837,0.41742857142857154,0.396,0.396,0.4011428571428572,0.438],\"type\":\"scatter\",\"xaxis\":\"x2\",\"yaxis\":\"y2\"},{\"legendgroup\":\"Mistral-7b\",\"mode\":\"lines+markers\",\"name\":\"Mistral-7b - anger\",\"visible\":\"legendonly\",\"x\":[1,2,3,4,5,6,7,8,9,10,11,12,13,14,15,16,17,18,19,20,21,22,23,24,25,26,27,28,29,30,31,32,33,34,35,36,37,38,39,40,41,42,43,44,45,46,47,48,49,50],\"y\":[0.29,0.33683673469387754,0.36020408163265305,0.28030612244897957,0.2595918367346939,0.3394897959183673,0.375,0.375,0.375,0.375,0.3326530612244898,0.29708163265306115,0.3428163265306122,0.3614489795918368,0.3157142857142857,0.3140204081632652,0.3597551020408163,0.375,0.375,0.3360408163265306,0.292,0.292,0.28440816326530616,0.2502448979591837,0.24346938775510207,0.276530612244898,0.31089795918367336,0.3461632653061223,0.363,0.37457142857142856,0.3638571428571429,0.348938775510204,0.3147755102040816,0.2916326530612245,0.29053061224489796,0.29057142857142854,0.29167346938775507,0.292,0.292,0.2640816326530613,0.23642857142857138,0.25571428571428567,0.27314285714285713,0.285265306122449,0.26946938775510215,0.21877551020408162,0.22463265306122454,0.26375510204081637,0.27953061224489795,0.29],\"type\":\"scatter\",\"xaxis\":\"x2\",\"yaxis\":\"y2\"},{\"legendgroup\":\"Mistral-7b\",\"mode\":\"lines+markers\",\"name\":\"Mistral-7b - anticipation\",\"visible\":\"legendonly\",\"x\":[1,2,3,4,5,6,7,8,9,10,11,12,13,14,15,16,17,18,19,20,21,22,23,24,25,26,27,28,29,30,31,32,33,34,35,36,37,38,39,40,41,42,43,44,45,46,47,48,49,50],\"y\":[0.292,0.3493061224489796,0.3902857142857143,0.35942857142857143,0.34714285714285714,0.36642857142857144,0.38265306122448983,0.39642857142857146,0.3983673469387755,0.39616326530612245,0.396,0.396,0.396,0.396,0.396,0.39042857142857146,0.3788571428571429,0.3981428571428572,0.43285714285714283,0.41828571428571426,0.3948571428571429,0.364,0.3375510204081633,0.326530612244898,0.337061224489796,0.37893877551020416,0.4231020408163264,0.4688367346938774,0.44514285714285723,0.40161224489795916,0.4201632653061224,0.43457142857142855,0.4114285714285714,0.3921428571428572,0.38057142857142856,0.39299999999999985,0.42771428571428566,0.4217142857142857,0.3985714285714285,0.31469387755102063,0.23497959183673453,0.3022040816326529,0.3431428571428572,0.3089795918367347,0.29734693877551016,0.31387755102040815,0.32,0.32,0.3541224489795919,0.396],\"type\":\"scatter\",\"xaxis\":\"x2\",\"yaxis\":\"y2\"},{\"legendgroup\":\"Mistral-7b\",\"mode\":\"lines+markers\",\"name\":\"Mistral-7b - disgust\",\"visible\":\"legendonly\",\"x\":[1,2,3,4,5,6,7,8,9,10,11,12,13,14,15,16,17,18,19,20,21,22,23,24,25,26,27,28,29,30,31,32,33,34,35,36,37,38,39,40,41,42,43,44,45,46,47,48,49,50],\"y\":[0.29,0.3484081632653061,0.376,0.268,0.23142857142857143,0.3162857142857143,0.392265306122449,0.46114285714285713,0.44512244897959186,0.39938775510204083,0.3419183673469388,0.29648979591836727,0.3548979591836735,0.396,0.396,0.396,0.396,0.396,0.396,0.3471836734693877,0.292,0.292,0.292,0.292,0.2915510204081632,0.2904489795918367,0.324612244897959,0.3830204081632651,0.396,0.396,0.396,0.3875102040816326,0.330204081632653,0.29714285714285715,0.31257142857142856,0.3357142857142856,0.36602040816326525,0.3428163265306122,0.29708163265306103,0.2645714285714286,0.234530612244898,0.21469387755102046,0.21285714285714274,0.2624489795918367,0.2679591836734695,0.21836734693877552,0.21734693877551023,0.2448979591836735,0.22755102040816327,0.2],\"type\":\"scatter\",\"xaxis\":\"x2\",\"yaxis\":\"y2\"},{\"legendgroup\":\"Mistral-7b\",\"mode\":\"lines+markers\",\"name\":\"Mistral-7b - fear\",\"visible\":\"legendonly\",\"x\":[1,2,3,4,5,6,7,8,9,10,11,12,13,14,15,16,17,18,19,20,21,22,23,24,25,26,27,28,29,30,31,32,33,34,35,36,37,38,39,40,41,42,43,44,45,46,47,48,49,50],\"y\":[0.396,0.396,0.38518367346938776,0.32677551020408163,0.320204081632653,0.4017551020408163,0.47534693877551026,0.5425714285714286,0.5355102040816327,0.5024489795918368,0.4683673469387755,0.438,0.438,0.43114285714285716,0.40800000000000003,0.40714285714285714,0.43028571428571427,0.4530612244897959,0.47565306122448975,0.40436734693877546,0.3206938775510204,0.3394285714285714,0.34616326530612246,0.31089795918367347,0.29,0.29,0.35171428571428537,0.45585714285714246,0.46142857142857147,0.4388367346938775,0.4708979591836734,0.4853061224489795,0.3861224489795918,0.33010204081632655,0.3604081632653061,0.4047142857142854,0.4620204081632652,0.4173469387755101,0.3297346938775507,0.2857142857142858,0.2528571428571428,0.2914285714285713,0.31285714285714294,0.28530612244897957,0.26510204081632655,0.2540816326530612,0.2572857142857143,0.2688571428571429,0.27953061224489795,0.29],\"type\":\"scatter\",\"xaxis\":\"x2\",\"yaxis\":\"y2\"},{\"legendgroup\":\"Mistral-7b\",\"mode\":\"lines+markers\",\"name\":\"Mistral-7b - joy\",\"visible\":\"legendonly\",\"x\":[1,2,3,4,5,6,7,8,9,10,11,12,13,14,15,16,17,18,19,20,21,22,23,24,25,26,27,28,29,30,31,32,33,34,35,36,37,38,39,40,41,42,43,44,45,46,47,48,49,50],\"y\":[0.29,0.32526530612244897,0.35787755102040814,0.37881632653061226,0.37118367346938774,0.3149795918367347,0.29,0.29,0.25326530612244896,0.20367346938775513,0.2,0.20734693877551016,0.2734693877551021,0.34938775510204073,0.4485714285714286,0.44428571428571445,0.3285714285714286,0.29,0.29,0.3885714285714286,0.49571428571428583,0.38,0.3081224489795917,0.38967346938775504,0.4519183673469388,0.4860816326530613,0.4660408163265308,0.40873469387755124,0.35057142857142864,0.29216326530612236,0.24224489795918375,0.22122448979591847,0.3644897959183674,0.4482448979591837,0.4129795918367347,0.396,0.396,0.44795918367346943,0.5217959183673472,0.5446938775510204,0.5587755102040817,0.5422448979591837,0.5257142857142858,0.5091836734693878,0.5,0.5,0.4784897959183673,0.44432653061224486,0.47930612244897963,0.53],\"type\":\"scatter\",\"xaxis\":\"x2\",\"yaxis\":\"y2\"},{\"legendgroup\":\"Mistral-7b\",\"mode\":\"lines+markers\",\"name\":\"Mistral-7b - sadness\",\"visible\":\"legendonly\",\"x\":[1,2,3,4,5,6,7,8,9,10,11,12,13,14,15,16,17,18,19,20,21,22,23,24,25,26,27,28,29,30,31,32,33,34,35,36,37,38,39,40,41,42,43,44,45,46,47,48,49,50],\"y\":[0.29,0.37155102040816324,0.42289795918367346,0.3413469387755102,0.3030612244897959,0.3383265306122449,0.3797142857142857,0.426,0.438,0.438,0.438,0.43542857142857144,0.4122857142857143,0.38359183673469394,0.34171428571428575,0.3401632653061224,0.38204081632653064,0.39746938775510204,0.3996734693877551,0.3493061224489796,0.2941224489795918,0.3514285714285714,0.3832653061224491,0.32595918367346943,0.3106326530612245,0.3563673469387756,0.39557142857142846,0.43028571428571416,0.42171428571428576,0.40077551020408164,0.39787755102040817,0.38979591836734695,0.34791836734693876,0.33010204081632655,0.3604081632653061,0.38099999999999995,0.39257142857142857,0.35567346938775507,0.2983673469387753,0.2640816326530613,0.23732653061224482,0.2687346938775509,0.292,0.292,0.29151020408163264,0.2904081632653061,0.2906938775510204,0.2917959183673469,0.2911020408163265,0.29],\"type\":\"scatter\",\"xaxis\":\"x2\",\"yaxis\":\"y2\"},{\"legendgroup\":\"Mistral-7b\",\"mode\":\"lines+markers\",\"name\":\"Mistral-7b - surprise\",\"visible\":\"legendonly\",\"x\":[1,2,3,4,5,6,7,8,9,10,11,12,13,14,15,16,17,18,19,20,21,22,23,24,25,26,27,28,29,30,31,32,33,34,35,36,37,38,39,40,41,42,43,44,45,46,47,48,49,50],\"y\":[0.396,0.396,0.396,0.396,0.4045714285714286,0.4277142857142857,0.46310204081632655,0.5082857142857143,0.48653061224489796,0.44134693877551023,0.40585714285714286,0.3762857142857143,0.3878571428571429,0.4095510204081632,0.4552857142857143,0.479,0.479,0.46393877551020407,0.44134693877551023,0.46710204081632656,0.5,0.5,0.4951020408163266,0.47306122448979593,0.44091836734693873,0.3940816326530611,0.39557142857142846,0.43028571428571416,0.4474285714285714,0.4595510204081633,0.42816326530612253,0.4064489795918368,0.4499795918367347,0.47514285714285714,0.4635714285714286,0.44028571428571445,0.40612244897959193,0.4208163265306123,0.45608163265306134,0.3767346938775512,0.29432653061224473,0.35273469387755085,0.38514285714285723,0.343265306122449,0.333469387755102,0.3637755102040816,0.375,0.375,0.36557142857142855,0.354],\"type\":\"scatter\",\"xaxis\":\"x2\",\"yaxis\":\"y2\"},{\"legendgroup\":\"Mistral-7b\",\"mode\":\"lines+markers\",\"name\":\"Mistral-7b - trust\",\"visible\":\"legendonly\",\"x\":[1,2,3,4,5,6,7,8,9,10,11,12,13,14,15,16,17,18,19,20,21,22,23,24,25,26,27,28,29,30,31,32,33,34,35,36,37,38,39,40,41,42,43,44,45,46,47,48,49,50],\"y\":[0.396,0.41914285714285715,0.438,0.438,0.42942857142857144,0.4062857142857143,0.40885714285714286,0.432,0.3775918367346939,0.2960408163265306,0.3440816326530612,0.39471428571428574,0.3831428571428571,0.38528571428571423,0.42,0.41571428571428576,0.36942857142857144,0.37089795918367346,0.39624489795918366,0.4469387755102041,0.4978775510204082,0.44057142857142856,0.40114285714285713,0.42428571428571427,0.4519183673469388,0.4860816326530613,0.5,0.5,0.4734285714285715,0.43926530612244896,0.41571428571428576,0.4012244897959184,0.4364897959183674,0.4559591836734694,0.4438367346938776,0.45571428571428557,0.4898775510204081,0.523265306122449,0.556326530612245,0.5306122448979593,0.50734693877551,0.6065306122448977,0.6542857142857146,0.5551020408163265,0.5,0.5,0.4784897959183673,0.44432653061224486,0.46583673469387754,0.5],\"type\":\"scatter\",\"xaxis\":\"x2\",\"yaxis\":\"y2\"},{\"legendgroup\":\"Beluga-13b\",\"mode\":\"lines+markers\",\"name\":\"Beluga-13b - anger\",\"visible\":\"legendonly\",\"x\":[1,2,3,4,5,6,7,8,9,10,11,12,13,14,15,16,17,18,19,20,21,22,23,24,25,26,27,28,29,30,31,32,33,34,35,36,37,38,39,40,41,42,43,44,45,46,47,48,49,50],\"y\":[0.29,0.2909387755102041,0.29187755102040813,0.292,0.292,0.2843673469387755,0.2740408163265306,0.3,0.34928571428571425,0.375,0.375,0.375,0.375,0.35714285714285726,0.2750000000000001,0.2037551020408162,0.24693877551020402,0.29012244897959183,0.3198367346938775,0.3489387755102041,0.3702857142857143,0.39,0.396,0.396,0.39042857142857146,0.38057142857142856,0.375,0.375,0.375,0.375,0.375,0.375,0.375,0.375,0.375,0.3300000000000002,0.2807142857142858,0.2703673469387755,0.2708367346938776,0.3028367346938774,0.3516530612244896,0.35467346938775524,0.3157142857142858,0.28061224489795916,0.25151020408163277,0.23734693877551014,0.26551020408163256,0.286326530612245,0.2581632653061225,0.23],\"type\":\"scatter\",\"xaxis\":\"x2\",\"yaxis\":\"y2\"},{\"legendgroup\":\"Beluga-13b\",\"mode\":\"lines+markers\",\"name\":\"Beluga-13b - anticipation\",\"visible\":\"legendonly\",\"x\":[1,2,3,4,5,6,7,8,9,10,11,12,13,14,15,16,17,18,19,20,21,22,23,24,25,26,27,28,29,30,31,32,33,34,35,36,37,38,39,40,41,42,43,44,45,46,47,48,49,50],\"y\":[0.36,0.3787755102040816,0.39755102040816326,0.3812244897959184,0.3596326530612245,0.36857142857142855,0.3882857142857143,0.396,0.396,0.396,0.396,0.40285714285714286,0.4225714285714286,0.42289795918367357,0.3534285714285715,0.2912244897959183,0.3053061224489796,0.3193877551020408,0.35412244897959183,0.389795918367347,0.396,0.396,0.396,0.396,0.40714285714285714,0.4268571428571429,0.4294285714285715,0.40971428571428575,0.396,0.396,0.3994285714285713,0.41914285714285704,0.4384081632653061,0.44779591836734695,0.45718367346938776,0.43142857142857155,0.40232653061224494,0.396,0.396,0.396,0.396,0.3908571428571429,0.381,0.36489795918367346,0.3390816326530613,0.3293061224489795,0.3649795918367346,0.39134693877551036,0.3556734693877552,0.32],\"type\":\"scatter\",\"xaxis\":\"x2\",\"yaxis\":\"y2\"},{\"legendgroup\":\"Beluga-13b\",\"mode\":\"lines+markers\",\"name\":\"Beluga-13b - disgust\",\"visible\":\"legendonly\",\"x\":[1,2,3,4,5,6,7,8,9,10,11,12,13,14,15,16,17,18,19,20,21,22,23,24,25,26,27,28,29,30,31,32,33,34,35,36,37,38,39,40,41,42,43,44,45,46,47,48,49,50],\"y\":[0.375,0.3360408163265306,0.2970816326530612,0.3344489795918367,0.38326530612244897,0.35991836734693883,0.31110204081632653,0.3337142857142857,0.4022448979591836,0.438,0.438,0.4141632653061225,0.3456326530612245,0.2826122448979592,0.2394285714285715,0.2037551020408162,0.24693877551020402,0.29012244897959183,0.3386938775510204,0.3875102040816327,0.396,0.396,0.396,0.396,0.35195918367346946,0.27404081632653055,0.26387755102040794,0.3417959183673469,0.396,0.396,0.38979591836734717,0.354122448979592,0.32069387755102036,0.3366530612244898,0.35261224489795917,0.3274285714285715,0.2983265306122449,0.292,0.292,0.3238367346938774,0.3726530612244896,0.37053061224489814,0.3217142857142858,0.28061224489795916,0.25151020408163277,0.25032653061224475,0.32824489795918343,0.38583673469387786,0.30791836734693895,0.23],\"type\":\"scatter\",\"xaxis\":\"x2\",\"yaxis\":\"y2\"},{\"legendgroup\":\"Beluga-13b\",\"mode\":\"lines+markers\",\"name\":\"Beluga-13b - fear\",\"visible\":\"legendonly\",\"x\":[1,2,3,4,5,6,7,8,9,10,11,12,13,14,15,16,17,18,19,20,21,22,23,24,25,26,27,28,29,30,31,32,33,34,35,36,37,38,39,40,41,42,43,44,45,46,47,48,49,50],\"y\":[0.438,0.4084285714285714,0.37885714285714284,0.38357142857142856,0.39342857142857146,0.38871428571428573,0.37885714285714284,0.4047142857142857,0.45353061224489793,0.4697959183673469,0.45055102040816325,0.4481224489795918,0.47722448979591836,0.4787755102040818,0.3811428571428572,0.292,0.292,0.292,0.3292653061224489,0.3682244897959184,0.3994285714285714,0.429,0.438,0.438,0.4544489795918367,0.4835510204081633,0.5367346938775508,0.6212244897959183,0.6394285714285715,0.5061224489795919,0.396,0.396,0.3976938775510203,0.43665306122448977,0.47561224489795917,0.38942857142857173,0.29132653061224506,0.2773469387755102,0.286734693877551,0.32244897959183655,0.3722040816326529,0.3700408163265308,0.32028571428571434,0.29,0.29,0.3081224489795917,0.37759183673469365,0.4289387755102043,0.3594693877551022,0.29],\"type\":\"scatter\",\"xaxis\":\"x2\",\"yaxis\":\"y2\"},{\"legendgroup\":\"Beluga-13b\",\"mode\":\"lines+markers\",\"name\":\"Beluga-13b - joy\",\"visible\":\"legendonly\",\"x\":[1,2,3,4,5,6,7,8,9,10,11,12,13,14,15,16,17,18,19,20,21,22,23,24,25,26,27,28,29,30,31,32,33,34,35,36,37,38,39,40,41,42,43,44,45,46,47,48,49,50],\"y\":[0.29,0.28061224489795916,0.2712244897959184,0.32142857142857145,0.38057142857142856,0.4105714285714286,0.43028571428571427,0.39571428571428574,0.3262448979591837,0.27653061224489794,0.24836734693877555,0.23979591836734693,0.2679591836734694,0.3195918367346936,0.4557142857142855,0.5881632653061221,0.6820408163265305,0.7759183673469389,0.5600000000000002,0.32999999999999974,0.26673469387755105,0.2385714285714286,0.2704897959183672,0.3286938775510203,0.3370204081632653,0.3069795918367346,0.2716326530612246,0.22938775510204085,0.228,0.31999999999999995,0.3994285714285713,0.41914285714285704,0.4349795918367349,0.3655102040816327,0.29604081632653056,0.3628571428571426,0.4426530612244897,0.47469387755102044,0.4934693877551021,0.4810204081632654,0.4519183673469389,0.467877551020408,0.5251428571428571,0.5489795918367347,0.5208163265306124,0.4924081632653062,0.4633061224489797,0.438,0.438,0.438],\"type\":\"scatter\",\"xaxis\":\"x2\",\"yaxis\":\"y2\"},{\"legendgroup\":\"Beluga-13b\",\"mode\":\"lines+markers\",\"name\":\"Beluga-13b - sadness\",\"visible\":\"legendonly\",\"x\":[1,2,3,4,5,6,7,8,9,10,11,12,13,14,15,16,17,18,19,20,21,22,23,24,25,26,27,28,29,30,31,32,33,34,35,36,37,38,39,40,41,42,43,44,45,46,47,48,49,50],\"y\":[0.396,0.396,0.396,0.37885714285714284,0.35914285714285715,0.354,0.354,0.366,0.38571428571428573,0.3865714285714286,0.3668571428571429,0.36771428571428566,0.40714285714285714,0.4137142857142859,0.30200000000000016,0.20367346938775496,0.2459183673469387,0.28816326530612246,0.33759183673469384,0.3873469387755103,0.396,0.396,0.396,0.396,0.40714285714285714,0.4268571428571429,0.4506530612244897,0.4797551020408163,0.49114285714285716,0.46204081632653066,0.43285714285714305,0.4032857142857144,0.3754285714285714,0.3852857142857143,0.3951428571428572,0.3514285714285716,0.30261224489795924,0.3059591836734694,0.323795918367347,0.350204081632653,0.38118367346938764,0.37053061224489814,0.3217142857142858,0.29714285714285715,0.3102857142857142,0.3344489795918366,0.38983673469387736,0.4354285714285715,0.41571428571428576,0.396],\"type\":\"scatter\",\"xaxis\":\"x2\",\"yaxis\":\"y2\"},{\"legendgroup\":\"Beluga-13b\",\"mode\":\"lines+markers\",\"name\":\"Beluga-13b - surprise\",\"visible\":\"legendonly\",\"x\":[1,2,3,4,5,6,7,8,9,10,11,12,13,14,15,16,17,18,19,20,21,22,23,24,25,26,27,28,29,30,31,32,33,34,35,36,37,38,39,40,41,42,43,44,45,46,47,48,49,50],\"y\":[0.396,0.4157142857142857,0.43542857142857144,0.44616326530612244,0.45555102040816325,0.4586938775510204,0.4596326530612245,0.4714285714285714,0.49020408163265305,0.48608163265306126,0.4569795918367347,0.438,0.438,0.4315714285714286,0.402,0.375,0.375,0.375,0.40328571428571425,0.4328571428571429,0.438,0.438,0.45138775510204077,0.4706326530612244,0.4569795918367347,0.4180204081632653,0.4045714285714285,0.42428571428571427,0.438,0.438,0.44306122448979574,0.4721632653061223,0.4987346938775511,0.46963265306122454,0.4405306122448979,0.438,0.438,0.4225714285714286,0.4028571428571428,0.4088571428571428,0.4285714285714285,0.4580816326530611,0.49657142857142855,0.483265306122449,0.38938775510204116,0.3394693877551019,0.4141020408163263,0.4692653061224492,0.39463265306122464,0.32],\"type\":\"scatter\",\"xaxis\":\"x2\",\"yaxis\":\"y2\"},{\"legendgroup\":\"Beluga-13b\",\"mode\":\"lines+markers\",\"name\":\"Beluga-13b - trust\",\"visible\":\"legendonly\",\"x\":[1,2,3,4,5,6,7,8,9,10,11,12,13,14,15,16,17,18,19,20,21,22,23,24,25,26,27,28,29,30,31,32,33,34,35,36,37,38,39,40,41,42,43,44,45,46,47,48,49,50],\"y\":[0.375,0.38673469387755105,0.39846938775510204,0.41551020408163264,0.4333469387755102,0.438,0.438,0.414,0.37457142857142856,0.3587142857142857,0.36857142857142855,0.38528571428571423,0.41485714285714287,0.44432653061224486,0.4734285714285714,0.5015510204081632,0.5193877551020408,0.5372244897959184,0.5209387755102041,0.5031020408163265,0.451530612244898,0.3928571428571429,0.38185714285714284,0.3917142857142857,0.40714285714285714,0.4268571428571429,0.4251428571428572,0.3955714285714286,0.384,0.41357142857142853,0.4455102040816324,0.48869387755102023,0.528122448979592,0.48493877551020415,0.4417551020408163,0.46457142857142847,0.4936734693877551,0.5,0.5,0.4681632653061226,0.41934693877551044,0.411673469387755,0.44171428571428567,0.47432653061224495,0.510938775510204,0.5257551020408164,0.4788163265306124,0.4393469387755102,0.4496734693877551,0.46],\"type\":\"scatter\",\"xaxis\":\"x2\",\"yaxis\":\"y2\"},{\"legendgroup\":\"OrcaPlatypus-13b\",\"mode\":\"lines+markers\",\"name\":\"OrcaPlatypus-13b - anger\",\"visible\":\"legendonly\",\"x\":[1,2,3,4,5,6,7,8,9,10,11,12,13,14,15,16,17,18,19,20,21,22,23,24,25,26,27,28,29,30,31,32,33,34,35,36,37,38,39,40,41,42,43,44,45,46,47,48,49,50],\"y\":[0.29,0.2777551020408163,0.2935714285714286,0.3578571428571429,0.33683673469387754,0.295204081632653,0.3472448979591837,0.3507142857142857,0.2986734693877551,0.29,0.300408163265306,0.35244897959183663,0.375,0.375,0.32642857142857146,0.3056122448979591,0.35765306122448975,0.375,0.3733061224489796,0.32248979591836735,0.292,0.292,0.30983673469387746,0.3267346938775511,0.3022448979591837,0.3160204081632653,0.3680612244897957,0.3861428571428571,0.39,0.36428571428571427,0.3312244897959185,0.29326530612244905,0.292,0.3089387755102041,0.3597551020408164,0.3540000000000001,0.3246122448979592,0.30379591836734693,0.3524897959183674,0.4920816326530602,0.4489795918367353,0.375,0.375,0.33418367346938793,0.2576530612244903,0.273142857142857,0.29167346938775507,0.29044897959183674,0.28224489795918367,0.27],\"type\":\"scatter\",\"xaxis\":\"x2\",\"yaxis\":\"y2\"},{\"legendgroup\":\"OrcaPlatypus-13b\",\"mode\":\"lines+markers\",\"name\":\"OrcaPlatypus-13b - anticipation\",\"visible\":\"legendonly\",\"x\":[1,2,3,4,5,6,7,8,9,10,11,12,13,14,15,16,17,18,19,20,21,22,23,24,25,26,27,28,29,30,31,32,33,34,35,36,37,38,39,40,41,42,43,44,45,46,47,48,49,50],\"y\":[0.292,0.30914285714285716,0.3370612244897959,0.3835918367346939,0.37714285714285717,0.354,0.354,0.366,0.39171428571428574,0.3745714285714286,0.3591428571428571,0.38485714285714284,0.396,0.396,0.36400000000000005,0.35028571428571426,0.38457142857142856,0.3731428571428571,0.34114285714285714,0.37542857142857144,0.396,0.396,0.396,0.3925714285714286,0.3668571428571429,0.3797142857142857,0.43114285714285694,0.41571428571428576,0.402,0.4277142857142857,0.42257142857142865,0.3968571428571429,0.396,0.396,0.396,0.396,0.3977142857142857,0.42342857142857143,0.4157142857142857,0.36428571428571466,0.3471428571428572,0.3499999999999997,0.4099999999999998,0.36028571428571465,0.21457142857142955,0.2661224489795915,0.32,0.32,0.27346938775510216,0.2],\"type\":\"scatter\",\"xaxis\":\"x2\",\"yaxis\":\"y2\"},{\"legendgroup\":\"OrcaPlatypus-13b\",\"mode\":\"lines+markers\",\"name\":\"OrcaPlatypus-13b - disgust\",\"visible\":\"legendonly\",\"x\":[1,2,3,4,5,6,7,8,9,10,11,12,13,14,15,16,17,18,19,20,21,22,23,24,25,26,27,28,29,30,31,32,33,34,35,36,37,38,39,40,41,42,43,44,45,46,47,48,49,50],\"y\":[0.292,0.2356734693877551,0.2206530612244898,0.2769795918367347,0.292,0.292,0.292,0.292,0.292,0.32363265306122446,0.3591428571428571,0.38485714285714284,0.3696326530612245,0.32310204081632665,0.304,0.292,0.292,0.3344489795918368,0.3938775510204082,0.33020408163265313,0.292,0.292,0.34081632653061206,0.3875102040816328,0.3238367346938776,0.3238367346938776,0.38751020408163245,0.396,0.39,0.36428571428571427,0.33048979591836747,0.2913061224489797,0.29,0.3116326530612245,0.3765306122448981,0.396,0.3917551020408164,0.32808163265306123,0.330734693877551,0.42012244897959117,0.3968571428571432,0.35614285714285704,0.36899999999999994,0.3178571428571431,0.21071428571428644,0.25069387755102013,0.29167346938775507,0.29044897959183674,0.2551020408163266,0.2],\"type\":\"scatter\",\"xaxis\":\"x2\",\"yaxis\":\"y2\"},{\"legendgroup\":\"OrcaPlatypus-13b\",\"mode\":\"lines+markers\",\"name\":\"OrcaPlatypus-13b - fear\",\"visible\":\"legendonly\",\"x\":[1,2,3,4,5,6,7,8,9,10,11,12,13,14,15,16,17,18,19,20,21,22,23,24,25,26,27,28,29,30,31,32,33,34,35,36,37,38,39,40,41,42,43,44,45,46,47,48,49,50],\"y\":[0.29,0.25326530612244896,0.26255102040816325,0.3513265306122449,0.33683673469387754,0.2939183673469387,0.3331020408163265,0.366,0.39171428571428574,0.3852857142857143,0.3827142857142857,0.4212857142857142,0.40885714285714286,0.3574285714285715,0.31742857142857145,0.29,0.29,0.3246938775510204,0.375,0.375,0.3801428571428571,0.393,0.41571428571428565,0.43285714285714294,0.3942857142857143,0.3942857142857143,0.4328571428571427,0.41571428571428576,0.396,0.396,0.38828571428571435,0.37542857142857144,0.38742857142857146,0.38742857142857146,0.36171428571428565,0.37199999999999994,0.39167346938775516,0.3267755102040816,0.31255102040816324,0.36459183673469353,0.38528571428571423,0.39385714285714296,0.38100000000000006,0.3178571428571431,0.21071428571428644,0.2495918367346936,0.29,0.29,0.2551020408163266,0.2],\"type\":\"scatter\",\"xaxis\":\"x2\",\"yaxis\":\"y2\"},{\"legendgroup\":\"OrcaPlatypus-13b\",\"mode\":\"lines+markers\",\"name\":\"OrcaPlatypus-13b - joy\",\"visible\":\"legendonly\",\"x\":[1,2,3,4,5,6,7,8,9,10,11,12,13,14,15,16,17,18,19,20,21,22,23,24,25,26,27,28,29,30,31,32,33,34,35,36,37,38,39,40,41,42,43,44,45,46,47,48,49,50],\"y\":[0.34,0.4524489795918367,0.4748979591836735,0.2973469387755102,0.29097959183673466,0.38922448979591834,0.3072857142857143,0.25499999999999995,0.33785714285714274,0.3407142857142858,0.27857142857142864,0.31285714285714283,0.347469387755102,0.3095918367346939,0.367142857142857,0.5269387755102037,0.5027346938775512,0.43285714285714294,0.38314285714285723,0.37457142857142856,0.42428571428571416,0.42000000000000004,0.39383673469387775,0.33110204081632655,0.3451020408163266,0.5048979591836734,0.5126938775510208,0.4404897959183675,0.402,0.3888775510204082,0.4391836734693875,0.42322448979591865,0.36048979591836744,0.3762857142857142,0.3830204081632655,0.3202857142857146,0.37265306122448927,0.5324489795918367,0.3836734693877554,0.2024489795918366,0.22020408163265298,0.2851836734693875,0.40828571428571425,0.5466530612244898,0.6759183673469392,0.6167346938775512,0.5755102040816327,0.5636734693877551,0.6293877551020409,0.73],\"type\":\"scatter\",\"xaxis\":\"x2\",\"yaxis\":\"y2\"},{\"legendgroup\":\"OrcaPlatypus-13b\",\"mode\":\"lines+markers\",\"name\":\"OrcaPlatypus-13b - sadness\",\"visible\":\"legendonly\",\"x\":[1,2,3,4,5,6,7,8,9,10,11,12,13,14,15,16,17,18,19,20,21,22,23,24,25,26,27,28,29,30,31,32,33,34,35,36,37,38,39,40,41,42,43,44,45,46,47,48,49,50],\"y\":[0.29,0.29122448979591836,0.32477551020408163,0.41416326530612246,0.40971428571428575,0.37885714285714284,0.4174285714285714,0.3962857142857143,0.30689795918367346,0.32363265306122446,0.3591428571428571,0.38485714285714284,0.3696326530612245,0.32310204081632665,0.304,0.30338775510204075,0.34134693877551014,0.36257142857142854,0.37542857142857144,0.3882857142857143,0.3705306122448982,0.30685714285714294,0.34081632653061206,0.3925714285714286,0.3668571428571429,0.3668571428571429,0.3925714285714285,0.396,0.39,0.36428571428571427,0.36171428571428565,0.37457142857142856,0.38742857142857146,0.38048979591836735,0.33395918367346933,0.32,0.3187755102040817,0.3004081632653061,0.3069795918367347,0.3461632653061222,0.3745714285714284,0.39385714285714296,0.38100000000000006,0.3178571428571431,0.21071428571428644,0.2,0.2146938775510202,0.2697959183673468,0.2551020408163266,0.2],\"type\":\"scatter\",\"xaxis\":\"x2\",\"yaxis\":\"y2\"},{\"legendgroup\":\"OrcaPlatypus-13b\",\"mode\":\"lines+markers\",\"name\":\"OrcaPlatypus-13b - surprise\",\"visible\":\"legendonly\",\"x\":[1,2,3,4,5,6,7,8,9,10,11,12,13,14,15,16,17,18,19,20,21,22,23,24,25,26,27,28,29,30,31,32,33,34,35,36,37,38,39,40,41,42,43,44,45,46,47,48,49,50],\"y\":[0.29,0.3083673469387755,0.34648979591836737,0.418734693877551,0.40971428571428575,0.375,0.375,0.393,0.43157142857142855,0.438,0.438,0.438,0.438,0.438,0.402,0.3942857142857142,0.4585714285714285,0.4457142857142857,0.3944489795918368,0.3479183673469388,0.33861224489795905,0.38514285714285706,0.41571428571428565,0.42836734693877565,0.3561224489795919,0.383061224489796,0.5091836734693873,0.5122040816326531,0.49114285714285716,0.45318367346938776,0.438,0.438,0.4131428571428572,0.40865306122448986,0.44661224489795925,0.44942857142857146,0.43628571428571433,0.4105714285714286,0.4235918367346939,0.48726530612244856,0.46963265306122476,0.4400408163265305,0.45228571428571424,0.4129387755102043,0.3284489795918373,0.3503061224489794,0.3725510204081633,0.36336734693877554,0.3328571428571429,0.29],\"type\":\"scatter\",\"xaxis\":\"x2\",\"yaxis\":\"y2\"},{\"legendgroup\":\"OrcaPlatypus-13b\",\"mode\":\"lines+markers\",\"name\":\"OrcaPlatypus-13b - trust\",\"visible\":\"legendonly\",\"x\":[1,2,3,4,5,6,7,8,9,10,11,12,13,14,15,16,17,18,19,20,21,22,23,24,25,26,27,28,29,30,31,32,33,34,35,36,37,38,39,40,41,42,43,44,45,46,47,48,49,50],\"y\":[0.396,0.5698775510204082,0.611530612244898,0.4247959183673469,0.38442857142857145,0.39379591836734695,0.3717551020408163,0.36428571428571427,0.373469387755102,0.36428571428571427,0.354,0.354,0.36857142857142855,0.39428571428571424,0.4554285714285714,0.48089795918367356,0.4172244897959184,0.396,0.3981224489795918,0.4617959183673469,0.48481632653061235,0.44685714285714295,0.41828571428571437,0.41918367346938745,0.5930612244897958,0.6059183673469387,0.4577551020408168,0.40457142857142864,0.37857142857142856,0.39387755102040817,0.4477551020408161,0.5273469387755101,0.4755510204081633,0.42942857142857144,0.4037142857142857,0.396,0.396,0.396,0.36257142857142854,0.28542857142857203,0.321428571428571,0.38142857142857123,0.4199999999999998,0.45824489795918355,0.4962040816326528,0.5165306122448978,0.5251020408163266,0.5067346938775511,0.5,0.5],\"type\":\"scatter\",\"xaxis\":\"x2\",\"yaxis\":\"y2\"},{\"legendgroup\":\"LlamaInstruct-30b\",\"mode\":\"lines+markers\",\"name\":\"LlamaInstruct-30b - anger\",\"visible\":\"legendonly\",\"x\":[1,2,3,4,5,6,7,8,9,10,11,12,13,14,15,16,17,18,19,20,21,22,23,24,25,26,27,28,29,30,31,32,33,34,35,36,37,38,39,40,41,42,43,44,45,46,47,48,49,50],\"y\":[0.2,0.24224489795918366,0.2844897959183673,0.3246938775510204,0.36459183673469386,0.375,0.375,0.375,0.375,0.3559183673469388,0.3160204081632653,0.3038775510204081,0.34377551020408165,0.36632653061224496,0.32642857142857146,0.2934693877551019,0.33336734693877546,0.373265306122449,0.33773469387755106,0.29877551020408155,0.3241836734693877,0.3631428571428571,0.32895918367346955,0.2627755102040818,0.2493877551020408,0.2766122448979592,0.29159183673469385,0.29065306122448975,0.29,0.29,0.2969387755102038,0.33683673469387737,0.3732653061224491,0.33336734693877557,0.293469387755102,0.3264285714285713,0.36632653061224485,0.34451020408163263,0.3055510204081632,0.31740816326530596,0.35636734693877536,0.35467346938775524,0.3157142857142858,0.2879591836734694,0.27763265306122453,0.2724489795918367,0.2818367346938775,0.28657142857142864,0.26028571428571434,0.234],\"type\":\"scatter\",\"xaxis\":\"x2\",\"yaxis\":\"y2\"},{\"legendgroup\":\"LlamaInstruct-30b\",\"mode\":\"lines+markers\",\"name\":\"LlamaInstruct-30b - anticipation\",\"visible\":\"legendonly\",\"x\":[1,2,3,4,5,6,7,8,9,10,11,12,13,14,15,16,17,18,19,20,21,22,23,24,25,26,27,28,29,30,31,32,33,34,35,36,37,38,39,40,41,42,43,44,45,46,47,48,49,50],\"y\":[0.29,0.3298979591836735,0.36979591836734693,0.375,0.375,0.3822857142857143,0.3921428571428572,0.38342857142857145,0.3627755102040816,0.3524489795918367,0.3533877551020408,0.354,0.354,0.3561428571428571,0.366,0.37585714285714283,0.38571428571428573,0.3955714285714286,0.396,0.396,0.396,0.396,0.36138775510204096,0.31163265306122456,0.26612244897959186,0.22387755102040813,0.2244897959183672,0.28081632653061217,0.33085714285714285,0.3665306122448979,0.39632653061224493,0.3982040816326531,0.4007755102040816,0.4186122448979592,0.43644897959183676,0.4200000000000001,0.40028571428571436,0.38057142857142856,0.3608571428571428,0.36685714285714277,0.3865714285714285,0.396,0.396,0.38204081632653064,0.34636734693877563,0.32416326530612244,0.34012244897959176,0.3464081632653063,0.28820408163265315,0.23],\"type\":\"scatter\",\"xaxis\":\"x2\",\"yaxis\":\"y2\"},{\"legendgroup\":\"LlamaInstruct-30b\",\"mode\":\"lines+markers\",\"name\":\"LlamaInstruct-30b - disgust\",\"visible\":\"legendonly\",\"x\":[1,2,3,4,5,6,7,8,9,10,11,12,13,14,15,16,17,18,19,20,21,22,23,24,25,26,27,28,29,30,31,32,33,34,35,36,37,38,39,40,41,42,43,44,45,46,47,48,49,50],\"y\":[0.2,0.2,0.2,0.27142857142857146,0.35357142857142854,0.3462040816326531,0.30724489795918364,0.3217142857142857,0.3705306122448979,0.3811836734693878,0.3502040816326531,0.3407755102040816,0.37175510204081635,0.38538775510204093,0.33657142857142863,0.2962448979591835,0.34506122448979587,0.3938775510204082,0.34930612244897963,0.3004897959183673,0.3323265306122449,0.3811428571428571,0.33200000000000024,0.2400000000000002,0.2,0.2,0.2183673469387754,0.26061224489795914,0.29,0.29,0.2986530612244894,0.3484081632653059,0.39387755102040833,0.345061224489796,0.29624489795918363,0.3365714285714284,0.38538775510204076,0.3577959183673469,0.30897959183673457,0.3238367346938774,0.3726530612244896,0.37053061224489814,0.3217142857142858,0.2751020408163265,0.23191836734693894,0.21102040816326523,0.25326530612244885,0.28663265306122454,0.26081632653061226,0.235],\"type\":\"scatter\",\"xaxis\":\"x2\",\"yaxis\":\"y2\"},{\"legendgroup\":\"LlamaInstruct-30b\",\"mode\":\"lines+markers\",\"name\":\"LlamaInstruct-30b - fear\",\"visible\":\"legendonly\",\"x\":[1,2,3,4,5,6,7,8,9,10,11,12,13,14,15,16,17,18,19,20,21,22,23,24,25,26,27,28,29,30,31,32,33,34,35,36,37,38,39,40,41,42,43,44,45,46,47,48,49,50],\"y\":[0.29,0.28061224489795916,0.2712244897959184,0.3128571428571429,0.3621428571428571,0.375,0.375,0.4107142857142857,0.4693877551020408,0.4672244897959184,0.3986938775510205,0.36771428571428566,0.40714285714285714,0.42289795918367357,0.3534285714285715,0.29604081632653034,0.36551020408163254,0.43497959183673474,0.3715510204081633,0.3020816326530611,0.3632857142857142,0.45199999999999996,0.40422448979591863,0.29673469387755125,0.26061224489795914,0.27938775510204084,0.2904081632653061,0.2913469387755102,0.292,0.292,0.30391836734693833,0.3724489795918364,0.4371428571428572,0.4174285714285715,0.39771428571428574,0.4139999999999999,0.4337142857142857,0.41485714285714287,0.38528571428571423,0.3814285714285714,0.39128571428571424,0.3857142857142858,0.36600000000000005,0.3257142857142857,0.25342857142857167,0.21102040816326523,0.25326530612244885,0.2875510204081633,0.26877551020408164,0.25],\"type\":\"scatter\",\"xaxis\":\"x2\",\"yaxis\":\"y2\"},{\"legendgroup\":\"LlamaInstruct-30b\",\"mode\":\"lines+markers\",\"name\":\"LlamaInstruct-30b - joy\",\"visible\":\"legendonly\",\"x\":[1,2,3,4,5,6,7,8,9,10,11,12,13,14,15,16,17,18,19,20,21,22,23,24,25,26,27,28,29,30,31,32,33,34,35,36,37,38,39,40,41,42,43,44,45,46,47,48,49,50],\"y\":[0.34,0.4995918367346939,0.6591836734693878,0.48408163265306126,0.2587755102040817,0.23122448979591836,0.27346938775510204,0.3082857142857143,0.3383265306122449,0.33514285714285713,0.29571428571428576,0.2585714285714286,0.22571428571428573,0.23061224489795895,0.3714285714285713,0.49142857142857177,0.392857142857143,0.29428571428571426,0.2810204081632653,0.27163265306122447,0.2777551020408163,0.28714285714285714,0.3683673469387752,0.4810204081632651,0.5883673469387755,0.6916326530612246,0.7357142857142858,0.702857142857143,0.68,0.68,0.6432653061224504,0.43204081632653163,0.23122448979591828,0.25938775510204076,0.28755102040816327,0.31657142857142845,0.34567346938775506,0.3835918367346939,0.42395918367346946,0.4251428571428572,0.4054285714285715,0.4214693877551019,0.4702857142857142,0.5069795918367347,0.5248163265306122,0.5257551020408164,0.4788163265306124,0.4528163265306118,0.566408163265306,0.68],\"type\":\"scatter\",\"xaxis\":\"x2\",\"yaxis\":\"y2\"},{\"legendgroup\":\"LlamaInstruct-30b\",\"mode\":\"lines+markers\",\"name\":\"LlamaInstruct-30b - sadness\",\"visible\":\"legendonly\",\"x\":[1,2,3,4,5,6,7,8,9,10,11,12,13,14,15,16,17,18,19,20,21,22,23,24,25,26,27,28,29,30,31,32,33,34,35,36,37,38,39,40,41,42,43,44,45,46,47,48,49,50],\"y\":[0.29,0.2909387755102041,0.29187755102040813,0.3344489795918367,0.38326530612244897,0.38871428571428573,0.37885714285714284,0.369,0.35914285714285715,0.34861224489795917,0.3373469387755102,0.3407755102040816,0.37175510204081635,0.38538775510204093,0.33657142857142863,0.2962448979591835,0.34506122448979587,0.3938775510204082,0.396,0.396,0.396,0.396,0.33200000000000024,0.2400000000000002,0.2,0.2,0.2183673469387754,0.26061224489795914,0.29,0.29,0.2986530612244894,0.3484081632653059,0.3976938775510203,0.43665306122448977,0.47561224489795917,0.44342857142857156,0.4044693877551021,0.3680816326530612,0.3324081632653061,0.3368367346938775,0.3626530612244897,0.35467346938775524,0.3157142857142858,0.2751020408163265,0.23191836734693894,0.2112653061224489,0.2544489795918366,0.28636734693877564,0.24318367346938782,0.2],\"type\":\"scatter\",\"xaxis\":\"x2\",\"yaxis\":\"y2\"},{\"legendgroup\":\"LlamaInstruct-30b\",\"mode\":\"lines+markers\",\"name\":\"LlamaInstruct-30b - surprise\",\"visible\":\"legendonly\",\"x\":[1,2,3,4,5,6,7,8,9,10,11,12,13,14,15,16,17,18,19,20,21,22,23,24,25,26,27,28,29,30,31,32,33,34,35,36,37,38,39,40,41,42,43,44,45,46,47,48,49,50],\"y\":[0.29,0.313469387755102,0.3369387755102041,0.38,0.426,0.4449387755102041,0.4543265306122449,0.464,0.47385714285714287,0.4603673469387755,0.42140816326530617,0.40285714285714286,0.4225714285714286,0.438,0.438,0.43967346938775503,0.45891836734693875,0.4781632653061224,0.44173469387755104,0.4027755102040816,0.41228571428571426,0.432,0.38967346938775527,0.3202040816326532,0.29,0.29,0.31163265306122434,0.3613877551020408,0.40485714285714286,0.43395918367346936,0.4532653061224492,0.4260408163265308,0.3994897959183674,0.38775510204081637,0.3760204081632653,0.4019999999999999,0.43157142857142855,0.41485714285714287,0.38528571428571423,0.4010204081632652,0.4409183673469386,0.4391836734693879,0.39928571428571435,0.36489795918367346,0.3390816326530613,0.32,0.32,0.31693877551020416,0.2934693877551021,0.27],\"type\":\"scatter\",\"xaxis\":\"x2\",\"yaxis\":\"y2\"},{\"legendgroup\":\"LlamaInstruct-30b\",\"mode\":\"lines+markers\",\"name\":\"LlamaInstruct-30b - trust\",\"visible\":\"legendonly\",\"x\":[1,2,3,4,5,6,7,8,9,10,11,12,13,14,15,16,17,18,19,20,21,22,23,24,25,26,27,28,29,30,31,32,33,34,35,36,37,38,39,40,41,42,43,44,45,46,47,48,49,50],\"y\":[0.396,0.5293061224489797,0.6626122448979592,0.5555102040816327,0.4123469387755102,0.3822857142857143,0.3921428571428572,0.396,0.396,0.396,0.396,0.39257142857142857,0.38271428571428573,0.3814285714285714,0.411,0.4345714285714287,0.3951428571428572,0.3557142857142857,0.3917142857142857,0.43114285714285716,0.438,0.438,0.4582448979591836,0.48734693877551016,0.5477551020408162,0.6322448979591838,0.6432653061224493,0.5587755102040817,0.5,0.5,0.491510204081633,0.44269387755102063,0.3973061224489795,0.42734693877551017,0.4573877551020409,0.4505714285714286,0.4402448979591837,0.4460816326530612,0.45640816326530614,0.43397959183673485,0.3940816326530614,0.405612244897959,0.4642857142857142,0.5146938775510204,0.5522448979591835,0.5626122448979594,0.4959591836734696,0.44546938775510186,0.502734693877551,0.56],\"type\":\"scatter\",\"xaxis\":\"x2\",\"yaxis\":\"y2\"},{\"legendgroup\":\"Platypus2-70b\",\"mode\":\"lines+markers\",\"name\":\"Platypus2-70b - anger\",\"visible\":\"legendonly\",\"x\":[1,2,3,4,5,6,7,8,9,10,11,12,13,14,15,16,17,18,19,20,21,22,23,24,25,26,27,28,29,30,31,32,33,34,35,36,37,38,39,40,41,42,43,44,45,46,47,48,49,50],\"y\":[0.29,0.29,0.29,0.29,0.29,0.30387755102040814,0.3576530612244898,0.375,0.375,0.375,0.34724489795918373,0.29346938775510206,0.29,0.2904489795918367,0.2917142857142857,0.33265306122448973,0.3648367346938776,0.3123265306122449,0.32418367346938765,0.37142857142857144,0.2607142857142858,0.22142857142857147,0.2688775510204081,0.2744489795918368,0.2925510204081632,0.3564489795918368,0.375,0.3682244897959184,0.3157142857142856,0.320795918367347,0.3733061224489793,0.4135714285714284,0.438,0.438,0.40585714285714286,0.3631428571428575,0.3106326530612247,0.2911836734693877,0.2900816326530612,0.29134693877551016,0.2913877551020408,0.29012244897959183,0.25857142857142856,0.24622448979591832,0.2810204081632651,0.2806122448979592,0.2720408163265306,0.2846938775510204,0.29,0.29],\"type\":\"scatter\",\"xaxis\":\"x2\",\"yaxis\":\"y2\"},{\"legendgroup\":\"Platypus2-70b\",\"mode\":\"lines+markers\",\"name\":\"Platypus2-70b - anticipation\",\"visible\":\"legendonly\",\"x\":[1,2,3,4,5,6,7,8,9,10,11,12,13,14,15,16,17,18,19,20,21,22,23,24,25,26,27,28,29,30,31,32,33,34,35,36,37,38,39,40,41,42,43,44,45,46,47,48,49,50],\"y\":[0.23,0.32173469387755105,0.3707551020408163,0.3606326530612245,0.3563469387755102,0.3608571428571428,0.38742857142857146,0.37200000000000005,0.34085714285714286,0.3497142857142857,0.354,0.354,0.354,0.354,0.354,0.37457142857142856,0.396,0.396,0.396,0.3944489795918368,0.3463673469387756,0.3057142857142857,0.2740816326530613,0.2975510204081632,0.33414285714285713,0.3828571428571429,0.3983469387755102,0.3962448979591837,0.3671428571428571,0.3685714285714286,0.395142857142857,0.3984489795918367,0.38873469387755105,0.35963265306122444,0.354,0.354,0.354,0.354,0.3557142857142857,0.3822857142857142,0.4088571428571428,0.43542857142857144,0.39,0.35828571428571426,0.3715714285714285,0.34918367346938783,0.32775510204081626,0.37583673469387746,0.3680816326530613,0.32],\"type\":\"scatter\",\"xaxis\":\"x2\",\"yaxis\":\"y2\"},{\"legendgroup\":\"Platypus2-70b\",\"mode\":\"lines+markers\",\"name\":\"Platypus2-70b - disgust\",\"visible\":\"legendonly\",\"x\":[1,2,3,4,5,6,7,8,9,10,11,12,13,14,15,16,17,18,19,20,21,22,23,24,25,26,27,28,29,30,31,32,33,34,35,36,37,38,39,40,41,42,43,44,45,46,47,48,49,50],\"y\":[0.29,0.29,0.29,0.29,0.3239591836734694,0.36771428571428566,0.4208571428571428,0.37542857142857144,0.2983673469387755,0.3641632653061224,0.3620408163265307,0.29624489795918374,0.292,0.3059183673469387,0.34514285714285714,0.3951428571428571,0.41987755102040825,0.32624489795918377,0.30163265306122444,0.31857142857142856,0.27428571428571435,0.262,0.2885714285714285,0.2413061224489797,0.23599999999999988,0.36000000000000015,0.34930612244897974,0.292,0.292,0.32808163265306134,0.39387755102040783,0.4596734693877549,0.47453061224489806,0.408734693877551,0.396,0.38114285714285756,0.31534693877551045,0.292,0.292,0.292,0.292,0.292,0.24400000000000002,0.22514285714285706,0.278285714285714,0.2488163265306124,0.2091836734693877,0.2661224489795917,0.26795918367346944,0.23],\"type\":\"scatter\",\"xaxis\":\"x2\",\"yaxis\":\"y2\"},{\"legendgroup\":\"Platypus2-70b\",\"mode\":\"lines+markers\",\"name\":\"Platypus2-70b - fear\",\"visible\":\"legendonly\",\"x\":[1,2,3,4,5,6,7,8,9,10,11,12,13,14,15,16,17,18,19,20,21,22,23,24,25,26,27,28,29,30,31,32,33,34,35,36,37,38,39,40,41,42,43,44,45,46,47,48,49,50],\"y\":[0.29,0.3836326530612245,0.438,0.438,0.4157142857142857,0.40285714285714286,0.42942857142857144,0.438,0.43542857142857144,0.40885714285714286,0.38228571428571434,0.3557142857142857,0.354,0.3634285714285714,0.39,0.4366530612244897,0.46932653061224494,0.41934693877551027,0.3821632653061225,0.3526938775510204,0.31220408163265306,0.29057142857142854,0.29183673469387755,0.2798775510204082,0.30085714285714277,0.40714285714285725,0.438,0.4345714285714286,0.408,0.396,0.396,0.4468163265306121,0.45867346938775516,0.40616326530612246,0.4490612244897959,0.48514285714285754,0.4193469387755105,0.3527346938775512,0.29,0.29,0.29918367346938773,0.31816326530612243,0.2685714285714286,0.23816326530612242,0.2634693877551019,0.27,0.2720408163265306,0.2846938775510204,0.29,0.29],\"type\":\"scatter\",\"xaxis\":\"x2\",\"yaxis\":\"y2\"},{\"legendgroup\":\"Platypus2-70b\",\"mode\":\"lines+markers\",\"name\":\"Platypus2-70b - joy\",\"visible\":\"legendonly\",\"x\":[1,2,3,4,5,6,7,8,9,10,11,12,13,14,15,16,17,18,19,20,21,22,23,24,25,26,27,28,29,30,31,32,33,34,35,36,37,38,39,40,41,42,43,44,45,46,47,48,49,50],\"y\":[0.29,0.23306122448979594,0.2,0.2,0.2477551020408163,0.29,0.29,0.25142857142857145,0.2036734693877551,0.24163265306122447,0.24040816326530617,0.20244897959183678,0.29114285714285715,0.33963265306122453,0.2991428571428571,0.29,0.29,0.29,0.2667346938775511,0.23714285714285713,0.4585714285714284,0.62,0.7085714285714284,0.72,0.6410204081632656,0.3689795918367344,0.30346938775510196,0.3314285714285714,0.42000000000000015,0.4305102040816326,0.3767346938775513,0.26785714285714324,0.2,0.2,0.2,0.2171428571428567,0.2930612244897956,0.39346938775510176,0.4974693877551021,0.45824489795918383,0.46616326530612234,0.5243673469387755,0.5128571428571429,0.5255102040816325,0.6045918367346935,0.6836734693877549,0.7306122448979593,0.6104081632653064,0.5232653061224491,0.46],\"type\":\"scatter\",\"xaxis\":\"x2\",\"yaxis\":\"y2\"},{\"legendgroup\":\"Platypus2-70b\",\"mode\":\"lines+markers\",\"name\":\"Platypus2-70b - sadness\",\"visible\":\"legendonly\",\"x\":[1,2,3,4,5,6,7,8,9,10,11,12,13,14,15,16,17,18,19,20,21,22,23,24,25,26,27,28,29,30,31,32,33,34,35,36,37,38,39,40,41,42,43,44,45,46,47,48,49,50],\"y\":[0.29,0.4228571428571428,0.4835510204081633,0.4443265306122449,0.4045714285714286,0.37842857142857145,0.39171428571428574,0.414,0.43542857142857144,0.40885714285714286,0.3891428571428572,0.3758571428571429,0.36257142857142854,0.34008163265306124,0.3008571428571428,0.342938775510204,0.396,0.396,0.3797142857142858,0.35085714285714287,0.2534285714285715,0.2142857142857143,0.2459183673469387,0.2731428571428571,0.31881632653061215,0.41118367346938783,0.438,0.4345714285714286,0.408,0.396,0.396,0.4468163265306121,0.4841428571428571,0.49742857142857144,0.5,0.48214285714285765,0.40306122448979625,0.34030612244897973,0.2900816326530612,0.29134693877551016,0.30057142857142854,0.3182857142857143,0.27142857142857146,0.24663265306122445,0.2826938775510202,0.2488163265306124,0.2091836734693877,0.2661224489795917,0.290734693877551,0.292],\"type\":\"scatter\",\"xaxis\":\"x2\",\"yaxis\":\"y2\"},{\"legendgroup\":\"Platypus2-70b\",\"mode\":\"lines+markers\",\"name\":\"Platypus2-70b - surprise\",\"visible\":\"legendonly\",\"x\":[1,2,3,4,5,6,7,8,9,10,11,12,13,14,15,16,17,18,19,20,21,22,23,24,25,26,27,28,29,30,31,32,33,34,35,36,37,38,39,40,41,42,43,44,45,46,47,48,49,50],\"y\":[0.29,0.3437755102040816,0.38057142857142856,0.39385714285714285,0.41828571428571426,0.44126530612244896,0.4539183673469388,0.4134285714285714,0.35657142857142854,0.3831428571428571,0.3891428571428572,0.3758571428571429,0.4122857142857143,0.438,0.438,0.46836734693877546,0.48726530612244906,0.4214693877551021,0.41228571428571426,0.4367142857142857,0.3968571428571429,0.35128571428571426,0.2987755102040817,0.3074285714285714,0.34167346938775506,0.416326530612245,0.45640816326530603,0.47744897959183674,0.4654285714285714,0.4523673469387755,0.4384489795918368,0.46310204081632644,0.45867346938775516,0.40616326530612246,0.396,0.40199999999999986,0.4285714285714285,0.41228571428571437,0.3783877551020408,0.4308979591836733,0.4586122448979592,0.45987755102040817,0.4114285714285715,0.36377551020408166,0.32897959183673486,0.30591836734693884,0.298673469387755,0.3524489795918366,0.34377551020408176,0.29],\"type\":\"scatter\",\"xaxis\":\"x2\",\"yaxis\":\"y2\"},{\"legendgroup\":\"Platypus2-70b\",\"mode\":\"lines+markers\",\"name\":\"Platypus2-70b - trust\",\"visible\":\"legendonly\",\"x\":[1,2,3,4,5,6,7,8,9,10,11,12,13,14,15,16,17,18,19,20,21,22,23,24,25,26,27,28,29,30,31,32,33,34,35,36,37,38,39,40,41,42,43,44,45,46,47,48,49,50],\"y\":[0.396,0.396,0.38485714285714284,0.35828571428571426,0.3762857142857143,0.3803265306122449,0.3195918367346939,0.31714285714285717,0.3434285714285714,0.37885714285714284,0.3891428571428572,0.3758571428571429,0.38742857142857146,0.3912857142857143,0.378,0.3852857142857143,0.396,0.396,0.396,0.39812244897959187,0.4639183673469387,0.5171428571428571,0.5551020408163265,0.5269387755102042,0.48089795918367356,0.41510204081632646,0.44269387755102024,0.5,0.5,0.5,0.5,0.4106122448979595,0.354,0.354,0.3647142857142857,0.375,0.375,0.42602040816326514,0.5,0.5,0.5,0.5,0.4771428571428572,0.4926530612244897,0.5938775510204077,0.6481632653061223,0.6697959183673471,0.6065306122448981,0.5359183673469389,0.46],\"type\":\"scatter\",\"xaxis\":\"x2\",\"yaxis\":\"y2\"}],                        {\"template\":{\"data\":{\"barpolar\":[{\"marker\":{\"line\":{\"color\":\"rgb(17,17,17)\",\"width\":0.5},\"pattern\":{\"fillmode\":\"overlay\",\"size\":10,\"solidity\":0.2}},\"type\":\"barpolar\"}],\"bar\":[{\"error_x\":{\"color\":\"#f2f5fa\"},\"error_y\":{\"color\":\"#f2f5fa\"},\"marker\":{\"line\":{\"color\":\"rgb(17,17,17)\",\"width\":0.5},\"pattern\":{\"fillmode\":\"overlay\",\"size\":10,\"solidity\":0.2}},\"type\":\"bar\"}],\"carpet\":[{\"aaxis\":{\"endlinecolor\":\"#A2B1C6\",\"gridcolor\":\"#506784\",\"linecolor\":\"#506784\",\"minorgridcolor\":\"#506784\",\"startlinecolor\":\"#A2B1C6\"},\"baxis\":{\"endlinecolor\":\"#A2B1C6\",\"gridcolor\":\"#506784\",\"linecolor\":\"#506784\",\"minorgridcolor\":\"#506784\",\"startlinecolor\":\"#A2B1C6\"},\"type\":\"carpet\"}],\"choropleth\":[{\"colorbar\":{\"outlinewidth\":0,\"ticks\":\"\"},\"type\":\"choropleth\"}],\"contourcarpet\":[{\"colorbar\":{\"outlinewidth\":0,\"ticks\":\"\"},\"type\":\"contourcarpet\"}],\"contour\":[{\"colorbar\":{\"outlinewidth\":0,\"ticks\":\"\"},\"colorscale\":[[0.0,\"#0d0887\"],[0.1111111111111111,\"#46039f\"],[0.2222222222222222,\"#7201a8\"],[0.3333333333333333,\"#9c179e\"],[0.4444444444444444,\"#bd3786\"],[0.5555555555555556,\"#d8576b\"],[0.6666666666666666,\"#ed7953\"],[0.7777777777777778,\"#fb9f3a\"],[0.8888888888888888,\"#fdca26\"],[1.0,\"#f0f921\"]],\"type\":\"contour\"}],\"heatmapgl\":[{\"colorbar\":{\"outlinewidth\":0,\"ticks\":\"\"},\"colorscale\":[[0.0,\"#0d0887\"],[0.1111111111111111,\"#46039f\"],[0.2222222222222222,\"#7201a8\"],[0.3333333333333333,\"#9c179e\"],[0.4444444444444444,\"#bd3786\"],[0.5555555555555556,\"#d8576b\"],[0.6666666666666666,\"#ed7953\"],[0.7777777777777778,\"#fb9f3a\"],[0.8888888888888888,\"#fdca26\"],[1.0,\"#f0f921\"]],\"type\":\"heatmapgl\"}],\"heatmap\":[{\"colorbar\":{\"outlinewidth\":0,\"ticks\":\"\"},\"colorscale\":[[0.0,\"#0d0887\"],[0.1111111111111111,\"#46039f\"],[0.2222222222222222,\"#7201a8\"],[0.3333333333333333,\"#9c179e\"],[0.4444444444444444,\"#bd3786\"],[0.5555555555555556,\"#d8576b\"],[0.6666666666666666,\"#ed7953\"],[0.7777777777777778,\"#fb9f3a\"],[0.8888888888888888,\"#fdca26\"],[1.0,\"#f0f921\"]],\"type\":\"heatmap\"}],\"histogram2dcontour\":[{\"colorbar\":{\"outlinewidth\":0,\"ticks\":\"\"},\"colorscale\":[[0.0,\"#0d0887\"],[0.1111111111111111,\"#46039f\"],[0.2222222222222222,\"#7201a8\"],[0.3333333333333333,\"#9c179e\"],[0.4444444444444444,\"#bd3786\"],[0.5555555555555556,\"#d8576b\"],[0.6666666666666666,\"#ed7953\"],[0.7777777777777778,\"#fb9f3a\"],[0.8888888888888888,\"#fdca26\"],[1.0,\"#f0f921\"]],\"type\":\"histogram2dcontour\"}],\"histogram2d\":[{\"colorbar\":{\"outlinewidth\":0,\"ticks\":\"\"},\"colorscale\":[[0.0,\"#0d0887\"],[0.1111111111111111,\"#46039f\"],[0.2222222222222222,\"#7201a8\"],[0.3333333333333333,\"#9c179e\"],[0.4444444444444444,\"#bd3786\"],[0.5555555555555556,\"#d8576b\"],[0.6666666666666666,\"#ed7953\"],[0.7777777777777778,\"#fb9f3a\"],[0.8888888888888888,\"#fdca26\"],[1.0,\"#f0f921\"]],\"type\":\"histogram2d\"}],\"histogram\":[{\"marker\":{\"pattern\":{\"fillmode\":\"overlay\",\"size\":10,\"solidity\":0.2}},\"type\":\"histogram\"}],\"mesh3d\":[{\"colorbar\":{\"outlinewidth\":0,\"ticks\":\"\"},\"type\":\"mesh3d\"}],\"parcoords\":[{\"line\":{\"colorbar\":{\"outlinewidth\":0,\"ticks\":\"\"}},\"type\":\"parcoords\"}],\"pie\":[{\"automargin\":true,\"type\":\"pie\"}],\"scatter3d\":[{\"line\":{\"colorbar\":{\"outlinewidth\":0,\"ticks\":\"\"}},\"marker\":{\"colorbar\":{\"outlinewidth\":0,\"ticks\":\"\"}},\"type\":\"scatter3d\"}],\"scattercarpet\":[{\"marker\":{\"colorbar\":{\"outlinewidth\":0,\"ticks\":\"\"}},\"type\":\"scattercarpet\"}],\"scattergeo\":[{\"marker\":{\"colorbar\":{\"outlinewidth\":0,\"ticks\":\"\"}},\"type\":\"scattergeo\"}],\"scattergl\":[{\"marker\":{\"line\":{\"color\":\"#283442\"}},\"type\":\"scattergl\"}],\"scattermapbox\":[{\"marker\":{\"colorbar\":{\"outlinewidth\":0,\"ticks\":\"\"}},\"type\":\"scattermapbox\"}],\"scatterpolargl\":[{\"marker\":{\"colorbar\":{\"outlinewidth\":0,\"ticks\":\"\"}},\"type\":\"scatterpolargl\"}],\"scatterpolar\":[{\"marker\":{\"colorbar\":{\"outlinewidth\":0,\"ticks\":\"\"}},\"type\":\"scatterpolar\"}],\"scatter\":[{\"marker\":{\"line\":{\"color\":\"#283442\"}},\"type\":\"scatter\"}],\"scatterternary\":[{\"marker\":{\"colorbar\":{\"outlinewidth\":0,\"ticks\":\"\"}},\"type\":\"scatterternary\"}],\"surface\":[{\"colorbar\":{\"outlinewidth\":0,\"ticks\":\"\"},\"colorscale\":[[0.0,\"#0d0887\"],[0.1111111111111111,\"#46039f\"],[0.2222222222222222,\"#7201a8\"],[0.3333333333333333,\"#9c179e\"],[0.4444444444444444,\"#bd3786\"],[0.5555555555555556,\"#d8576b\"],[0.6666666666666666,\"#ed7953\"],[0.7777777777777778,\"#fb9f3a\"],[0.8888888888888888,\"#fdca26\"],[1.0,\"#f0f921\"]],\"type\":\"surface\"}],\"table\":[{\"cells\":{\"fill\":{\"color\":\"#506784\"},\"line\":{\"color\":\"rgb(17,17,17)\"}},\"header\":{\"fill\":{\"color\":\"#2a3f5f\"},\"line\":{\"color\":\"rgb(17,17,17)\"}},\"type\":\"table\"}]},\"layout\":{\"annotationdefaults\":{\"arrowcolor\":\"#f2f5fa\",\"arrowhead\":0,\"arrowwidth\":1},\"autotypenumbers\":\"strict\",\"coloraxis\":{\"colorbar\":{\"outlinewidth\":0,\"ticks\":\"\"}},\"colorscale\":{\"diverging\":[[0,\"#8e0152\"],[0.1,\"#c51b7d\"],[0.2,\"#de77ae\"],[0.3,\"#f1b6da\"],[0.4,\"#fde0ef\"],[0.5,\"#f7f7f7\"],[0.6,\"#e6f5d0\"],[0.7,\"#b8e186\"],[0.8,\"#7fbc41\"],[0.9,\"#4d9221\"],[1,\"#276419\"]],\"sequential\":[[0.0,\"#0d0887\"],[0.1111111111111111,\"#46039f\"],[0.2222222222222222,\"#7201a8\"],[0.3333333333333333,\"#9c179e\"],[0.4444444444444444,\"#bd3786\"],[0.5555555555555556,\"#d8576b\"],[0.6666666666666666,\"#ed7953\"],[0.7777777777777778,\"#fb9f3a\"],[0.8888888888888888,\"#fdca26\"],[1.0,\"#f0f921\"]],\"sequentialminus\":[[0.0,\"#0d0887\"],[0.1111111111111111,\"#46039f\"],[0.2222222222222222,\"#7201a8\"],[0.3333333333333333,\"#9c179e\"],[0.4444444444444444,\"#bd3786\"],[0.5555555555555556,\"#d8576b\"],[0.6666666666666666,\"#ed7953\"],[0.7777777777777778,\"#fb9f3a\"],[0.8888888888888888,\"#fdca26\"],[1.0,\"#f0f921\"]]},\"colorway\":[\"#636efa\",\"#EF553B\",\"#00cc96\",\"#ab63fa\",\"#FFA15A\",\"#19d3f3\",\"#FF6692\",\"#B6E880\",\"#FF97FF\",\"#FECB52\"],\"font\":{\"color\":\"#f2f5fa\"},\"geo\":{\"bgcolor\":\"rgb(17,17,17)\",\"lakecolor\":\"rgb(17,17,17)\",\"landcolor\":\"rgb(17,17,17)\",\"showlakes\":true,\"showland\":true,\"subunitcolor\":\"#506784\"},\"hoverlabel\":{\"align\":\"left\"},\"hovermode\":\"closest\",\"mapbox\":{\"style\":\"dark\"},\"paper_bgcolor\":\"rgb(17,17,17)\",\"plot_bgcolor\":\"rgb(17,17,17)\",\"polar\":{\"angularaxis\":{\"gridcolor\":\"#506784\",\"linecolor\":\"#506784\",\"ticks\":\"\"},\"bgcolor\":\"rgb(17,17,17)\",\"radialaxis\":{\"gridcolor\":\"#506784\",\"linecolor\":\"#506784\",\"ticks\":\"\"}},\"scene\":{\"xaxis\":{\"backgroundcolor\":\"rgb(17,17,17)\",\"gridcolor\":\"#506784\",\"gridwidth\":2,\"linecolor\":\"#506784\",\"showbackground\":true,\"ticks\":\"\",\"zerolinecolor\":\"#C8D4E3\"},\"yaxis\":{\"backgroundcolor\":\"rgb(17,17,17)\",\"gridcolor\":\"#506784\",\"gridwidth\":2,\"linecolor\":\"#506784\",\"showbackground\":true,\"ticks\":\"\",\"zerolinecolor\":\"#C8D4E3\"},\"zaxis\":{\"backgroundcolor\":\"rgb(17,17,17)\",\"gridcolor\":\"#506784\",\"gridwidth\":2,\"linecolor\":\"#506784\",\"showbackground\":true,\"ticks\":\"\",\"zerolinecolor\":\"#C8D4E3\"}},\"shapedefaults\":{\"line\":{\"color\":\"#f2f5fa\"}},\"sliderdefaults\":{\"bgcolor\":\"#C8D4E3\",\"bordercolor\":\"rgb(17,17,17)\",\"borderwidth\":1,\"tickwidth\":0},\"ternary\":{\"aaxis\":{\"gridcolor\":\"#506784\",\"linecolor\":\"#506784\",\"ticks\":\"\"},\"baxis\":{\"gridcolor\":\"#506784\",\"linecolor\":\"#506784\",\"ticks\":\"\"},\"bgcolor\":\"rgb(17,17,17)\",\"caxis\":{\"gridcolor\":\"#506784\",\"linecolor\":\"#506784\",\"ticks\":\"\"}},\"title\":{\"x\":0.05},\"updatemenudefaults\":{\"bgcolor\":\"#506784\",\"borderwidth\":0},\"xaxis\":{\"automargin\":true,\"gridcolor\":\"#283442\",\"linecolor\":\"#506784\",\"ticks\":\"\",\"title\":{\"standoff\":15},\"zerolinecolor\":\"#283442\",\"zerolinewidth\":2},\"yaxis\":{\"automargin\":true,\"gridcolor\":\"#283442\",\"linecolor\":\"#506784\",\"ticks\":\"\",\"title\":{\"standoff\":15},\"zerolinecolor\":\"#283442\",\"zerolinewidth\":2}}},\"xaxis\":{\"anchor\":\"y\",\"domain\":[0.0,0.45]},\"yaxis\":{\"anchor\":\"x\",\"domain\":[0.0,1.0],\"range\":[0,1]},\"xaxis2\":{\"anchor\":\"y2\",\"domain\":[0.55,1.0]},\"yaxis2\":{\"anchor\":\"x2\",\"domain\":[0.0,1.0],\"range\":[0,1]},\"annotations\":[{\"font\":{\"size\":16},\"showarrow\":false,\"text\":\"Human-written story\",\"x\":0.225,\"xanchor\":\"center\",\"xref\":\"paper\",\"y\":1.0,\"yanchor\":\"bottom\",\"yref\":\"paper\"},{\"font\":{\"size\":16},\"showarrow\":false,\"text\":\"Model-generated story\",\"x\":0.775,\"xanchor\":\"center\",\"xref\":\"paper\",\"y\":1.0,\"yanchor\":\"bottom\",\"yref\":\"paper\"}],\"legend\":{\"groupclick\":\"toggleitem\"},\"height\":600,\"title\":{\"text\":\"Human vs Model emotion trajectories - Two people promise their first born child to two different witches in return for a favour. These two people end up getting married and have a child together.\"}},                        {\"responsive\": true}                    ).then(function(){\n",
       "                            \n",
       "var gd = document.getElementById('fb971879-0a00-47ef-9dbc-2eef27862b86');\n",
       "var x = new MutationObserver(function (mutations, observer) {{\n",
       "        var display = window.getComputedStyle(gd).display;\n",
       "        if (!display || display === 'none') {{\n",
       "            console.log([gd, 'removed!']);\n",
       "            Plotly.purge(gd);\n",
       "            observer.disconnect();\n",
       "        }}\n",
       "}});\n",
       "\n",
       "// Listen for the removal of the full notebook cells\n",
       "var notebookContainer = gd.closest('#notebook-container');\n",
       "if (notebookContainer) {{\n",
       "    x.observe(notebookContainer, {childList: true});\n",
       "}}\n",
       "\n",
       "// Listen for the clearing of the current output cell\n",
       "var outputEl = gd.closest('.output');\n",
       "if (outputEl) {{\n",
       "    x.observe(outputEl, {childList: true});\n",
       "}}\n",
       "\n",
       "                        })                };                });            </script>        </div>"
      ]
     },
     "metadata": {},
     "output_type": "display_data"
    }
   ],
   "source": [
    "def draw_human_model_emotion_trajectories(human_story_example, model_story_examples, prompt):\n",
    "    # Create a 1x2 subplot\n",
    "    fig = make_subplots(rows=1, cols=2, subplot_titles=(\"Human-written story\", \"Model-generated story\"))\n",
    "\n",
    "    # Add Human traces (group by emotion)\n",
    "    human_story_example = human_story_example.iloc[0]\n",
    "    for emotion in plutchik_emotions:\n",
    "        score_list = human_story_example[emotion]\n",
    "        score_list_len = len(score_list)\n",
    "        fig.add_trace(\n",
    "            go.Scatter(\n",
    "                x=list(range(1, score_list_len+1)),\n",
    "                y=score_list,\n",
    "                mode=\"lines+markers\",\n",
    "                name=f\"Human - {emotion}\",\n",
    "                legendgroup=\"Human\",\n",
    "                visible=\"legendonly\"\n",
    "            ),\n",
    "            row=1,\n",
    "            col=1,\n",
    "        )\n",
    "\n",
    "    # Add Model traces (group by emotion)\n",
    "    for _, model_story_example in model_story_examples.iterrows():\n",
    "        model_name = model_story_example[\"Model\"]\n",
    "        for emotion in plutchik_emotions:\n",
    "            score_list = model_story_example[emotion]\n",
    "            score_list_len = len(score_list)\n",
    "            fig.add_trace(\n",
    "                go.Scatter(\n",
    "                    x=list(range(1, score_list_len+1)),\n",
    "                    y=score_list,\n",
    "                    mode=\"lines+markers\",\n",
    "                    name=f\"{model_name} - {emotion}\",\n",
    "                    legendgroup=model_name,\n",
    "                    visible=\"legendonly\"\n",
    "                ),\n",
    "                row=1,\n",
    "                col=2,\n",
    "            )\n",
    "\n",
    "    # Update layout with interactive legend settings\n",
    "    fig.update_layout(\n",
    "        height=600,\n",
    "        title=f\"Human vs Model emotion trajectories - {prompt}\",\n",
    "        template=\"plotly_dark\",\n",
    "        yaxis=dict(range=[0, 1]),\n",
    "        yaxis2=dict(range=[0, 1]),\n",
    "        legend=dict(\n",
    "            groupclick=\"toggleitem\",\n",
    "        ),\n",
    "    )\n",
    "\n",
    "    fig.show()\n",
    "\n",
    "\n",
    "draw_human_model_emotion_trajectories(human_story_example, model_story_examples, prompt)"
   ]
  },
  {
   "cell_type": "markdown",
   "metadata": {},
   "source": [
    "## Single Story Analysis"
   ]
  },
  {
   "cell_type": "code",
   "execution_count": 194,
   "metadata": {},
   "outputs": [
    {
     "data": {
      "text/html": [
       "<div>\n",
       "<style scoped>\n",
       "    .dataframe tbody tr th:only-of-type {\n",
       "        vertical-align: middle;\n",
       "    }\n",
       "\n",
       "    .dataframe tbody tr th {\n",
       "        vertical-align: top;\n",
       "    }\n",
       "\n",
       "    .dataframe thead th {\n",
       "        text-align: right;\n",
       "    }\n",
       "</style>\n",
       "<table border=\"1\" class=\"dataframe\">\n",
       "  <thead>\n",
       "    <tr style=\"text-align: right;\">\n",
       "      <th></th>\n",
       "      <th>Unnamed: 0</th>\n",
       "      <th>Prompt</th>\n",
       "      <th>Story</th>\n",
       "      <th>Model</th>\n",
       "      <th>Length</th>\n",
       "      <th>Sentences</th>\n",
       "      <th>Sentences Length</th>\n",
       "      <th>anger</th>\n",
       "      <th>anticipation</th>\n",
       "      <th>joy</th>\n",
       "      <th>trust</th>\n",
       "      <th>fear</th>\n",
       "      <th>surprise</th>\n",
       "      <th>sadness</th>\n",
       "      <th>disgust</th>\n",
       "    </tr>\n",
       "  </thead>\n",
       "  <tbody>\n",
       "    <tr>\n",
       "      <th>7</th>\n",
       "      <td>7</td>\n",
       "      <td>Two people promise their first born child to t...</td>\n",
       "      <td>**Prelude: ** “Brujeria ,” they said, looking ...</td>\n",
       "      <td>Human</td>\n",
       "      <td>4383</td>\n",
       "      <td>['**Prelude: ** “Brujeria ,” they said, lookin...</td>\n",
       "      <td>53</td>\n",
       "      <td>[0.375, 0.375, 0.36483673469387756, 0.30724489...</td>\n",
       "      <td>[0.354, 0.396, 0.39648979591836736, 0.39926530...</td>\n",
       "      <td>[0.292, 0.37885714285714284, 0.408857142857142...</td>\n",
       "      <td>[0.396, 0.3985714285714286, 0.4328571428571429...</td>\n",
       "      <td>[0.375, 0.396, 0.40616326530612246, 0.47146938...</td>\n",
       "      <td>[0.396, 0.43689795918367347, 0.414489795918367...</td>\n",
       "      <td>[0.375, 0.396, 0.40114285714285713, 0.438, 0.4...</td>\n",
       "      <td>[0.396, 0.396, 0.383265306122449, 0.3111020408...</td>\n",
       "    </tr>\n",
       "    <tr>\n",
       "      <th>7</th>\n",
       "      <td>7</td>\n",
       "      <td>Two people promise their first born child to t...</td>\n",
       "      <td>Great! Please provide me with more details li...</td>\n",
       "      <td>Llama-7b</td>\n",
       "      <td>4156</td>\n",
       "      <td>[' Great!', 'Please provide me with more detai...</td>\n",
       "      <td>44</td>\n",
       "      <td>[0.292, 0.38326530612244897, 0.396, 0.33020408...</td>\n",
       "      <td>[0.32, 0.45953061224489794, 0.4163265306122449...</td>\n",
       "      <td>[0.438, 0.402, 0.426, 0.41400000000000003, 0.3...</td>\n",
       "      <td>[0.438, 0.438, 0.48481632653061224, 0.43420408...</td>\n",
       "      <td>[0.292, 0.42012244897959183, 0.407040816326530...</td>\n",
       "      <td>[0.396, 0.46883673469387754, 0.416326530612244...</td>\n",
       "      <td>[0.292, 0.38326530612244897, 0.396, 0.38271428...</td>\n",
       "      <td>[0.292, 0.38326530612244897, 0.364285714285714...</td>\n",
       "    </tr>\n",
       "    <tr>\n",
       "      <th>103</th>\n",
       "      <td>103</td>\n",
       "      <td>Two people promise their first born child to t...</td>\n",
       "      <td>\\n\\nOnce upon a time, in a small village nestl...</td>\n",
       "      <td>Mistral-7b</td>\n",
       "      <td>3306</td>\n",
       "      <td>['\\n\\nOnce upon a time, in a small village nes...</td>\n",
       "      <td>28</td>\n",
       "      <td>[0.29, 0.33683673469387754, 0.3602040816326530...</td>\n",
       "      <td>[0.292, 0.3493061224489796, 0.3902857142857143...</td>\n",
       "      <td>[0.29, 0.32526530612244897, 0.3578775510204081...</td>\n",
       "      <td>[0.396, 0.41914285714285715, 0.438, 0.438, 0.4...</td>\n",
       "      <td>[0.396, 0.396, 0.38518367346938776, 0.32677551...</td>\n",
       "      <td>[0.396, 0.396, 0.396, 0.396, 0.404571428571428...</td>\n",
       "      <td>[0.29, 0.37155102040816324, 0.4228979591836734...</td>\n",
       "      <td>[0.29, 0.3484081632653061, 0.376, 0.268, 0.231...</td>\n",
       "    </tr>\n",
       "    <tr>\n",
       "      <th>199</th>\n",
       "      <td>199</td>\n",
       "      <td>Two people promise their first born child to t...</td>\n",
       "      <td>\"The Bargain of Two Souls\"\\n\\nOnce upon a tim...</td>\n",
       "      <td>Beluga-13b</td>\n",
       "      <td>2775</td>\n",
       "      <td>[' \"The Bargain of Two Souls\"\\n\\nOnce upon a t...</td>\n",
       "      <td>24</td>\n",
       "      <td>[0.29, 0.2909387755102041, 0.29187755102040813...</td>\n",
       "      <td>[0.36, 0.3787755102040816, 0.39755102040816326...</td>\n",
       "      <td>[0.29, 0.28061224489795916, 0.2712244897959184...</td>\n",
       "      <td>[0.375, 0.38673469387755105, 0.398469387755102...</td>\n",
       "      <td>[0.438, 0.4084285714285714, 0.3788571428571428...</td>\n",
       "      <td>[0.396, 0.4157142857142857, 0.4354285714285714...</td>\n",
       "      <td>[0.396, 0.396, 0.396, 0.37885714285714284, 0.3...</td>\n",
       "      <td>[0.375, 0.3360408163265306, 0.2970816326530612...</td>\n",
       "    </tr>\n",
       "    <tr>\n",
       "      <th>295</th>\n",
       "      <td>295</td>\n",
       "      <td>Two people promise their first born child to t...</td>\n",
       "      <td>Once upon a time, in a quiet little village, ...</td>\n",
       "      <td>OrcaPlatypus-13b</td>\n",
       "      <td>2934</td>\n",
       "      <td>[' Once upon a time, in a quiet little village...</td>\n",
       "      <td>31</td>\n",
       "      <td>[0.29, 0.2777551020408163, 0.2935714285714286,...</td>\n",
       "      <td>[0.292, 0.30914285714285716, 0.337061224489795...</td>\n",
       "      <td>[0.34, 0.4524489795918367, 0.4748979591836735,...</td>\n",
       "      <td>[0.396, 0.5698775510204082, 0.611530612244898,...</td>\n",
       "      <td>[0.29, 0.25326530612244896, 0.2625510204081632...</td>\n",
       "      <td>[0.29, 0.3083673469387755, 0.34648979591836737...</td>\n",
       "      <td>[0.29, 0.29122448979591836, 0.3247755102040816...</td>\n",
       "      <td>[0.292, 0.2356734693877551, 0.2206530612244898...</td>\n",
       "    </tr>\n",
       "  </tbody>\n",
       "</table>\n",
       "</div>"
      ],
      "text/plain": [
       "     Unnamed: 0                                             Prompt  \\\n",
       "7             7  Two people promise their first born child to t...   \n",
       "7             7  Two people promise their first born child to t...   \n",
       "103         103  Two people promise their first born child to t...   \n",
       "199         199  Two people promise their first born child to t...   \n",
       "295         295  Two people promise their first born child to t...   \n",
       "\n",
       "                                                 Story             Model  \\\n",
       "7    **Prelude: ** “Brujeria ,” they said, looking ...             Human   \n",
       "7     Great! Please provide me with more details li...          Llama-7b   \n",
       "103  \\n\\nOnce upon a time, in a small village nestl...        Mistral-7b   \n",
       "199   \"The Bargain of Two Souls\"\\n\\nOnce upon a tim...        Beluga-13b   \n",
       "295   Once upon a time, in a quiet little village, ...  OrcaPlatypus-13b   \n",
       "\n",
       "     Length                                          Sentences  \\\n",
       "7      4383  ['**Prelude: ** “Brujeria ,” they said, lookin...   \n",
       "7      4156  [' Great!', 'Please provide me with more detai...   \n",
       "103    3306  ['\\n\\nOnce upon a time, in a small village nes...   \n",
       "199    2775  [' \"The Bargain of Two Souls\"\\n\\nOnce upon a t...   \n",
       "295    2934  [' Once upon a time, in a quiet little village...   \n",
       "\n",
       "     Sentences Length                                              anger  \\\n",
       "7                  53  [0.375, 0.375, 0.36483673469387756, 0.30724489...   \n",
       "7                  44  [0.292, 0.38326530612244897, 0.396, 0.33020408...   \n",
       "103                28  [0.29, 0.33683673469387754, 0.3602040816326530...   \n",
       "199                24  [0.29, 0.2909387755102041, 0.29187755102040813...   \n",
       "295                31  [0.29, 0.2777551020408163, 0.2935714285714286,...   \n",
       "\n",
       "                                          anticipation  \\\n",
       "7    [0.354, 0.396, 0.39648979591836736, 0.39926530...   \n",
       "7    [0.32, 0.45953061224489794, 0.4163265306122449...   \n",
       "103  [0.292, 0.3493061224489796, 0.3902857142857143...   \n",
       "199  [0.36, 0.3787755102040816, 0.39755102040816326...   \n",
       "295  [0.292, 0.30914285714285716, 0.337061224489795...   \n",
       "\n",
       "                                                   joy  \\\n",
       "7    [0.292, 0.37885714285714284, 0.408857142857142...   \n",
       "7    [0.438, 0.402, 0.426, 0.41400000000000003, 0.3...   \n",
       "103  [0.29, 0.32526530612244897, 0.3578775510204081...   \n",
       "199  [0.29, 0.28061224489795916, 0.2712244897959184...   \n",
       "295  [0.34, 0.4524489795918367, 0.4748979591836735,...   \n",
       "\n",
       "                                                 trust  \\\n",
       "7    [0.396, 0.3985714285714286, 0.4328571428571429...   \n",
       "7    [0.438, 0.438, 0.48481632653061224, 0.43420408...   \n",
       "103  [0.396, 0.41914285714285715, 0.438, 0.438, 0.4...   \n",
       "199  [0.375, 0.38673469387755105, 0.398469387755102...   \n",
       "295  [0.396, 0.5698775510204082, 0.611530612244898,...   \n",
       "\n",
       "                                                  fear  \\\n",
       "7    [0.375, 0.396, 0.40616326530612246, 0.47146938...   \n",
       "7    [0.292, 0.42012244897959183, 0.407040816326530...   \n",
       "103  [0.396, 0.396, 0.38518367346938776, 0.32677551...   \n",
       "199  [0.438, 0.4084285714285714, 0.3788571428571428...   \n",
       "295  [0.29, 0.25326530612244896, 0.2625510204081632...   \n",
       "\n",
       "                                              surprise  \\\n",
       "7    [0.396, 0.43689795918367347, 0.414489795918367...   \n",
       "7    [0.396, 0.46883673469387754, 0.416326530612244...   \n",
       "103  [0.396, 0.396, 0.396, 0.396, 0.404571428571428...   \n",
       "199  [0.396, 0.4157142857142857, 0.4354285714285714...   \n",
       "295  [0.29, 0.3083673469387755, 0.34648979591836737...   \n",
       "\n",
       "                                               sadness  \\\n",
       "7    [0.375, 0.396, 0.40114285714285713, 0.438, 0.4...   \n",
       "7    [0.292, 0.38326530612244897, 0.396, 0.38271428...   \n",
       "103  [0.29, 0.37155102040816324, 0.4228979591836734...   \n",
       "199  [0.396, 0.396, 0.396, 0.37885714285714284, 0.3...   \n",
       "295  [0.29, 0.29122448979591836, 0.3247755102040816...   \n",
       "\n",
       "                                               disgust  \n",
       "7    [0.396, 0.396, 0.383265306122449, 0.3111020408...  \n",
       "7    [0.292, 0.38326530612244897, 0.364285714285714...  \n",
       "103  [0.29, 0.3484081632653061, 0.376, 0.268, 0.231...  \n",
       "199  [0.375, 0.3360408163265306, 0.2970816326530612...  \n",
       "295  [0.292, 0.2356734693877551, 0.2206530612244898...  "
      ]
     },
     "execution_count": 194,
     "metadata": {},
     "output_type": "execute_result"
    }
   ],
   "source": [
    "# View the data\n",
    "concated_example_df.head()"
   ]
  },
  {
   "cell_type": "markdown",
   "metadata": {},
   "source": [
    "## 1. Mean-Std Analysis "
   ]
  },
  {
   "cell_type": "markdown",
   "metadata": {},
   "source": [
    "* Mean: emotion's average intensity across whole story\n",
    "* Std: emotion's intensity variation or consistency across whole story"
   ]
  },
  {
   "cell_type": "code",
   "execution_count": 195,
   "metadata": {},
   "outputs": [
    {
     "data": {
      "application/vnd.plotly.v1+json": {
       "config": {
        "plotlyServerURL": "https://plot.ly"
       },
       "data": [
        {
         "error_y": {
          "array": [
           0.04036943079576234,
           0.0533168571933361,
           0.04454512647168234,
           0.05235966897600641,
           0.045415880538432936,
           0.04187603350872656,
           0.048995095099136486
          ],
          "type": "data"
         },
         "name": "Anger (Mean ± Std)",
         "type": "bar",
         "x": [
          "Human",
          "Llama-7b",
          "Mistral-7b",
          "Beluga-13b",
          "OrcaPlatypus-13b",
          "LlamaInstruct-30b",
          "Platypus2-70b"
         ],
         "xaxis": "x",
         "y": [
          0.33636897959183676,
          0.3455118367346939,
          0.30892040816326527,
          0.3238159183673469,
          0.3311804081632653,
          0.31507755102040813,
          0.3181767346938775
         ],
         "yaxis": "y"
        },
        {
         "error_y": {
          "array": [
           0.03260647793509665,
           0.040395429576816556,
           0.045772791344733894,
           0.03455850468983482,
           0.0490546161802986,
           0.04866256171623459,
           0.034692951394600866
          ],
          "type": "data"
         },
         "name": "Anticipation (Mean ± Std)",
         "type": "bar",
         "x": [
          "Human",
          "Llama-7b",
          "Mistral-7b",
          "Beluga-13b",
          "OrcaPlatypus-13b",
          "LlamaInstruct-30b",
          "Platypus2-70b"
         ],
         "xaxis": "x",
         "y": [
          0.3872375510204082,
          0.3945236734693877,
          0.3747926530612245,
          0.3869126530612245,
          0.3666734693877551,
          0.3583595918367347,
          0.3609865306122449
         ],
         "yaxis": "y"
        },
        {
         "error_y": {
          "array": [
           0.03599346364836371,
           0.05807944775387638,
           0.06679127202331375,
           0.05571600410596609,
           0.05212280081705677,
           0.05912510256455774,
           0.060434457068514996
          ],
          "type": "data"
         },
         "name": "Disgust (Mean ± Std)",
         "type": "bar",
         "x": [
          "Human",
          "Llama-7b",
          "Mistral-7b",
          "Beluga-13b",
          "OrcaPlatypus-13b",
          "LlamaInstruct-30b",
          "Platypus2-70b"
         ],
         "xaxis": "x",
         "y": [
          0.36015591836734695,
          0.34632408163265305,
          0.3224889795918367,
          0.33504326530612244,
          0.3219028571428572,
          0.30758938775510203,
          0.31711346938775514
         ],
         "yaxis": "y"
        },
        {
         "error_y": {
          "array": [
           0.0643234859232311,
           0.07145395416523542,
           0.07959835015211543,
           0.08092756024781343,
           0.057154376111586615,
           0.06533783459123223,
           0.06764205818856349
          ],
          "type": "data"
         },
         "name": "Fear (Mean ± Std)",
         "type": "bar",
         "x": [
          "Human",
          "Llama-7b",
          "Mistral-7b",
          "Beluga-13b",
          "OrcaPlatypus-13b",
          "LlamaInstruct-30b",
          "Platypus2-70b"
         ],
         "xaxis": "x",
         "y": [
          0.40069183673469394,
          0.3939820408163265,
          0.37861020408163265,
          0.3985808163265306,
          0.34997102040816325,
          0.3501379591836735,
          0.36665632653061225
         ],
         "yaxis": "y"
        },
        {
         "error_y": {
          "array": [
           0.07570084220163917,
           0.10573472559154047,
           0.10040968747806112,
           0.11871434859540914,
           0.11321573940923225,
           0.14816103269470982,
           0.15900346034494334
          ],
          "type": "data"
         },
         "name": "Joy (Mean ± Std)",
         "type": "bar",
         "x": [
          "Human",
          "Llama-7b",
          "Mistral-7b",
          "Beluga-13b",
          "OrcaPlatypus-13b",
          "LlamaInstruct-30b",
          "Platypus2-70b"
         ],
         "xaxis": "x",
         "y": [
          0.3339648979591837,
          0.35775999999999997,
          0.3877591836734694,
          0.39204979591836725,
          0.41060367346938775,
          0.42230775510204077,
          0.3788436734693878
         ],
         "yaxis": "y"
        },
        {
         "error_y": {
          "array": [
           0.03874529461831966,
           0.05583504929578338,
           0.054091597771167156,
           0.0544493671558584,
           0.05516700106794355,
           0.06711672611166575,
           0.07763577442168107
          ],
          "type": "data"
         },
         "name": "Sadness (Mean ± Std)",
         "type": "bar",
         "x": [
          "Human",
          "Llama-7b",
          "Mistral-7b",
          "Beluga-13b",
          "OrcaPlatypus-13b",
          "LlamaInstruct-30b",
          "Platypus2-70b"
         ],
         "xaxis": "x",
         "y": [
          0.38689591836734694,
          0.3924763265306123,
          0.35304122448979586,
          0.37344571428571427,
          0.34000326530612246,
          0.32868857142857144,
          0.3591779591836735
         ],
         "yaxis": "y"
        },
        {
         "error_y": {
          "array": [
           0.03833283362137991,
           0.044690492256471995,
           0.048529407746677,
           0.03746396670801659,
           0.05177481384262185,
           0.05669526280466294,
           0.05356698263378412
          ],
          "type": "data"
         },
         "name": "Surprise (Mean ± Std)",
         "type": "bar",
         "x": [
          "Human",
          "Llama-7b",
          "Mistral-7b",
          "Beluga-13b",
          "OrcaPlatypus-13b",
          "LlamaInstruct-30b",
          "Platypus2-70b"
         ],
         "xaxis": "x",
         "y": [
          0.4326440816326531,
          0.4142779591836734,
          0.42164816326530613,
          0.4329644897959184,
          0.408350612244898,
          0.3923016326530612,
          0.3989244897959183
         ],
         "yaxis": "y"
        },
        {
         "error_y": {
          "array": [
           0.041511880278400165,
           0.08200765905657857,
           0.06454112818316203,
           0.048160337759521624,
           0.07132983774529196,
           0.07275131280855762,
           0.082419037057412
          ],
          "type": "data"
         },
         "name": "Trust (Mean ± Std)",
         "type": "bar",
         "x": [
          "Human",
          "Llama-7b",
          "Mistral-7b",
          "Beluga-13b",
          "OrcaPlatypus-13b",
          "LlamaInstruct-30b",
          "Platypus2-70b"
         ],
         "xaxis": "x",
         "y": [
          0.3928481632653061,
          0.4296791836734694,
          0.4500661224489796,
          0.4439657142857143,
          0.4336583673469388,
          0.4607012244897959,
          0.4417824489795919
         ],
         "yaxis": "y"
        }
       ],
       "layout": {
        "annotations": [
         {
          "font": {
           "size": 16
          },
          "showarrow": false,
          "text": "Mean ± Std",
          "x": 0.5,
          "xanchor": "center",
          "xref": "paper",
          "y": 1,
          "yanchor": "bottom",
          "yref": "paper"
         }
        ],
        "height": 600,
        "template": {
         "data": {
          "bar": [
           {
            "error_x": {
             "color": "#f2f5fa"
            },
            "error_y": {
             "color": "#f2f5fa"
            },
            "marker": {
             "line": {
              "color": "rgb(17,17,17)",
              "width": 0.5
             },
             "pattern": {
              "fillmode": "overlay",
              "size": 10,
              "solidity": 0.2
             }
            },
            "type": "bar"
           }
          ],
          "barpolar": [
           {
            "marker": {
             "line": {
              "color": "rgb(17,17,17)",
              "width": 0.5
             },
             "pattern": {
              "fillmode": "overlay",
              "size": 10,
              "solidity": 0.2
             }
            },
            "type": "barpolar"
           }
          ],
          "carpet": [
           {
            "aaxis": {
             "endlinecolor": "#A2B1C6",
             "gridcolor": "#506784",
             "linecolor": "#506784",
             "minorgridcolor": "#506784",
             "startlinecolor": "#A2B1C6"
            },
            "baxis": {
             "endlinecolor": "#A2B1C6",
             "gridcolor": "#506784",
             "linecolor": "#506784",
             "minorgridcolor": "#506784",
             "startlinecolor": "#A2B1C6"
            },
            "type": "carpet"
           }
          ],
          "choropleth": [
           {
            "colorbar": {
             "outlinewidth": 0,
             "ticks": ""
            },
            "type": "choropleth"
           }
          ],
          "contour": [
           {
            "colorbar": {
             "outlinewidth": 0,
             "ticks": ""
            },
            "colorscale": [
             [
              0,
              "#0d0887"
             ],
             [
              0.1111111111111111,
              "#46039f"
             ],
             [
              0.2222222222222222,
              "#7201a8"
             ],
             [
              0.3333333333333333,
              "#9c179e"
             ],
             [
              0.4444444444444444,
              "#bd3786"
             ],
             [
              0.5555555555555556,
              "#d8576b"
             ],
             [
              0.6666666666666666,
              "#ed7953"
             ],
             [
              0.7777777777777778,
              "#fb9f3a"
             ],
             [
              0.8888888888888888,
              "#fdca26"
             ],
             [
              1,
              "#f0f921"
             ]
            ],
            "type": "contour"
           }
          ],
          "contourcarpet": [
           {
            "colorbar": {
             "outlinewidth": 0,
             "ticks": ""
            },
            "type": "contourcarpet"
           }
          ],
          "heatmap": [
           {
            "colorbar": {
             "outlinewidth": 0,
             "ticks": ""
            },
            "colorscale": [
             [
              0,
              "#0d0887"
             ],
             [
              0.1111111111111111,
              "#46039f"
             ],
             [
              0.2222222222222222,
              "#7201a8"
             ],
             [
              0.3333333333333333,
              "#9c179e"
             ],
             [
              0.4444444444444444,
              "#bd3786"
             ],
             [
              0.5555555555555556,
              "#d8576b"
             ],
             [
              0.6666666666666666,
              "#ed7953"
             ],
             [
              0.7777777777777778,
              "#fb9f3a"
             ],
             [
              0.8888888888888888,
              "#fdca26"
             ],
             [
              1,
              "#f0f921"
             ]
            ],
            "type": "heatmap"
           }
          ],
          "heatmapgl": [
           {
            "colorbar": {
             "outlinewidth": 0,
             "ticks": ""
            },
            "colorscale": [
             [
              0,
              "#0d0887"
             ],
             [
              0.1111111111111111,
              "#46039f"
             ],
             [
              0.2222222222222222,
              "#7201a8"
             ],
             [
              0.3333333333333333,
              "#9c179e"
             ],
             [
              0.4444444444444444,
              "#bd3786"
             ],
             [
              0.5555555555555556,
              "#d8576b"
             ],
             [
              0.6666666666666666,
              "#ed7953"
             ],
             [
              0.7777777777777778,
              "#fb9f3a"
             ],
             [
              0.8888888888888888,
              "#fdca26"
             ],
             [
              1,
              "#f0f921"
             ]
            ],
            "type": "heatmapgl"
           }
          ],
          "histogram": [
           {
            "marker": {
             "pattern": {
              "fillmode": "overlay",
              "size": 10,
              "solidity": 0.2
             }
            },
            "type": "histogram"
           }
          ],
          "histogram2d": [
           {
            "colorbar": {
             "outlinewidth": 0,
             "ticks": ""
            },
            "colorscale": [
             [
              0,
              "#0d0887"
             ],
             [
              0.1111111111111111,
              "#46039f"
             ],
             [
              0.2222222222222222,
              "#7201a8"
             ],
             [
              0.3333333333333333,
              "#9c179e"
             ],
             [
              0.4444444444444444,
              "#bd3786"
             ],
             [
              0.5555555555555556,
              "#d8576b"
             ],
             [
              0.6666666666666666,
              "#ed7953"
             ],
             [
              0.7777777777777778,
              "#fb9f3a"
             ],
             [
              0.8888888888888888,
              "#fdca26"
             ],
             [
              1,
              "#f0f921"
             ]
            ],
            "type": "histogram2d"
           }
          ],
          "histogram2dcontour": [
           {
            "colorbar": {
             "outlinewidth": 0,
             "ticks": ""
            },
            "colorscale": [
             [
              0,
              "#0d0887"
             ],
             [
              0.1111111111111111,
              "#46039f"
             ],
             [
              0.2222222222222222,
              "#7201a8"
             ],
             [
              0.3333333333333333,
              "#9c179e"
             ],
             [
              0.4444444444444444,
              "#bd3786"
             ],
             [
              0.5555555555555556,
              "#d8576b"
             ],
             [
              0.6666666666666666,
              "#ed7953"
             ],
             [
              0.7777777777777778,
              "#fb9f3a"
             ],
             [
              0.8888888888888888,
              "#fdca26"
             ],
             [
              1,
              "#f0f921"
             ]
            ],
            "type": "histogram2dcontour"
           }
          ],
          "mesh3d": [
           {
            "colorbar": {
             "outlinewidth": 0,
             "ticks": ""
            },
            "type": "mesh3d"
           }
          ],
          "parcoords": [
           {
            "line": {
             "colorbar": {
              "outlinewidth": 0,
              "ticks": ""
             }
            },
            "type": "parcoords"
           }
          ],
          "pie": [
           {
            "automargin": true,
            "type": "pie"
           }
          ],
          "scatter": [
           {
            "marker": {
             "line": {
              "color": "#283442"
             }
            },
            "type": "scatter"
           }
          ],
          "scatter3d": [
           {
            "line": {
             "colorbar": {
              "outlinewidth": 0,
              "ticks": ""
             }
            },
            "marker": {
             "colorbar": {
              "outlinewidth": 0,
              "ticks": ""
             }
            },
            "type": "scatter3d"
           }
          ],
          "scattercarpet": [
           {
            "marker": {
             "colorbar": {
              "outlinewidth": 0,
              "ticks": ""
             }
            },
            "type": "scattercarpet"
           }
          ],
          "scattergeo": [
           {
            "marker": {
             "colorbar": {
              "outlinewidth": 0,
              "ticks": ""
             }
            },
            "type": "scattergeo"
           }
          ],
          "scattergl": [
           {
            "marker": {
             "line": {
              "color": "#283442"
             }
            },
            "type": "scattergl"
           }
          ],
          "scattermapbox": [
           {
            "marker": {
             "colorbar": {
              "outlinewidth": 0,
              "ticks": ""
             }
            },
            "type": "scattermapbox"
           }
          ],
          "scatterpolar": [
           {
            "marker": {
             "colorbar": {
              "outlinewidth": 0,
              "ticks": ""
             }
            },
            "type": "scatterpolar"
           }
          ],
          "scatterpolargl": [
           {
            "marker": {
             "colorbar": {
              "outlinewidth": 0,
              "ticks": ""
             }
            },
            "type": "scatterpolargl"
           }
          ],
          "scatterternary": [
           {
            "marker": {
             "colorbar": {
              "outlinewidth": 0,
              "ticks": ""
             }
            },
            "type": "scatterternary"
           }
          ],
          "surface": [
           {
            "colorbar": {
             "outlinewidth": 0,
             "ticks": ""
            },
            "colorscale": [
             [
              0,
              "#0d0887"
             ],
             [
              0.1111111111111111,
              "#46039f"
             ],
             [
              0.2222222222222222,
              "#7201a8"
             ],
             [
              0.3333333333333333,
              "#9c179e"
             ],
             [
              0.4444444444444444,
              "#bd3786"
             ],
             [
              0.5555555555555556,
              "#d8576b"
             ],
             [
              0.6666666666666666,
              "#ed7953"
             ],
             [
              0.7777777777777778,
              "#fb9f3a"
             ],
             [
              0.8888888888888888,
              "#fdca26"
             ],
             [
              1,
              "#f0f921"
             ]
            ],
            "type": "surface"
           }
          ],
          "table": [
           {
            "cells": {
             "fill": {
              "color": "#506784"
             },
             "line": {
              "color": "rgb(17,17,17)"
             }
            },
            "header": {
             "fill": {
              "color": "#2a3f5f"
             },
             "line": {
              "color": "rgb(17,17,17)"
             }
            },
            "type": "table"
           }
          ]
         },
         "layout": {
          "annotationdefaults": {
           "arrowcolor": "#f2f5fa",
           "arrowhead": 0,
           "arrowwidth": 1
          },
          "autotypenumbers": "strict",
          "coloraxis": {
           "colorbar": {
            "outlinewidth": 0,
            "ticks": ""
           }
          },
          "colorscale": {
           "diverging": [
            [
             0,
             "#8e0152"
            ],
            [
             0.1,
             "#c51b7d"
            ],
            [
             0.2,
             "#de77ae"
            ],
            [
             0.3,
             "#f1b6da"
            ],
            [
             0.4,
             "#fde0ef"
            ],
            [
             0.5,
             "#f7f7f7"
            ],
            [
             0.6,
             "#e6f5d0"
            ],
            [
             0.7,
             "#b8e186"
            ],
            [
             0.8,
             "#7fbc41"
            ],
            [
             0.9,
             "#4d9221"
            ],
            [
             1,
             "#276419"
            ]
           ],
           "sequential": [
            [
             0,
             "#0d0887"
            ],
            [
             0.1111111111111111,
             "#46039f"
            ],
            [
             0.2222222222222222,
             "#7201a8"
            ],
            [
             0.3333333333333333,
             "#9c179e"
            ],
            [
             0.4444444444444444,
             "#bd3786"
            ],
            [
             0.5555555555555556,
             "#d8576b"
            ],
            [
             0.6666666666666666,
             "#ed7953"
            ],
            [
             0.7777777777777778,
             "#fb9f3a"
            ],
            [
             0.8888888888888888,
             "#fdca26"
            ],
            [
             1,
             "#f0f921"
            ]
           ],
           "sequentialminus": [
            [
             0,
             "#0d0887"
            ],
            [
             0.1111111111111111,
             "#46039f"
            ],
            [
             0.2222222222222222,
             "#7201a8"
            ],
            [
             0.3333333333333333,
             "#9c179e"
            ],
            [
             0.4444444444444444,
             "#bd3786"
            ],
            [
             0.5555555555555556,
             "#d8576b"
            ],
            [
             0.6666666666666666,
             "#ed7953"
            ],
            [
             0.7777777777777778,
             "#fb9f3a"
            ],
            [
             0.8888888888888888,
             "#fdca26"
            ],
            [
             1,
             "#f0f921"
            ]
           ]
          },
          "colorway": [
           "#636efa",
           "#EF553B",
           "#00cc96",
           "#ab63fa",
           "#FFA15A",
           "#19d3f3",
           "#FF6692",
           "#B6E880",
           "#FF97FF",
           "#FECB52"
          ],
          "font": {
           "color": "#f2f5fa"
          },
          "geo": {
           "bgcolor": "rgb(17,17,17)",
           "lakecolor": "rgb(17,17,17)",
           "landcolor": "rgb(17,17,17)",
           "showlakes": true,
           "showland": true,
           "subunitcolor": "#506784"
          },
          "hoverlabel": {
           "align": "left"
          },
          "hovermode": "closest",
          "mapbox": {
           "style": "dark"
          },
          "paper_bgcolor": "rgb(17,17,17)",
          "plot_bgcolor": "rgb(17,17,17)",
          "polar": {
           "angularaxis": {
            "gridcolor": "#506784",
            "linecolor": "#506784",
            "ticks": ""
           },
           "bgcolor": "rgb(17,17,17)",
           "radialaxis": {
            "gridcolor": "#506784",
            "linecolor": "#506784",
            "ticks": ""
           }
          },
          "scene": {
           "xaxis": {
            "backgroundcolor": "rgb(17,17,17)",
            "gridcolor": "#506784",
            "gridwidth": 2,
            "linecolor": "#506784",
            "showbackground": true,
            "ticks": "",
            "zerolinecolor": "#C8D4E3"
           },
           "yaxis": {
            "backgroundcolor": "rgb(17,17,17)",
            "gridcolor": "#506784",
            "gridwidth": 2,
            "linecolor": "#506784",
            "showbackground": true,
            "ticks": "",
            "zerolinecolor": "#C8D4E3"
           },
           "zaxis": {
            "backgroundcolor": "rgb(17,17,17)",
            "gridcolor": "#506784",
            "gridwidth": 2,
            "linecolor": "#506784",
            "showbackground": true,
            "ticks": "",
            "zerolinecolor": "#C8D4E3"
           }
          },
          "shapedefaults": {
           "line": {
            "color": "#f2f5fa"
           }
          },
          "sliderdefaults": {
           "bgcolor": "#C8D4E3",
           "bordercolor": "rgb(17,17,17)",
           "borderwidth": 1,
           "tickwidth": 0
          },
          "ternary": {
           "aaxis": {
            "gridcolor": "#506784",
            "linecolor": "#506784",
            "ticks": ""
           },
           "baxis": {
            "gridcolor": "#506784",
            "linecolor": "#506784",
            "ticks": ""
           },
           "bgcolor": "rgb(17,17,17)",
           "caxis": {
            "gridcolor": "#506784",
            "linecolor": "#506784",
            "ticks": ""
           }
          },
          "title": {
           "x": 0.05
          },
          "updatemenudefaults": {
           "bgcolor": "#506784",
           "borderwidth": 0
          },
          "xaxis": {
           "automargin": true,
           "gridcolor": "#283442",
           "linecolor": "#506784",
           "ticks": "",
           "title": {
            "standoff": 15
           },
           "zerolinecolor": "#283442",
           "zerolinewidth": 2
          },
          "yaxis": {
           "automargin": true,
           "gridcolor": "#283442",
           "linecolor": "#506784",
           "ticks": "",
           "title": {
            "standoff": 15
           },
           "zerolinecolor": "#283442",
           "zerolinewidth": 2
          }
         }
        },
        "title": {
         "text": "Emotion Mean ± Std Across Stories"
        },
        "xaxis": {
         "anchor": "y",
         "domain": [
          0,
          1
         ],
         "title": {
          "text": "Story Source (Human vs Model)"
         }
        },
        "yaxis": {
         "anchor": "x",
         "domain": [
          0,
          1
         ],
         "dtick": 0.05,
         "range": [
          0.2,
          0.6
         ],
         "tick0": 0.2,
         "title": {
          "text": "Emotion Intensity"
         }
        }
       }
      },
      "text/html": [
       "<div>                            <div id=\"c9e005fc-cb4e-488b-bf43-275839ffd137\" class=\"plotly-graph-div\" style=\"height:600px; width:100%;\"></div>            <script type=\"text/javascript\">                require([\"plotly\"], function(Plotly) {                    window.PLOTLYENV=window.PLOTLYENV || {};                                    if (document.getElementById(\"c9e005fc-cb4e-488b-bf43-275839ffd137\")) {                    Plotly.newPlot(                        \"c9e005fc-cb4e-488b-bf43-275839ffd137\",                        [{\"error_y\":{\"array\":[0.04036943079576234,0.0533168571933361,0.04454512647168234,0.05235966897600641,0.045415880538432936,0.04187603350872656,0.048995095099136486],\"type\":\"data\"},\"name\":\"Anger (Mean \\u00b1 Std)\",\"x\":[\"Human\",\"Llama-7b\",\"Mistral-7b\",\"Beluga-13b\",\"OrcaPlatypus-13b\",\"LlamaInstruct-30b\",\"Platypus2-70b\"],\"y\":[0.33636897959183676,0.3455118367346939,0.30892040816326527,0.3238159183673469,0.3311804081632653,0.31507755102040813,0.3181767346938775],\"type\":\"bar\",\"xaxis\":\"x\",\"yaxis\":\"y\"},{\"error_y\":{\"array\":[0.03260647793509665,0.040395429576816556,0.045772791344733894,0.03455850468983482,0.0490546161802986,0.04866256171623459,0.034692951394600866],\"type\":\"data\"},\"name\":\"Anticipation (Mean \\u00b1 Std)\",\"x\":[\"Human\",\"Llama-7b\",\"Mistral-7b\",\"Beluga-13b\",\"OrcaPlatypus-13b\",\"LlamaInstruct-30b\",\"Platypus2-70b\"],\"y\":[0.3872375510204082,0.3945236734693877,0.3747926530612245,0.3869126530612245,0.3666734693877551,0.3583595918367347,0.3609865306122449],\"type\":\"bar\",\"xaxis\":\"x\",\"yaxis\":\"y\"},{\"error_y\":{\"array\":[0.03599346364836371,0.05807944775387638,0.06679127202331375,0.05571600410596609,0.05212280081705677,0.05912510256455774,0.060434457068514996],\"type\":\"data\"},\"name\":\"Disgust (Mean \\u00b1 Std)\",\"x\":[\"Human\",\"Llama-7b\",\"Mistral-7b\",\"Beluga-13b\",\"OrcaPlatypus-13b\",\"LlamaInstruct-30b\",\"Platypus2-70b\"],\"y\":[0.36015591836734695,0.34632408163265305,0.3224889795918367,0.33504326530612244,0.3219028571428572,0.30758938775510203,0.31711346938775514],\"type\":\"bar\",\"xaxis\":\"x\",\"yaxis\":\"y\"},{\"error_y\":{\"array\":[0.0643234859232311,0.07145395416523542,0.07959835015211543,0.08092756024781343,0.057154376111586615,0.06533783459123223,0.06764205818856349],\"type\":\"data\"},\"name\":\"Fear (Mean \\u00b1 Std)\",\"x\":[\"Human\",\"Llama-7b\",\"Mistral-7b\",\"Beluga-13b\",\"OrcaPlatypus-13b\",\"LlamaInstruct-30b\",\"Platypus2-70b\"],\"y\":[0.40069183673469394,0.3939820408163265,0.37861020408163265,0.3985808163265306,0.34997102040816325,0.3501379591836735,0.36665632653061225],\"type\":\"bar\",\"xaxis\":\"x\",\"yaxis\":\"y\"},{\"error_y\":{\"array\":[0.07570084220163917,0.10573472559154047,0.10040968747806112,0.11871434859540914,0.11321573940923225,0.14816103269470982,0.15900346034494334],\"type\":\"data\"},\"name\":\"Joy (Mean \\u00b1 Std)\",\"x\":[\"Human\",\"Llama-7b\",\"Mistral-7b\",\"Beluga-13b\",\"OrcaPlatypus-13b\",\"LlamaInstruct-30b\",\"Platypus2-70b\"],\"y\":[0.3339648979591837,0.35775999999999997,0.3877591836734694,0.39204979591836725,0.41060367346938775,0.42230775510204077,0.3788436734693878],\"type\":\"bar\",\"xaxis\":\"x\",\"yaxis\":\"y\"},{\"error_y\":{\"array\":[0.03874529461831966,0.05583504929578338,0.054091597771167156,0.0544493671558584,0.05516700106794355,0.06711672611166575,0.07763577442168107],\"type\":\"data\"},\"name\":\"Sadness (Mean \\u00b1 Std)\",\"x\":[\"Human\",\"Llama-7b\",\"Mistral-7b\",\"Beluga-13b\",\"OrcaPlatypus-13b\",\"LlamaInstruct-30b\",\"Platypus2-70b\"],\"y\":[0.38689591836734694,0.3924763265306123,0.35304122448979586,0.37344571428571427,0.34000326530612246,0.32868857142857144,0.3591779591836735],\"type\":\"bar\",\"xaxis\":\"x\",\"yaxis\":\"y\"},{\"error_y\":{\"array\":[0.03833283362137991,0.044690492256471995,0.048529407746677,0.03746396670801659,0.05177481384262185,0.05669526280466294,0.05356698263378412],\"type\":\"data\"},\"name\":\"Surprise (Mean \\u00b1 Std)\",\"x\":[\"Human\",\"Llama-7b\",\"Mistral-7b\",\"Beluga-13b\",\"OrcaPlatypus-13b\",\"LlamaInstruct-30b\",\"Platypus2-70b\"],\"y\":[0.4326440816326531,0.4142779591836734,0.42164816326530613,0.4329644897959184,0.408350612244898,0.3923016326530612,0.3989244897959183],\"type\":\"bar\",\"xaxis\":\"x\",\"yaxis\":\"y\"},{\"error_y\":{\"array\":[0.041511880278400165,0.08200765905657857,0.06454112818316203,0.048160337759521624,0.07132983774529196,0.07275131280855762,0.082419037057412],\"type\":\"data\"},\"name\":\"Trust (Mean \\u00b1 Std)\",\"x\":[\"Human\",\"Llama-7b\",\"Mistral-7b\",\"Beluga-13b\",\"OrcaPlatypus-13b\",\"LlamaInstruct-30b\",\"Platypus2-70b\"],\"y\":[0.3928481632653061,0.4296791836734694,0.4500661224489796,0.4439657142857143,0.4336583673469388,0.4607012244897959,0.4417824489795919],\"type\":\"bar\",\"xaxis\":\"x\",\"yaxis\":\"y\"}],                        {\"template\":{\"data\":{\"barpolar\":[{\"marker\":{\"line\":{\"color\":\"rgb(17,17,17)\",\"width\":0.5},\"pattern\":{\"fillmode\":\"overlay\",\"size\":10,\"solidity\":0.2}},\"type\":\"barpolar\"}],\"bar\":[{\"error_x\":{\"color\":\"#f2f5fa\"},\"error_y\":{\"color\":\"#f2f5fa\"},\"marker\":{\"line\":{\"color\":\"rgb(17,17,17)\",\"width\":0.5},\"pattern\":{\"fillmode\":\"overlay\",\"size\":10,\"solidity\":0.2}},\"type\":\"bar\"}],\"carpet\":[{\"aaxis\":{\"endlinecolor\":\"#A2B1C6\",\"gridcolor\":\"#506784\",\"linecolor\":\"#506784\",\"minorgridcolor\":\"#506784\",\"startlinecolor\":\"#A2B1C6\"},\"baxis\":{\"endlinecolor\":\"#A2B1C6\",\"gridcolor\":\"#506784\",\"linecolor\":\"#506784\",\"minorgridcolor\":\"#506784\",\"startlinecolor\":\"#A2B1C6\"},\"type\":\"carpet\"}],\"choropleth\":[{\"colorbar\":{\"outlinewidth\":0,\"ticks\":\"\"},\"type\":\"choropleth\"}],\"contourcarpet\":[{\"colorbar\":{\"outlinewidth\":0,\"ticks\":\"\"},\"type\":\"contourcarpet\"}],\"contour\":[{\"colorbar\":{\"outlinewidth\":0,\"ticks\":\"\"},\"colorscale\":[[0.0,\"#0d0887\"],[0.1111111111111111,\"#46039f\"],[0.2222222222222222,\"#7201a8\"],[0.3333333333333333,\"#9c179e\"],[0.4444444444444444,\"#bd3786\"],[0.5555555555555556,\"#d8576b\"],[0.6666666666666666,\"#ed7953\"],[0.7777777777777778,\"#fb9f3a\"],[0.8888888888888888,\"#fdca26\"],[1.0,\"#f0f921\"]],\"type\":\"contour\"}],\"heatmapgl\":[{\"colorbar\":{\"outlinewidth\":0,\"ticks\":\"\"},\"colorscale\":[[0.0,\"#0d0887\"],[0.1111111111111111,\"#46039f\"],[0.2222222222222222,\"#7201a8\"],[0.3333333333333333,\"#9c179e\"],[0.4444444444444444,\"#bd3786\"],[0.5555555555555556,\"#d8576b\"],[0.6666666666666666,\"#ed7953\"],[0.7777777777777778,\"#fb9f3a\"],[0.8888888888888888,\"#fdca26\"],[1.0,\"#f0f921\"]],\"type\":\"heatmapgl\"}],\"heatmap\":[{\"colorbar\":{\"outlinewidth\":0,\"ticks\":\"\"},\"colorscale\":[[0.0,\"#0d0887\"],[0.1111111111111111,\"#46039f\"],[0.2222222222222222,\"#7201a8\"],[0.3333333333333333,\"#9c179e\"],[0.4444444444444444,\"#bd3786\"],[0.5555555555555556,\"#d8576b\"],[0.6666666666666666,\"#ed7953\"],[0.7777777777777778,\"#fb9f3a\"],[0.8888888888888888,\"#fdca26\"],[1.0,\"#f0f921\"]],\"type\":\"heatmap\"}],\"histogram2dcontour\":[{\"colorbar\":{\"outlinewidth\":0,\"ticks\":\"\"},\"colorscale\":[[0.0,\"#0d0887\"],[0.1111111111111111,\"#46039f\"],[0.2222222222222222,\"#7201a8\"],[0.3333333333333333,\"#9c179e\"],[0.4444444444444444,\"#bd3786\"],[0.5555555555555556,\"#d8576b\"],[0.6666666666666666,\"#ed7953\"],[0.7777777777777778,\"#fb9f3a\"],[0.8888888888888888,\"#fdca26\"],[1.0,\"#f0f921\"]],\"type\":\"histogram2dcontour\"}],\"histogram2d\":[{\"colorbar\":{\"outlinewidth\":0,\"ticks\":\"\"},\"colorscale\":[[0.0,\"#0d0887\"],[0.1111111111111111,\"#46039f\"],[0.2222222222222222,\"#7201a8\"],[0.3333333333333333,\"#9c179e\"],[0.4444444444444444,\"#bd3786\"],[0.5555555555555556,\"#d8576b\"],[0.6666666666666666,\"#ed7953\"],[0.7777777777777778,\"#fb9f3a\"],[0.8888888888888888,\"#fdca26\"],[1.0,\"#f0f921\"]],\"type\":\"histogram2d\"}],\"histogram\":[{\"marker\":{\"pattern\":{\"fillmode\":\"overlay\",\"size\":10,\"solidity\":0.2}},\"type\":\"histogram\"}],\"mesh3d\":[{\"colorbar\":{\"outlinewidth\":0,\"ticks\":\"\"},\"type\":\"mesh3d\"}],\"parcoords\":[{\"line\":{\"colorbar\":{\"outlinewidth\":0,\"ticks\":\"\"}},\"type\":\"parcoords\"}],\"pie\":[{\"automargin\":true,\"type\":\"pie\"}],\"scatter3d\":[{\"line\":{\"colorbar\":{\"outlinewidth\":0,\"ticks\":\"\"}},\"marker\":{\"colorbar\":{\"outlinewidth\":0,\"ticks\":\"\"}},\"type\":\"scatter3d\"}],\"scattercarpet\":[{\"marker\":{\"colorbar\":{\"outlinewidth\":0,\"ticks\":\"\"}},\"type\":\"scattercarpet\"}],\"scattergeo\":[{\"marker\":{\"colorbar\":{\"outlinewidth\":0,\"ticks\":\"\"}},\"type\":\"scattergeo\"}],\"scattergl\":[{\"marker\":{\"line\":{\"color\":\"#283442\"}},\"type\":\"scattergl\"}],\"scattermapbox\":[{\"marker\":{\"colorbar\":{\"outlinewidth\":0,\"ticks\":\"\"}},\"type\":\"scattermapbox\"}],\"scatterpolargl\":[{\"marker\":{\"colorbar\":{\"outlinewidth\":0,\"ticks\":\"\"}},\"type\":\"scatterpolargl\"}],\"scatterpolar\":[{\"marker\":{\"colorbar\":{\"outlinewidth\":0,\"ticks\":\"\"}},\"type\":\"scatterpolar\"}],\"scatter\":[{\"marker\":{\"line\":{\"color\":\"#283442\"}},\"type\":\"scatter\"}],\"scatterternary\":[{\"marker\":{\"colorbar\":{\"outlinewidth\":0,\"ticks\":\"\"}},\"type\":\"scatterternary\"}],\"surface\":[{\"colorbar\":{\"outlinewidth\":0,\"ticks\":\"\"},\"colorscale\":[[0.0,\"#0d0887\"],[0.1111111111111111,\"#46039f\"],[0.2222222222222222,\"#7201a8\"],[0.3333333333333333,\"#9c179e\"],[0.4444444444444444,\"#bd3786\"],[0.5555555555555556,\"#d8576b\"],[0.6666666666666666,\"#ed7953\"],[0.7777777777777778,\"#fb9f3a\"],[0.8888888888888888,\"#fdca26\"],[1.0,\"#f0f921\"]],\"type\":\"surface\"}],\"table\":[{\"cells\":{\"fill\":{\"color\":\"#506784\"},\"line\":{\"color\":\"rgb(17,17,17)\"}},\"header\":{\"fill\":{\"color\":\"#2a3f5f\"},\"line\":{\"color\":\"rgb(17,17,17)\"}},\"type\":\"table\"}]},\"layout\":{\"annotationdefaults\":{\"arrowcolor\":\"#f2f5fa\",\"arrowhead\":0,\"arrowwidth\":1},\"autotypenumbers\":\"strict\",\"coloraxis\":{\"colorbar\":{\"outlinewidth\":0,\"ticks\":\"\"}},\"colorscale\":{\"diverging\":[[0,\"#8e0152\"],[0.1,\"#c51b7d\"],[0.2,\"#de77ae\"],[0.3,\"#f1b6da\"],[0.4,\"#fde0ef\"],[0.5,\"#f7f7f7\"],[0.6,\"#e6f5d0\"],[0.7,\"#b8e186\"],[0.8,\"#7fbc41\"],[0.9,\"#4d9221\"],[1,\"#276419\"]],\"sequential\":[[0.0,\"#0d0887\"],[0.1111111111111111,\"#46039f\"],[0.2222222222222222,\"#7201a8\"],[0.3333333333333333,\"#9c179e\"],[0.4444444444444444,\"#bd3786\"],[0.5555555555555556,\"#d8576b\"],[0.6666666666666666,\"#ed7953\"],[0.7777777777777778,\"#fb9f3a\"],[0.8888888888888888,\"#fdca26\"],[1.0,\"#f0f921\"]],\"sequentialminus\":[[0.0,\"#0d0887\"],[0.1111111111111111,\"#46039f\"],[0.2222222222222222,\"#7201a8\"],[0.3333333333333333,\"#9c179e\"],[0.4444444444444444,\"#bd3786\"],[0.5555555555555556,\"#d8576b\"],[0.6666666666666666,\"#ed7953\"],[0.7777777777777778,\"#fb9f3a\"],[0.8888888888888888,\"#fdca26\"],[1.0,\"#f0f921\"]]},\"colorway\":[\"#636efa\",\"#EF553B\",\"#00cc96\",\"#ab63fa\",\"#FFA15A\",\"#19d3f3\",\"#FF6692\",\"#B6E880\",\"#FF97FF\",\"#FECB52\"],\"font\":{\"color\":\"#f2f5fa\"},\"geo\":{\"bgcolor\":\"rgb(17,17,17)\",\"lakecolor\":\"rgb(17,17,17)\",\"landcolor\":\"rgb(17,17,17)\",\"showlakes\":true,\"showland\":true,\"subunitcolor\":\"#506784\"},\"hoverlabel\":{\"align\":\"left\"},\"hovermode\":\"closest\",\"mapbox\":{\"style\":\"dark\"},\"paper_bgcolor\":\"rgb(17,17,17)\",\"plot_bgcolor\":\"rgb(17,17,17)\",\"polar\":{\"angularaxis\":{\"gridcolor\":\"#506784\",\"linecolor\":\"#506784\",\"ticks\":\"\"},\"bgcolor\":\"rgb(17,17,17)\",\"radialaxis\":{\"gridcolor\":\"#506784\",\"linecolor\":\"#506784\",\"ticks\":\"\"}},\"scene\":{\"xaxis\":{\"backgroundcolor\":\"rgb(17,17,17)\",\"gridcolor\":\"#506784\",\"gridwidth\":2,\"linecolor\":\"#506784\",\"showbackground\":true,\"ticks\":\"\",\"zerolinecolor\":\"#C8D4E3\"},\"yaxis\":{\"backgroundcolor\":\"rgb(17,17,17)\",\"gridcolor\":\"#506784\",\"gridwidth\":2,\"linecolor\":\"#506784\",\"showbackground\":true,\"ticks\":\"\",\"zerolinecolor\":\"#C8D4E3\"},\"zaxis\":{\"backgroundcolor\":\"rgb(17,17,17)\",\"gridcolor\":\"#506784\",\"gridwidth\":2,\"linecolor\":\"#506784\",\"showbackground\":true,\"ticks\":\"\",\"zerolinecolor\":\"#C8D4E3\"}},\"shapedefaults\":{\"line\":{\"color\":\"#f2f5fa\"}},\"sliderdefaults\":{\"bgcolor\":\"#C8D4E3\",\"bordercolor\":\"rgb(17,17,17)\",\"borderwidth\":1,\"tickwidth\":0},\"ternary\":{\"aaxis\":{\"gridcolor\":\"#506784\",\"linecolor\":\"#506784\",\"ticks\":\"\"},\"baxis\":{\"gridcolor\":\"#506784\",\"linecolor\":\"#506784\",\"ticks\":\"\"},\"bgcolor\":\"rgb(17,17,17)\",\"caxis\":{\"gridcolor\":\"#506784\",\"linecolor\":\"#506784\",\"ticks\":\"\"}},\"title\":{\"x\":0.05},\"updatemenudefaults\":{\"bgcolor\":\"#506784\",\"borderwidth\":0},\"xaxis\":{\"automargin\":true,\"gridcolor\":\"#283442\",\"linecolor\":\"#506784\",\"ticks\":\"\",\"title\":{\"standoff\":15},\"zerolinecolor\":\"#283442\",\"zerolinewidth\":2},\"yaxis\":{\"automargin\":true,\"gridcolor\":\"#283442\",\"linecolor\":\"#506784\",\"ticks\":\"\",\"title\":{\"standoff\":15},\"zerolinecolor\":\"#283442\",\"zerolinewidth\":2}}},\"xaxis\":{\"anchor\":\"y\",\"domain\":[0.0,1.0],\"title\":{\"text\":\"Story Source (Human vs Model)\"}},\"yaxis\":{\"anchor\":\"x\",\"domain\":[0.0,1.0],\"title\":{\"text\":\"Emotion Intensity\"},\"range\":[0.2,0.6],\"tick0\":0.2,\"dtick\":0.05},\"annotations\":[{\"font\":{\"size\":16},\"showarrow\":false,\"text\":\"Mean \\u00b1 Std\",\"x\":0.5,\"xanchor\":\"center\",\"xref\":\"paper\",\"y\":1.0,\"yanchor\":\"bottom\",\"yref\":\"paper\"}],\"height\":600,\"title\":{\"text\":\"Emotion Mean \\u00b1 Std Across Stories\"}},                        {\"responsive\": true}                    ).then(function(){\n",
       "                            \n",
       "var gd = document.getElementById('c9e005fc-cb4e-488b-bf43-275839ffd137');\n",
       "var x = new MutationObserver(function (mutations, observer) {{\n",
       "        var display = window.getComputedStyle(gd).display;\n",
       "        if (!display || display === 'none') {{\n",
       "            console.log([gd, 'removed!']);\n",
       "            Plotly.purge(gd);\n",
       "            observer.disconnect();\n",
       "        }}\n",
       "}});\n",
       "\n",
       "// Listen for the removal of the full notebook cells\n",
       "var notebookContainer = gd.closest('#notebook-container');\n",
       "if (notebookContainer) {{\n",
       "    x.observe(notebookContainer, {childList: true});\n",
       "}}\n",
       "\n",
       "// Listen for the clearing of the current output cell\n",
       "var outputEl = gd.closest('.output');\n",
       "if (outputEl) {{\n",
       "    x.observe(outputEl, {childList: true});\n",
       "}}\n",
       "\n",
       "                        })                };                });            </script>        </div>"
      ]
     },
     "metadata": {},
     "output_type": "display_data"
    }
   ],
   "source": [
    "def visualize_mean_std(df, emotions):\n",
    "    stats = {emotion: {\"mean\": [], \"std\": []} for emotion in emotions}\n",
    "    for _, row in df.iterrows():\n",
    "        for emotion in emotions:\n",
    "            values = np.array(row[emotion])\n",
    "            stats[emotion][\"mean\"].append(np.mean(values))\n",
    "            stats[emotion][\"std\"].append(np.std(values))\n",
    "\n",
    "    fig = make_subplots(rows=1, cols=1, subplot_titles=[\"Mean ± Std\"])\n",
    "    for emotion in emotions:\n",
    "        fig.add_trace(go.Bar(\n",
    "            x=[\"Human\" if row[\"Model\"] == \"Human\" else row[\"Model\"] for _, row in df.iterrows()],\n",
    "            y=stats[emotion][\"mean\"],\n",
    "            error_y=dict(type='data', array=stats[emotion][\"std\"]),\n",
    "            name=f\"{emotion.capitalize()} (Mean ± Std)\"\n",
    "        ), row=1, col=1)\n",
    "    fig.update_layout(\n",
    "        height=600,\n",
    "        title=\"Emotion Mean ± Std Across Stories\",\n",
    "        xaxis_title=\"Story Source (Human vs Model)\",\n",
    "        yaxis_title=\"Emotion Intensity\",\n",
    "        template=\"plotly_dark\",\n",
    "        yaxis=dict(range=[0.2, 0.6], tick0=0.2, dtick=0.05)  \n",
    "    )\n",
    "    fig.show()\n",
    "    return stats\n",
    "\n",
    "mean_std_stats = visualize_mean_std(concated_example_df, plutchik_emotions)"
   ]
  },
  {
   "cell_type": "code",
   "execution_count": 196,
   "metadata": {},
   "outputs": [
    {
     "name": "stdout",
     "output_type": "stream",
     "text": [
      "{\n",
      "    \"anger\": {\n",
      "        \"mean\": [\n",
      "            0.33636897959183676,\n",
      "            0.3455118367346939,\n",
      "            0.30892040816326527,\n",
      "            0.3238159183673469,\n",
      "            0.3311804081632653,\n",
      "            0.31507755102040813,\n",
      "            0.3181767346938775\n",
      "        ],\n",
      "        \"std\": [\n",
      "            0.04036943079576234,\n",
      "            0.0533168571933361,\n",
      "            0.04454512647168234,\n",
      "            0.05235966897600641,\n",
      "            0.045415880538432936,\n",
      "            0.04187603350872656,\n",
      "            0.048995095099136486\n",
      "        ]\n",
      "    },\n",
      "    \"anticipation\": {\n",
      "        \"mean\": [\n",
      "            0.3872375510204082,\n",
      "            0.3945236734693877,\n",
      "            0.3747926530612245,\n",
      "            0.3869126530612245,\n",
      "            0.3666734693877551,\n",
      "            0.3583595918367347,\n",
      "            0.3609865306122449\n",
      "        ],\n",
      "        \"std\": [\n",
      "            0.03260647793509665,\n",
      "            0.040395429576816556,\n",
      "            0.045772791344733894,\n",
      "            0.03455850468983482,\n",
      "            0.0490546161802986,\n",
      "            0.04866256171623459,\n",
      "            0.034692951394600866\n",
      "        ]\n",
      "    },\n",
      "    \"disgust\": {\n",
      "        \"mean\": [\n",
      "            0.36015591836734695,\n",
      "            0.34632408163265305,\n",
      "            0.3224889795918367,\n",
      "            0.33504326530612244,\n",
      "            0.3219028571428572,\n",
      "            0.30758938775510203,\n",
      "            0.31711346938775514\n",
      "        ],\n",
      "        \"std\": [\n",
      "            0.03599346364836371,\n",
      "            0.05807944775387638,\n",
      "            0.06679127202331375,\n",
      "            0.05571600410596609,\n",
      "            0.05212280081705677,\n",
      "            0.05912510256455774,\n",
      "            0.060434457068514996\n",
      "        ]\n",
      "    },\n",
      "    \"fear\": {\n",
      "        \"mean\": [\n",
      "            0.40069183673469394,\n",
      "            0.3939820408163265,\n",
      "            0.37861020408163265,\n",
      "            0.3985808163265306,\n",
      "            0.34997102040816325,\n",
      "            0.3501379591836735,\n",
      "            0.36665632653061225\n",
      "        ],\n",
      "        \"std\": [\n",
      "            0.0643234859232311,\n",
      "            0.07145395416523542,\n",
      "            0.07959835015211543,\n",
      "            0.08092756024781343,\n",
      "            0.057154376111586615,\n",
      "            0.06533783459123223,\n",
      "            0.06764205818856349\n",
      "        ]\n",
      "    },\n",
      "    \"joy\": {\n",
      "        \"mean\": [\n",
      "            0.3339648979591837,\n",
      "            0.35775999999999997,\n",
      "            0.3877591836734694,\n",
      "            0.39204979591836725,\n",
      "            0.41060367346938775,\n",
      "            0.42230775510204077,\n",
      "            0.3788436734693878\n",
      "        ],\n",
      "        \"std\": [\n",
      "            0.07570084220163917,\n",
      "            0.10573472559154047,\n",
      "            0.10040968747806112,\n",
      "            0.11871434859540914,\n",
      "            0.11321573940923225,\n",
      "            0.14816103269470982,\n",
      "            0.15900346034494334\n",
      "        ]\n",
      "    },\n",
      "    \"sadness\": {\n",
      "        \"mean\": [\n",
      "            0.38689591836734694,\n",
      "            0.3924763265306123,\n",
      "            0.35304122448979586,\n",
      "            0.37344571428571427,\n",
      "            0.34000326530612246,\n",
      "            0.32868857142857144,\n",
      "            0.3591779591836735\n",
      "        ],\n",
      "        \"std\": [\n",
      "            0.03874529461831966,\n",
      "            0.05583504929578338,\n",
      "            0.054091597771167156,\n",
      "            0.0544493671558584,\n",
      "            0.05516700106794355,\n",
      "            0.06711672611166575,\n",
      "            0.07763577442168107\n",
      "        ]\n",
      "    },\n",
      "    \"surprise\": {\n",
      "        \"mean\": [\n",
      "            0.4326440816326531,\n",
      "            0.4142779591836734,\n",
      "            0.42164816326530613,\n",
      "            0.4329644897959184,\n",
      "            0.408350612244898,\n",
      "            0.3923016326530612,\n",
      "            0.3989244897959183\n",
      "        ],\n",
      "        \"std\": [\n",
      "            0.03833283362137991,\n",
      "            0.044690492256471995,\n",
      "            0.048529407746677,\n",
      "            0.03746396670801659,\n",
      "            0.05177481384262185,\n",
      "            0.05669526280466294,\n",
      "            0.05356698263378412\n",
      "        ]\n",
      "    },\n",
      "    \"trust\": {\n",
      "        \"mean\": [\n",
      "            0.3928481632653061,\n",
      "            0.4296791836734694,\n",
      "            0.4500661224489796,\n",
      "            0.4439657142857143,\n",
      "            0.4336583673469388,\n",
      "            0.4607012244897959,\n",
      "            0.4417824489795919\n",
      "        ],\n",
      "        \"std\": [\n",
      "            0.041511880278400165,\n",
      "            0.08200765905657857,\n",
      "            0.06454112818316203,\n",
      "            0.048160337759521624,\n",
      "            0.07132983774529196,\n",
      "            0.07275131280855762,\n",
      "            0.082419037057412\n",
      "        ]\n",
      "    }\n",
      "}\n"
     ]
    }
   ],
   "source": [
    "print(json.dumps(mean_std_stats, indent=4))"
   ]
  },
  {
   "cell_type": "markdown",
   "metadata": {},
   "source": [
    "## 2. Emotion Diversity Analysis"
   ]
  },
  {
   "cell_type": "markdown",
   "metadata": {},
   "source": [
    "Using **Entropy** to measure the diversity of emotions in the story\n",
    "* High entropy: more uniform the distribution of emotions       -> higher diversity\n",
    "* Low entropy : more concentrated the distribution of emotions  -> lower diversity"
   ]
  },
  {
   "cell_type": "code",
   "execution_count": 197,
   "metadata": {},
   "outputs": [
    {
     "data": {
      "application/vnd.plotly.v1+json": {
       "config": {
        "plotlyServerURL": "https://plot.ly"
       },
       "data": [
        {
         "name": "Human - Emotion Diversity Entropy",
         "type": "bar",
         "x": [
          "Human"
         ],
         "y": [
          2.984722293445454
         ]
        },
        {
         "name": "Llama-7b - Emotion Diversity Entropy",
         "type": "bar",
         "x": [
          "Llama-7b"
         ],
         "y": [
          2.9764996974428874
         ]
        },
        {
         "name": "Mistral-7b - Emotion Diversity Entropy",
         "type": "bar",
         "x": [
          "Mistral-7b"
         ],
         "y": [
          2.970269841264744
         ]
        },
        {
         "name": "Beluga-13b - Emotion Diversity Entropy",
         "type": "bar",
         "x": [
          "Beluga-13b"
         ],
         "y": [
          2.9731164074361813
         ]
        },
        {
         "name": "OrcaPlatypus-13b - Emotion Diversity Entropy",
         "type": "bar",
         "x": [
          "OrcaPlatypus-13b"
         ],
         "y": [
          2.971794016846064
         ]
        },
        {
         "name": "LlamaInstruct-30b - Emotion Diversity Entropy",
         "type": "bar",
         "x": [
          "LlamaInstruct-30b"
         ],
         "y": [
          2.9585480591141042
         ]
        },
        {
         "name": "Platypus2-70b - Emotion Diversity Entropy",
         "type": "bar",
         "x": [
          "Platypus2-70b"
         ],
         "y": [
          2.9613849616223904
         ]
        }
       ],
       "layout": {
        "height": 600,
        "showlegend": true,
        "template": {
         "data": {
          "bar": [
           {
            "error_x": {
             "color": "#f2f5fa"
            },
            "error_y": {
             "color": "#f2f5fa"
            },
            "marker": {
             "line": {
              "color": "rgb(17,17,17)",
              "width": 0.5
             },
             "pattern": {
              "fillmode": "overlay",
              "size": 10,
              "solidity": 0.2
             }
            },
            "type": "bar"
           }
          ],
          "barpolar": [
           {
            "marker": {
             "line": {
              "color": "rgb(17,17,17)",
              "width": 0.5
             },
             "pattern": {
              "fillmode": "overlay",
              "size": 10,
              "solidity": 0.2
             }
            },
            "type": "barpolar"
           }
          ],
          "carpet": [
           {
            "aaxis": {
             "endlinecolor": "#A2B1C6",
             "gridcolor": "#506784",
             "linecolor": "#506784",
             "minorgridcolor": "#506784",
             "startlinecolor": "#A2B1C6"
            },
            "baxis": {
             "endlinecolor": "#A2B1C6",
             "gridcolor": "#506784",
             "linecolor": "#506784",
             "minorgridcolor": "#506784",
             "startlinecolor": "#A2B1C6"
            },
            "type": "carpet"
           }
          ],
          "choropleth": [
           {
            "colorbar": {
             "outlinewidth": 0,
             "ticks": ""
            },
            "type": "choropleth"
           }
          ],
          "contour": [
           {
            "colorbar": {
             "outlinewidth": 0,
             "ticks": ""
            },
            "colorscale": [
             [
              0,
              "#0d0887"
             ],
             [
              0.1111111111111111,
              "#46039f"
             ],
             [
              0.2222222222222222,
              "#7201a8"
             ],
             [
              0.3333333333333333,
              "#9c179e"
             ],
             [
              0.4444444444444444,
              "#bd3786"
             ],
             [
              0.5555555555555556,
              "#d8576b"
             ],
             [
              0.6666666666666666,
              "#ed7953"
             ],
             [
              0.7777777777777778,
              "#fb9f3a"
             ],
             [
              0.8888888888888888,
              "#fdca26"
             ],
             [
              1,
              "#f0f921"
             ]
            ],
            "type": "contour"
           }
          ],
          "contourcarpet": [
           {
            "colorbar": {
             "outlinewidth": 0,
             "ticks": ""
            },
            "type": "contourcarpet"
           }
          ],
          "heatmap": [
           {
            "colorbar": {
             "outlinewidth": 0,
             "ticks": ""
            },
            "colorscale": [
             [
              0,
              "#0d0887"
             ],
             [
              0.1111111111111111,
              "#46039f"
             ],
             [
              0.2222222222222222,
              "#7201a8"
             ],
             [
              0.3333333333333333,
              "#9c179e"
             ],
             [
              0.4444444444444444,
              "#bd3786"
             ],
             [
              0.5555555555555556,
              "#d8576b"
             ],
             [
              0.6666666666666666,
              "#ed7953"
             ],
             [
              0.7777777777777778,
              "#fb9f3a"
             ],
             [
              0.8888888888888888,
              "#fdca26"
             ],
             [
              1,
              "#f0f921"
             ]
            ],
            "type": "heatmap"
           }
          ],
          "heatmapgl": [
           {
            "colorbar": {
             "outlinewidth": 0,
             "ticks": ""
            },
            "colorscale": [
             [
              0,
              "#0d0887"
             ],
             [
              0.1111111111111111,
              "#46039f"
             ],
             [
              0.2222222222222222,
              "#7201a8"
             ],
             [
              0.3333333333333333,
              "#9c179e"
             ],
             [
              0.4444444444444444,
              "#bd3786"
             ],
             [
              0.5555555555555556,
              "#d8576b"
             ],
             [
              0.6666666666666666,
              "#ed7953"
             ],
             [
              0.7777777777777778,
              "#fb9f3a"
             ],
             [
              0.8888888888888888,
              "#fdca26"
             ],
             [
              1,
              "#f0f921"
             ]
            ],
            "type": "heatmapgl"
           }
          ],
          "histogram": [
           {
            "marker": {
             "pattern": {
              "fillmode": "overlay",
              "size": 10,
              "solidity": 0.2
             }
            },
            "type": "histogram"
           }
          ],
          "histogram2d": [
           {
            "colorbar": {
             "outlinewidth": 0,
             "ticks": ""
            },
            "colorscale": [
             [
              0,
              "#0d0887"
             ],
             [
              0.1111111111111111,
              "#46039f"
             ],
             [
              0.2222222222222222,
              "#7201a8"
             ],
             [
              0.3333333333333333,
              "#9c179e"
             ],
             [
              0.4444444444444444,
              "#bd3786"
             ],
             [
              0.5555555555555556,
              "#d8576b"
             ],
             [
              0.6666666666666666,
              "#ed7953"
             ],
             [
              0.7777777777777778,
              "#fb9f3a"
             ],
             [
              0.8888888888888888,
              "#fdca26"
             ],
             [
              1,
              "#f0f921"
             ]
            ],
            "type": "histogram2d"
           }
          ],
          "histogram2dcontour": [
           {
            "colorbar": {
             "outlinewidth": 0,
             "ticks": ""
            },
            "colorscale": [
             [
              0,
              "#0d0887"
             ],
             [
              0.1111111111111111,
              "#46039f"
             ],
             [
              0.2222222222222222,
              "#7201a8"
             ],
             [
              0.3333333333333333,
              "#9c179e"
             ],
             [
              0.4444444444444444,
              "#bd3786"
             ],
             [
              0.5555555555555556,
              "#d8576b"
             ],
             [
              0.6666666666666666,
              "#ed7953"
             ],
             [
              0.7777777777777778,
              "#fb9f3a"
             ],
             [
              0.8888888888888888,
              "#fdca26"
             ],
             [
              1,
              "#f0f921"
             ]
            ],
            "type": "histogram2dcontour"
           }
          ],
          "mesh3d": [
           {
            "colorbar": {
             "outlinewidth": 0,
             "ticks": ""
            },
            "type": "mesh3d"
           }
          ],
          "parcoords": [
           {
            "line": {
             "colorbar": {
              "outlinewidth": 0,
              "ticks": ""
             }
            },
            "type": "parcoords"
           }
          ],
          "pie": [
           {
            "automargin": true,
            "type": "pie"
           }
          ],
          "scatter": [
           {
            "marker": {
             "line": {
              "color": "#283442"
             }
            },
            "type": "scatter"
           }
          ],
          "scatter3d": [
           {
            "line": {
             "colorbar": {
              "outlinewidth": 0,
              "ticks": ""
             }
            },
            "marker": {
             "colorbar": {
              "outlinewidth": 0,
              "ticks": ""
             }
            },
            "type": "scatter3d"
           }
          ],
          "scattercarpet": [
           {
            "marker": {
             "colorbar": {
              "outlinewidth": 0,
              "ticks": ""
             }
            },
            "type": "scattercarpet"
           }
          ],
          "scattergeo": [
           {
            "marker": {
             "colorbar": {
              "outlinewidth": 0,
              "ticks": ""
             }
            },
            "type": "scattergeo"
           }
          ],
          "scattergl": [
           {
            "marker": {
             "line": {
              "color": "#283442"
             }
            },
            "type": "scattergl"
           }
          ],
          "scattermapbox": [
           {
            "marker": {
             "colorbar": {
              "outlinewidth": 0,
              "ticks": ""
             }
            },
            "type": "scattermapbox"
           }
          ],
          "scatterpolar": [
           {
            "marker": {
             "colorbar": {
              "outlinewidth": 0,
              "ticks": ""
             }
            },
            "type": "scatterpolar"
           }
          ],
          "scatterpolargl": [
           {
            "marker": {
             "colorbar": {
              "outlinewidth": 0,
              "ticks": ""
             }
            },
            "type": "scatterpolargl"
           }
          ],
          "scatterternary": [
           {
            "marker": {
             "colorbar": {
              "outlinewidth": 0,
              "ticks": ""
             }
            },
            "type": "scatterternary"
           }
          ],
          "surface": [
           {
            "colorbar": {
             "outlinewidth": 0,
             "ticks": ""
            },
            "colorscale": [
             [
              0,
              "#0d0887"
             ],
             [
              0.1111111111111111,
              "#46039f"
             ],
             [
              0.2222222222222222,
              "#7201a8"
             ],
             [
              0.3333333333333333,
              "#9c179e"
             ],
             [
              0.4444444444444444,
              "#bd3786"
             ],
             [
              0.5555555555555556,
              "#d8576b"
             ],
             [
              0.6666666666666666,
              "#ed7953"
             ],
             [
              0.7777777777777778,
              "#fb9f3a"
             ],
             [
              0.8888888888888888,
              "#fdca26"
             ],
             [
              1,
              "#f0f921"
             ]
            ],
            "type": "surface"
           }
          ],
          "table": [
           {
            "cells": {
             "fill": {
              "color": "#506784"
             },
             "line": {
              "color": "rgb(17,17,17)"
             }
            },
            "header": {
             "fill": {
              "color": "#2a3f5f"
             },
             "line": {
              "color": "rgb(17,17,17)"
             }
            },
            "type": "table"
           }
          ]
         },
         "layout": {
          "annotationdefaults": {
           "arrowcolor": "#f2f5fa",
           "arrowhead": 0,
           "arrowwidth": 1
          },
          "autotypenumbers": "strict",
          "coloraxis": {
           "colorbar": {
            "outlinewidth": 0,
            "ticks": ""
           }
          },
          "colorscale": {
           "diverging": [
            [
             0,
             "#8e0152"
            ],
            [
             0.1,
             "#c51b7d"
            ],
            [
             0.2,
             "#de77ae"
            ],
            [
             0.3,
             "#f1b6da"
            ],
            [
             0.4,
             "#fde0ef"
            ],
            [
             0.5,
             "#f7f7f7"
            ],
            [
             0.6,
             "#e6f5d0"
            ],
            [
             0.7,
             "#b8e186"
            ],
            [
             0.8,
             "#7fbc41"
            ],
            [
             0.9,
             "#4d9221"
            ],
            [
             1,
             "#276419"
            ]
           ],
           "sequential": [
            [
             0,
             "#0d0887"
            ],
            [
             0.1111111111111111,
             "#46039f"
            ],
            [
             0.2222222222222222,
             "#7201a8"
            ],
            [
             0.3333333333333333,
             "#9c179e"
            ],
            [
             0.4444444444444444,
             "#bd3786"
            ],
            [
             0.5555555555555556,
             "#d8576b"
            ],
            [
             0.6666666666666666,
             "#ed7953"
            ],
            [
             0.7777777777777778,
             "#fb9f3a"
            ],
            [
             0.8888888888888888,
             "#fdca26"
            ],
            [
             1,
             "#f0f921"
            ]
           ],
           "sequentialminus": [
            [
             0,
             "#0d0887"
            ],
            [
             0.1111111111111111,
             "#46039f"
            ],
            [
             0.2222222222222222,
             "#7201a8"
            ],
            [
             0.3333333333333333,
             "#9c179e"
            ],
            [
             0.4444444444444444,
             "#bd3786"
            ],
            [
             0.5555555555555556,
             "#d8576b"
            ],
            [
             0.6666666666666666,
             "#ed7953"
            ],
            [
             0.7777777777777778,
             "#fb9f3a"
            ],
            [
             0.8888888888888888,
             "#fdca26"
            ],
            [
             1,
             "#f0f921"
            ]
           ]
          },
          "colorway": [
           "#636efa",
           "#EF553B",
           "#00cc96",
           "#ab63fa",
           "#FFA15A",
           "#19d3f3",
           "#FF6692",
           "#B6E880",
           "#FF97FF",
           "#FECB52"
          ],
          "font": {
           "color": "#f2f5fa"
          },
          "geo": {
           "bgcolor": "rgb(17,17,17)",
           "lakecolor": "rgb(17,17,17)",
           "landcolor": "rgb(17,17,17)",
           "showlakes": true,
           "showland": true,
           "subunitcolor": "#506784"
          },
          "hoverlabel": {
           "align": "left"
          },
          "hovermode": "closest",
          "mapbox": {
           "style": "dark"
          },
          "paper_bgcolor": "rgb(17,17,17)",
          "plot_bgcolor": "rgb(17,17,17)",
          "polar": {
           "angularaxis": {
            "gridcolor": "#506784",
            "linecolor": "#506784",
            "ticks": ""
           },
           "bgcolor": "rgb(17,17,17)",
           "radialaxis": {
            "gridcolor": "#506784",
            "linecolor": "#506784",
            "ticks": ""
           }
          },
          "scene": {
           "xaxis": {
            "backgroundcolor": "rgb(17,17,17)",
            "gridcolor": "#506784",
            "gridwidth": 2,
            "linecolor": "#506784",
            "showbackground": true,
            "ticks": "",
            "zerolinecolor": "#C8D4E3"
           },
           "yaxis": {
            "backgroundcolor": "rgb(17,17,17)",
            "gridcolor": "#506784",
            "gridwidth": 2,
            "linecolor": "#506784",
            "showbackground": true,
            "ticks": "",
            "zerolinecolor": "#C8D4E3"
           },
           "zaxis": {
            "backgroundcolor": "rgb(17,17,17)",
            "gridcolor": "#506784",
            "gridwidth": 2,
            "linecolor": "#506784",
            "showbackground": true,
            "ticks": "",
            "zerolinecolor": "#C8D4E3"
           }
          },
          "shapedefaults": {
           "line": {
            "color": "#f2f5fa"
           }
          },
          "sliderdefaults": {
           "bgcolor": "#C8D4E3",
           "bordercolor": "rgb(17,17,17)",
           "borderwidth": 1,
           "tickwidth": 0
          },
          "ternary": {
           "aaxis": {
            "gridcolor": "#506784",
            "linecolor": "#506784",
            "ticks": ""
           },
           "baxis": {
            "gridcolor": "#506784",
            "linecolor": "#506784",
            "ticks": ""
           },
           "bgcolor": "rgb(17,17,17)",
           "caxis": {
            "gridcolor": "#506784",
            "linecolor": "#506784",
            "ticks": ""
           }
          },
          "title": {
           "x": 0.05
          },
          "updatemenudefaults": {
           "bgcolor": "#506784",
           "borderwidth": 0
          },
          "xaxis": {
           "automargin": true,
           "gridcolor": "#283442",
           "linecolor": "#506784",
           "ticks": "",
           "title": {
            "standoff": 15
           },
           "zerolinecolor": "#283442",
           "zerolinewidth": 2
          },
          "yaxis": {
           "automargin": true,
           "gridcolor": "#283442",
           "linecolor": "#506784",
           "ticks": "",
           "title": {
            "standoff": 15
           },
           "zerolinecolor": "#283442",
           "zerolinewidth": 2
          }
         }
        },
        "title": {
         "text": "Emotion Diversity Entropy Across Stories"
        },
        "xaxis": {
         "title": {
          "text": "Story Source (Human vs Model)"
         }
        },
        "yaxis": {
         "title": {
          "text": "Emotion Diversity Entropy (Log Scale)"
         },
         "type": "log"
        }
       }
      },
      "text/html": [
       "<div>                            <div id=\"ed02a5f2-da02-498e-bb07-9dbd601e12d7\" class=\"plotly-graph-div\" style=\"height:600px; width:100%;\"></div>            <script type=\"text/javascript\">                require([\"plotly\"], function(Plotly) {                    window.PLOTLYENV=window.PLOTLYENV || {};                                    if (document.getElementById(\"ed02a5f2-da02-498e-bb07-9dbd601e12d7\")) {                    Plotly.newPlot(                        \"ed02a5f2-da02-498e-bb07-9dbd601e12d7\",                        [{\"name\":\"Human - Emotion Diversity Entropy\",\"x\":[\"Human\"],\"y\":[2.984722293445454],\"type\":\"bar\"},{\"name\":\"Llama-7b - Emotion Diversity Entropy\",\"x\":[\"Llama-7b\"],\"y\":[2.9764996974428874],\"type\":\"bar\"},{\"name\":\"Mistral-7b - Emotion Diversity Entropy\",\"x\":[\"Mistral-7b\"],\"y\":[2.970269841264744],\"type\":\"bar\"},{\"name\":\"Beluga-13b - Emotion Diversity Entropy\",\"x\":[\"Beluga-13b\"],\"y\":[2.9731164074361813],\"type\":\"bar\"},{\"name\":\"OrcaPlatypus-13b - Emotion Diversity Entropy\",\"x\":[\"OrcaPlatypus-13b\"],\"y\":[2.971794016846064],\"type\":\"bar\"},{\"name\":\"LlamaInstruct-30b - Emotion Diversity Entropy\",\"x\":[\"LlamaInstruct-30b\"],\"y\":[2.9585480591141042],\"type\":\"bar\"},{\"name\":\"Platypus2-70b - Emotion Diversity Entropy\",\"x\":[\"Platypus2-70b\"],\"y\":[2.9613849616223904],\"type\":\"bar\"}],                        {\"template\":{\"data\":{\"barpolar\":[{\"marker\":{\"line\":{\"color\":\"rgb(17,17,17)\",\"width\":0.5},\"pattern\":{\"fillmode\":\"overlay\",\"size\":10,\"solidity\":0.2}},\"type\":\"barpolar\"}],\"bar\":[{\"error_x\":{\"color\":\"#f2f5fa\"},\"error_y\":{\"color\":\"#f2f5fa\"},\"marker\":{\"line\":{\"color\":\"rgb(17,17,17)\",\"width\":0.5},\"pattern\":{\"fillmode\":\"overlay\",\"size\":10,\"solidity\":0.2}},\"type\":\"bar\"}],\"carpet\":[{\"aaxis\":{\"endlinecolor\":\"#A2B1C6\",\"gridcolor\":\"#506784\",\"linecolor\":\"#506784\",\"minorgridcolor\":\"#506784\",\"startlinecolor\":\"#A2B1C6\"},\"baxis\":{\"endlinecolor\":\"#A2B1C6\",\"gridcolor\":\"#506784\",\"linecolor\":\"#506784\",\"minorgridcolor\":\"#506784\",\"startlinecolor\":\"#A2B1C6\"},\"type\":\"carpet\"}],\"choropleth\":[{\"colorbar\":{\"outlinewidth\":0,\"ticks\":\"\"},\"type\":\"choropleth\"}],\"contourcarpet\":[{\"colorbar\":{\"outlinewidth\":0,\"ticks\":\"\"},\"type\":\"contourcarpet\"}],\"contour\":[{\"colorbar\":{\"outlinewidth\":0,\"ticks\":\"\"},\"colorscale\":[[0.0,\"#0d0887\"],[0.1111111111111111,\"#46039f\"],[0.2222222222222222,\"#7201a8\"],[0.3333333333333333,\"#9c179e\"],[0.4444444444444444,\"#bd3786\"],[0.5555555555555556,\"#d8576b\"],[0.6666666666666666,\"#ed7953\"],[0.7777777777777778,\"#fb9f3a\"],[0.8888888888888888,\"#fdca26\"],[1.0,\"#f0f921\"]],\"type\":\"contour\"}],\"heatmapgl\":[{\"colorbar\":{\"outlinewidth\":0,\"ticks\":\"\"},\"colorscale\":[[0.0,\"#0d0887\"],[0.1111111111111111,\"#46039f\"],[0.2222222222222222,\"#7201a8\"],[0.3333333333333333,\"#9c179e\"],[0.4444444444444444,\"#bd3786\"],[0.5555555555555556,\"#d8576b\"],[0.6666666666666666,\"#ed7953\"],[0.7777777777777778,\"#fb9f3a\"],[0.8888888888888888,\"#fdca26\"],[1.0,\"#f0f921\"]],\"type\":\"heatmapgl\"}],\"heatmap\":[{\"colorbar\":{\"outlinewidth\":0,\"ticks\":\"\"},\"colorscale\":[[0.0,\"#0d0887\"],[0.1111111111111111,\"#46039f\"],[0.2222222222222222,\"#7201a8\"],[0.3333333333333333,\"#9c179e\"],[0.4444444444444444,\"#bd3786\"],[0.5555555555555556,\"#d8576b\"],[0.6666666666666666,\"#ed7953\"],[0.7777777777777778,\"#fb9f3a\"],[0.8888888888888888,\"#fdca26\"],[1.0,\"#f0f921\"]],\"type\":\"heatmap\"}],\"histogram2dcontour\":[{\"colorbar\":{\"outlinewidth\":0,\"ticks\":\"\"},\"colorscale\":[[0.0,\"#0d0887\"],[0.1111111111111111,\"#46039f\"],[0.2222222222222222,\"#7201a8\"],[0.3333333333333333,\"#9c179e\"],[0.4444444444444444,\"#bd3786\"],[0.5555555555555556,\"#d8576b\"],[0.6666666666666666,\"#ed7953\"],[0.7777777777777778,\"#fb9f3a\"],[0.8888888888888888,\"#fdca26\"],[1.0,\"#f0f921\"]],\"type\":\"histogram2dcontour\"}],\"histogram2d\":[{\"colorbar\":{\"outlinewidth\":0,\"ticks\":\"\"},\"colorscale\":[[0.0,\"#0d0887\"],[0.1111111111111111,\"#46039f\"],[0.2222222222222222,\"#7201a8\"],[0.3333333333333333,\"#9c179e\"],[0.4444444444444444,\"#bd3786\"],[0.5555555555555556,\"#d8576b\"],[0.6666666666666666,\"#ed7953\"],[0.7777777777777778,\"#fb9f3a\"],[0.8888888888888888,\"#fdca26\"],[1.0,\"#f0f921\"]],\"type\":\"histogram2d\"}],\"histogram\":[{\"marker\":{\"pattern\":{\"fillmode\":\"overlay\",\"size\":10,\"solidity\":0.2}},\"type\":\"histogram\"}],\"mesh3d\":[{\"colorbar\":{\"outlinewidth\":0,\"ticks\":\"\"},\"type\":\"mesh3d\"}],\"parcoords\":[{\"line\":{\"colorbar\":{\"outlinewidth\":0,\"ticks\":\"\"}},\"type\":\"parcoords\"}],\"pie\":[{\"automargin\":true,\"type\":\"pie\"}],\"scatter3d\":[{\"line\":{\"colorbar\":{\"outlinewidth\":0,\"ticks\":\"\"}},\"marker\":{\"colorbar\":{\"outlinewidth\":0,\"ticks\":\"\"}},\"type\":\"scatter3d\"}],\"scattercarpet\":[{\"marker\":{\"colorbar\":{\"outlinewidth\":0,\"ticks\":\"\"}},\"type\":\"scattercarpet\"}],\"scattergeo\":[{\"marker\":{\"colorbar\":{\"outlinewidth\":0,\"ticks\":\"\"}},\"type\":\"scattergeo\"}],\"scattergl\":[{\"marker\":{\"line\":{\"color\":\"#283442\"}},\"type\":\"scattergl\"}],\"scattermapbox\":[{\"marker\":{\"colorbar\":{\"outlinewidth\":0,\"ticks\":\"\"}},\"type\":\"scattermapbox\"}],\"scatterpolargl\":[{\"marker\":{\"colorbar\":{\"outlinewidth\":0,\"ticks\":\"\"}},\"type\":\"scatterpolargl\"}],\"scatterpolar\":[{\"marker\":{\"colorbar\":{\"outlinewidth\":0,\"ticks\":\"\"}},\"type\":\"scatterpolar\"}],\"scatter\":[{\"marker\":{\"line\":{\"color\":\"#283442\"}},\"type\":\"scatter\"}],\"scatterternary\":[{\"marker\":{\"colorbar\":{\"outlinewidth\":0,\"ticks\":\"\"}},\"type\":\"scatterternary\"}],\"surface\":[{\"colorbar\":{\"outlinewidth\":0,\"ticks\":\"\"},\"colorscale\":[[0.0,\"#0d0887\"],[0.1111111111111111,\"#46039f\"],[0.2222222222222222,\"#7201a8\"],[0.3333333333333333,\"#9c179e\"],[0.4444444444444444,\"#bd3786\"],[0.5555555555555556,\"#d8576b\"],[0.6666666666666666,\"#ed7953\"],[0.7777777777777778,\"#fb9f3a\"],[0.8888888888888888,\"#fdca26\"],[1.0,\"#f0f921\"]],\"type\":\"surface\"}],\"table\":[{\"cells\":{\"fill\":{\"color\":\"#506784\"},\"line\":{\"color\":\"rgb(17,17,17)\"}},\"header\":{\"fill\":{\"color\":\"#2a3f5f\"},\"line\":{\"color\":\"rgb(17,17,17)\"}},\"type\":\"table\"}]},\"layout\":{\"annotationdefaults\":{\"arrowcolor\":\"#f2f5fa\",\"arrowhead\":0,\"arrowwidth\":1},\"autotypenumbers\":\"strict\",\"coloraxis\":{\"colorbar\":{\"outlinewidth\":0,\"ticks\":\"\"}},\"colorscale\":{\"diverging\":[[0,\"#8e0152\"],[0.1,\"#c51b7d\"],[0.2,\"#de77ae\"],[0.3,\"#f1b6da\"],[0.4,\"#fde0ef\"],[0.5,\"#f7f7f7\"],[0.6,\"#e6f5d0\"],[0.7,\"#b8e186\"],[0.8,\"#7fbc41\"],[0.9,\"#4d9221\"],[1,\"#276419\"]],\"sequential\":[[0.0,\"#0d0887\"],[0.1111111111111111,\"#46039f\"],[0.2222222222222222,\"#7201a8\"],[0.3333333333333333,\"#9c179e\"],[0.4444444444444444,\"#bd3786\"],[0.5555555555555556,\"#d8576b\"],[0.6666666666666666,\"#ed7953\"],[0.7777777777777778,\"#fb9f3a\"],[0.8888888888888888,\"#fdca26\"],[1.0,\"#f0f921\"]],\"sequentialminus\":[[0.0,\"#0d0887\"],[0.1111111111111111,\"#46039f\"],[0.2222222222222222,\"#7201a8\"],[0.3333333333333333,\"#9c179e\"],[0.4444444444444444,\"#bd3786\"],[0.5555555555555556,\"#d8576b\"],[0.6666666666666666,\"#ed7953\"],[0.7777777777777778,\"#fb9f3a\"],[0.8888888888888888,\"#fdca26\"],[1.0,\"#f0f921\"]]},\"colorway\":[\"#636efa\",\"#EF553B\",\"#00cc96\",\"#ab63fa\",\"#FFA15A\",\"#19d3f3\",\"#FF6692\",\"#B6E880\",\"#FF97FF\",\"#FECB52\"],\"font\":{\"color\":\"#f2f5fa\"},\"geo\":{\"bgcolor\":\"rgb(17,17,17)\",\"lakecolor\":\"rgb(17,17,17)\",\"landcolor\":\"rgb(17,17,17)\",\"showlakes\":true,\"showland\":true,\"subunitcolor\":\"#506784\"},\"hoverlabel\":{\"align\":\"left\"},\"hovermode\":\"closest\",\"mapbox\":{\"style\":\"dark\"},\"paper_bgcolor\":\"rgb(17,17,17)\",\"plot_bgcolor\":\"rgb(17,17,17)\",\"polar\":{\"angularaxis\":{\"gridcolor\":\"#506784\",\"linecolor\":\"#506784\",\"ticks\":\"\"},\"bgcolor\":\"rgb(17,17,17)\",\"radialaxis\":{\"gridcolor\":\"#506784\",\"linecolor\":\"#506784\",\"ticks\":\"\"}},\"scene\":{\"xaxis\":{\"backgroundcolor\":\"rgb(17,17,17)\",\"gridcolor\":\"#506784\",\"gridwidth\":2,\"linecolor\":\"#506784\",\"showbackground\":true,\"ticks\":\"\",\"zerolinecolor\":\"#C8D4E3\"},\"yaxis\":{\"backgroundcolor\":\"rgb(17,17,17)\",\"gridcolor\":\"#506784\",\"gridwidth\":2,\"linecolor\":\"#506784\",\"showbackground\":true,\"ticks\":\"\",\"zerolinecolor\":\"#C8D4E3\"},\"zaxis\":{\"backgroundcolor\":\"rgb(17,17,17)\",\"gridcolor\":\"#506784\",\"gridwidth\":2,\"linecolor\":\"#506784\",\"showbackground\":true,\"ticks\":\"\",\"zerolinecolor\":\"#C8D4E3\"}},\"shapedefaults\":{\"line\":{\"color\":\"#f2f5fa\"}},\"sliderdefaults\":{\"bgcolor\":\"#C8D4E3\",\"bordercolor\":\"rgb(17,17,17)\",\"borderwidth\":1,\"tickwidth\":0},\"ternary\":{\"aaxis\":{\"gridcolor\":\"#506784\",\"linecolor\":\"#506784\",\"ticks\":\"\"},\"baxis\":{\"gridcolor\":\"#506784\",\"linecolor\":\"#506784\",\"ticks\":\"\"},\"bgcolor\":\"rgb(17,17,17)\",\"caxis\":{\"gridcolor\":\"#506784\",\"linecolor\":\"#506784\",\"ticks\":\"\"}},\"title\":{\"x\":0.05},\"updatemenudefaults\":{\"bgcolor\":\"#506784\",\"borderwidth\":0},\"xaxis\":{\"automargin\":true,\"gridcolor\":\"#283442\",\"linecolor\":\"#506784\",\"ticks\":\"\",\"title\":{\"standoff\":15},\"zerolinecolor\":\"#283442\",\"zerolinewidth\":2},\"yaxis\":{\"automargin\":true,\"gridcolor\":\"#283442\",\"linecolor\":\"#506784\",\"ticks\":\"\",\"title\":{\"standoff\":15},\"zerolinecolor\":\"#283442\",\"zerolinewidth\":2}}},\"yaxis\":{\"title\":{\"text\":\"Emotion Diversity Entropy (Log Scale)\"},\"type\":\"log\"},\"height\":600,\"title\":{\"text\":\"Emotion Diversity Entropy Across Stories\"},\"xaxis\":{\"title\":{\"text\":\"Story Source (Human vs Model)\"}},\"showlegend\":true},                        {\"responsive\": true}                    ).then(function(){\n",
       "                            \n",
       "var gd = document.getElementById('ed02a5f2-da02-498e-bb07-9dbd601e12d7');\n",
       "var x = new MutationObserver(function (mutations, observer) {{\n",
       "        var display = window.getComputedStyle(gd).display;\n",
       "        if (!display || display === 'none') {{\n",
       "            console.log([gd, 'removed!']);\n",
       "            Plotly.purge(gd);\n",
       "            observer.disconnect();\n",
       "        }}\n",
       "}});\n",
       "\n",
       "// Listen for the removal of the full notebook cells\n",
       "var notebookContainer = gd.closest('#notebook-container');\n",
       "if (notebookContainer) {{\n",
       "    x.observe(notebookContainer, {childList: true});\n",
       "}}\n",
       "\n",
       "// Listen for the clearing of the current output cell\n",
       "var outputEl = gd.closest('.output');\n",
       "if (outputEl) {{\n",
       "    x.observe(outputEl, {childList: true});\n",
       "}}\n",
       "\n",
       "                        })                };                });            </script>        </div>"
      ]
     },
     "metadata": {},
     "output_type": "display_data"
    }
   ],
   "source": [
    "def calculate_entropy_for_time_step(emotion_strengths):\n",
    "    \"\"\" Calculate the entropy of the emotion distribution at a time step \"\"\"\n",
    "    # Normalize the emotion strengths to get a probability distribution\n",
    "    total_strength = sum(emotion_strengths)\n",
    "    probabilities = [strength / total_strength for strength in emotion_strengths]\n",
    "    # Calculate the entropy\n",
    "    entropy = -sum([p * np.log2(p) for p in probabilities if p > 0])\n",
    "    return entropy\n",
    "\n",
    "\n",
    "def visualize_emotion_diversity():\n",
    "    story_entropy_dict = {}\n",
    "    for _, row in concated_example_df.iterrows():\n",
    "        time_step_entropies = []\n",
    "        for time_step_idx in range(NORMALIZE_STEP):\n",
    "            # get all emotions' intensity at the current time step\n",
    "            time_step_strengths = [row[emotion][time_step_idx] for emotion in plutchik_emotions]\n",
    "            # calculate the entropy of the emotion distribution at the current time step\n",
    "            time_step_entropy = calculate_entropy_for_time_step(time_step_strengths)\n",
    "            time_step_entropies.append(time_step_entropy)\n",
    "        # calculate the whole story's average emotion diversity entropy (Average entropy across all time steps)\n",
    "        total_entropy = np.mean(time_step_entropies)\n",
    "        story_entropy_dict[row[\"Model\"]] = total_entropy\n",
    "    \n",
    "    # Create a bar plot for the emotion diversity entropy\n",
    "    fig = go.Figure()\n",
    "    for model_name, entropy_value in story_entropy_dict.items():\n",
    "        fig.add_trace(go.Bar(\n",
    "            x=[model_name],\n",
    "            y=[entropy_value],\n",
    "            name=f\"{model_name} - Emotion Diversity Entropy\"\n",
    "        ))\n",
    "    fig.update_layout(\n",
    "        height=600,\n",
    "        title=\"Emotion Diversity Entropy Across Stories\",\n",
    "        xaxis_title=\"Story Source (Human vs Model)\",\n",
    "        yaxis_title=\"Emotion Diversity Entropy (Log Scale)\",\n",
    "        yaxis=dict(type=\"log\"),\n",
    "        template=\"plotly_dark\",\n",
    "        showlegend=True\n",
    "    )\n",
    "    fig.show()\n",
    "    return story_entropy_dict\n",
    "\n",
    "entropy_stats = visualize_emotion_diversity()"
   ]
  },
  {
   "cell_type": "markdown",
   "metadata": {},
   "source": [
    "## 3. Skewness Analysis"
   ]
  },
  {
   "cell_type": "markdown",
   "metadata": {},
   "source": [
    "* High positive skewness (right-skewed): higher emotional intensity intensity values are more common than low emotional intensity values\n",
    "* High negative skewness (left-skewed): lower emotional intensity intensity values are more common than high emotional intensity values\n",
    "* Around 0 skewness: symmetric distribution"
   ]
  },
  {
   "cell_type": "code",
   "execution_count": 198,
   "metadata": {},
   "outputs": [
    {
     "data": {
      "application/vnd.plotly.v1+json": {
       "config": {
        "plotlyServerURL": "https://plot.ly"
       },
       "data": [
        {
         "name": "Anger Skewness",
         "text": [
          "-0.03",
          "-0.35",
          "0.01",
          "-0.29",
          "1.07",
          "-0.37",
          "0.68"
         ],
         "textposition": "auto",
         "type": "bar",
         "x": [
          "Human",
          "Llama-7b",
          "Mistral-7b",
          "Beluga-13b",
          "OrcaPlatypus-13b",
          "LlamaInstruct-30b",
          "Platypus2-70b"
         ],
         "xaxis": "x",
         "y": [
          -0.027379387646046274,
          -0.35258097785920334,
          0.01481149586069446,
          -0.2898540712429721,
          1.0696485721858557,
          -0.37420567186221587,
          0.6833988926540852
         ],
         "yaxis": "y"
        },
        {
         "name": "Anticipation Skewness",
         "text": [
          "-0.19",
          "-0.24",
          "-0.66",
          "-0.68",
          "-1.58",
          "-1.27",
          "-1.23"
         ],
         "textposition": "auto",
         "type": "bar",
         "x": [
          "Human",
          "Llama-7b",
          "Mistral-7b",
          "Beluga-13b",
          "OrcaPlatypus-13b",
          "LlamaInstruct-30b",
          "Platypus2-70b"
         ],
         "xaxis": "x",
         "y": [
          -0.19353412714347396,
          -0.23569618583463903,
          -0.6599244914842146,
          -0.675468917737525,
          -1.575083593601684,
          -1.2732469343057198,
          -1.2258684871056431
         ],
         "yaxis": "y"
        },
        {
         "name": "Disgust Skewness",
         "text": [
          "-0.68",
          "-0.34",
          "-0.05",
          "-0.27",
          "-0.20",
          "-0.45",
          "0.63"
         ],
         "textposition": "auto",
         "type": "bar",
         "x": [
          "Human",
          "Llama-7b",
          "Mistral-7b",
          "Beluga-13b",
          "OrcaPlatypus-13b",
          "LlamaInstruct-30b",
          "Platypus2-70b"
         ],
         "xaxis": "x",
         "y": [
          -0.6793782980700297,
          -0.33941095368640295,
          -0.050802380284868456,
          -0.2741961211570855,
          -0.20170423640684773,
          -0.4493102412069687,
          0.6277395854357782
         ],
         "yaxis": "y"
        },
        {
         "name": "Fear Skewness",
         "text": [
          "1.32",
          "0.53",
          "0.10",
          "0.69",
          "-0.81",
          "-0.10",
          "-0.19"
         ],
         "textposition": "auto",
         "type": "bar",
         "x": [
          "Human",
          "Llama-7b",
          "Mistral-7b",
          "Beluga-13b",
          "OrcaPlatypus-13b",
          "LlamaInstruct-30b",
          "Platypus2-70b"
         ],
         "xaxis": "x",
         "y": [
          1.3188001477586726,
          0.5271352041495758,
          0.09974611702889978,
          0.6857958112760554,
          -0.8097619097276904,
          -0.09528060790675869,
          -0.1949851856607071
         ],
         "yaxis": "y"
        },
        {
         "name": "Joy Skewness",
         "text": [
          "0.00",
          "0.29",
          "-0.13",
          "0.85",
          "0.75",
          "0.56",
          "0.75"
         ],
         "textposition": "auto",
         "type": "bar",
         "x": [
          "Human",
          "Llama-7b",
          "Mistral-7b",
          "Beluga-13b",
          "OrcaPlatypus-13b",
          "LlamaInstruct-30b",
          "Platypus2-70b"
         ],
         "xaxis": "x",
         "y": [
          0.0023749971359258975,
          0.2894318945074234,
          -0.13419480707927547,
          0.8507132696874873,
          0.745191696130415,
          0.5604455439219832,
          0.748931397213646
         ],
         "yaxis": "y"
        },
        {
         "name": "Sadness Skewness",
         "text": [
          "0.00",
          "0.21",
          "-0.10",
          "-0.59",
          "-0.98",
          "-0.24",
          "-0.06"
         ],
         "textposition": "auto",
         "type": "bar",
         "x": [
          "Human",
          "Llama-7b",
          "Mistral-7b",
          "Beluga-13b",
          "OrcaPlatypus-13b",
          "LlamaInstruct-30b",
          "Platypus2-70b"
         ],
         "xaxis": "x",
         "y": [
          0.000469481498006179,
          0.21007289409604085,
          -0.09871835714193021,
          -0.5912349865302958,
          -0.9793005199774563,
          -0.2431383701284437,
          -0.062084716046458
         ],
         "yaxis": "y"
        },
        {
         "name": "Surprise Skewness",
         "text": [
          "0.78",
          "-0.83",
          "-0.24",
          "-0.68",
          "-0.36",
          "-0.57",
          "-0.49"
         ],
         "textposition": "auto",
         "type": "bar",
         "x": [
          "Human",
          "Llama-7b",
          "Mistral-7b",
          "Beluga-13b",
          "OrcaPlatypus-13b",
          "LlamaInstruct-30b",
          "Platypus2-70b"
         ],
         "xaxis": "x",
         "y": [
          0.7821877666386027,
          -0.8337949435894507,
          -0.23986614650548577,
          -0.6821103364269103,
          -0.355022863155144,
          -0.5712244216933565,
          -0.4889869946751779
         ],
         "yaxis": "y"
        },
        {
         "name": "Trust Skewness",
         "text": [
          "-0.45",
          "1.13",
          "0.66",
          "0.19",
          "0.70",
          "0.99",
          "0.84"
         ],
         "textposition": "auto",
         "type": "bar",
         "x": [
          "Human",
          "Llama-7b",
          "Mistral-7b",
          "Beluga-13b",
          "OrcaPlatypus-13b",
          "LlamaInstruct-30b",
          "Platypus2-70b"
         ],
         "xaxis": "x",
         "y": [
          -0.45194910982522546,
          1.1338786648178647,
          0.6564197929711324,
          0.186322608373544,
          0.6964619650716048,
          0.9909606606207968,
          0.8350555730538968
         ],
         "yaxis": "y"
        }
       ],
       "layout": {
        "annotations": [
         {
          "font": {
           "size": 16
          },
          "showarrow": false,
          "text": "Skewness",
          "x": 0.5,
          "xanchor": "center",
          "xref": "paper",
          "y": 1,
          "yanchor": "bottom",
          "yref": "paper"
         }
        ],
        "barmode": "group",
        "height": 600,
        "showlegend": true,
        "template": {
         "data": {
          "bar": [
           {
            "error_x": {
             "color": "#f2f5fa"
            },
            "error_y": {
             "color": "#f2f5fa"
            },
            "marker": {
             "line": {
              "color": "rgb(17,17,17)",
              "width": 0.5
             },
             "pattern": {
              "fillmode": "overlay",
              "size": 10,
              "solidity": 0.2
             }
            },
            "type": "bar"
           }
          ],
          "barpolar": [
           {
            "marker": {
             "line": {
              "color": "rgb(17,17,17)",
              "width": 0.5
             },
             "pattern": {
              "fillmode": "overlay",
              "size": 10,
              "solidity": 0.2
             }
            },
            "type": "barpolar"
           }
          ],
          "carpet": [
           {
            "aaxis": {
             "endlinecolor": "#A2B1C6",
             "gridcolor": "#506784",
             "linecolor": "#506784",
             "minorgridcolor": "#506784",
             "startlinecolor": "#A2B1C6"
            },
            "baxis": {
             "endlinecolor": "#A2B1C6",
             "gridcolor": "#506784",
             "linecolor": "#506784",
             "minorgridcolor": "#506784",
             "startlinecolor": "#A2B1C6"
            },
            "type": "carpet"
           }
          ],
          "choropleth": [
           {
            "colorbar": {
             "outlinewidth": 0,
             "ticks": ""
            },
            "type": "choropleth"
           }
          ],
          "contour": [
           {
            "colorbar": {
             "outlinewidth": 0,
             "ticks": ""
            },
            "colorscale": [
             [
              0,
              "#0d0887"
             ],
             [
              0.1111111111111111,
              "#46039f"
             ],
             [
              0.2222222222222222,
              "#7201a8"
             ],
             [
              0.3333333333333333,
              "#9c179e"
             ],
             [
              0.4444444444444444,
              "#bd3786"
             ],
             [
              0.5555555555555556,
              "#d8576b"
             ],
             [
              0.6666666666666666,
              "#ed7953"
             ],
             [
              0.7777777777777778,
              "#fb9f3a"
             ],
             [
              0.8888888888888888,
              "#fdca26"
             ],
             [
              1,
              "#f0f921"
             ]
            ],
            "type": "contour"
           }
          ],
          "contourcarpet": [
           {
            "colorbar": {
             "outlinewidth": 0,
             "ticks": ""
            },
            "type": "contourcarpet"
           }
          ],
          "heatmap": [
           {
            "colorbar": {
             "outlinewidth": 0,
             "ticks": ""
            },
            "colorscale": [
             [
              0,
              "#0d0887"
             ],
             [
              0.1111111111111111,
              "#46039f"
             ],
             [
              0.2222222222222222,
              "#7201a8"
             ],
             [
              0.3333333333333333,
              "#9c179e"
             ],
             [
              0.4444444444444444,
              "#bd3786"
             ],
             [
              0.5555555555555556,
              "#d8576b"
             ],
             [
              0.6666666666666666,
              "#ed7953"
             ],
             [
              0.7777777777777778,
              "#fb9f3a"
             ],
             [
              0.8888888888888888,
              "#fdca26"
             ],
             [
              1,
              "#f0f921"
             ]
            ],
            "type": "heatmap"
           }
          ],
          "heatmapgl": [
           {
            "colorbar": {
             "outlinewidth": 0,
             "ticks": ""
            },
            "colorscale": [
             [
              0,
              "#0d0887"
             ],
             [
              0.1111111111111111,
              "#46039f"
             ],
             [
              0.2222222222222222,
              "#7201a8"
             ],
             [
              0.3333333333333333,
              "#9c179e"
             ],
             [
              0.4444444444444444,
              "#bd3786"
             ],
             [
              0.5555555555555556,
              "#d8576b"
             ],
             [
              0.6666666666666666,
              "#ed7953"
             ],
             [
              0.7777777777777778,
              "#fb9f3a"
             ],
             [
              0.8888888888888888,
              "#fdca26"
             ],
             [
              1,
              "#f0f921"
             ]
            ],
            "type": "heatmapgl"
           }
          ],
          "histogram": [
           {
            "marker": {
             "pattern": {
              "fillmode": "overlay",
              "size": 10,
              "solidity": 0.2
             }
            },
            "type": "histogram"
           }
          ],
          "histogram2d": [
           {
            "colorbar": {
             "outlinewidth": 0,
             "ticks": ""
            },
            "colorscale": [
             [
              0,
              "#0d0887"
             ],
             [
              0.1111111111111111,
              "#46039f"
             ],
             [
              0.2222222222222222,
              "#7201a8"
             ],
             [
              0.3333333333333333,
              "#9c179e"
             ],
             [
              0.4444444444444444,
              "#bd3786"
             ],
             [
              0.5555555555555556,
              "#d8576b"
             ],
             [
              0.6666666666666666,
              "#ed7953"
             ],
             [
              0.7777777777777778,
              "#fb9f3a"
             ],
             [
              0.8888888888888888,
              "#fdca26"
             ],
             [
              1,
              "#f0f921"
             ]
            ],
            "type": "histogram2d"
           }
          ],
          "histogram2dcontour": [
           {
            "colorbar": {
             "outlinewidth": 0,
             "ticks": ""
            },
            "colorscale": [
             [
              0,
              "#0d0887"
             ],
             [
              0.1111111111111111,
              "#46039f"
             ],
             [
              0.2222222222222222,
              "#7201a8"
             ],
             [
              0.3333333333333333,
              "#9c179e"
             ],
             [
              0.4444444444444444,
              "#bd3786"
             ],
             [
              0.5555555555555556,
              "#d8576b"
             ],
             [
              0.6666666666666666,
              "#ed7953"
             ],
             [
              0.7777777777777778,
              "#fb9f3a"
             ],
             [
              0.8888888888888888,
              "#fdca26"
             ],
             [
              1,
              "#f0f921"
             ]
            ],
            "type": "histogram2dcontour"
           }
          ],
          "mesh3d": [
           {
            "colorbar": {
             "outlinewidth": 0,
             "ticks": ""
            },
            "type": "mesh3d"
           }
          ],
          "parcoords": [
           {
            "line": {
             "colorbar": {
              "outlinewidth": 0,
              "ticks": ""
             }
            },
            "type": "parcoords"
           }
          ],
          "pie": [
           {
            "automargin": true,
            "type": "pie"
           }
          ],
          "scatter": [
           {
            "marker": {
             "line": {
              "color": "#283442"
             }
            },
            "type": "scatter"
           }
          ],
          "scatter3d": [
           {
            "line": {
             "colorbar": {
              "outlinewidth": 0,
              "ticks": ""
             }
            },
            "marker": {
             "colorbar": {
              "outlinewidth": 0,
              "ticks": ""
             }
            },
            "type": "scatter3d"
           }
          ],
          "scattercarpet": [
           {
            "marker": {
             "colorbar": {
              "outlinewidth": 0,
              "ticks": ""
             }
            },
            "type": "scattercarpet"
           }
          ],
          "scattergeo": [
           {
            "marker": {
             "colorbar": {
              "outlinewidth": 0,
              "ticks": ""
             }
            },
            "type": "scattergeo"
           }
          ],
          "scattergl": [
           {
            "marker": {
             "line": {
              "color": "#283442"
             }
            },
            "type": "scattergl"
           }
          ],
          "scattermapbox": [
           {
            "marker": {
             "colorbar": {
              "outlinewidth": 0,
              "ticks": ""
             }
            },
            "type": "scattermapbox"
           }
          ],
          "scatterpolar": [
           {
            "marker": {
             "colorbar": {
              "outlinewidth": 0,
              "ticks": ""
             }
            },
            "type": "scatterpolar"
           }
          ],
          "scatterpolargl": [
           {
            "marker": {
             "colorbar": {
              "outlinewidth": 0,
              "ticks": ""
             }
            },
            "type": "scatterpolargl"
           }
          ],
          "scatterternary": [
           {
            "marker": {
             "colorbar": {
              "outlinewidth": 0,
              "ticks": ""
             }
            },
            "type": "scatterternary"
           }
          ],
          "surface": [
           {
            "colorbar": {
             "outlinewidth": 0,
             "ticks": ""
            },
            "colorscale": [
             [
              0,
              "#0d0887"
             ],
             [
              0.1111111111111111,
              "#46039f"
             ],
             [
              0.2222222222222222,
              "#7201a8"
             ],
             [
              0.3333333333333333,
              "#9c179e"
             ],
             [
              0.4444444444444444,
              "#bd3786"
             ],
             [
              0.5555555555555556,
              "#d8576b"
             ],
             [
              0.6666666666666666,
              "#ed7953"
             ],
             [
              0.7777777777777778,
              "#fb9f3a"
             ],
             [
              0.8888888888888888,
              "#fdca26"
             ],
             [
              1,
              "#f0f921"
             ]
            ],
            "type": "surface"
           }
          ],
          "table": [
           {
            "cells": {
             "fill": {
              "color": "#506784"
             },
             "line": {
              "color": "rgb(17,17,17)"
             }
            },
            "header": {
             "fill": {
              "color": "#2a3f5f"
             },
             "line": {
              "color": "rgb(17,17,17)"
             }
            },
            "type": "table"
           }
          ]
         },
         "layout": {
          "annotationdefaults": {
           "arrowcolor": "#f2f5fa",
           "arrowhead": 0,
           "arrowwidth": 1
          },
          "autotypenumbers": "strict",
          "coloraxis": {
           "colorbar": {
            "outlinewidth": 0,
            "ticks": ""
           }
          },
          "colorscale": {
           "diverging": [
            [
             0,
             "#8e0152"
            ],
            [
             0.1,
             "#c51b7d"
            ],
            [
             0.2,
             "#de77ae"
            ],
            [
             0.3,
             "#f1b6da"
            ],
            [
             0.4,
             "#fde0ef"
            ],
            [
             0.5,
             "#f7f7f7"
            ],
            [
             0.6,
             "#e6f5d0"
            ],
            [
             0.7,
             "#b8e186"
            ],
            [
             0.8,
             "#7fbc41"
            ],
            [
             0.9,
             "#4d9221"
            ],
            [
             1,
             "#276419"
            ]
           ],
           "sequential": [
            [
             0,
             "#0d0887"
            ],
            [
             0.1111111111111111,
             "#46039f"
            ],
            [
             0.2222222222222222,
             "#7201a8"
            ],
            [
             0.3333333333333333,
             "#9c179e"
            ],
            [
             0.4444444444444444,
             "#bd3786"
            ],
            [
             0.5555555555555556,
             "#d8576b"
            ],
            [
             0.6666666666666666,
             "#ed7953"
            ],
            [
             0.7777777777777778,
             "#fb9f3a"
            ],
            [
             0.8888888888888888,
             "#fdca26"
            ],
            [
             1,
             "#f0f921"
            ]
           ],
           "sequentialminus": [
            [
             0,
             "#0d0887"
            ],
            [
             0.1111111111111111,
             "#46039f"
            ],
            [
             0.2222222222222222,
             "#7201a8"
            ],
            [
             0.3333333333333333,
             "#9c179e"
            ],
            [
             0.4444444444444444,
             "#bd3786"
            ],
            [
             0.5555555555555556,
             "#d8576b"
            ],
            [
             0.6666666666666666,
             "#ed7953"
            ],
            [
             0.7777777777777778,
             "#fb9f3a"
            ],
            [
             0.8888888888888888,
             "#fdca26"
            ],
            [
             1,
             "#f0f921"
            ]
           ]
          },
          "colorway": [
           "#636efa",
           "#EF553B",
           "#00cc96",
           "#ab63fa",
           "#FFA15A",
           "#19d3f3",
           "#FF6692",
           "#B6E880",
           "#FF97FF",
           "#FECB52"
          ],
          "font": {
           "color": "#f2f5fa"
          },
          "geo": {
           "bgcolor": "rgb(17,17,17)",
           "lakecolor": "rgb(17,17,17)",
           "landcolor": "rgb(17,17,17)",
           "showlakes": true,
           "showland": true,
           "subunitcolor": "#506784"
          },
          "hoverlabel": {
           "align": "left"
          },
          "hovermode": "closest",
          "mapbox": {
           "style": "dark"
          },
          "paper_bgcolor": "rgb(17,17,17)",
          "plot_bgcolor": "rgb(17,17,17)",
          "polar": {
           "angularaxis": {
            "gridcolor": "#506784",
            "linecolor": "#506784",
            "ticks": ""
           },
           "bgcolor": "rgb(17,17,17)",
           "radialaxis": {
            "gridcolor": "#506784",
            "linecolor": "#506784",
            "ticks": ""
           }
          },
          "scene": {
           "xaxis": {
            "backgroundcolor": "rgb(17,17,17)",
            "gridcolor": "#506784",
            "gridwidth": 2,
            "linecolor": "#506784",
            "showbackground": true,
            "ticks": "",
            "zerolinecolor": "#C8D4E3"
           },
           "yaxis": {
            "backgroundcolor": "rgb(17,17,17)",
            "gridcolor": "#506784",
            "gridwidth": 2,
            "linecolor": "#506784",
            "showbackground": true,
            "ticks": "",
            "zerolinecolor": "#C8D4E3"
           },
           "zaxis": {
            "backgroundcolor": "rgb(17,17,17)",
            "gridcolor": "#506784",
            "gridwidth": 2,
            "linecolor": "#506784",
            "showbackground": true,
            "ticks": "",
            "zerolinecolor": "#C8D4E3"
           }
          },
          "shapedefaults": {
           "line": {
            "color": "#f2f5fa"
           }
          },
          "sliderdefaults": {
           "bgcolor": "#C8D4E3",
           "bordercolor": "rgb(17,17,17)",
           "borderwidth": 1,
           "tickwidth": 0
          },
          "ternary": {
           "aaxis": {
            "gridcolor": "#506784",
            "linecolor": "#506784",
            "ticks": ""
           },
           "baxis": {
            "gridcolor": "#506784",
            "linecolor": "#506784",
            "ticks": ""
           },
           "bgcolor": "rgb(17,17,17)",
           "caxis": {
            "gridcolor": "#506784",
            "linecolor": "#506784",
            "ticks": ""
           }
          },
          "title": {
           "x": 0.05
          },
          "updatemenudefaults": {
           "bgcolor": "#506784",
           "borderwidth": 0
          },
          "xaxis": {
           "automargin": true,
           "gridcolor": "#283442",
           "linecolor": "#506784",
           "ticks": "",
           "title": {
            "standoff": 15
           },
           "zerolinecolor": "#283442",
           "zerolinewidth": 2
          },
          "yaxis": {
           "automargin": true,
           "gridcolor": "#283442",
           "linecolor": "#506784",
           "ticks": "",
           "title": {
            "standoff": 15
           },
           "zerolinecolor": "#283442",
           "zerolinewidth": 2
          }
         }
        },
        "title": {
         "text": "Emotion Skewness Across Stories"
        },
        "xaxis": {
         "anchor": "y",
         "domain": [
          0,
          1
         ],
         "title": {
          "text": "Story Source (Human vs Model)"
         }
        },
        "yaxis": {
         "anchor": "x",
         "domain": [
          0,
          1
         ],
         "title": {
          "text": "Skewness"
         }
        }
       }
      },
      "text/html": [
       "<div>                            <div id=\"c0646ecc-641c-4d63-a027-65e7e305c5b4\" class=\"plotly-graph-div\" style=\"height:600px; width:100%;\"></div>            <script type=\"text/javascript\">                require([\"plotly\"], function(Plotly) {                    window.PLOTLYENV=window.PLOTLYENV || {};                                    if (document.getElementById(\"c0646ecc-641c-4d63-a027-65e7e305c5b4\")) {                    Plotly.newPlot(                        \"c0646ecc-641c-4d63-a027-65e7e305c5b4\",                        [{\"name\":\"Anger Skewness\",\"text\":[\"-0.03\",\"-0.35\",\"0.01\",\"-0.29\",\"1.07\",\"-0.37\",\"0.68\"],\"textposition\":\"auto\",\"x\":[\"Human\",\"Llama-7b\",\"Mistral-7b\",\"Beluga-13b\",\"OrcaPlatypus-13b\",\"LlamaInstruct-30b\",\"Platypus2-70b\"],\"y\":[-0.027379387646046274,-0.35258097785920334,0.01481149586069446,-0.2898540712429721,1.0696485721858557,-0.37420567186221587,0.6833988926540852],\"type\":\"bar\",\"xaxis\":\"x\",\"yaxis\":\"y\"},{\"name\":\"Anticipation Skewness\",\"text\":[\"-0.19\",\"-0.24\",\"-0.66\",\"-0.68\",\"-1.58\",\"-1.27\",\"-1.23\"],\"textposition\":\"auto\",\"x\":[\"Human\",\"Llama-7b\",\"Mistral-7b\",\"Beluga-13b\",\"OrcaPlatypus-13b\",\"LlamaInstruct-30b\",\"Platypus2-70b\"],\"y\":[-0.19353412714347396,-0.23569618583463903,-0.6599244914842146,-0.675468917737525,-1.575083593601684,-1.2732469343057198,-1.2258684871056431],\"type\":\"bar\",\"xaxis\":\"x\",\"yaxis\":\"y\"},{\"name\":\"Disgust Skewness\",\"text\":[\"-0.68\",\"-0.34\",\"-0.05\",\"-0.27\",\"-0.20\",\"-0.45\",\"0.63\"],\"textposition\":\"auto\",\"x\":[\"Human\",\"Llama-7b\",\"Mistral-7b\",\"Beluga-13b\",\"OrcaPlatypus-13b\",\"LlamaInstruct-30b\",\"Platypus2-70b\"],\"y\":[-0.6793782980700297,-0.33941095368640295,-0.050802380284868456,-0.2741961211570855,-0.20170423640684773,-0.4493102412069687,0.6277395854357782],\"type\":\"bar\",\"xaxis\":\"x\",\"yaxis\":\"y\"},{\"name\":\"Fear Skewness\",\"text\":[\"1.32\",\"0.53\",\"0.10\",\"0.69\",\"-0.81\",\"-0.10\",\"-0.19\"],\"textposition\":\"auto\",\"x\":[\"Human\",\"Llama-7b\",\"Mistral-7b\",\"Beluga-13b\",\"OrcaPlatypus-13b\",\"LlamaInstruct-30b\",\"Platypus2-70b\"],\"y\":[1.3188001477586726,0.5271352041495758,0.09974611702889978,0.6857958112760554,-0.8097619097276904,-0.09528060790675869,-0.1949851856607071],\"type\":\"bar\",\"xaxis\":\"x\",\"yaxis\":\"y\"},{\"name\":\"Joy Skewness\",\"text\":[\"0.00\",\"0.29\",\"-0.13\",\"0.85\",\"0.75\",\"0.56\",\"0.75\"],\"textposition\":\"auto\",\"x\":[\"Human\",\"Llama-7b\",\"Mistral-7b\",\"Beluga-13b\",\"OrcaPlatypus-13b\",\"LlamaInstruct-30b\",\"Platypus2-70b\"],\"y\":[0.0023749971359258975,0.2894318945074234,-0.13419480707927547,0.8507132696874873,0.745191696130415,0.5604455439219832,0.748931397213646],\"type\":\"bar\",\"xaxis\":\"x\",\"yaxis\":\"y\"},{\"name\":\"Sadness Skewness\",\"text\":[\"0.00\",\"0.21\",\"-0.10\",\"-0.59\",\"-0.98\",\"-0.24\",\"-0.06\"],\"textposition\":\"auto\",\"x\":[\"Human\",\"Llama-7b\",\"Mistral-7b\",\"Beluga-13b\",\"OrcaPlatypus-13b\",\"LlamaInstruct-30b\",\"Platypus2-70b\"],\"y\":[0.000469481498006179,0.21007289409604085,-0.09871835714193021,-0.5912349865302958,-0.9793005199774563,-0.2431383701284437,-0.062084716046458],\"type\":\"bar\",\"xaxis\":\"x\",\"yaxis\":\"y\"},{\"name\":\"Surprise Skewness\",\"text\":[\"0.78\",\"-0.83\",\"-0.24\",\"-0.68\",\"-0.36\",\"-0.57\",\"-0.49\"],\"textposition\":\"auto\",\"x\":[\"Human\",\"Llama-7b\",\"Mistral-7b\",\"Beluga-13b\",\"OrcaPlatypus-13b\",\"LlamaInstruct-30b\",\"Platypus2-70b\"],\"y\":[0.7821877666386027,-0.8337949435894507,-0.23986614650548577,-0.6821103364269103,-0.355022863155144,-0.5712244216933565,-0.4889869946751779],\"type\":\"bar\",\"xaxis\":\"x\",\"yaxis\":\"y\"},{\"name\":\"Trust Skewness\",\"text\":[\"-0.45\",\"1.13\",\"0.66\",\"0.19\",\"0.70\",\"0.99\",\"0.84\"],\"textposition\":\"auto\",\"x\":[\"Human\",\"Llama-7b\",\"Mistral-7b\",\"Beluga-13b\",\"OrcaPlatypus-13b\",\"LlamaInstruct-30b\",\"Platypus2-70b\"],\"y\":[-0.45194910982522546,1.1338786648178647,0.6564197929711324,0.186322608373544,0.6964619650716048,0.9909606606207968,0.8350555730538968],\"type\":\"bar\",\"xaxis\":\"x\",\"yaxis\":\"y\"}],                        {\"template\":{\"data\":{\"barpolar\":[{\"marker\":{\"line\":{\"color\":\"rgb(17,17,17)\",\"width\":0.5},\"pattern\":{\"fillmode\":\"overlay\",\"size\":10,\"solidity\":0.2}},\"type\":\"barpolar\"}],\"bar\":[{\"error_x\":{\"color\":\"#f2f5fa\"},\"error_y\":{\"color\":\"#f2f5fa\"},\"marker\":{\"line\":{\"color\":\"rgb(17,17,17)\",\"width\":0.5},\"pattern\":{\"fillmode\":\"overlay\",\"size\":10,\"solidity\":0.2}},\"type\":\"bar\"}],\"carpet\":[{\"aaxis\":{\"endlinecolor\":\"#A2B1C6\",\"gridcolor\":\"#506784\",\"linecolor\":\"#506784\",\"minorgridcolor\":\"#506784\",\"startlinecolor\":\"#A2B1C6\"},\"baxis\":{\"endlinecolor\":\"#A2B1C6\",\"gridcolor\":\"#506784\",\"linecolor\":\"#506784\",\"minorgridcolor\":\"#506784\",\"startlinecolor\":\"#A2B1C6\"},\"type\":\"carpet\"}],\"choropleth\":[{\"colorbar\":{\"outlinewidth\":0,\"ticks\":\"\"},\"type\":\"choropleth\"}],\"contourcarpet\":[{\"colorbar\":{\"outlinewidth\":0,\"ticks\":\"\"},\"type\":\"contourcarpet\"}],\"contour\":[{\"colorbar\":{\"outlinewidth\":0,\"ticks\":\"\"},\"colorscale\":[[0.0,\"#0d0887\"],[0.1111111111111111,\"#46039f\"],[0.2222222222222222,\"#7201a8\"],[0.3333333333333333,\"#9c179e\"],[0.4444444444444444,\"#bd3786\"],[0.5555555555555556,\"#d8576b\"],[0.6666666666666666,\"#ed7953\"],[0.7777777777777778,\"#fb9f3a\"],[0.8888888888888888,\"#fdca26\"],[1.0,\"#f0f921\"]],\"type\":\"contour\"}],\"heatmapgl\":[{\"colorbar\":{\"outlinewidth\":0,\"ticks\":\"\"},\"colorscale\":[[0.0,\"#0d0887\"],[0.1111111111111111,\"#46039f\"],[0.2222222222222222,\"#7201a8\"],[0.3333333333333333,\"#9c179e\"],[0.4444444444444444,\"#bd3786\"],[0.5555555555555556,\"#d8576b\"],[0.6666666666666666,\"#ed7953\"],[0.7777777777777778,\"#fb9f3a\"],[0.8888888888888888,\"#fdca26\"],[1.0,\"#f0f921\"]],\"type\":\"heatmapgl\"}],\"heatmap\":[{\"colorbar\":{\"outlinewidth\":0,\"ticks\":\"\"},\"colorscale\":[[0.0,\"#0d0887\"],[0.1111111111111111,\"#46039f\"],[0.2222222222222222,\"#7201a8\"],[0.3333333333333333,\"#9c179e\"],[0.4444444444444444,\"#bd3786\"],[0.5555555555555556,\"#d8576b\"],[0.6666666666666666,\"#ed7953\"],[0.7777777777777778,\"#fb9f3a\"],[0.8888888888888888,\"#fdca26\"],[1.0,\"#f0f921\"]],\"type\":\"heatmap\"}],\"histogram2dcontour\":[{\"colorbar\":{\"outlinewidth\":0,\"ticks\":\"\"},\"colorscale\":[[0.0,\"#0d0887\"],[0.1111111111111111,\"#46039f\"],[0.2222222222222222,\"#7201a8\"],[0.3333333333333333,\"#9c179e\"],[0.4444444444444444,\"#bd3786\"],[0.5555555555555556,\"#d8576b\"],[0.6666666666666666,\"#ed7953\"],[0.7777777777777778,\"#fb9f3a\"],[0.8888888888888888,\"#fdca26\"],[1.0,\"#f0f921\"]],\"type\":\"histogram2dcontour\"}],\"histogram2d\":[{\"colorbar\":{\"outlinewidth\":0,\"ticks\":\"\"},\"colorscale\":[[0.0,\"#0d0887\"],[0.1111111111111111,\"#46039f\"],[0.2222222222222222,\"#7201a8\"],[0.3333333333333333,\"#9c179e\"],[0.4444444444444444,\"#bd3786\"],[0.5555555555555556,\"#d8576b\"],[0.6666666666666666,\"#ed7953\"],[0.7777777777777778,\"#fb9f3a\"],[0.8888888888888888,\"#fdca26\"],[1.0,\"#f0f921\"]],\"type\":\"histogram2d\"}],\"histogram\":[{\"marker\":{\"pattern\":{\"fillmode\":\"overlay\",\"size\":10,\"solidity\":0.2}},\"type\":\"histogram\"}],\"mesh3d\":[{\"colorbar\":{\"outlinewidth\":0,\"ticks\":\"\"},\"type\":\"mesh3d\"}],\"parcoords\":[{\"line\":{\"colorbar\":{\"outlinewidth\":0,\"ticks\":\"\"}},\"type\":\"parcoords\"}],\"pie\":[{\"automargin\":true,\"type\":\"pie\"}],\"scatter3d\":[{\"line\":{\"colorbar\":{\"outlinewidth\":0,\"ticks\":\"\"}},\"marker\":{\"colorbar\":{\"outlinewidth\":0,\"ticks\":\"\"}},\"type\":\"scatter3d\"}],\"scattercarpet\":[{\"marker\":{\"colorbar\":{\"outlinewidth\":0,\"ticks\":\"\"}},\"type\":\"scattercarpet\"}],\"scattergeo\":[{\"marker\":{\"colorbar\":{\"outlinewidth\":0,\"ticks\":\"\"}},\"type\":\"scattergeo\"}],\"scattergl\":[{\"marker\":{\"line\":{\"color\":\"#283442\"}},\"type\":\"scattergl\"}],\"scattermapbox\":[{\"marker\":{\"colorbar\":{\"outlinewidth\":0,\"ticks\":\"\"}},\"type\":\"scattermapbox\"}],\"scatterpolargl\":[{\"marker\":{\"colorbar\":{\"outlinewidth\":0,\"ticks\":\"\"}},\"type\":\"scatterpolargl\"}],\"scatterpolar\":[{\"marker\":{\"colorbar\":{\"outlinewidth\":0,\"ticks\":\"\"}},\"type\":\"scatterpolar\"}],\"scatter\":[{\"marker\":{\"line\":{\"color\":\"#283442\"}},\"type\":\"scatter\"}],\"scatterternary\":[{\"marker\":{\"colorbar\":{\"outlinewidth\":0,\"ticks\":\"\"}},\"type\":\"scatterternary\"}],\"surface\":[{\"colorbar\":{\"outlinewidth\":0,\"ticks\":\"\"},\"colorscale\":[[0.0,\"#0d0887\"],[0.1111111111111111,\"#46039f\"],[0.2222222222222222,\"#7201a8\"],[0.3333333333333333,\"#9c179e\"],[0.4444444444444444,\"#bd3786\"],[0.5555555555555556,\"#d8576b\"],[0.6666666666666666,\"#ed7953\"],[0.7777777777777778,\"#fb9f3a\"],[0.8888888888888888,\"#fdca26\"],[1.0,\"#f0f921\"]],\"type\":\"surface\"}],\"table\":[{\"cells\":{\"fill\":{\"color\":\"#506784\"},\"line\":{\"color\":\"rgb(17,17,17)\"}},\"header\":{\"fill\":{\"color\":\"#2a3f5f\"},\"line\":{\"color\":\"rgb(17,17,17)\"}},\"type\":\"table\"}]},\"layout\":{\"annotationdefaults\":{\"arrowcolor\":\"#f2f5fa\",\"arrowhead\":0,\"arrowwidth\":1},\"autotypenumbers\":\"strict\",\"coloraxis\":{\"colorbar\":{\"outlinewidth\":0,\"ticks\":\"\"}},\"colorscale\":{\"diverging\":[[0,\"#8e0152\"],[0.1,\"#c51b7d\"],[0.2,\"#de77ae\"],[0.3,\"#f1b6da\"],[0.4,\"#fde0ef\"],[0.5,\"#f7f7f7\"],[0.6,\"#e6f5d0\"],[0.7,\"#b8e186\"],[0.8,\"#7fbc41\"],[0.9,\"#4d9221\"],[1,\"#276419\"]],\"sequential\":[[0.0,\"#0d0887\"],[0.1111111111111111,\"#46039f\"],[0.2222222222222222,\"#7201a8\"],[0.3333333333333333,\"#9c179e\"],[0.4444444444444444,\"#bd3786\"],[0.5555555555555556,\"#d8576b\"],[0.6666666666666666,\"#ed7953\"],[0.7777777777777778,\"#fb9f3a\"],[0.8888888888888888,\"#fdca26\"],[1.0,\"#f0f921\"]],\"sequentialminus\":[[0.0,\"#0d0887\"],[0.1111111111111111,\"#46039f\"],[0.2222222222222222,\"#7201a8\"],[0.3333333333333333,\"#9c179e\"],[0.4444444444444444,\"#bd3786\"],[0.5555555555555556,\"#d8576b\"],[0.6666666666666666,\"#ed7953\"],[0.7777777777777778,\"#fb9f3a\"],[0.8888888888888888,\"#fdca26\"],[1.0,\"#f0f921\"]]},\"colorway\":[\"#636efa\",\"#EF553B\",\"#00cc96\",\"#ab63fa\",\"#FFA15A\",\"#19d3f3\",\"#FF6692\",\"#B6E880\",\"#FF97FF\",\"#FECB52\"],\"font\":{\"color\":\"#f2f5fa\"},\"geo\":{\"bgcolor\":\"rgb(17,17,17)\",\"lakecolor\":\"rgb(17,17,17)\",\"landcolor\":\"rgb(17,17,17)\",\"showlakes\":true,\"showland\":true,\"subunitcolor\":\"#506784\"},\"hoverlabel\":{\"align\":\"left\"},\"hovermode\":\"closest\",\"mapbox\":{\"style\":\"dark\"},\"paper_bgcolor\":\"rgb(17,17,17)\",\"plot_bgcolor\":\"rgb(17,17,17)\",\"polar\":{\"angularaxis\":{\"gridcolor\":\"#506784\",\"linecolor\":\"#506784\",\"ticks\":\"\"},\"bgcolor\":\"rgb(17,17,17)\",\"radialaxis\":{\"gridcolor\":\"#506784\",\"linecolor\":\"#506784\",\"ticks\":\"\"}},\"scene\":{\"xaxis\":{\"backgroundcolor\":\"rgb(17,17,17)\",\"gridcolor\":\"#506784\",\"gridwidth\":2,\"linecolor\":\"#506784\",\"showbackground\":true,\"ticks\":\"\",\"zerolinecolor\":\"#C8D4E3\"},\"yaxis\":{\"backgroundcolor\":\"rgb(17,17,17)\",\"gridcolor\":\"#506784\",\"gridwidth\":2,\"linecolor\":\"#506784\",\"showbackground\":true,\"ticks\":\"\",\"zerolinecolor\":\"#C8D4E3\"},\"zaxis\":{\"backgroundcolor\":\"rgb(17,17,17)\",\"gridcolor\":\"#506784\",\"gridwidth\":2,\"linecolor\":\"#506784\",\"showbackground\":true,\"ticks\":\"\",\"zerolinecolor\":\"#C8D4E3\"}},\"shapedefaults\":{\"line\":{\"color\":\"#f2f5fa\"}},\"sliderdefaults\":{\"bgcolor\":\"#C8D4E3\",\"bordercolor\":\"rgb(17,17,17)\",\"borderwidth\":1,\"tickwidth\":0},\"ternary\":{\"aaxis\":{\"gridcolor\":\"#506784\",\"linecolor\":\"#506784\",\"ticks\":\"\"},\"baxis\":{\"gridcolor\":\"#506784\",\"linecolor\":\"#506784\",\"ticks\":\"\"},\"bgcolor\":\"rgb(17,17,17)\",\"caxis\":{\"gridcolor\":\"#506784\",\"linecolor\":\"#506784\",\"ticks\":\"\"}},\"title\":{\"x\":0.05},\"updatemenudefaults\":{\"bgcolor\":\"#506784\",\"borderwidth\":0},\"xaxis\":{\"automargin\":true,\"gridcolor\":\"#283442\",\"linecolor\":\"#506784\",\"ticks\":\"\",\"title\":{\"standoff\":15},\"zerolinecolor\":\"#283442\",\"zerolinewidth\":2},\"yaxis\":{\"automargin\":true,\"gridcolor\":\"#283442\",\"linecolor\":\"#506784\",\"ticks\":\"\",\"title\":{\"standoff\":15},\"zerolinecolor\":\"#283442\",\"zerolinewidth\":2}}},\"xaxis\":{\"anchor\":\"y\",\"domain\":[0.0,1.0],\"title\":{\"text\":\"Story Source (Human vs Model)\"}},\"yaxis\":{\"anchor\":\"x\",\"domain\":[0.0,1.0],\"title\":{\"text\":\"Skewness\"}},\"annotations\":[{\"font\":{\"size\":16},\"showarrow\":false,\"text\":\"Skewness\",\"x\":0.5,\"xanchor\":\"center\",\"xref\":\"paper\",\"y\":1.0,\"yanchor\":\"bottom\",\"yref\":\"paper\"}],\"height\":600,\"title\":{\"text\":\"Emotion Skewness Across Stories\"},\"barmode\":\"group\",\"showlegend\":true},                        {\"responsive\": true}                    ).then(function(){\n",
       "                            \n",
       "var gd = document.getElementById('c0646ecc-641c-4d63-a027-65e7e305c5b4');\n",
       "var x = new MutationObserver(function (mutations, observer) {{\n",
       "        var display = window.getComputedStyle(gd).display;\n",
       "        if (!display || display === 'none') {{\n",
       "            console.log([gd, 'removed!']);\n",
       "            Plotly.purge(gd);\n",
       "            observer.disconnect();\n",
       "        }}\n",
       "}});\n",
       "\n",
       "// Listen for the removal of the full notebook cells\n",
       "var notebookContainer = gd.closest('#notebook-container');\n",
       "if (notebookContainer) {{\n",
       "    x.observe(notebookContainer, {childList: true});\n",
       "}}\n",
       "\n",
       "// Listen for the clearing of the current output cell\n",
       "var outputEl = gd.closest('.output');\n",
       "if (outputEl) {{\n",
       "    x.observe(outputEl, {childList: true});\n",
       "}}\n",
       "\n",
       "                        })                };                });            </script>        </div>"
      ]
     },
     "metadata": {},
     "output_type": "display_data"
    }
   ],
   "source": [
    "def visualize_skewness():\n",
    "    stats = {emotion: {\"skewness\": []} for emotion in plutchik_emotions}\n",
    "    for _, row in concated_example_df.iterrows():\n",
    "        for emotion in plutchik_emotions:\n",
    "            values = np.array(row[emotion])\n",
    "            stats[emotion][\"skewness\"].append(skew(values))\n",
    "\n",
    "    fig = make_subplots(rows=1, cols=1, subplot_titles=[\"Skewness\"])\n",
    "    for emotion in plutchik_emotions:\n",
    "        fig.add_trace(go.Bar(\n",
    "            x=[\"Human\" if row[\"Model\"] == \"Human\" else row[\"Model\"] for _, row in concated_example_df.iterrows()],\n",
    "            y=stats[emotion][\"skewness\"],\n",
    "            # mode=\"lines+markers\",\n",
    "            name=f\"{emotion.capitalize()} Skewness\",\n",
    "            text=[f'{s:.2f}' for s in stats[emotion][\"skewness\"]],\n",
    "            textposition=\"auto\"\n",
    "        ), row=1, col=1)\n",
    "    fig.update_layout(\n",
    "        height=600,\n",
    "        title=\"Emotion Skewness Across Stories\",\n",
    "        xaxis_title=\"Story Source (Human vs Model)\",\n",
    "        yaxis_title=\"Skewness\",\n",
    "        template=\"plotly_dark\",\n",
    "        barmode=\"group\",\n",
    "        showlegend=True\n",
    "    )\n",
    "    fig.show()\n",
    "    return stats\n",
    "\n",
    "skewness_stats = visualize_skewness()"
   ]
  },
  {
   "cell_type": "markdown",
   "metadata": {},
   "source": [
    "## 4. Emotion Correlation Analysis"
   ]
  },
  {
   "cell_type": "code",
   "execution_count": 231,
   "metadata": {},
   "outputs": [
    {
     "data": {
      "application/vnd.plotly.v1+json": {
       "config": {
        "plotlyServerURL": "https://plot.ly"
       },
       "data": [
        {
         "coloraxis": "coloraxis",
         "colorscale": [
          [
           0,
           "rgb(103,0,31)"
          ],
          [
           0.1,
           "rgb(178,24,43)"
          ],
          [
           0.2,
           "rgb(214,96,77)"
          ],
          [
           0.3,
           "rgb(244,165,130)"
          ],
          [
           0.4,
           "rgb(253,219,199)"
          ],
          [
           0.5,
           "rgb(247,247,247)"
          ],
          [
           0.6,
           "rgb(209,229,240)"
          ],
          [
           0.7,
           "rgb(146,197,222)"
          ],
          [
           0.8,
           "rgb(67,147,195)"
          ],
          [
           0.9,
           "rgb(33,102,172)"
          ],
          [
           1,
           "rgb(5,48,97)"
          ]
         ],
         "name": "Human",
         "showscale": true,
         "type": "heatmap",
         "x": [
          "trust",
          "surprise",
          "sadness",
          "joy",
          "fear",
          "disgust",
          "anticipation",
          "anger"
         ],
         "xaxis": "x",
         "y": [
          "trust",
          "surprise",
          "sadness",
          "joy",
          "fear",
          "disgust",
          "anticipation",
          "anger"
         ],
         "yaxis": "y",
         "z": [
          [
           1,
           -0.21598805133019564,
           -0.4384034259692143,
           0.6759303068674968,
           -0.515571319866974,
           -0.02145149956786372,
           0.1755894361562538,
           -0.2061918271982446
          ],
          [
           -0.21598805133019564,
           1,
           -0.03235088463540603,
           -0.1281340128264144,
           0.5481216455878675,
           0.3998252904946194,
           0.49684993040997055,
           0.24351412616613935
          ],
          [
           -0.4384034259692143,
           -0.03235088463540603,
           1,
           -0.5813261326265137,
           0.4981534159896197,
           0.014369289256264543,
           -0.003838534043720147,
           0.33601023758532794
          ],
          [
           0.6759303068674968,
           -0.1281340128264144,
           -0.5813261326265137,
           1,
           -0.5538368799835435,
           -0.12312098788202128,
           -0.03621870819899251,
           -0.3853757576561564
          ],
          [
           -0.515571319866974,
           0.5481216455878675,
           0.4981534159896197,
           -0.5538368799835435,
           1,
           0.14837866286809226,
           0.42353115403708597,
           0.3728649502827165
          ],
          [
           -0.02145149956786372,
           0.3998252904946194,
           0.014369289256264543,
           -0.12312098788202128,
           0.14837866286809226,
           1,
           0.19679465786639555,
           0.7131662341449497
          ],
          [
           0.1755894361562538,
           0.49684993040997055,
           -0.003838534043720147,
           -0.03621870819899251,
           0.42353115403708597,
           0.19679465786639555,
           1,
           0.19836705111788205
          ],
          [
           -0.2061918271982446,
           0.24351412616613935,
           0.33601023758532794,
           -0.3853757576561564,
           0.3728649502827165,
           0.7131662341449497,
           0.19836705111788205,
           1
          ]
         ]
        },
        {
         "coloraxis": "coloraxis",
         "colorscale": [
          [
           0,
           "rgb(103,0,31)"
          ],
          [
           0.1,
           "rgb(178,24,43)"
          ],
          [
           0.2,
           "rgb(214,96,77)"
          ],
          [
           0.3,
           "rgb(244,165,130)"
          ],
          [
           0.4,
           "rgb(253,219,199)"
          ],
          [
           0.5,
           "rgb(247,247,247)"
          ],
          [
           0.6,
           "rgb(209,229,240)"
          ],
          [
           0.7,
           "rgb(146,197,222)"
          ],
          [
           0.8,
           "rgb(67,147,195)"
          ],
          [
           0.9,
           "rgb(33,102,172)"
          ],
          [
           1,
           "rgb(5,48,97)"
          ]
         ],
         "name": "Llama-7b",
         "showscale": false,
         "type": "heatmap",
         "x": [
          "trust",
          "surprise",
          "sadness",
          "joy",
          "fear",
          "disgust",
          "anticipation",
          "anger"
         ],
         "xaxis": "x2",
         "y": [
          "trust",
          "surprise",
          "sadness",
          "joy",
          "fear",
          "disgust",
          "anticipation",
          "anger"
         ],
         "yaxis": "y2",
         "z": [
          [
           1,
           -0.47640462380913484,
           -0.4744275897888325,
           0.6741015863976499,
           -0.4150056152742103,
           -0.5568274754192052,
           0.07847975626482238,
           -0.454930972191938
          ],
          [
           -0.47640462380913484,
           1,
           0.39660844308322146,
           -0.41456905742965994,
           0.5023121711623943,
           0.7234334958092675,
           0.2729084574729401,
           0.6704703376577976
          ],
          [
           -0.4744275897888325,
           0.39660844308322146,
           1,
           -0.6731595825152006,
           0.7700953597512372,
           0.6357603425675041,
           0.4214541403824697,
           0.6775956883045838
          ],
          [
           0.6741015863976499,
           -0.41456905742965994,
           -0.6731595825152006,
           1,
           -0.6438071405709285,
           -0.6060986227190451,
           -0.2372376207614165,
           -0.6377535047646005
          ],
          [
           -0.4150056152742103,
           0.5023121711623943,
           0.7700953597512372,
           -0.6438071405709285,
           1,
           0.6140528270657825,
           0.5823750048156069,
           0.6486196161082272
          ],
          [
           -0.5568274754192052,
           0.7234334958092675,
           0.6357603425675041,
           -0.6060986227190451,
           0.6140528270657825,
           1,
           0.33181746928017275,
           0.8771799668990679
          ],
          [
           0.07847975626482238,
           0.2729084574729401,
           0.4214541403824697,
           -0.2372376207614165,
           0.5823750048156069,
           0.33181746928017275,
           1,
           0.4076132050602325
          ],
          [
           -0.454930972191938,
           0.6704703376577976,
           0.6775956883045838,
           -0.6377535047646005,
           0.6486196161082272,
           0.8771799668990679,
           0.4076132050602325,
           1
          ]
         ]
        },
        {
         "coloraxis": "coloraxis",
         "colorscale": [
          [
           0,
           "rgb(103,0,31)"
          ],
          [
           0.1,
           "rgb(178,24,43)"
          ],
          [
           0.2,
           "rgb(214,96,77)"
          ],
          [
           0.3,
           "rgb(244,165,130)"
          ],
          [
           0.4,
           "rgb(253,219,199)"
          ],
          [
           0.5,
           "rgb(247,247,247)"
          ],
          [
           0.6,
           "rgb(209,229,240)"
          ],
          [
           0.7,
           "rgb(146,197,222)"
          ],
          [
           0.8,
           "rgb(67,147,195)"
          ],
          [
           0.9,
           "rgb(33,102,172)"
          ],
          [
           1,
           "rgb(5,48,97)"
          ]
         ],
         "name": "Mistral-7b",
         "showscale": false,
         "type": "heatmap",
         "x": [
          "trust",
          "surprise",
          "sadness",
          "joy",
          "fear",
          "disgust",
          "anticipation",
          "anger"
         ],
         "xaxis": "x2",
         "y": [
          "trust",
          "surprise",
          "sadness",
          "joy",
          "fear",
          "disgust",
          "anticipation",
          "anger"
         ],
         "yaxis": "y2",
         "z": [
          [
           1,
           -0.40435421173963904,
           -0.609204388146583,
           0.8308249037742641,
           -0.599347878090668,
           -0.5834361311826209,
           -0.2803629717458018,
           -0.5603032534996599
          ],
          [
           -0.40435421173963904,
           1,
           0.4560679630924989,
           -0.3966240336096592,
           0.5131836801055598,
           0.6042738735315764,
           0.513017514119636,
           0.4722234061819073
          ],
          [
           -0.609204388146583,
           0.4560679630924989,
           1,
           -0.797934543485781,
           0.8597445905448232,
           0.8117226190773005,
           0.7423242867257301,
           0.7898155977173977
          ],
          [
           0.8308249037742641,
           -0.3966240336096592,
           -0.797934543485781,
           1,
           -0.8163999461192443,
           -0.6697296481094329,
           -0.44350566504944017,
           -0.7155818598448849
          ],
          [
           -0.599347878090668,
           0.5131836801055598,
           0.8597445905448232,
           -0.8163999461192443,
           1,
           0.9067368687796883,
           0.7074600000466998,
           0.877956017957349
          ],
          [
           -0.5834361311826209,
           0.6042738735315764,
           0.8117226190773005,
           -0.6697296481094329,
           0.9067368687796883,
           1,
           0.6783093348586838,
           0.8791221372362198
          ],
          [
           -0.2803629717458018,
           0.513017514119636,
           0.7423242867257301,
           -0.44350566504944017,
           0.7074600000466998,
           0.6783093348586838,
           1,
           0.6842215378012395
          ],
          [
           -0.5603032534996599,
           0.4722234061819073,
           0.7898155977173977,
           -0.7155818598448849,
           0.877956017957349,
           0.8791221372362198,
           0.6842215378012395,
           1
          ]
         ]
        },
        {
         "coloraxis": "coloraxis",
         "colorscale": [
          [
           0,
           "rgb(103,0,31)"
          ],
          [
           0.1,
           "rgb(178,24,43)"
          ],
          [
           0.2,
           "rgb(214,96,77)"
          ],
          [
           0.3,
           "rgb(244,165,130)"
          ],
          [
           0.4,
           "rgb(253,219,199)"
          ],
          [
           0.5,
           "rgb(247,247,247)"
          ],
          [
           0.6,
           "rgb(209,229,240)"
          ],
          [
           0.7,
           "rgb(146,197,222)"
          ],
          [
           0.8,
           "rgb(67,147,195)"
          ],
          [
           0.9,
           "rgb(33,102,172)"
          ],
          [
           1,
           "rgb(5,48,97)"
          ]
         ],
         "name": "Beluga-13b",
         "showscale": false,
         "type": "heatmap",
         "x": [
          "trust",
          "surprise",
          "sadness",
          "joy",
          "fear",
          "disgust",
          "anticipation",
          "anger"
         ],
         "xaxis": "x2",
         "y": [
          "trust",
          "surprise",
          "sadness",
          "joy",
          "fear",
          "disgust",
          "anticipation",
          "anger"
         ],
         "yaxis": "y2",
         "z": [
          [
           1,
           -0.3950367589428195,
           -0.586331702072752,
           0.7725698807020812,
           -0.6751854804003632,
           -0.6342570491414745,
           -0.34518044682264265,
           -0.5048896015417838
          ],
          [
           -0.3950367589428195,
           1,
           0.24709904187031342,
           -0.3414348373892011,
           0.3346375824950127,
           0.6110078190675822,
           0.6151953364783851,
           0.5594851728874698
          ],
          [
           -0.586331702072752,
           0.24709904187031342,
           1,
           -0.7439246489314254,
           0.8100780869857006,
           0.5237613613381511,
           0.5860650659199249,
           0.6390429400907136
          ],
          [
           0.7725698807020812,
           -0.3414348373892011,
           -0.7439246489314254,
           1,
           -0.7785846536936234,
           -0.5753512464060212,
           -0.6331903859985182,
           -0.645180124888152
          ],
          [
           -0.6751854804003632,
           0.3346375824950127,
           0.8100780869857006,
           -0.7785846536936234,
           1,
           0.5082051097322364,
           0.5747714770054445,
           0.7159391657421034
          ],
          [
           -0.6342570491414745,
           0.6110078190675822,
           0.5237613613381511,
           -0.5753512464060212,
           0.5082051097322364,
           1,
           0.4393741471228979,
           0.6747287497020922
          ],
          [
           -0.34518044682264265,
           0.6151953364783851,
           0.5860650659199249,
           -0.6331903859985182,
           0.5747714770054445,
           0.4393741471228979,
           1,
           0.7601416978936645
          ],
          [
           -0.5048896015417838,
           0.5594851728874698,
           0.6390429400907136,
           -0.645180124888152,
           0.7159391657421034,
           0.6747287497020922,
           0.7601416978936645,
           1
          ]
         ]
        },
        {
         "coloraxis": "coloraxis",
         "colorscale": [
          [
           0,
           "rgb(103,0,31)"
          ],
          [
           0.1,
           "rgb(178,24,43)"
          ],
          [
           0.2,
           "rgb(214,96,77)"
          ],
          [
           0.3,
           "rgb(244,165,130)"
          ],
          [
           0.4,
           "rgb(253,219,199)"
          ],
          [
           0.5,
           "rgb(247,247,247)"
          ],
          [
           0.6,
           "rgb(209,229,240)"
          ],
          [
           0.7,
           "rgb(146,197,222)"
          ],
          [
           0.8,
           "rgb(67,147,195)"
          ],
          [
           0.9,
           "rgb(33,102,172)"
          ],
          [
           1,
           "rgb(5,48,97)"
          ]
         ],
         "name": "OrcaPlatypus-13b",
         "showscale": false,
         "type": "heatmap",
         "x": [
          "trust",
          "surprise",
          "sadness",
          "joy",
          "fear",
          "disgust",
          "anticipation",
          "anger"
         ],
         "xaxis": "x2",
         "y": [
          "trust",
          "surprise",
          "sadness",
          "joy",
          "fear",
          "disgust",
          "anticipation",
          "anger"
         ],
         "yaxis": "y2",
         "z": [
          [
           1,
           -0.5780509616572181,
           -0.3665746331851013,
           0.6287541863271151,
           -0.3932948923333842,
           -0.6005254440627131,
           -0.3479030693587618,
           -0.6349673683362819
          ],
          [
           -0.5780509616572181,
           1,
           0.5310964101834531,
           -0.44468677592831224,
           0.6754383497765201,
           0.7779315598825268,
           0.7223244487296486,
           0.7260535120126543
          ],
          [
           -0.3665746331851013,
           0.5310964101834531,
           1,
           -0.7006539379633497,
           0.7354356464696694,
           0.5333326735688713,
           0.687118587947518,
           0.5188646146233503
          ],
          [
           0.6287541863271151,
           -0.44468677592831224,
           -0.7006539379633497,
           1,
           -0.6403641525379868,
           -0.5593763504142683,
           -0.5261090912710202,
           -0.5637002062844574
          ],
          [
           -0.3932948923333842,
           0.6754383497765201,
           0.7354356464696694,
           -0.6403641525379868,
           1,
           0.7726508220719299,
           0.7990741502534036,
           0.4562774327142125
          ],
          [
           -0.6005254440627131,
           0.7779315598825268,
           0.5333326735688713,
           -0.5593763504142683,
           0.7726508220719299,
           1,
           0.6375056909757668,
           0.7410049602185833
          ],
          [
           -0.3479030693587618,
           0.7223244487296486,
           0.687118587947518,
           -0.5261090912710202,
           0.7990741502534036,
           0.6375056909757668,
           1,
           0.42970258814551887
          ],
          [
           -0.6349673683362819,
           0.7260535120126543,
           0.5188646146233503,
           -0.5637002062844574,
           0.4562774327142125,
           0.7410049602185833,
           0.42970258814551887,
           1
          ]
         ]
        },
        {
         "coloraxis": "coloraxis",
         "colorscale": [
          [
           0,
           "rgb(103,0,31)"
          ],
          [
           0.1,
           "rgb(178,24,43)"
          ],
          [
           0.2,
           "rgb(214,96,77)"
          ],
          [
           0.3,
           "rgb(244,165,130)"
          ],
          [
           0.4,
           "rgb(253,219,199)"
          ],
          [
           0.5,
           "rgb(247,247,247)"
          ],
          [
           0.6,
           "rgb(209,229,240)"
          ],
          [
           0.7,
           "rgb(146,197,222)"
          ],
          [
           0.8,
           "rgb(67,147,195)"
          ],
          [
           0.9,
           "rgb(33,102,172)"
          ],
          [
           1,
           "rgb(5,48,97)"
          ]
         ],
         "name": "LlamaInstruct-30b",
         "showscale": false,
         "type": "heatmap",
         "x": [
          "trust",
          "surprise",
          "sadness",
          "joy",
          "fear",
          "disgust",
          "anticipation",
          "anger"
         ],
         "xaxis": "x2",
         "y": [
          "trust",
          "surprise",
          "sadness",
          "joy",
          "fear",
          "disgust",
          "anticipation",
          "anger"
         ],
         "yaxis": "y2",
         "z": [
          [
           1,
           -0.7159003222025335,
           -0.7151258131770565,
           0.8469851982173667,
           -0.7205603192494731,
           -0.809285561438275,
           -0.5986555273626895,
           -0.6180662280784303
          ],
          [
           -0.7159003222025335,
           1,
           0.7111438351656637,
           -0.5531516066711585,
           0.7411844730909314,
           0.8442029061739101,
           0.7250721120782506,
           0.841542599595575
          ],
          [
           -0.7151258131770565,
           0.7111438351656637,
           1,
           -0.8195556434934772,
           0.8131113461988843,
           0.7847311019991365,
           0.8338056666385495,
           0.7230883492700169
          ],
          [
           0.8469851982173667,
           -0.5531516066711585,
           -0.8195556434934772,
           1,
           -0.7349309497926836,
           -0.7133967397489595,
           -0.640574461885853,
           -0.6296587379846065
          ],
          [
           -0.7205603192494731,
           0.7411844730909314,
           0.8131113461988843,
           -0.7349309497926836,
           1,
           0.8879748558598692,
           0.6054856150378077,
           0.8270736484947186
          ],
          [
           -0.809285561438275,
           0.8442029061739101,
           0.7847311019991365,
           -0.7133967397489595,
           0.8879748558598692,
           1,
           0.6749990671125704,
           0.871173649494798
          ],
          [
           -0.5986555273626895,
           0.7250721120782506,
           0.8338056666385495,
           -0.640574461885853,
           0.6054856150378077,
           0.6749990671125704,
           1,
           0.6288131316639393
          ],
          [
           -0.6180662280784303,
           0.841542599595575,
           0.7230883492700169,
           -0.6296587379846065,
           0.8270736484947186,
           0.871173649494798,
           0.6288131316639393,
           1
          ]
         ]
        },
        {
         "coloraxis": "coloraxis",
         "colorscale": [
          [
           0,
           "rgb(103,0,31)"
          ],
          [
           0.1,
           "rgb(178,24,43)"
          ],
          [
           0.2,
           "rgb(214,96,77)"
          ],
          [
           0.3,
           "rgb(244,165,130)"
          ],
          [
           0.4,
           "rgb(253,219,199)"
          ],
          [
           0.5,
           "rgb(247,247,247)"
          ],
          [
           0.6,
           "rgb(209,229,240)"
          ],
          [
           0.7,
           "rgb(146,197,222)"
          ],
          [
           0.8,
           "rgb(67,147,195)"
          ],
          [
           0.9,
           "rgb(33,102,172)"
          ],
          [
           1,
           "rgb(5,48,97)"
          ]
         ],
         "name": "Platypus2-70b",
         "showscale": false,
         "type": "heatmap",
         "x": [
          "trust",
          "surprise",
          "sadness",
          "joy",
          "fear",
          "disgust",
          "anticipation",
          "anger"
         ],
         "xaxis": "x2",
         "y": [
          "trust",
          "surprise",
          "sadness",
          "joy",
          "fear",
          "disgust",
          "anticipation",
          "anger"
         ],
         "yaxis": "y2",
         "z": [
          [
           1,
           -0.43253663749188054,
           -0.7103616331831256,
           0.9003433308315432,
           -0.7313088797379838,
           -0.6161152717676621,
           -0.10393646247506694,
           -0.5135811867328943
          ],
          [
           -0.43253663749188054,
           1,
           0.5039905338371501,
           -0.507712389658415,
           0.6244904725046864,
           0.6231055857477402,
           0.7596441582422206,
           0.47544911573125265
          ],
          [
           -0.7103616331831256,
           0.5039905338371501,
           1,
           -0.8307633974120762,
           0.9023414701632892,
           0.6958522730695047,
           0.34266032609399444,
           0.7832524451306595
          ],
          [
           0.9003433308315432,
           -0.507712389658415,
           -0.8307633974120762,
           1,
           -0.8135540337323761,
           -0.6552708943994903,
           -0.2501232927912331,
           -0.6254989455625035
          ],
          [
           -0.7313088797379838,
           0.6244904725046864,
           0.9023414701632892,
           -0.8135540337323761,
           1,
           0.7777599713911743,
           0.34785369436328795,
           0.7335513872018528
          ],
          [
           -0.6161152717676621,
           0.6231055857477402,
           0.6958522730695047,
           -0.6552708943994903,
           0.7777599713911743,
           1,
           0.36960867576349965,
           0.8269821847543617
          ],
          [
           -0.10393646247506694,
           0.7596441582422206,
           0.34266032609399444,
           -0.2501232927912331,
           0.34785369436328795,
           0.36960867576349965,
           1,
           0.37676368219687545
          ],
          [
           -0.5135811867328943,
           0.47544911573125265,
           0.7832524451306595,
           -0.6254989455625035,
           0.7335513872018528,
           0.8269821847543617,
           0.37676368219687545,
           1
          ]
         ]
        }
       ],
       "layout": {
        "annotations": [
         {
          "font": {
           "size": 16
          },
          "showarrow": false,
          "text": "Human",
          "x": 0.225,
          "xanchor": "center",
          "xref": "paper",
          "y": 1,
          "yanchor": "bottom",
          "yref": "paper"
         },
         {
          "font": {
           "size": 16
          },
          "showarrow": false,
          "text": "Model",
          "x": 0.775,
          "xanchor": "center",
          "xref": "paper",
          "y": 1,
          "yanchor": "bottom",
          "yref": "paper"
         }
        ],
        "coloraxis": {
         "cmax": 1,
         "cmin": -1,
         "colorbar": {
          "len": 0.8,
          "thickness": 20,
          "title": {
           "text": "Correlation"
          },
          "x": 1.02
         },
         "colorscale": [
          [
           0,
           "rgb(103,0,31)"
          ],
          [
           0.1,
           "rgb(178,24,43)"
          ],
          [
           0.2,
           "rgb(214,96,77)"
          ],
          [
           0.3,
           "rgb(244,165,130)"
          ],
          [
           0.4,
           "rgb(253,219,199)"
          ],
          [
           0.5,
           "rgb(247,247,247)"
          ],
          [
           0.6,
           "rgb(209,229,240)"
          ],
          [
           0.7,
           "rgb(146,197,222)"
          ],
          [
           0.8,
           "rgb(67,147,195)"
          ],
          [
           0.9,
           "rgb(33,102,172)"
          ],
          [
           1,
           "rgb(5,48,97)"
          ]
         ]
        },
        "height": 600,
        "template": {
         "data": {
          "bar": [
           {
            "error_x": {
             "color": "#f2f5fa"
            },
            "error_y": {
             "color": "#f2f5fa"
            },
            "marker": {
             "line": {
              "color": "rgb(17,17,17)",
              "width": 0.5
             },
             "pattern": {
              "fillmode": "overlay",
              "size": 10,
              "solidity": 0.2
             }
            },
            "type": "bar"
           }
          ],
          "barpolar": [
           {
            "marker": {
             "line": {
              "color": "rgb(17,17,17)",
              "width": 0.5
             },
             "pattern": {
              "fillmode": "overlay",
              "size": 10,
              "solidity": 0.2
             }
            },
            "type": "barpolar"
           }
          ],
          "carpet": [
           {
            "aaxis": {
             "endlinecolor": "#A2B1C6",
             "gridcolor": "#506784",
             "linecolor": "#506784",
             "minorgridcolor": "#506784",
             "startlinecolor": "#A2B1C6"
            },
            "baxis": {
             "endlinecolor": "#A2B1C6",
             "gridcolor": "#506784",
             "linecolor": "#506784",
             "minorgridcolor": "#506784",
             "startlinecolor": "#A2B1C6"
            },
            "type": "carpet"
           }
          ],
          "choropleth": [
           {
            "colorbar": {
             "outlinewidth": 0,
             "ticks": ""
            },
            "type": "choropleth"
           }
          ],
          "contour": [
           {
            "colorbar": {
             "outlinewidth": 0,
             "ticks": ""
            },
            "colorscale": [
             [
              0,
              "#0d0887"
             ],
             [
              0.1111111111111111,
              "#46039f"
             ],
             [
              0.2222222222222222,
              "#7201a8"
             ],
             [
              0.3333333333333333,
              "#9c179e"
             ],
             [
              0.4444444444444444,
              "#bd3786"
             ],
             [
              0.5555555555555556,
              "#d8576b"
             ],
             [
              0.6666666666666666,
              "#ed7953"
             ],
             [
              0.7777777777777778,
              "#fb9f3a"
             ],
             [
              0.8888888888888888,
              "#fdca26"
             ],
             [
              1,
              "#f0f921"
             ]
            ],
            "type": "contour"
           }
          ],
          "contourcarpet": [
           {
            "colorbar": {
             "outlinewidth": 0,
             "ticks": ""
            },
            "type": "contourcarpet"
           }
          ],
          "heatmap": [
           {
            "colorbar": {
             "outlinewidth": 0,
             "ticks": ""
            },
            "colorscale": [
             [
              0,
              "#0d0887"
             ],
             [
              0.1111111111111111,
              "#46039f"
             ],
             [
              0.2222222222222222,
              "#7201a8"
             ],
             [
              0.3333333333333333,
              "#9c179e"
             ],
             [
              0.4444444444444444,
              "#bd3786"
             ],
             [
              0.5555555555555556,
              "#d8576b"
             ],
             [
              0.6666666666666666,
              "#ed7953"
             ],
             [
              0.7777777777777778,
              "#fb9f3a"
             ],
             [
              0.8888888888888888,
              "#fdca26"
             ],
             [
              1,
              "#f0f921"
             ]
            ],
            "type": "heatmap"
           }
          ],
          "heatmapgl": [
           {
            "colorbar": {
             "outlinewidth": 0,
             "ticks": ""
            },
            "colorscale": [
             [
              0,
              "#0d0887"
             ],
             [
              0.1111111111111111,
              "#46039f"
             ],
             [
              0.2222222222222222,
              "#7201a8"
             ],
             [
              0.3333333333333333,
              "#9c179e"
             ],
             [
              0.4444444444444444,
              "#bd3786"
             ],
             [
              0.5555555555555556,
              "#d8576b"
             ],
             [
              0.6666666666666666,
              "#ed7953"
             ],
             [
              0.7777777777777778,
              "#fb9f3a"
             ],
             [
              0.8888888888888888,
              "#fdca26"
             ],
             [
              1,
              "#f0f921"
             ]
            ],
            "type": "heatmapgl"
           }
          ],
          "histogram": [
           {
            "marker": {
             "pattern": {
              "fillmode": "overlay",
              "size": 10,
              "solidity": 0.2
             }
            },
            "type": "histogram"
           }
          ],
          "histogram2d": [
           {
            "colorbar": {
             "outlinewidth": 0,
             "ticks": ""
            },
            "colorscale": [
             [
              0,
              "#0d0887"
             ],
             [
              0.1111111111111111,
              "#46039f"
             ],
             [
              0.2222222222222222,
              "#7201a8"
             ],
             [
              0.3333333333333333,
              "#9c179e"
             ],
             [
              0.4444444444444444,
              "#bd3786"
             ],
             [
              0.5555555555555556,
              "#d8576b"
             ],
             [
              0.6666666666666666,
              "#ed7953"
             ],
             [
              0.7777777777777778,
              "#fb9f3a"
             ],
             [
              0.8888888888888888,
              "#fdca26"
             ],
             [
              1,
              "#f0f921"
             ]
            ],
            "type": "histogram2d"
           }
          ],
          "histogram2dcontour": [
           {
            "colorbar": {
             "outlinewidth": 0,
             "ticks": ""
            },
            "colorscale": [
             [
              0,
              "#0d0887"
             ],
             [
              0.1111111111111111,
              "#46039f"
             ],
             [
              0.2222222222222222,
              "#7201a8"
             ],
             [
              0.3333333333333333,
              "#9c179e"
             ],
             [
              0.4444444444444444,
              "#bd3786"
             ],
             [
              0.5555555555555556,
              "#d8576b"
             ],
             [
              0.6666666666666666,
              "#ed7953"
             ],
             [
              0.7777777777777778,
              "#fb9f3a"
             ],
             [
              0.8888888888888888,
              "#fdca26"
             ],
             [
              1,
              "#f0f921"
             ]
            ],
            "type": "histogram2dcontour"
           }
          ],
          "mesh3d": [
           {
            "colorbar": {
             "outlinewidth": 0,
             "ticks": ""
            },
            "type": "mesh3d"
           }
          ],
          "parcoords": [
           {
            "line": {
             "colorbar": {
              "outlinewidth": 0,
              "ticks": ""
             }
            },
            "type": "parcoords"
           }
          ],
          "pie": [
           {
            "automargin": true,
            "type": "pie"
           }
          ],
          "scatter": [
           {
            "marker": {
             "line": {
              "color": "#283442"
             }
            },
            "type": "scatter"
           }
          ],
          "scatter3d": [
           {
            "line": {
             "colorbar": {
              "outlinewidth": 0,
              "ticks": ""
             }
            },
            "marker": {
             "colorbar": {
              "outlinewidth": 0,
              "ticks": ""
             }
            },
            "type": "scatter3d"
           }
          ],
          "scattercarpet": [
           {
            "marker": {
             "colorbar": {
              "outlinewidth": 0,
              "ticks": ""
             }
            },
            "type": "scattercarpet"
           }
          ],
          "scattergeo": [
           {
            "marker": {
             "colorbar": {
              "outlinewidth": 0,
              "ticks": ""
             }
            },
            "type": "scattergeo"
           }
          ],
          "scattergl": [
           {
            "marker": {
             "line": {
              "color": "#283442"
             }
            },
            "type": "scattergl"
           }
          ],
          "scattermapbox": [
           {
            "marker": {
             "colorbar": {
              "outlinewidth": 0,
              "ticks": ""
             }
            },
            "type": "scattermapbox"
           }
          ],
          "scatterpolar": [
           {
            "marker": {
             "colorbar": {
              "outlinewidth": 0,
              "ticks": ""
             }
            },
            "type": "scatterpolar"
           }
          ],
          "scatterpolargl": [
           {
            "marker": {
             "colorbar": {
              "outlinewidth": 0,
              "ticks": ""
             }
            },
            "type": "scatterpolargl"
           }
          ],
          "scatterternary": [
           {
            "marker": {
             "colorbar": {
              "outlinewidth": 0,
              "ticks": ""
             }
            },
            "type": "scatterternary"
           }
          ],
          "surface": [
           {
            "colorbar": {
             "outlinewidth": 0,
             "ticks": ""
            },
            "colorscale": [
             [
              0,
              "#0d0887"
             ],
             [
              0.1111111111111111,
              "#46039f"
             ],
             [
              0.2222222222222222,
              "#7201a8"
             ],
             [
              0.3333333333333333,
              "#9c179e"
             ],
             [
              0.4444444444444444,
              "#bd3786"
             ],
             [
              0.5555555555555556,
              "#d8576b"
             ],
             [
              0.6666666666666666,
              "#ed7953"
             ],
             [
              0.7777777777777778,
              "#fb9f3a"
             ],
             [
              0.8888888888888888,
              "#fdca26"
             ],
             [
              1,
              "#f0f921"
             ]
            ],
            "type": "surface"
           }
          ],
          "table": [
           {
            "cells": {
             "fill": {
              "color": "#506784"
             },
             "line": {
              "color": "rgb(17,17,17)"
             }
            },
            "header": {
             "fill": {
              "color": "#2a3f5f"
             },
             "line": {
              "color": "rgb(17,17,17)"
             }
            },
            "type": "table"
           }
          ]
         },
         "layout": {
          "annotationdefaults": {
           "arrowcolor": "#f2f5fa",
           "arrowhead": 0,
           "arrowwidth": 1
          },
          "autotypenumbers": "strict",
          "coloraxis": {
           "colorbar": {
            "outlinewidth": 0,
            "ticks": ""
           }
          },
          "colorscale": {
           "diverging": [
            [
             0,
             "#8e0152"
            ],
            [
             0.1,
             "#c51b7d"
            ],
            [
             0.2,
             "#de77ae"
            ],
            [
             0.3,
             "#f1b6da"
            ],
            [
             0.4,
             "#fde0ef"
            ],
            [
             0.5,
             "#f7f7f7"
            ],
            [
             0.6,
             "#e6f5d0"
            ],
            [
             0.7,
             "#b8e186"
            ],
            [
             0.8,
             "#7fbc41"
            ],
            [
             0.9,
             "#4d9221"
            ],
            [
             1,
             "#276419"
            ]
           ],
           "sequential": [
            [
             0,
             "#0d0887"
            ],
            [
             0.1111111111111111,
             "#46039f"
            ],
            [
             0.2222222222222222,
             "#7201a8"
            ],
            [
             0.3333333333333333,
             "#9c179e"
            ],
            [
             0.4444444444444444,
             "#bd3786"
            ],
            [
             0.5555555555555556,
             "#d8576b"
            ],
            [
             0.6666666666666666,
             "#ed7953"
            ],
            [
             0.7777777777777778,
             "#fb9f3a"
            ],
            [
             0.8888888888888888,
             "#fdca26"
            ],
            [
             1,
             "#f0f921"
            ]
           ],
           "sequentialminus": [
            [
             0,
             "#0d0887"
            ],
            [
             0.1111111111111111,
             "#46039f"
            ],
            [
             0.2222222222222222,
             "#7201a8"
            ],
            [
             0.3333333333333333,
             "#9c179e"
            ],
            [
             0.4444444444444444,
             "#bd3786"
            ],
            [
             0.5555555555555556,
             "#d8576b"
            ],
            [
             0.6666666666666666,
             "#ed7953"
            ],
            [
             0.7777777777777778,
             "#fb9f3a"
            ],
            [
             0.8888888888888888,
             "#fdca26"
            ],
            [
             1,
             "#f0f921"
            ]
           ]
          },
          "colorway": [
           "#636efa",
           "#EF553B",
           "#00cc96",
           "#ab63fa",
           "#FFA15A",
           "#19d3f3",
           "#FF6692",
           "#B6E880",
           "#FF97FF",
           "#FECB52"
          ],
          "font": {
           "color": "#f2f5fa"
          },
          "geo": {
           "bgcolor": "rgb(17,17,17)",
           "lakecolor": "rgb(17,17,17)",
           "landcolor": "rgb(17,17,17)",
           "showlakes": true,
           "showland": true,
           "subunitcolor": "#506784"
          },
          "hoverlabel": {
           "align": "left"
          },
          "hovermode": "closest",
          "mapbox": {
           "style": "dark"
          },
          "paper_bgcolor": "rgb(17,17,17)",
          "plot_bgcolor": "rgb(17,17,17)",
          "polar": {
           "angularaxis": {
            "gridcolor": "#506784",
            "linecolor": "#506784",
            "ticks": ""
           },
           "bgcolor": "rgb(17,17,17)",
           "radialaxis": {
            "gridcolor": "#506784",
            "linecolor": "#506784",
            "ticks": ""
           }
          },
          "scene": {
           "xaxis": {
            "backgroundcolor": "rgb(17,17,17)",
            "gridcolor": "#506784",
            "gridwidth": 2,
            "linecolor": "#506784",
            "showbackground": true,
            "ticks": "",
            "zerolinecolor": "#C8D4E3"
           },
           "yaxis": {
            "backgroundcolor": "rgb(17,17,17)",
            "gridcolor": "#506784",
            "gridwidth": 2,
            "linecolor": "#506784",
            "showbackground": true,
            "ticks": "",
            "zerolinecolor": "#C8D4E3"
           },
           "zaxis": {
            "backgroundcolor": "rgb(17,17,17)",
            "gridcolor": "#506784",
            "gridwidth": 2,
            "linecolor": "#506784",
            "showbackground": true,
            "ticks": "",
            "zerolinecolor": "#C8D4E3"
           }
          },
          "shapedefaults": {
           "line": {
            "color": "#f2f5fa"
           }
          },
          "sliderdefaults": {
           "bgcolor": "#C8D4E3",
           "bordercolor": "rgb(17,17,17)",
           "borderwidth": 1,
           "tickwidth": 0
          },
          "ternary": {
           "aaxis": {
            "gridcolor": "#506784",
            "linecolor": "#506784",
            "ticks": ""
           },
           "baxis": {
            "gridcolor": "#506784",
            "linecolor": "#506784",
            "ticks": ""
           },
           "bgcolor": "rgb(17,17,17)",
           "caxis": {
            "gridcolor": "#506784",
            "linecolor": "#506784",
            "ticks": ""
           }
          },
          "title": {
           "x": 0.05
          },
          "updatemenudefaults": {
           "bgcolor": "#506784",
           "borderwidth": 0
          },
          "xaxis": {
           "automargin": true,
           "gridcolor": "#283442",
           "linecolor": "#506784",
           "ticks": "",
           "title": {
            "standoff": 15
           },
           "zerolinecolor": "#283442",
           "zerolinewidth": 2
          },
          "yaxis": {
           "automargin": true,
           "gridcolor": "#283442",
           "linecolor": "#506784",
           "ticks": "",
           "title": {
            "standoff": 15
           },
           "zerolinecolor": "#283442",
           "zerolinewidth": 2
          }
         }
        },
        "title": {
         "text": "Emotion Correlation Matrix Across Models"
        },
        "updatemenus": [
         {
          "buttons": [
           {
            "args": [
             {
              "visible": [
               true,
               true,
               false,
               false,
               false,
               false,
               false
              ]
             }
            ],
            "label": "Llama-7b",
            "method": "update"
           },
           {
            "args": [
             {
              "visible": [
               true,
               false,
               true,
               false,
               false,
               false,
               false
              ]
             }
            ],
            "label": "Mistral-7b",
            "method": "update"
           },
           {
            "args": [
             {
              "visible": [
               true,
               false,
               false,
               true,
               false,
               false,
               false
              ]
             }
            ],
            "label": "Beluga-13b",
            "method": "update"
           },
           {
            "args": [
             {
              "visible": [
               true,
               false,
               false,
               false,
               true,
               false,
               false
              ]
             }
            ],
            "label": "OrcaPlatypus-13b",
            "method": "update"
           },
           {
            "args": [
             {
              "visible": [
               true,
               false,
               false,
               false,
               false,
               true,
               false
              ]
             }
            ],
            "label": "LlamaInstruct-30b",
            "method": "update"
           },
           {
            "args": [
             {
              "visible": [
               true,
               false,
               false,
               false,
               false,
               false,
               true
              ]
             }
            ],
            "label": "Platypus2-70b",
            "method": "update"
           }
          ],
          "direction": "down",
          "showactive": true,
          "x": 0.9,
          "y": 1.2
         }
        ],
        "width": 1100,
        "xaxis": {
         "anchor": "y",
         "domain": [
          0,
          0.45
         ]
        },
        "xaxis2": {
         "anchor": "y2",
         "domain": [
          0.55,
          1
         ]
        },
        "yaxis": {
         "anchor": "x",
         "domain": [
          0,
          1
         ]
        },
        "yaxis2": {
         "anchor": "x2",
         "domain": [
          0,
          1
         ]
        }
       }
      },
      "text/html": [
       "<div>                            <div id=\"9ce6fe72-bfd8-4de9-b892-50fedda080d7\" class=\"plotly-graph-div\" style=\"height:600px; width:1100px;\"></div>            <script type=\"text/javascript\">                require([\"plotly\"], function(Plotly) {                    window.PLOTLYENV=window.PLOTLYENV || {};                                    if (document.getElementById(\"9ce6fe72-bfd8-4de9-b892-50fedda080d7\")) {                    Plotly.newPlot(                        \"9ce6fe72-bfd8-4de9-b892-50fedda080d7\",                        [{\"coloraxis\":\"coloraxis\",\"colorscale\":[[0.0,\"rgb(103,0,31)\"],[0.1,\"rgb(178,24,43)\"],[0.2,\"rgb(214,96,77)\"],[0.3,\"rgb(244,165,130)\"],[0.4,\"rgb(253,219,199)\"],[0.5,\"rgb(247,247,247)\"],[0.6,\"rgb(209,229,240)\"],[0.7,\"rgb(146,197,222)\"],[0.8,\"rgb(67,147,195)\"],[0.9,\"rgb(33,102,172)\"],[1.0,\"rgb(5,48,97)\"]],\"name\":\"Human\",\"showscale\":true,\"x\":[\"trust\",\"surprise\",\"sadness\",\"joy\",\"fear\",\"disgust\",\"anticipation\",\"anger\"],\"y\":[\"trust\",\"surprise\",\"sadness\",\"joy\",\"fear\",\"disgust\",\"anticipation\",\"anger\"],\"z\":[[1.0,-0.21598805133019564,-0.4384034259692143,0.6759303068674968,-0.515571319866974,-0.02145149956786372,0.1755894361562538,-0.2061918271982446],[-0.21598805133019564,1.0,-0.03235088463540603,-0.1281340128264144,0.5481216455878675,0.3998252904946194,0.49684993040997055,0.24351412616613935],[-0.4384034259692143,-0.03235088463540603,1.0,-0.5813261326265137,0.4981534159896197,0.014369289256264543,-0.003838534043720147,0.33601023758532794],[0.6759303068674968,-0.1281340128264144,-0.5813261326265137,1.0,-0.5538368799835435,-0.12312098788202128,-0.03621870819899251,-0.3853757576561564],[-0.515571319866974,0.5481216455878675,0.4981534159896197,-0.5538368799835435,1.0,0.14837866286809226,0.42353115403708597,0.3728649502827165],[-0.02145149956786372,0.3998252904946194,0.014369289256264543,-0.12312098788202128,0.14837866286809226,1.0,0.19679465786639555,0.7131662341449497],[0.1755894361562538,0.49684993040997055,-0.003838534043720147,-0.03621870819899251,0.42353115403708597,0.19679465786639555,1.0,0.19836705111788205],[-0.2061918271982446,0.24351412616613935,0.33601023758532794,-0.3853757576561564,0.3728649502827165,0.7131662341449497,0.19836705111788205,1.0]],\"type\":\"heatmap\",\"xaxis\":\"x\",\"yaxis\":\"y\"},{\"coloraxis\":\"coloraxis\",\"colorscale\":[[0.0,\"rgb(103,0,31)\"],[0.1,\"rgb(178,24,43)\"],[0.2,\"rgb(214,96,77)\"],[0.3,\"rgb(244,165,130)\"],[0.4,\"rgb(253,219,199)\"],[0.5,\"rgb(247,247,247)\"],[0.6,\"rgb(209,229,240)\"],[0.7,\"rgb(146,197,222)\"],[0.8,\"rgb(67,147,195)\"],[0.9,\"rgb(33,102,172)\"],[1.0,\"rgb(5,48,97)\"]],\"name\":\"Llama-7b\",\"showscale\":false,\"x\":[\"trust\",\"surprise\",\"sadness\",\"joy\",\"fear\",\"disgust\",\"anticipation\",\"anger\"],\"y\":[\"trust\",\"surprise\",\"sadness\",\"joy\",\"fear\",\"disgust\",\"anticipation\",\"anger\"],\"z\":[[1.0,-0.47640462380913484,-0.4744275897888325,0.6741015863976499,-0.4150056152742103,-0.5568274754192052,0.07847975626482238,-0.454930972191938],[-0.47640462380913484,1.0,0.39660844308322146,-0.41456905742965994,0.5023121711623943,0.7234334958092675,0.2729084574729401,0.6704703376577976],[-0.4744275897888325,0.39660844308322146,1.0,-0.6731595825152006,0.7700953597512372,0.6357603425675041,0.4214541403824697,0.6775956883045838],[0.6741015863976499,-0.41456905742965994,-0.6731595825152006,1.0,-0.6438071405709285,-0.6060986227190451,-0.2372376207614165,-0.6377535047646005],[-0.4150056152742103,0.5023121711623943,0.7700953597512372,-0.6438071405709285,1.0,0.6140528270657825,0.5823750048156069,0.6486196161082272],[-0.5568274754192052,0.7234334958092675,0.6357603425675041,-0.6060986227190451,0.6140528270657825,1.0,0.33181746928017275,0.8771799668990679],[0.07847975626482238,0.2729084574729401,0.4214541403824697,-0.2372376207614165,0.5823750048156069,0.33181746928017275,1.0,0.4076132050602325],[-0.454930972191938,0.6704703376577976,0.6775956883045838,-0.6377535047646005,0.6486196161082272,0.8771799668990679,0.4076132050602325,1.0]],\"type\":\"heatmap\",\"xaxis\":\"x2\",\"yaxis\":\"y2\"},{\"coloraxis\":\"coloraxis\",\"colorscale\":[[0.0,\"rgb(103,0,31)\"],[0.1,\"rgb(178,24,43)\"],[0.2,\"rgb(214,96,77)\"],[0.3,\"rgb(244,165,130)\"],[0.4,\"rgb(253,219,199)\"],[0.5,\"rgb(247,247,247)\"],[0.6,\"rgb(209,229,240)\"],[0.7,\"rgb(146,197,222)\"],[0.8,\"rgb(67,147,195)\"],[0.9,\"rgb(33,102,172)\"],[1.0,\"rgb(5,48,97)\"]],\"name\":\"Mistral-7b\",\"showscale\":false,\"x\":[\"trust\",\"surprise\",\"sadness\",\"joy\",\"fear\",\"disgust\",\"anticipation\",\"anger\"],\"y\":[\"trust\",\"surprise\",\"sadness\",\"joy\",\"fear\",\"disgust\",\"anticipation\",\"anger\"],\"z\":[[1.0,-0.40435421173963904,-0.609204388146583,0.8308249037742641,-0.599347878090668,-0.5834361311826209,-0.2803629717458018,-0.5603032534996599],[-0.40435421173963904,1.0,0.4560679630924989,-0.3966240336096592,0.5131836801055598,0.6042738735315764,0.513017514119636,0.4722234061819073],[-0.609204388146583,0.4560679630924989,1.0,-0.797934543485781,0.8597445905448232,0.8117226190773005,0.7423242867257301,0.7898155977173977],[0.8308249037742641,-0.3966240336096592,-0.797934543485781,1.0,-0.8163999461192443,-0.6697296481094329,-0.44350566504944017,-0.7155818598448849],[-0.599347878090668,0.5131836801055598,0.8597445905448232,-0.8163999461192443,1.0,0.9067368687796883,0.7074600000466998,0.877956017957349],[-0.5834361311826209,0.6042738735315764,0.8117226190773005,-0.6697296481094329,0.9067368687796883,1.0,0.6783093348586838,0.8791221372362198],[-0.2803629717458018,0.513017514119636,0.7423242867257301,-0.44350566504944017,0.7074600000466998,0.6783093348586838,1.0,0.6842215378012395],[-0.5603032534996599,0.4722234061819073,0.7898155977173977,-0.7155818598448849,0.877956017957349,0.8791221372362198,0.6842215378012395,1.0]],\"type\":\"heatmap\",\"xaxis\":\"x2\",\"yaxis\":\"y2\"},{\"coloraxis\":\"coloraxis\",\"colorscale\":[[0.0,\"rgb(103,0,31)\"],[0.1,\"rgb(178,24,43)\"],[0.2,\"rgb(214,96,77)\"],[0.3,\"rgb(244,165,130)\"],[0.4,\"rgb(253,219,199)\"],[0.5,\"rgb(247,247,247)\"],[0.6,\"rgb(209,229,240)\"],[0.7,\"rgb(146,197,222)\"],[0.8,\"rgb(67,147,195)\"],[0.9,\"rgb(33,102,172)\"],[1.0,\"rgb(5,48,97)\"]],\"name\":\"Beluga-13b\",\"showscale\":false,\"x\":[\"trust\",\"surprise\",\"sadness\",\"joy\",\"fear\",\"disgust\",\"anticipation\",\"anger\"],\"y\":[\"trust\",\"surprise\",\"sadness\",\"joy\",\"fear\",\"disgust\",\"anticipation\",\"anger\"],\"z\":[[1.0,-0.3950367589428195,-0.586331702072752,0.7725698807020812,-0.6751854804003632,-0.6342570491414745,-0.34518044682264265,-0.5048896015417838],[-0.3950367589428195,1.0,0.24709904187031342,-0.3414348373892011,0.3346375824950127,0.6110078190675822,0.6151953364783851,0.5594851728874698],[-0.586331702072752,0.24709904187031342,1.0,-0.7439246489314254,0.8100780869857006,0.5237613613381511,0.5860650659199249,0.6390429400907136],[0.7725698807020812,-0.3414348373892011,-0.7439246489314254,1.0,-0.7785846536936234,-0.5753512464060212,-0.6331903859985182,-0.645180124888152],[-0.6751854804003632,0.3346375824950127,0.8100780869857006,-0.7785846536936234,1.0,0.5082051097322364,0.5747714770054445,0.7159391657421034],[-0.6342570491414745,0.6110078190675822,0.5237613613381511,-0.5753512464060212,0.5082051097322364,1.0,0.4393741471228979,0.6747287497020922],[-0.34518044682264265,0.6151953364783851,0.5860650659199249,-0.6331903859985182,0.5747714770054445,0.4393741471228979,1.0,0.7601416978936645],[-0.5048896015417838,0.5594851728874698,0.6390429400907136,-0.645180124888152,0.7159391657421034,0.6747287497020922,0.7601416978936645,1.0]],\"type\":\"heatmap\",\"xaxis\":\"x2\",\"yaxis\":\"y2\"},{\"coloraxis\":\"coloraxis\",\"colorscale\":[[0.0,\"rgb(103,0,31)\"],[0.1,\"rgb(178,24,43)\"],[0.2,\"rgb(214,96,77)\"],[0.3,\"rgb(244,165,130)\"],[0.4,\"rgb(253,219,199)\"],[0.5,\"rgb(247,247,247)\"],[0.6,\"rgb(209,229,240)\"],[0.7,\"rgb(146,197,222)\"],[0.8,\"rgb(67,147,195)\"],[0.9,\"rgb(33,102,172)\"],[1.0,\"rgb(5,48,97)\"]],\"name\":\"OrcaPlatypus-13b\",\"showscale\":false,\"x\":[\"trust\",\"surprise\",\"sadness\",\"joy\",\"fear\",\"disgust\",\"anticipation\",\"anger\"],\"y\":[\"trust\",\"surprise\",\"sadness\",\"joy\",\"fear\",\"disgust\",\"anticipation\",\"anger\"],\"z\":[[1.0,-0.5780509616572181,-0.3665746331851013,0.6287541863271151,-0.3932948923333842,-0.6005254440627131,-0.3479030693587618,-0.6349673683362819],[-0.5780509616572181,1.0,0.5310964101834531,-0.44468677592831224,0.6754383497765201,0.7779315598825268,0.7223244487296486,0.7260535120126543],[-0.3665746331851013,0.5310964101834531,1.0,-0.7006539379633497,0.7354356464696694,0.5333326735688713,0.687118587947518,0.5188646146233503],[0.6287541863271151,-0.44468677592831224,-0.7006539379633497,1.0,-0.6403641525379868,-0.5593763504142683,-0.5261090912710202,-0.5637002062844574],[-0.3932948923333842,0.6754383497765201,0.7354356464696694,-0.6403641525379868,1.0,0.7726508220719299,0.7990741502534036,0.4562774327142125],[-0.6005254440627131,0.7779315598825268,0.5333326735688713,-0.5593763504142683,0.7726508220719299,1.0,0.6375056909757668,0.7410049602185833],[-0.3479030693587618,0.7223244487296486,0.687118587947518,-0.5261090912710202,0.7990741502534036,0.6375056909757668,1.0,0.42970258814551887],[-0.6349673683362819,0.7260535120126543,0.5188646146233503,-0.5637002062844574,0.4562774327142125,0.7410049602185833,0.42970258814551887,1.0]],\"type\":\"heatmap\",\"xaxis\":\"x2\",\"yaxis\":\"y2\"},{\"coloraxis\":\"coloraxis\",\"colorscale\":[[0.0,\"rgb(103,0,31)\"],[0.1,\"rgb(178,24,43)\"],[0.2,\"rgb(214,96,77)\"],[0.3,\"rgb(244,165,130)\"],[0.4,\"rgb(253,219,199)\"],[0.5,\"rgb(247,247,247)\"],[0.6,\"rgb(209,229,240)\"],[0.7,\"rgb(146,197,222)\"],[0.8,\"rgb(67,147,195)\"],[0.9,\"rgb(33,102,172)\"],[1.0,\"rgb(5,48,97)\"]],\"name\":\"LlamaInstruct-30b\",\"showscale\":false,\"x\":[\"trust\",\"surprise\",\"sadness\",\"joy\",\"fear\",\"disgust\",\"anticipation\",\"anger\"],\"y\":[\"trust\",\"surprise\",\"sadness\",\"joy\",\"fear\",\"disgust\",\"anticipation\",\"anger\"],\"z\":[[1.0,-0.7159003222025335,-0.7151258131770565,0.8469851982173667,-0.7205603192494731,-0.809285561438275,-0.5986555273626895,-0.6180662280784303],[-0.7159003222025335,1.0,0.7111438351656637,-0.5531516066711585,0.7411844730909314,0.8442029061739101,0.7250721120782506,0.841542599595575],[-0.7151258131770565,0.7111438351656637,1.0,-0.8195556434934772,0.8131113461988843,0.7847311019991365,0.8338056666385495,0.7230883492700169],[0.8469851982173667,-0.5531516066711585,-0.8195556434934772,1.0,-0.7349309497926836,-0.7133967397489595,-0.640574461885853,-0.6296587379846065],[-0.7205603192494731,0.7411844730909314,0.8131113461988843,-0.7349309497926836,1.0,0.8879748558598692,0.6054856150378077,0.8270736484947186],[-0.809285561438275,0.8442029061739101,0.7847311019991365,-0.7133967397489595,0.8879748558598692,1.0,0.6749990671125704,0.871173649494798],[-0.5986555273626895,0.7250721120782506,0.8338056666385495,-0.640574461885853,0.6054856150378077,0.6749990671125704,1.0,0.6288131316639393],[-0.6180662280784303,0.841542599595575,0.7230883492700169,-0.6296587379846065,0.8270736484947186,0.871173649494798,0.6288131316639393,1.0]],\"type\":\"heatmap\",\"xaxis\":\"x2\",\"yaxis\":\"y2\"},{\"coloraxis\":\"coloraxis\",\"colorscale\":[[0.0,\"rgb(103,0,31)\"],[0.1,\"rgb(178,24,43)\"],[0.2,\"rgb(214,96,77)\"],[0.3,\"rgb(244,165,130)\"],[0.4,\"rgb(253,219,199)\"],[0.5,\"rgb(247,247,247)\"],[0.6,\"rgb(209,229,240)\"],[0.7,\"rgb(146,197,222)\"],[0.8,\"rgb(67,147,195)\"],[0.9,\"rgb(33,102,172)\"],[1.0,\"rgb(5,48,97)\"]],\"name\":\"Platypus2-70b\",\"showscale\":false,\"x\":[\"trust\",\"surprise\",\"sadness\",\"joy\",\"fear\",\"disgust\",\"anticipation\",\"anger\"],\"y\":[\"trust\",\"surprise\",\"sadness\",\"joy\",\"fear\",\"disgust\",\"anticipation\",\"anger\"],\"z\":[[1.0,-0.43253663749188054,-0.7103616331831256,0.9003433308315432,-0.7313088797379838,-0.6161152717676621,-0.10393646247506694,-0.5135811867328943],[-0.43253663749188054,1.0,0.5039905338371501,-0.507712389658415,0.6244904725046864,0.6231055857477402,0.7596441582422206,0.47544911573125265],[-0.7103616331831256,0.5039905338371501,1.0,-0.8307633974120762,0.9023414701632892,0.6958522730695047,0.34266032609399444,0.7832524451306595],[0.9003433308315432,-0.507712389658415,-0.8307633974120762,1.0,-0.8135540337323761,-0.6552708943994903,-0.2501232927912331,-0.6254989455625035],[-0.7313088797379838,0.6244904725046864,0.9023414701632892,-0.8135540337323761,1.0,0.7777599713911743,0.34785369436328795,0.7335513872018528],[-0.6161152717676621,0.6231055857477402,0.6958522730695047,-0.6552708943994903,0.7777599713911743,1.0,0.36960867576349965,0.8269821847543617],[-0.10393646247506694,0.7596441582422206,0.34266032609399444,-0.2501232927912331,0.34785369436328795,0.36960867576349965,1.0,0.37676368219687545],[-0.5135811867328943,0.47544911573125265,0.7832524451306595,-0.6254989455625035,0.7335513872018528,0.8269821847543617,0.37676368219687545,1.0]],\"type\":\"heatmap\",\"xaxis\":\"x2\",\"yaxis\":\"y2\"}],                        {\"template\":{\"data\":{\"barpolar\":[{\"marker\":{\"line\":{\"color\":\"rgb(17,17,17)\",\"width\":0.5},\"pattern\":{\"fillmode\":\"overlay\",\"size\":10,\"solidity\":0.2}},\"type\":\"barpolar\"}],\"bar\":[{\"error_x\":{\"color\":\"#f2f5fa\"},\"error_y\":{\"color\":\"#f2f5fa\"},\"marker\":{\"line\":{\"color\":\"rgb(17,17,17)\",\"width\":0.5},\"pattern\":{\"fillmode\":\"overlay\",\"size\":10,\"solidity\":0.2}},\"type\":\"bar\"}],\"carpet\":[{\"aaxis\":{\"endlinecolor\":\"#A2B1C6\",\"gridcolor\":\"#506784\",\"linecolor\":\"#506784\",\"minorgridcolor\":\"#506784\",\"startlinecolor\":\"#A2B1C6\"},\"baxis\":{\"endlinecolor\":\"#A2B1C6\",\"gridcolor\":\"#506784\",\"linecolor\":\"#506784\",\"minorgridcolor\":\"#506784\",\"startlinecolor\":\"#A2B1C6\"},\"type\":\"carpet\"}],\"choropleth\":[{\"colorbar\":{\"outlinewidth\":0,\"ticks\":\"\"},\"type\":\"choropleth\"}],\"contourcarpet\":[{\"colorbar\":{\"outlinewidth\":0,\"ticks\":\"\"},\"type\":\"contourcarpet\"}],\"contour\":[{\"colorbar\":{\"outlinewidth\":0,\"ticks\":\"\"},\"colorscale\":[[0.0,\"#0d0887\"],[0.1111111111111111,\"#46039f\"],[0.2222222222222222,\"#7201a8\"],[0.3333333333333333,\"#9c179e\"],[0.4444444444444444,\"#bd3786\"],[0.5555555555555556,\"#d8576b\"],[0.6666666666666666,\"#ed7953\"],[0.7777777777777778,\"#fb9f3a\"],[0.8888888888888888,\"#fdca26\"],[1.0,\"#f0f921\"]],\"type\":\"contour\"}],\"heatmapgl\":[{\"colorbar\":{\"outlinewidth\":0,\"ticks\":\"\"},\"colorscale\":[[0.0,\"#0d0887\"],[0.1111111111111111,\"#46039f\"],[0.2222222222222222,\"#7201a8\"],[0.3333333333333333,\"#9c179e\"],[0.4444444444444444,\"#bd3786\"],[0.5555555555555556,\"#d8576b\"],[0.6666666666666666,\"#ed7953\"],[0.7777777777777778,\"#fb9f3a\"],[0.8888888888888888,\"#fdca26\"],[1.0,\"#f0f921\"]],\"type\":\"heatmapgl\"}],\"heatmap\":[{\"colorbar\":{\"outlinewidth\":0,\"ticks\":\"\"},\"colorscale\":[[0.0,\"#0d0887\"],[0.1111111111111111,\"#46039f\"],[0.2222222222222222,\"#7201a8\"],[0.3333333333333333,\"#9c179e\"],[0.4444444444444444,\"#bd3786\"],[0.5555555555555556,\"#d8576b\"],[0.6666666666666666,\"#ed7953\"],[0.7777777777777778,\"#fb9f3a\"],[0.8888888888888888,\"#fdca26\"],[1.0,\"#f0f921\"]],\"type\":\"heatmap\"}],\"histogram2dcontour\":[{\"colorbar\":{\"outlinewidth\":0,\"ticks\":\"\"},\"colorscale\":[[0.0,\"#0d0887\"],[0.1111111111111111,\"#46039f\"],[0.2222222222222222,\"#7201a8\"],[0.3333333333333333,\"#9c179e\"],[0.4444444444444444,\"#bd3786\"],[0.5555555555555556,\"#d8576b\"],[0.6666666666666666,\"#ed7953\"],[0.7777777777777778,\"#fb9f3a\"],[0.8888888888888888,\"#fdca26\"],[1.0,\"#f0f921\"]],\"type\":\"histogram2dcontour\"}],\"histogram2d\":[{\"colorbar\":{\"outlinewidth\":0,\"ticks\":\"\"},\"colorscale\":[[0.0,\"#0d0887\"],[0.1111111111111111,\"#46039f\"],[0.2222222222222222,\"#7201a8\"],[0.3333333333333333,\"#9c179e\"],[0.4444444444444444,\"#bd3786\"],[0.5555555555555556,\"#d8576b\"],[0.6666666666666666,\"#ed7953\"],[0.7777777777777778,\"#fb9f3a\"],[0.8888888888888888,\"#fdca26\"],[1.0,\"#f0f921\"]],\"type\":\"histogram2d\"}],\"histogram\":[{\"marker\":{\"pattern\":{\"fillmode\":\"overlay\",\"size\":10,\"solidity\":0.2}},\"type\":\"histogram\"}],\"mesh3d\":[{\"colorbar\":{\"outlinewidth\":0,\"ticks\":\"\"},\"type\":\"mesh3d\"}],\"parcoords\":[{\"line\":{\"colorbar\":{\"outlinewidth\":0,\"ticks\":\"\"}},\"type\":\"parcoords\"}],\"pie\":[{\"automargin\":true,\"type\":\"pie\"}],\"scatter3d\":[{\"line\":{\"colorbar\":{\"outlinewidth\":0,\"ticks\":\"\"}},\"marker\":{\"colorbar\":{\"outlinewidth\":0,\"ticks\":\"\"}},\"type\":\"scatter3d\"}],\"scattercarpet\":[{\"marker\":{\"colorbar\":{\"outlinewidth\":0,\"ticks\":\"\"}},\"type\":\"scattercarpet\"}],\"scattergeo\":[{\"marker\":{\"colorbar\":{\"outlinewidth\":0,\"ticks\":\"\"}},\"type\":\"scattergeo\"}],\"scattergl\":[{\"marker\":{\"line\":{\"color\":\"#283442\"}},\"type\":\"scattergl\"}],\"scattermapbox\":[{\"marker\":{\"colorbar\":{\"outlinewidth\":0,\"ticks\":\"\"}},\"type\":\"scattermapbox\"}],\"scatterpolargl\":[{\"marker\":{\"colorbar\":{\"outlinewidth\":0,\"ticks\":\"\"}},\"type\":\"scatterpolargl\"}],\"scatterpolar\":[{\"marker\":{\"colorbar\":{\"outlinewidth\":0,\"ticks\":\"\"}},\"type\":\"scatterpolar\"}],\"scatter\":[{\"marker\":{\"line\":{\"color\":\"#283442\"}},\"type\":\"scatter\"}],\"scatterternary\":[{\"marker\":{\"colorbar\":{\"outlinewidth\":0,\"ticks\":\"\"}},\"type\":\"scatterternary\"}],\"surface\":[{\"colorbar\":{\"outlinewidth\":0,\"ticks\":\"\"},\"colorscale\":[[0.0,\"#0d0887\"],[0.1111111111111111,\"#46039f\"],[0.2222222222222222,\"#7201a8\"],[0.3333333333333333,\"#9c179e\"],[0.4444444444444444,\"#bd3786\"],[0.5555555555555556,\"#d8576b\"],[0.6666666666666666,\"#ed7953\"],[0.7777777777777778,\"#fb9f3a\"],[0.8888888888888888,\"#fdca26\"],[1.0,\"#f0f921\"]],\"type\":\"surface\"}],\"table\":[{\"cells\":{\"fill\":{\"color\":\"#506784\"},\"line\":{\"color\":\"rgb(17,17,17)\"}},\"header\":{\"fill\":{\"color\":\"#2a3f5f\"},\"line\":{\"color\":\"rgb(17,17,17)\"}},\"type\":\"table\"}]},\"layout\":{\"annotationdefaults\":{\"arrowcolor\":\"#f2f5fa\",\"arrowhead\":0,\"arrowwidth\":1},\"autotypenumbers\":\"strict\",\"coloraxis\":{\"colorbar\":{\"outlinewidth\":0,\"ticks\":\"\"}},\"colorscale\":{\"diverging\":[[0,\"#8e0152\"],[0.1,\"#c51b7d\"],[0.2,\"#de77ae\"],[0.3,\"#f1b6da\"],[0.4,\"#fde0ef\"],[0.5,\"#f7f7f7\"],[0.6,\"#e6f5d0\"],[0.7,\"#b8e186\"],[0.8,\"#7fbc41\"],[0.9,\"#4d9221\"],[1,\"#276419\"]],\"sequential\":[[0.0,\"#0d0887\"],[0.1111111111111111,\"#46039f\"],[0.2222222222222222,\"#7201a8\"],[0.3333333333333333,\"#9c179e\"],[0.4444444444444444,\"#bd3786\"],[0.5555555555555556,\"#d8576b\"],[0.6666666666666666,\"#ed7953\"],[0.7777777777777778,\"#fb9f3a\"],[0.8888888888888888,\"#fdca26\"],[1.0,\"#f0f921\"]],\"sequentialminus\":[[0.0,\"#0d0887\"],[0.1111111111111111,\"#46039f\"],[0.2222222222222222,\"#7201a8\"],[0.3333333333333333,\"#9c179e\"],[0.4444444444444444,\"#bd3786\"],[0.5555555555555556,\"#d8576b\"],[0.6666666666666666,\"#ed7953\"],[0.7777777777777778,\"#fb9f3a\"],[0.8888888888888888,\"#fdca26\"],[1.0,\"#f0f921\"]]},\"colorway\":[\"#636efa\",\"#EF553B\",\"#00cc96\",\"#ab63fa\",\"#FFA15A\",\"#19d3f3\",\"#FF6692\",\"#B6E880\",\"#FF97FF\",\"#FECB52\"],\"font\":{\"color\":\"#f2f5fa\"},\"geo\":{\"bgcolor\":\"rgb(17,17,17)\",\"lakecolor\":\"rgb(17,17,17)\",\"landcolor\":\"rgb(17,17,17)\",\"showlakes\":true,\"showland\":true,\"subunitcolor\":\"#506784\"},\"hoverlabel\":{\"align\":\"left\"},\"hovermode\":\"closest\",\"mapbox\":{\"style\":\"dark\"},\"paper_bgcolor\":\"rgb(17,17,17)\",\"plot_bgcolor\":\"rgb(17,17,17)\",\"polar\":{\"angularaxis\":{\"gridcolor\":\"#506784\",\"linecolor\":\"#506784\",\"ticks\":\"\"},\"bgcolor\":\"rgb(17,17,17)\",\"radialaxis\":{\"gridcolor\":\"#506784\",\"linecolor\":\"#506784\",\"ticks\":\"\"}},\"scene\":{\"xaxis\":{\"backgroundcolor\":\"rgb(17,17,17)\",\"gridcolor\":\"#506784\",\"gridwidth\":2,\"linecolor\":\"#506784\",\"showbackground\":true,\"ticks\":\"\",\"zerolinecolor\":\"#C8D4E3\"},\"yaxis\":{\"backgroundcolor\":\"rgb(17,17,17)\",\"gridcolor\":\"#506784\",\"gridwidth\":2,\"linecolor\":\"#506784\",\"showbackground\":true,\"ticks\":\"\",\"zerolinecolor\":\"#C8D4E3\"},\"zaxis\":{\"backgroundcolor\":\"rgb(17,17,17)\",\"gridcolor\":\"#506784\",\"gridwidth\":2,\"linecolor\":\"#506784\",\"showbackground\":true,\"ticks\":\"\",\"zerolinecolor\":\"#C8D4E3\"}},\"shapedefaults\":{\"line\":{\"color\":\"#f2f5fa\"}},\"sliderdefaults\":{\"bgcolor\":\"#C8D4E3\",\"bordercolor\":\"rgb(17,17,17)\",\"borderwidth\":1,\"tickwidth\":0},\"ternary\":{\"aaxis\":{\"gridcolor\":\"#506784\",\"linecolor\":\"#506784\",\"ticks\":\"\"},\"baxis\":{\"gridcolor\":\"#506784\",\"linecolor\":\"#506784\",\"ticks\":\"\"},\"bgcolor\":\"rgb(17,17,17)\",\"caxis\":{\"gridcolor\":\"#506784\",\"linecolor\":\"#506784\",\"ticks\":\"\"}},\"title\":{\"x\":0.05},\"updatemenudefaults\":{\"bgcolor\":\"#506784\",\"borderwidth\":0},\"xaxis\":{\"automargin\":true,\"gridcolor\":\"#283442\",\"linecolor\":\"#506784\",\"ticks\":\"\",\"title\":{\"standoff\":15},\"zerolinecolor\":\"#283442\",\"zerolinewidth\":2},\"yaxis\":{\"automargin\":true,\"gridcolor\":\"#283442\",\"linecolor\":\"#506784\",\"ticks\":\"\",\"title\":{\"standoff\":15},\"zerolinecolor\":\"#283442\",\"zerolinewidth\":2}}},\"xaxis\":{\"anchor\":\"y\",\"domain\":[0.0,0.45]},\"yaxis\":{\"anchor\":\"x\",\"domain\":[0.0,1.0]},\"xaxis2\":{\"anchor\":\"y2\",\"domain\":[0.55,1.0]},\"yaxis2\":{\"anchor\":\"x2\",\"domain\":[0.0,1.0]},\"annotations\":[{\"font\":{\"size\":16},\"showarrow\":false,\"text\":\"Human\",\"x\":0.225,\"xanchor\":\"center\",\"xref\":\"paper\",\"y\":1.0,\"yanchor\":\"bottom\",\"yref\":\"paper\"},{\"font\":{\"size\":16},\"showarrow\":false,\"text\":\"Model\",\"x\":0.775,\"xanchor\":\"center\",\"xref\":\"paper\",\"y\":1.0,\"yanchor\":\"bottom\",\"yref\":\"paper\"}],\"coloraxis\":{\"colorbar\":{\"title\":{\"text\":\"Correlation\"},\"thickness\":20,\"len\":0.8,\"x\":1.02},\"colorscale\":[[0.0,\"rgb(103,0,31)\"],[0.1,\"rgb(178,24,43)\"],[0.2,\"rgb(214,96,77)\"],[0.3,\"rgb(244,165,130)\"],[0.4,\"rgb(253,219,199)\"],[0.5,\"rgb(247,247,247)\"],[0.6,\"rgb(209,229,240)\"],[0.7,\"rgb(146,197,222)\"],[0.8,\"rgb(67,147,195)\"],[0.9,\"rgb(33,102,172)\"],[1.0,\"rgb(5,48,97)\"]],\"cmin\":-1,\"cmax\":1},\"updatemenus\":[{\"buttons\":[{\"args\":[{\"visible\":[true,true,false,false,false,false,false]}],\"label\":\"Llama-7b\",\"method\":\"update\"},{\"args\":[{\"visible\":[true,false,true,false,false,false,false]}],\"label\":\"Mistral-7b\",\"method\":\"update\"},{\"args\":[{\"visible\":[true,false,false,true,false,false,false]}],\"label\":\"Beluga-13b\",\"method\":\"update\"},{\"args\":[{\"visible\":[true,false,false,false,true,false,false]}],\"label\":\"OrcaPlatypus-13b\",\"method\":\"update\"},{\"args\":[{\"visible\":[true,false,false,false,false,true,false]}],\"label\":\"LlamaInstruct-30b\",\"method\":\"update\"},{\"args\":[{\"visible\":[true,false,false,false,false,false,true]}],\"label\":\"Platypus2-70b\",\"method\":\"update\"}],\"direction\":\"down\",\"showactive\":true,\"x\":0.9,\"y\":1.2}],\"title\":{\"text\":\"Emotion Correlation Matrix Across Models\"},\"height\":600,\"width\":1100},                        {\"responsive\": true}                    ).then(function(){\n",
       "                            \n",
       "var gd = document.getElementById('9ce6fe72-bfd8-4de9-b892-50fedda080d7');\n",
       "var x = new MutationObserver(function (mutations, observer) {{\n",
       "        var display = window.getComputedStyle(gd).display;\n",
       "        if (!display || display === 'none') {{\n",
       "            console.log([gd, 'removed!']);\n",
       "            Plotly.purge(gd);\n",
       "            observer.disconnect();\n",
       "        }}\n",
       "}});\n",
       "\n",
       "// Listen for the removal of the full notebook cells\n",
       "var notebookContainer = gd.closest('#notebook-container');\n",
       "if (notebookContainer) {{\n",
       "    x.observe(notebookContainer, {childList: true});\n",
       "}}\n",
       "\n",
       "// Listen for the clearing of the current output cell\n",
       "var outputEl = gd.closest('.output');\n",
       "if (outputEl) {{\n",
       "    x.observe(outputEl, {childList: true});\n",
       "}}\n",
       "\n",
       "                        })                };                });            </script>        </div>"
      ]
     },
     "metadata": {},
     "output_type": "display_data"
    }
   ],
   "source": [
    "def visualize_correlation_matrix():\n",
    "    fig = make_subplots(rows=1, cols=2, subplot_titles=[\"Human\", \"Model\"])\n",
    "    for i, row in concated_example_df.iterrows():\n",
    "        tmp_dict = row[plutchik_emotions].to_dict()\n",
    "        emotion_df = pd.DataFrame(tmp_dict)\n",
    "        correlation_matrix = emotion_df.corr()\n",
    "        fig.add_trace(go.Heatmap(\n",
    "            z=correlation_matrix.values,\n",
    "            x=plutchik_emotions,\n",
    "            y=plutchik_emotions,\n",
    "            name=row[\"Model\"],\n",
    "            colorscale=\"RdBu\",\n",
    "            coloraxis=\"coloraxis\",\n",
    "            showscale=(row[\"Model\"] == \"Human\")\n",
    "        ), row=1, col=1 if row[\"Model\"] == \"Human\" else 2)\n",
    "    buttons = [\n",
    "        dict(\n",
    "            label=model,\n",
    "            method=\"update\",\n",
    "            args=[\n",
    "                {\n",
    "                    \"visible\": [\n",
    "                        True if i == idx or concated_example_df['Model'].iloc[i] == \"Human\" else False\n",
    "                        for i in range(len(concated_example_df))\n",
    "                    ]\n",
    "                }\n",
    "            ]\n",
    "        )\n",
    "        for idx, model in enumerate(concated_example_df[\"Model\"].unique()) if model != \"Human\"\n",
    "    ]\n",
    "    fig.update_layout(\n",
    "        coloraxis=dict(\n",
    "            colorscale=\"RdBu\",\n",
    "            cmin=-1,\n",
    "            cmax=1,\n",
    "            colorbar=dict(\n",
    "                title=\"Correlation\",\n",
    "                thickness=20,\n",
    "                len=0.8,\n",
    "                x=1.02\n",
    "            )\n",
    "        ),\n",
    "        updatemenus=[\n",
    "            dict(\n",
    "                buttons=buttons,\n",
    "                direction=\"down\",\n",
    "                showactive=True,\n",
    "                x=0.9,\n",
    "                y=1.2\n",
    "            )\n",
    "        ],\n",
    "        title=\"Emotion Correlation Matrix Across Models\",\n",
    "        height=600,\n",
    "        width=1100,\n",
    "        template=\"plotly_dark\"\n",
    "    )\n",
    "    fig.show()\n",
    "\n",
    "visualize_correlation_matrix()"
   ]
  },
  {
   "cell_type": "code",
   "execution_count": null,
   "metadata": {},
   "outputs": [],
   "source": []
  }
 ],
 "metadata": {
  "kernelspec": {
   "display_name": "ASE",
   "language": "python",
   "name": "python3"
  },
  "language_info": {
   "codemirror_mode": {
    "name": "ipython",
    "version": 3
   },
   "file_extension": ".py",
   "mimetype": "text/x-python",
   "name": "python",
   "nbconvert_exporter": "python",
   "pygments_lexer": "ipython3",
   "version": "3.10.12"
  }
 },
 "nbformat": 4,
 "nbformat_minor": 2
}
